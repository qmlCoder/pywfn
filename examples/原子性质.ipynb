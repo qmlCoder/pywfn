{
 "cells": [
  {
   "cell_type": "code",
   "execution_count": 1,
   "metadata": {},
   "outputs": [
    {
     "name": "stdout",
     "output_type": "stream",
     "text": [
      "动态链接库目录 d:\\code\\pywfn\\pywfn\\libs\n",
      "当前系统:windows\n"
     ]
    }
   ],
   "source": [
    "import sys\n",
    "sys.path.append('d:/code/pywfn')\n",
    "from pywfn.reader import LogReader\n",
    "from pywfn.base import Mol"
   ]
  },
  {
   "cell_type": "markdown",
   "metadata": {},
   "source": [
    "## 原子电荷"
   ]
  },
  {
   "cell_type": "code",
   "execution_count": 2,
   "metadata": {},
   "outputs": [],
   "source": [
    "from pywfn.atomprop import charge\n",
    "paths=[\n",
    "  \"D:\\gfile\\pywfn\\C6H6.log\"\n",
    "]\n",
    "mols=[Mol(LogReader(path)) for path in paths]\n",
    "caler=charge.Calculator(mols[0])"
   ]
  },
  {
   "cell_type": "code",
   "execution_count": 4,
   "metadata": {},
   "outputs": [
    {
     "data": {
      "text/plain": [
       "'6-31G(d)'"
      ]
     },
     "execution_count": 4,
     "metadata": {},
     "output_type": "execute_result"
    }
   ],
   "source": [
    "mols[0].basis.name"
   ]
  },
  {
   "cell_type": "code",
   "execution_count": 3,
   "metadata": {},
   "outputs": [
    {
     "data": {
      "text/plain": [
       "array([-0.1284, -0.1284, -0.1284, -0.1284, -0.1284, -0.1284,  0.1285,\n",
       "        0.1285,  0.1285,  0.1285,  0.1285,  0.1285])"
      ]
     },
     "execution_count": 3,
     "metadata": {},
     "output_type": "execute_result"
    }
   ],
   "source": [
    "caler.mulliken()"
   ]
  },
  {
   "cell_type": "code",
   "execution_count": 4,
   "metadata": {},
   "outputs": [
    {
     "data": {
      "text/plain": [
       "array([-0.1564, -0.1597, -0.1597, -0.1564, -0.1597, -0.1597,  0.1571,\n",
       "        0.1595,  0.1595,  0.1571,  0.1595,  0.1595])"
      ]
     },
     "execution_count": 4,
     "metadata": {},
     "output_type": "execute_result"
    }
   ],
   "source": [
    "caler.lowdin()"
   ]
  },
  {
   "cell_type": "code",
   "execution_count": 5,
   "metadata": {},
   "outputs": [
    {
     "data": {
      "text/plain": [
       "array([-0.1302, -0.1295, -0.1295, -0.1302, -0.1295, -0.1295,  0.1285,\n",
       "        0.1311,  0.1311,  0.1285,  0.1311,  0.1311])"
      ]
     },
     "execution_count": 5,
     "metadata": {},
     "output_type": "execute_result"
    }
   ],
   "source": [
    "caler.sapce()"
   ]
  },
  {
   "cell_type": "code",
   "execution_count": 6,
   "metadata": {},
   "outputs": [
    {
     "data": {
      "text/plain": [
       "array([-0.0362, -0.0345, -0.0345, -0.0362, -0.0345, -0.0345,  0.0518,\n",
       "        0.0512,  0.0512,  0.0518,  0.0512,  0.0512])"
      ]
     },
     "execution_count": 6,
     "metadata": {},
     "output_type": "execute_result"
    }
   ],
   "source": [
    "caler.hirshfeld()"
   ]
  },
  {
   "cell_type": "code",
   "execution_count": 3,
   "metadata": {},
   "outputs": [
    {
     "data": {
      "text/plain": [
       "array([[ 1.    , -0.    , -0.    ,  1.    ,  0.9851],\n",
       "       [ 2.    ,  0.    ,  0.    ,  1.    ,  0.9851],\n",
       "       [ 3.    ,  0.    ,  0.    ,  1.    ,  0.9851],\n",
       "       [ 4.    ,  0.    , -0.    ,  1.    ,  0.9851],\n",
       "       [ 5.    , -0.    ,  0.    ,  1.    ,  0.9851],\n",
       "       [ 6.    ,  0.    ,  0.    ,  1.    ,  0.9851],\n",
       "       [ 7.    , -0.    , -0.    ,  1.    ,  0.    ],\n",
       "       [ 8.    ,  0.    ,  0.    ,  1.    ,  0.    ],\n",
       "       [ 9.    ,  0.    ,  0.    ,  1.    ,  0.    ],\n",
       "       [10.    ,  0.    , -0.    ,  1.    ,  0.    ],\n",
       "       [11.    , -0.    ,  0.    ,  1.    ,  0.    ],\n",
       "       [12.    ,  0.    ,  0.    ,  1.    ,  0.    ]])"
      ]
     },
     "execution_count": 3,
     "metadata": {},
     "output_type": "execute_result"
    }
   ],
   "source": [
    "caler.piElectron('mulliken')"
   ]
  },
  {
   "cell_type": "code",
   "execution_count": 8,
   "metadata": {},
   "outputs": [
    {
     "data": {
      "text/plain": [
       "array([[ 1.    , -0.    , -0.    ,  1.    ,  0.7367],\n",
       "       [ 2.    ,  0.    ,  0.    ,  1.    ,  0.7367]])"
      ]
     },
     "execution_count": 8,
     "metadata": {},
     "output_type": "execute_result"
    }
   ],
   "source": [
    "from pywfn.atomprop import direction\n",
    "mol=mols[0]\n",
    "dirCaler=direction.Calculator(mol)\n",
    "atms=[1,2]\n",
    "dirs=[dirCaler.normal(atm) for atm in atms]\n",
    "caler.dirElectron('mulliken',atms,dirs)"
   ]
  },
  {
   "cell_type": "markdown",
   "metadata": {},
   "source": [
    "## 原子自旋"
   ]
  },
  {
   "cell_type": "code",
   "execution_count": 9,
   "metadata": {},
   "outputs": [],
   "source": [
    "from pywfn.atomprop import spin\n",
    "paths=[\n",
    "    rf\"D:\\gfile\\pywfn\\活性测试\\NHCN.log\",\n",
    "    rf\"D:\\gfile\\pywfn\\活性测试\\NHC0.log\",\n",
    "    rf\"D:\\gfile\\pywfn\\活性测试\\NHCP.log\"\n",
    "]\n",
    "mols=[Mol(LogReader(path)) for path in paths]\n",
    "caler=spin.Calculator(mols[0])"
   ]
  },
  {
   "cell_type": "code",
   "execution_count": 10,
   "metadata": {},
   "outputs": [
    {
     "data": {
      "text/plain": [
       "array([-0.0511,  0.3506,  0.6239, -0.0241,  0.6857, -0.5708,  0.0177,\n",
       "        0.0034,  0.0178, -0.0531])"
      ]
     },
     "execution_count": 10,
     "metadata": {},
     "output_type": "execute_result"
    }
   ],
   "source": [
    "caler.spins('mulliken')"
   ]
  },
  {
   "cell_type": "code",
   "execution_count": 11,
   "metadata": {},
   "outputs": [
    {
     "data": {
      "text/plain": [
       "array([-0.038 ,  0.3309,  0.5878, -0.0039,  0.6482, -0.5208,  0.0157,\n",
       "        0.0026,  0.0158, -0.0383])"
      ]
     },
     "execution_count": 11,
     "metadata": {},
     "output_type": "execute_result"
    }
   ],
   "source": [
    "caler.spins('lowdin')"
   ]
  },
  {
   "cell_type": "code",
   "execution_count": 12,
   "metadata": {},
   "outputs": [
    {
     "data": {
      "text/plain": [
       "array([-0.0511,  0.3502,  0.6245, -0.0241,  0.6871, -0.571 ,  0.0176,\n",
       "        0.0034,  0.0177, -0.0529])"
      ]
     },
     "execution_count": 12,
     "metadata": {},
     "output_type": "execute_result"
    }
   ],
   "source": [
    "caler.spins('space')"
   ]
  },
  {
   "cell_type": "code",
   "execution_count": 13,
   "metadata": {},
   "outputs": [
    {
     "data": {
      "text/plain": [
       "array([-0., -0., -0., -0., -0., -0., -0., -0., -0., -0.])"
      ]
     },
     "execution_count": 13,
     "metadata": {},
     "output_type": "execute_result"
    }
   ],
   "source": [
    "caler.spins('hirshfeld')"
   ]
  },
  {
   "cell_type": "markdown",
   "metadata": {},
   "source": [
    "## 原子活性"
   ]
  },
  {
   "cell_type": "code",
   "execution_count": 2,
   "metadata": {},
   "outputs": [],
   "source": [
    "from pywfn.atomprop import activity\n",
    "paths=[\n",
    "    rf\"D:\\gfile\\pywfn\\活性测试\\NHCN.log\",\n",
    "    rf\"D:\\gfile\\pywfn\\活性测试\\NHC0.log\",\n",
    "    rf\"D:\\gfile\\pywfn\\活性测试\\NHCP.log\"\n",
    "]\n",
    "mols=[Mol(LogReader(path)) for path in paths]\n",
    "caler=activity.Calculator(mols[1])"
   ]
  },
  {
   "cell_type": "code",
   "execution_count": 3,
   "metadata": {},
   "outputs": [
    {
     "data": {
      "text/plain": [
       "array([[-0.012 ,  0.0009],\n",
       "       [ 0.1586,  0.0493],\n",
       "       [ 0.1138,  0.069 ],\n",
       "       [ 0.2294,  0.2836],\n",
       "       [ 0.207 ,  0.2544],\n",
       "       [ 0.0151,  0.1475],\n",
       "       [ 0.0657,  0.0354],\n",
       "       [ 0.048 ,  0.0379],\n",
       "       [ 0.0658,  0.0354],\n",
       "       [ 0.1086,  0.0867]])"
      ]
     },
     "execution_count": 3,
     "metadata": {},
     "output_type": "execute_result"
    }
   ],
   "source": [
    "caler.fukui(molN=mols[0],molP=mols[2],chrg='mulliken')"
   ]
  },
  {
   "cell_type": "code",
   "execution_count": 4,
   "metadata": {},
   "outputs": [
    {
     "data": {
      "text/plain": [
       "array([[-0.1083,  0.0572],\n",
       "       [ 0.7681, -0.4175],\n",
       "       [ 0.1034,  0.5205],\n",
       "       [-0.2038,  0.1797],\n",
       "       [ 0.1496,  0.5361],\n",
       "       [-0.7672,  0.1965],\n",
       "       [ 0.0338, -0.0161],\n",
       "       [ 0.0057, -0.0023],\n",
       "       [ 0.0339, -0.0161],\n",
       "       [-0.0151, -0.038 ]])"
      ]
     },
     "execution_count": 4,
     "metadata": {},
     "output_type": "execute_result"
    }
   ],
   "source": [
    "caler.parr(molN=mols[0],molP=mols[2],chrg='mulliken')"
   ]
  },
  {
   "cell_type": "code",
   "execution_count": 5,
   "metadata": {},
   "outputs": [
    {
     "data": {
      "text/plain": [
       "array([-0.0128,  0.1093,  0.0448, -0.0541, -0.0474, -0.1325,  0.0303,\n",
       "        0.0101,  0.0303,  0.0219])"
      ]
     },
     "execution_count": 5,
     "metadata": {},
     "output_type": "execute_result"
    }
   ],
   "source": [
    "caler.dualDescriptor(molN=mols[0],molP=mols[2],chrg='mulliken')"
   ]
  },
  {
   "cell_type": "code",
   "execution_count": 17,
   "metadata": {},
   "outputs": [
    {
     "data": {
      "text/plain": [
       "array([[ -22.3611,  -23.7255,  -24.8156],\n",
       "       [ -21.1245,  -23.2188,  -24.7167],\n",
       "       [ -20.8638,  -23.006 ,  -24.6531],\n",
       "       [-230.2648, -235.227 , -240.2466],\n",
       "       [ -20.2259,  -22.1728,  -24.4236],\n",
       "       [ -29.8023,  -31.6816,  -33.9737],\n",
       "       [  -0.2174,   -0.4067,   -0.5458],\n",
       "       [  -0.2378,   -0.421 ,   -0.5601],\n",
       "       [  -0.2174,   -0.4067,   -0.5458],\n",
       "       [  -0.1439,   -0.4101,   -0.5869]])"
      ]
     },
     "execution_count": 17,
     "metadata": {},
     "output_type": "execute_result"
    }
   ],
   "source": [
    "caler.engDiff(molN=mols[0],molP=mols[2])"
   ]
  },
  {
   "cell_type": "code",
   "execution_count": 18,
   "metadata": {},
   "outputs": [
    {
     "data": {
      "text/plain": [
       "array([3.9314, 3.8297, 3.7353, 2.0531, 2.6379, 2.8183, 0.9779, 0.9842,\n",
       "       0.9779, 0.9701])"
      ]
     },
     "execution_count": 18,
     "metadata": {},
     "output_type": "execute_result"
    }
   ],
   "source": [
    "caler.valence()"
   ]
  },
  {
   "cell_type": "code",
   "execution_count": 19,
   "metadata": {},
   "outputs": [
    {
     "data": {
      "text/plain": [
       "(array([[ 2.    , -0.0002,  0.    , -1.    ,  0.9462],\n",
       "        [ 2.    ,  0.0002, -0.    ,  1.    ,  0.9462]]),\n",
       " array([[ 3.    ,  0.0002,  0.0001, -1.    ,  1.0987],\n",
       "        [ 3.    , -0.0002, -0.0001,  1.    ,  1.0987]]))"
      ]
     },
     "execution_count": 19,
     "metadata": {},
     "output_type": "execute_result"
    }
   ],
   "source": [
    "caler.freeValence(2),caler.freeValence(3)"
   ]
  },
  {
   "cell_type": "code",
   "execution_count": 20,
   "metadata": {},
   "outputs": [
    {
     "data": {
      "text/plain": [
       "array([[ 2.    , -0.0002,  0.    , -1.    ,  0.4368,  0.1159],\n",
       "       [ 2.    ,  0.0002, -0.    ,  1.    ,  0.4368,  0.1159]])"
      ]
     },
     "execution_count": 20,
     "metadata": {},
     "output_type": "execute_result"
    }
   ],
   "source": [
    "caler.neFreeValence_v1(2,mols[0],mols[2])"
   ]
  },
  {
   "cell_type": "code",
   "execution_count": 21,
   "metadata": {},
   "outputs": [
    {
     "data": {
      "text/plain": [
       "array([[ 2.    , -0.0002,  0.    , -1.    ,  0.607 ,  0.0544],\n",
       "       [ 2.    ,  0.0002, -0.    ,  1.    ,  0.607 ,  0.0544]])"
      ]
     },
     "execution_count": 21,
     "metadata": {},
     "output_type": "execute_result"
    }
   ],
   "source": [
    "caler.neFreeValence_v2(2,mols[0],mols[2])"
   ]
  },
  {
   "cell_type": "code",
   "execution_count": 22,
   "metadata": {},
   "outputs": [
    {
     "data": {
      "text/plain": [
       "array([[ 2.    , -0.0002,  0.    , -1.    ,  0.4647, -0.0111],\n",
       "       [ 2.    ,  0.0002, -0.    ,  1.    ,  0.4647, -0.0111],\n",
       "       [ 3.    ,  0.0002,  0.0001, -1.    ,  0.4392,  0.0853],\n",
       "       [ 3.    , -0.0002, -0.0001,  1.    ,  0.4392,  0.0853]])"
      ]
     },
     "execution_count": 22,
     "metadata": {},
     "output_type": "execute_result"
    }
   ],
   "source": [
    "caler.dirFukui([2,3],molN=mols[0],molP=mols[2])"
   ]
  },
  {
   "cell_type": "markdown",
   "metadata": {},
   "source": [
    "## 原子能量"
   ]
  },
  {
   "cell_type": "code",
   "execution_count": 23,
   "metadata": {},
   "outputs": [],
   "source": [
    "from pywfn.atomprop import energy\n",
    "paths=[\n",
    "    rf\"D:\\gfile\\pywfn\\活性测试\\NHCN.log\",\n",
    "    rf\"D:\\gfile\\pywfn\\活性测试\\NHC0.log\",\n",
    "    rf\"D:\\gfile\\pywfn\\活性测试\\NHCP.log\"\n",
    "]\n",
    "mols=[Mol(LogReader(path)) for path in paths]\n",
    "caler=energy.Calculator(mols[0])"
   ]
  },
  {
   "cell_type": "code",
   "execution_count": 24,
   "metadata": {},
   "outputs": [
    {
     "data": {
      "text/plain": [
       "array([ -22.3611,  -21.1245,  -20.8638, -230.2648,  -20.2259,  -29.8023,\n",
       "         -0.2174,   -0.2378,   -0.2174,   -0.1439])"
      ]
     },
     "execution_count": 24,
     "metadata": {},
     "output_type": "execute_result"
    }
   ],
   "source": [
    "caler.atmEngs() # 原子电子能量"
   ]
  },
  {
   "cell_type": "code",
   "execution_count": 25,
   "metadata": {},
   "outputs": [
    {
     "ename": "AssertionError",
     "evalue": "方向需要为np.ndarray",
     "output_type": "error",
     "traceback": [
      "\u001b[1;31m---------------------------------------------------------------------------\u001b[0m",
      "\u001b[1;31mAssertionError\u001b[0m                            Traceback (most recent call last)",
      "Cell \u001b[1;32mIn[25], line 1\u001b[0m\n\u001b[1;32m----> 1\u001b[0m \u001b[43mcaler\u001b[49m\u001b[38;5;241;43m.\u001b[39;49m\u001b[43matmPiEngs\u001b[49m\u001b[43m(\u001b[49m\u001b[43m)\u001b[49m \u001b[38;5;66;03m# 原子pi电子能量\u001b[39;00m\n",
      "File \u001b[1;32md:\\code/pywfn\\pywfn\\atomprop\\energy.py:30\u001b[0m, in \u001b[0;36mCalculator.atmPiEngs\u001b[1;34m(self)\u001b[0m\n\u001b[0;32m     28\u001b[0m \u001b[38;5;28;01mdef\u001b[39;00m \u001b[38;5;21matmPiEngs\u001b[39m(\u001b[38;5;28mself\u001b[39m):\n\u001b[0;32m     29\u001b[0m \u001b[38;5;250m    \u001b[39m\u001b[38;5;124;03m\"\"\"计算投影后系数矩阵算出的能量，原子pi电子能\"\"\"\u001b[39;00m\n\u001b[1;32m---> 30\u001b[0m     NM\u001b[38;5;241m=\u001b[39m\u001b[43mpiEleMat\u001b[49m\u001b[43m(\u001b[49m\u001b[38;5;28;43mself\u001b[39;49m\u001b[38;5;241;43m.\u001b[39;49m\u001b[43mmol\u001b[49m\u001b[43m)\u001b[49m \u001b[38;5;66;03m# 获取能量矩阵\u001b[39;00m\n\u001b[0;32m     31\u001b[0m     EM\u001b[38;5;241m=\u001b[39mengMat(\u001b[38;5;28mself\u001b[39m\u001b[38;5;241m.\u001b[39mmol,NM)\n\u001b[0;32m     32\u001b[0m     atoms\u001b[38;5;241m=\u001b[39m\u001b[38;5;28mself\u001b[39m\u001b[38;5;241m.\u001b[39mmol\u001b[38;5;241m.\u001b[39matoms\n",
      "File \u001b[1;32md:\\code/pywfn\\pywfn\\maths\\mol.py:127\u001b[0m, in \u001b[0;36mpiEleMat\u001b[1;34m(mol)\u001b[0m\n\u001b[0;32m    125\u001b[0m     atms\u001b[38;5;241m.\u001b[39mappend(i\u001b[38;5;241m+\u001b[39m\u001b[38;5;241m1\u001b[39m)\n\u001b[0;32m    126\u001b[0m obts\u001b[38;5;241m=\u001b[39mmol\u001b[38;5;241m.\u001b[39mO_obts\n\u001b[1;32m--> 127\u001b[0m CMp\u001b[38;5;241m=\u001b[39m\u001b[43mprojCM\u001b[49m\u001b[43m(\u001b[49m\u001b[43mmol\u001b[49m\u001b[43m,\u001b[49m\u001b[43mobts\u001b[49m\u001b[43m,\u001b[49m\u001b[43matms\u001b[49m\u001b[43m,\u001b[49m\u001b[43mdirs\u001b[49m\u001b[43m,\u001b[49m\u001b[38;5;28;43;01mFalse\u001b[39;49;00m\u001b[43m,\u001b[49m\u001b[38;5;28;43;01mFalse\u001b[39;49;00m\u001b[43m)\u001b[49m\n\u001b[0;32m    128\u001b[0m NM\u001b[38;5;241m=\u001b[39meleMat(CMp)\n\u001b[0;32m    129\u001b[0m \u001b[38;5;28;01mreturn\u001b[39;00m NM\n",
      "File \u001b[1;32md:\\code/pywfn\\pywfn\\maths\\mol.py:56\u001b[0m, in \u001b[0;36mprojCM\u001b[1;34m(mol, obts, atms, dirs, akeep, lkeep, akeeps, keeps)\u001b[0m\n\u001b[0;32m     54\u001b[0m     Cos\u001b[38;5;241m=\u001b[39matom\u001b[38;5;241m.\u001b[39mobtCoeffs[idxs,obt]\u001b[38;5;241m.\u001b[39mcopy()\n\u001b[0;32m     55\u001b[0m     Co[idxs]\u001b[38;5;241m=\u001b[39mCos\n\u001b[1;32m---> 56\u001b[0m Cop\u001b[38;5;241m=\u001b[39m\u001b[43matom\u001b[49m\u001b[38;5;241;43m.\u001b[39;49m\u001b[43mget_pProj\u001b[49m\u001b[43m(\u001b[49m\u001b[43mvect\u001b[49m\u001b[43m,\u001b[49m\u001b[43mobt\u001b[49m\u001b[43m)\u001b[49m\n\u001b[0;32m     57\u001b[0m Co[pIdx]\u001b[38;5;241m=\u001b[39mnp\u001b[38;5;241m.\u001b[39mconcatenate(Cop)\n\u001b[0;32m     58\u001b[0m CMp[u:l,obt]\u001b[38;5;241m=\u001b[39mCo\u001b[38;5;241m.\u001b[39mcopy()\n",
      "File \u001b[1;32md:\\code/pywfn\\pywfn\\base\\atom.py:85\u001b[0m, in \u001b[0;36mAtom.get_pProj\u001b[1;34m(self, direct, obt)\u001b[0m\n\u001b[0;32m     83\u001b[0m \u001b[38;5;28;01mdef\u001b[39;00m \u001b[38;5;21mget_pProj\u001b[39m(\u001b[38;5;28mself\u001b[39m,direct:np\u001b[38;5;241m.\u001b[39mndarray,obt:\u001b[38;5;28mint\u001b[39m)\u001b[38;5;241m-\u001b[39m\u001b[38;5;241m>\u001b[39m\u001b[38;5;28mlist\u001b[39m[np\u001b[38;5;241m.\u001b[39mndarray]:\n\u001b[0;32m     84\u001b[0m \u001b[38;5;250m    \u001b[39m\u001b[38;5;124;03m\"\"\"计算原子p系数在某个方向上的投影,返回n个三维向量\"\"\"\u001b[39;00m\n\u001b[1;32m---> 85\u001b[0m     \u001b[38;5;28;01massert\u001b[39;00m \u001b[38;5;28misinstance\u001b[39m(direct,np\u001b[38;5;241m.\u001b[39mndarray),\u001b[38;5;124m\"\u001b[39m\u001b[38;5;124m方向需要为np.ndarray\u001b[39m\u001b[38;5;124m\"\u001b[39m\n\u001b[0;32m     86\u001b[0m     \u001b[38;5;28;01massert\u001b[39;00m direct\u001b[38;5;241m.\u001b[39mshape\u001b[38;5;241m==\u001b[39m(\u001b[38;5;241m3\u001b[39m,),\u001b[38;5;124m'\u001b[39m\u001b[38;5;124m方向向量长度应该为3\u001b[39m\u001b[38;5;124m'\u001b[39m\n\u001b[0;32m     87\u001b[0m     length\u001b[38;5;241m=\u001b[39mnp\u001b[38;5;241m.\u001b[39mlinalg\u001b[38;5;241m.\u001b[39mnorm(direct)\n",
      "\u001b[1;31mAssertionError\u001b[0m: 方向需要为np.ndarray"
     ]
    }
   ],
   "source": [
    "caler.atmPiEngs() # 原子pi电子能量"
   ]
  },
  {
   "cell_type": "markdown",
   "metadata": {},
   "source": [
    "## 原子方向"
   ]
  },
  {
   "cell_type": "code",
   "execution_count": 26,
   "metadata": {},
   "outputs": [],
   "source": [
    "from pywfn.atomprop import direction\n",
    "paths=[\n",
    "    rf\"D:\\gfile\\pywfn\\活性测试\\NHCN.log\",\n",
    "    rf\"D:\\gfile\\pywfn\\活性测试\\NHC0.log\",\n",
    "    rf\"D:\\gfile\\pywfn\\活性测试\\NHCP.log\"\n",
    "]\n",
    "mols=[Mol(LogReader(path)) for path in paths]\n",
    "caler=direction.Calculator(mols[0])"
   ]
  },
  {
   "cell_type": "code",
   "execution_count": 27,
   "metadata": {},
   "outputs": [
    {
     "data": {
      "text/plain": [
       "array([0., 0., 1.])"
      ]
     },
     "execution_count": 27,
     "metadata": {},
     "output_type": "execute_result"
    }
   ],
   "source": [
    "caler.maxWeave(atm=4,obt=26,sym='P[XYZ]') # 最大波函数方向"
   ]
  },
  {
   "cell_type": "code",
   "execution_count": 28,
   "metadata": {},
   "outputs": [],
   "source": [
    "caler.sphAround()"
   ]
  },
  {
   "cell_type": "code",
   "execution_count": 29,
   "metadata": {},
   "outputs": [
    {
     "data": {
      "text/plain": [
       "array([[ 0.0003,  0.    , -1.    ],\n",
       "       [-0.1596,  0.0678, -0.9849],\n",
       "       [-0.3146,  0.1335, -0.9398],\n",
       "       [-0.4601,  0.1952, -0.8662],\n",
       "       [-0.5916,  0.2509, -0.7662],\n",
       "       [-0.7051,  0.299 , -0.643 ],\n",
       "       [-0.7972,  0.338 , -0.5002],\n",
       "       [-0.8651,  0.3668, -0.3423],\n",
       "       [-0.9067,  0.3844, -0.1739],\n",
       "       [-0.9207,  0.3903, -0.0003],\n",
       "       [-0.9068,  0.3844,  0.1734],\n",
       "       [-0.8653,  0.3668,  0.3418],\n",
       "       [-0.7975,  0.338 ,  0.4998],\n",
       "       [-0.7055,  0.299 ,  0.6426],\n",
       "       [-0.592 ,  0.2509,  0.7659],\n",
       "       [-0.4606,  0.1951,  0.8659],\n",
       "       [-0.3152,  0.1335,  0.9396],\n",
       "       [-0.1602,  0.0678,  0.9848],\n",
       "       [-0.0003, -0.    ,  1.    ]])"
      ]
     },
     "execution_count": 29,
     "metadata": {},
     "output_type": "execute_result"
    }
   ],
   "source": [
    "caler.reaction(4)"
   ]
  },
  {
   "cell_type": "code",
   "execution_count": 30,
   "metadata": {},
   "outputs": [
    {
     "data": {
      "text/plain": [
       "array([-0.0003, -0.    ,  1.    ])"
      ]
     },
     "execution_count": 30,
     "metadata": {},
     "output_type": "execute_result"
    }
   ],
   "source": [
    "caler.normal(4)"
   ]
  },
  {
   "cell_type": "code",
   "execution_count": 31,
   "metadata": {},
   "outputs": [
    {
     "data": {
      "text/plain": [
       "array([[ 0.3894,  0.9211, -0.0002],\n",
       "       [-0.9211,  0.3894, -0.0001],\n",
       "       [-0.    ,  0.0003,  1.    ]])"
      ]
     },
     "execution_count": 31,
     "metadata": {},
     "output_type": "execute_result"
    }
   ],
   "source": [
    "caler.coordSystem(3,4)"
   ]
  }
 ],
 "metadata": {
  "kernelspec": {
   "display_name": "pywfn",
   "language": "python",
   "name": "python3"
  },
  "language_info": {
   "codemirror_mode": {
    "name": "ipython",
    "version": 3
   },
   "file_extension": ".py",
   "mimetype": "text/x-python",
   "name": "python",
   "nbconvert_exporter": "python",
   "pygments_lexer": "ipython3",
   "version": "3.10.14"
  }
 },
 "nbformat": 4,
 "nbformat_minor": 2
}
