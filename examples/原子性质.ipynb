{
 "cells": [
  {
   "cell_type": "code",
   "execution_count": 1,
   "metadata": {},
   "outputs": [],
   "source": [
    "import sys\n",
    "sys.path.append('d:/code/pywfn')\n",
    "from pywfn.reader import LogReader\n",
    "from pywfn.base import Mol"
   ]
  },
  {
   "cell_type": "markdown",
   "metadata": {},
   "source": [
    "## 原子电荷"
   ]
  },
  {
   "cell_type": "code",
   "execution_count": 2,
   "metadata": {},
   "outputs": [],
   "source": [
    "from pywfn.atomprop import charge\n",
    "paths=[\n",
    "  \"D:\\gfile\\pywfn\\C6H6.log\"\n",
    "]\n",
    "mols=[Mol(LogReader(path)) for path in paths]\n",
    "caler=charge.Calculator(mols[0])"
   ]
  },
  {
   "cell_type": "code",
   "execution_count": 3,
   "metadata": {},
   "outputs": [
    {
     "data": {
      "text/plain": [
       "array([-0.1284, -0.1284, -0.1284, -0.1284, -0.1284, -0.1284,  0.1285,\n",
       "        0.1285,  0.1285,  0.1285,  0.1285,  0.1285])"
      ]
     },
     "execution_count": 3,
     "metadata": {},
     "output_type": "execute_result"
    }
   ],
   "source": [
    "caler.mulliken()"
   ]
  },
  {
   "cell_type": "code",
   "execution_count": 4,
   "metadata": {},
   "outputs": [
    {
     "data": {
      "text/plain": [
       "array([-0.1564, -0.1597, -0.1597, -0.1564, -0.1597, -0.1597,  0.1571,\n",
       "        0.1595,  0.1595,  0.1571,  0.1595,  0.1595])"
      ]
     },
     "execution_count": 4,
     "metadata": {},
     "output_type": "execute_result"
    }
   ],
   "source": [
    "caler.lowdin()"
   ]
  },
  {
   "cell_type": "code",
   "execution_count": 5,
   "metadata": {},
   "outputs": [
    {
     "data": {
      "text/plain": [
       "array([-0.1302, -0.1295, -0.1295, -0.1302, -0.1295, -0.1295,  0.1285,\n",
       "        0.1311,  0.1311,  0.1285,  0.1311,  0.1311])"
      ]
     },
     "execution_count": 5,
     "metadata": {},
     "output_type": "execute_result"
    }
   ],
   "source": [
    "caler.sapce()"
   ]
  },
  {
   "cell_type": "code",
   "execution_count": 6,
   "metadata": {},
   "outputs": [
    {
     "data": {
      "text/plain": [
       "array([-0.0362, -0.0345, -0.0345, -0.0362, -0.0345, -0.0345,  0.0518,\n",
       "        0.0512,  0.0512,  0.0518,  0.0512,  0.0512])"
      ]
     },
     "execution_count": 6,
     "metadata": {},
     "output_type": "execute_result"
    }
   ],
   "source": [
    "caler.hirshfeld()"
   ]
  },
  {
   "cell_type": "code",
   "execution_count": 7,
   "metadata": {},
   "outputs": [
    {
     "data": {
      "text/plain": [
       "array([[ 1.    , -0.    , -0.    ,  1.    ,  0.9851],\n",
       "       [ 2.    ,  0.    ,  0.    ,  1.    ,  0.9851],\n",
       "       [ 3.    ,  0.    ,  0.    ,  1.    ,  0.9851],\n",
       "       [ 4.    ,  0.    , -0.    ,  1.    ,  0.9851],\n",
       "       [ 5.    , -0.    ,  0.    ,  1.    ,  0.9851],\n",
       "       [ 6.    ,  0.    ,  0.    ,  1.    ,  0.9851],\n",
       "       [ 7.    , -0.    , -0.    ,  1.    ,  0.    ],\n",
       "       [ 8.    ,  0.    ,  0.    ,  1.    ,  0.    ],\n",
       "       [ 9.    ,  0.    ,  0.    ,  1.    ,  0.    ],\n",
       "       [10.    ,  0.    , -0.    ,  1.    ,  0.    ],\n",
       "       [11.    , -0.    ,  0.    ,  1.    ,  0.    ],\n",
       "       [12.    ,  0.    ,  0.    ,  1.    ,  0.    ]])"
      ]
     },
     "execution_count": 7,
     "metadata": {},
     "output_type": "execute_result"
    }
   ],
   "source": [
    "caler.piElectron('mulliken')"
   ]
  },
  {
   "cell_type": "code",
   "execution_count": 8,
   "metadata": {},
   "outputs": [
    {
     "data": {
      "text/plain": [
       "array([[ 1.    , -0.    , -0.    ,  1.    ,  0.7367],\n",
       "       [ 2.    ,  0.    ,  0.    ,  1.    ,  0.7367]])"
      ]
     },
     "execution_count": 8,
     "metadata": {},
     "output_type": "execute_result"
    }
   ],
   "source": [
    "from pywfn.atomprop import direction\n",
    "mol=mols[0]\n",
    "dirCaler=direction.Calculator(mol)\n",
    "atms=[1,2]\n",
    "dirs=[dirCaler.normal(atm) for atm in atms]\n",
    "caler.dirElectron('mulliken',atms,dirs)"
   ]
  },
  {
   "cell_type": "markdown",
   "metadata": {},
   "source": [
    "## 原子自旋"
   ]
  },
  {
   "cell_type": "code",
   "execution_count": 9,
   "metadata": {},
   "outputs": [],
   "source": [
    "from pywfn.atomprop import spin\n",
    "paths=[\n",
    "    rf\"D:\\gfile\\pywfn\\活性测试\\NHCN.log\",\n",
    "    rf\"D:\\gfile\\pywfn\\活性测试\\NHC0.log\",\n",
    "    rf\"D:\\gfile\\pywfn\\活性测试\\NHCP.log\"\n",
    "]\n",
    "mols=[Mol(LogReader(path)) for path in paths]\n",
    "caler=spin.Calculator(mols[0])"
   ]
  },
  {
   "cell_type": "code",
   "execution_count": 10,
   "metadata": {},
   "outputs": [
    {
     "data": {
      "text/plain": [
       "array([-0.0511,  0.3506,  0.6239, -0.0241,  0.6857, -0.5708,  0.0177,\n",
       "        0.0034,  0.0178, -0.0531])"
      ]
     },
     "execution_count": 10,
     "metadata": {},
     "output_type": "execute_result"
    }
   ],
   "source": [
    "caler.spins('mulliken')"
   ]
  },
  {
   "cell_type": "code",
   "execution_count": 11,
   "metadata": {},
   "outputs": [
    {
     "data": {
      "text/plain": [
       "array([-0.038 ,  0.3309,  0.5878, -0.0039,  0.6482, -0.5208,  0.0157,\n",
       "        0.0026,  0.0158, -0.0383])"
      ]
     },
     "execution_count": 11,
     "metadata": {},
     "output_type": "execute_result"
    }
   ],
   "source": [
    "caler.spins('lowdin')"
   ]
  },
  {
   "cell_type": "code",
   "execution_count": 12,
   "metadata": {},
   "outputs": [
    {
     "data": {
      "text/plain": [
       "array([-0.0511,  0.3502,  0.6245, -0.0241,  0.6871, -0.571 ,  0.0176,\n",
       "        0.0034,  0.0177, -0.0529])"
      ]
     },
     "execution_count": 12,
     "metadata": {},
     "output_type": "execute_result"
    }
   ],
   "source": [
    "caler.spins('space')"
   ]
  },
  {
   "cell_type": "code",
   "execution_count": 13,
   "metadata": {},
   "outputs": [
    {
     "data": {
      "text/plain": [
       "array([-0., -0., -0., -0., -0., -0., -0., -0., -0., -0.])"
      ]
     },
     "execution_count": 13,
     "metadata": {},
     "output_type": "execute_result"
    }
   ],
   "source": [
    "caler.spins('hirshfeld')"
   ]
  },
  {
   "cell_type": "markdown",
   "metadata": {},
   "source": [
    "## 原子活性"
   ]
  },
  {
   "cell_type": "code",
   "execution_count": 14,
   "metadata": {},
   "outputs": [],
   "source": [
    "from pywfn.atomprop import activity\n",
    "paths=[\n",
    "    rf\"D:\\gfile\\pywfn\\活性测试\\NHCN.log\",\n",
    "    rf\"D:\\gfile\\pywfn\\活性测试\\NHC0.log\",\n",
    "    rf\"D:\\gfile\\pywfn\\活性测试\\NHCP.log\"\n",
    "]\n",
    "mols=[Mol(LogReader(path)) for path in paths]\n",
    "caler=activity.Calculator(mols[1])"
   ]
  },
  {
   "cell_type": "code",
   "execution_count": 15,
   "metadata": {},
   "outputs": [
    {
     "data": {
      "text/plain": [
       "array([[-0.012 ,  0.0009],\n",
       "       [ 0.1586,  0.0493],\n",
       "       [ 0.1138,  0.069 ],\n",
       "       [ 0.2294,  0.2836],\n",
       "       [ 0.207 ,  0.2544],\n",
       "       [ 0.0151,  0.1475],\n",
       "       [ 0.0657,  0.0354],\n",
       "       [ 0.048 ,  0.0379],\n",
       "       [ 0.0658,  0.0354],\n",
       "       [ 0.1086,  0.0867]])"
      ]
     },
     "execution_count": 15,
     "metadata": {},
     "output_type": "execute_result"
    }
   ],
   "source": [
    "caler.fukui(molN=mols[0],molP=mols[2],chrg='mulliken')"
   ]
  },
  {
   "cell_type": "code",
   "execution_count": 16,
   "metadata": {},
   "outputs": [
    {
     "data": {
      "text/plain": [
       "array([[-0.1083,  0.0572],\n",
       "       [ 0.7681, -0.4175],\n",
       "       [ 0.1034,  0.5205],\n",
       "       [-0.2038,  0.1797],\n",
       "       [ 0.1496,  0.5361],\n",
       "       [-0.7672,  0.1965],\n",
       "       [ 0.0338, -0.0161],\n",
       "       [ 0.0057, -0.0023],\n",
       "       [ 0.0339, -0.0161],\n",
       "       [-0.0151, -0.038 ]])"
      ]
     },
     "execution_count": 16,
     "metadata": {},
     "output_type": "execute_result"
    }
   ],
   "source": [
    "caler.parr(molN=mols[0],molP=mols[2],chrg='mulliken')"
   ]
  },
  {
   "cell_type": "code",
   "execution_count": 17,
   "metadata": {},
   "outputs": [
    {
     "data": {
      "text/plain": [
       "array([[-34.5086,  -2.3299,  -4.1559],\n",
       "       [-16.5517, -35.0975, -35.4909],\n",
       "       [-29.1901,  -6.6784, -27.33  ],\n",
       "       [-50.0123, -38.1271, -84.3568],\n",
       "       [-19.6422, -17.0139, -18.0035],\n",
       "       [-38.171 , -57.9016, -24.4256],\n",
       "       [ -5.1893,  -3.3656,  -4.1953],\n",
       "       [-12.5583,  -0.8305,  -5.8246],\n",
       "       [ -0.9571,  -4.9233,  -2.7394],\n",
       "       [-10.433 ,  -5.0259,  -4.2396]])"
      ]
     },
     "execution_count": 17,
     "metadata": {},
     "output_type": "execute_result"
    }
   ],
   "source": [
    "caler.engDiff(molN=mols[0],molP=mols[2])"
   ]
  },
  {
   "cell_type": "code",
   "execution_count": 18,
   "metadata": {},
   "outputs": [
    {
     "data": {
      "text/plain": [
       "array([3.9314, 3.8297, 3.7353, 2.0531, 2.6379, 2.8183, 0.9779, 0.9842,\n",
       "       0.9779, 0.9701])"
      ]
     },
     "execution_count": 18,
     "metadata": {},
     "output_type": "execute_result"
    }
   ],
   "source": [
    "caler.valence()"
   ]
  },
  {
   "cell_type": "code",
   "execution_count": 19,
   "metadata": {},
   "outputs": [
    {
     "data": {
      "text/plain": [
       "(array([[ 2.    , -0.0002,  0.    , -1.    ,  0.9462],\n",
       "        [ 2.    ,  0.0002, -0.    ,  1.    ,  0.9462]]),\n",
       " array([[ 3.    ,  0.0002,  0.0001, -1.    ,  1.0987],\n",
       "        [ 3.    , -0.0002, -0.0001,  1.    ,  1.0987]]))"
      ]
     },
     "execution_count": 19,
     "metadata": {},
     "output_type": "execute_result"
    }
   ],
   "source": [
    "caler.freeValence(2),caler.freeValence(3)"
   ]
  },
  {
   "cell_type": "code",
   "execution_count": 20,
   "metadata": {},
   "outputs": [
    {
     "data": {
      "text/plain": [
       "array([[ 2.    , -0.0002,  0.    , -1.    ,  0.4368,  0.1159],\n",
       "       [ 2.    ,  0.0002, -0.    ,  1.    ,  0.4368,  0.1159]])"
      ]
     },
     "execution_count": 20,
     "metadata": {},
     "output_type": "execute_result"
    }
   ],
   "source": [
    "caler.neFreeValence_v1(2,mols[0],mols[2])"
   ]
  },
  {
   "cell_type": "code",
   "execution_count": 21,
   "metadata": {},
   "outputs": [
    {
     "data": {
      "text/plain": [
       "array([[ 2.    , -0.0002,  0.    , -1.    ,  0.607 ,  0.0544],\n",
       "       [ 2.    ,  0.0002, -0.    ,  1.    ,  0.607 ,  0.0544]])"
      ]
     },
     "execution_count": 21,
     "metadata": {},
     "output_type": "execute_result"
    }
   ],
   "source": [
    "caler.neFreeValence_v2(2,mols[0],mols[2])"
   ]
  },
  {
   "cell_type": "code",
   "execution_count": 22,
   "metadata": {},
   "outputs": [
    {
     "data": {
      "text/plain": [
       "array([[ 2.    , -0.0002,  0.    , -1.    ,  0.4647, -0.0111],\n",
       "       [ 2.    ,  0.0002, -0.    ,  1.    ,  0.4647, -0.0111],\n",
       "       [ 3.    ,  0.0002,  0.0001, -1.    ,  0.4392,  0.0853],\n",
       "       [ 3.    , -0.0002, -0.0001,  1.    ,  0.4392,  0.0853]])"
      ]
     },
     "execution_count": 22,
     "metadata": {},
     "output_type": "execute_result"
    }
   ],
   "source": [
    "caler.dirFukui([2,3],molN=mols[0],molP=mols[2])"
   ]
  },
  {
   "cell_type": "markdown",
   "metadata": {},
   "source": [
    "## 原子能量"
   ]
  },
  {
   "cell_type": "code",
   "execution_count": 23,
   "metadata": {},
   "outputs": [],
   "source": [
    "from pywfn.atomprop import energy\n",
    "paths=[\n",
    "    rf\"D:\\gfile\\pywfn\\活性测试\\NHCN.log\",\n",
    "    rf\"D:\\gfile\\pywfn\\活性测试\\NHC0.log\",\n",
    "    rf\"D:\\gfile\\pywfn\\活性测试\\NHCP.log\"\n",
    "]\n",
    "mols=[Mol(LogReader(path)) for path in paths]\n",
    "caler=energy.Calculator(mols[0])"
   ]
  },
  {
   "cell_type": "code",
   "execution_count": 24,
   "metadata": {},
   "outputs": [
    {
     "data": {
      "text/plain": [
       "array([-34.5086, -16.5517, -29.1901, -50.0123, -19.6422, -38.171 ,\n",
       "        -5.1893, -12.5583,  -0.9571, -10.433 ])"
      ]
     },
     "execution_count": 24,
     "metadata": {},
     "output_type": "execute_result"
    }
   ],
   "source": [
    "caler.atmEngs() # 原子电子能量"
   ]
  },
  {
   "cell_type": "code",
   "execution_count": 25,
   "metadata": {},
   "outputs": [
    {
     "data": {
      "text/plain": [
       "array([ -0.    ,   0.04  ,  -1.8247, -17.8556,  -5.5166,  -9.6735,\n",
       "        -0.    ,  -0.    ,  -0.7447,  -2.9235])"
      ]
     },
     "execution_count": 25,
     "metadata": {},
     "output_type": "execute_result"
    }
   ],
   "source": [
    "caler.atmPiEngs() # 原子pi电子能量"
   ]
  },
  {
   "cell_type": "markdown",
   "metadata": {},
   "source": [
    "## 原子方向"
   ]
  },
  {
   "cell_type": "code",
   "execution_count": 26,
   "metadata": {},
   "outputs": [],
   "source": [
    "from pywfn.atomprop import direction\n",
    "paths=[\n",
    "    rf\"D:\\gfile\\pywfn\\活性测试\\NHCN.log\",\n",
    "    rf\"D:\\gfile\\pywfn\\活性测试\\NHC0.log\",\n",
    "    rf\"D:\\gfile\\pywfn\\活性测试\\NHCP.log\"\n",
    "]\n",
    "mols=[Mol(LogReader(path)) for path in paths]\n",
    "caler=direction.Calculator(mols[0])"
   ]
  },
  {
   "cell_type": "code",
   "execution_count": 27,
   "metadata": {},
   "outputs": [
    {
     "data": {
      "text/plain": [
       "array([0., 0., 1.])"
      ]
     },
     "execution_count": 27,
     "metadata": {},
     "output_type": "execute_result"
    }
   ],
   "source": [
    "caler.maxWeave(atm=4,obt=26,sym='P[XYZ]') # 最大波函数方向"
   ]
  },
  {
   "cell_type": "code",
   "execution_count": 28,
   "metadata": {},
   "outputs": [],
   "source": [
    "caler.sphAround()"
   ]
  },
  {
   "cell_type": "code",
   "execution_count": 29,
   "metadata": {},
   "outputs": [
    {
     "data": {
      "text/plain": [
       "array([[ 0.0003,  0.    , -1.    ],\n",
       "       [-0.1596,  0.0678, -0.9849],\n",
       "       [-0.3146,  0.1335, -0.9398],\n",
       "       [-0.4601,  0.1952, -0.8662],\n",
       "       [-0.5916,  0.2509, -0.7662],\n",
       "       [-0.7051,  0.299 , -0.643 ],\n",
       "       [-0.7972,  0.338 , -0.5002],\n",
       "       [-0.8651,  0.3668, -0.3423],\n",
       "       [-0.9067,  0.3844, -0.1739],\n",
       "       [-0.9207,  0.3903, -0.0003],\n",
       "       [-0.9068,  0.3844,  0.1734],\n",
       "       [-0.8653,  0.3668,  0.3418],\n",
       "       [-0.7975,  0.338 ,  0.4998],\n",
       "       [-0.7055,  0.299 ,  0.6426],\n",
       "       [-0.592 ,  0.2509,  0.7659],\n",
       "       [-0.4606,  0.1951,  0.8659],\n",
       "       [-0.3152,  0.1335,  0.9396],\n",
       "       [-0.1602,  0.0678,  0.9848],\n",
       "       [-0.0003, -0.    ,  1.    ]])"
      ]
     },
     "execution_count": 29,
     "metadata": {},
     "output_type": "execute_result"
    }
   ],
   "source": [
    "caler.reaction(4)"
   ]
  },
  {
   "cell_type": "code",
   "execution_count": 30,
   "metadata": {},
   "outputs": [
    {
     "data": {
      "text/plain": [
       "array([-0.0003, -0.    ,  1.    ])"
      ]
     },
     "execution_count": 30,
     "metadata": {},
     "output_type": "execute_result"
    }
   ],
   "source": [
    "caler.normal(4)"
   ]
  },
  {
   "cell_type": "code",
   "execution_count": 31,
   "metadata": {},
   "outputs": [
    {
     "data": {
      "text/plain": [
       "array([[ 0.3894,  0.9211, -0.0002],\n",
       "       [-0.9211,  0.3894, -0.0001],\n",
       "       [-0.    ,  0.0003,  1.    ]])"
      ]
     },
     "execution_count": 31,
     "metadata": {},
     "output_type": "execute_result"
    }
   ],
   "source": [
    "caler.coordSystem(3,4)"
   ]
  }
 ],
 "metadata": {
  "kernelspec": {
   "display_name": "pywfn",
   "language": "python",
   "name": "python3"
  },
  "language_info": {
   "codemirror_mode": {
    "name": "ipython",
    "version": 3
   },
   "file_extension": ".py",
   "mimetype": "text/x-python",
   "name": "python",
   "nbconvert_exporter": "python",
   "pygments_lexer": "ipython3",
   "version": "3.10.14"
  }
 },
 "nbformat": 4,
 "nbformat_minor": 2
}
