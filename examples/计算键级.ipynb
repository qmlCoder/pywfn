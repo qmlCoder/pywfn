{
 "cells": [
  {
   "cell_type": "markdown",
   "metadata": {},
   "source": [
    "# 键级计算\n",
    "> 展示如何使用pywfn计算各种键级"
   ]
  },
  {
   "cell_type": "code",
   "execution_count": 1,
   "metadata": {},
   "outputs": [],
   "source": [
    "import sys\n",
    "sys.path.append('D:\\code\\pywfn')\n",
    "from pywfn.base import Mol\n",
    "from pywfn.reader import LogReader\n",
    "from pywfn.bondprop import order"
   ]
  },
  {
   "cell_type": "code",
   "execution_count": 2,
   "metadata": {},
   "outputs": [],
   "source": [
    "paths=[\n",
    "  \"D:\\gfile\\pywfn\\C6H6.log\"\n",
    "]\n",
    "mols=[Mol(LogReader(path)) for path in paths]"
   ]
  },
  {
   "cell_type": "code",
   "execution_count": 3,
   "metadata": {},
   "outputs": [],
   "source": [
    "caler=order.Calculator(mols[0])"
   ]
  },
  {
   "cell_type": "markdown",
   "metadata": {},
   "source": [
    "## mayer键级"
   ]
  },
  {
   "cell_type": "code",
   "execution_count": 4,
   "metadata": {},
   "outputs": [
    {
     "data": {
      "text/plain": [
       "array([[ 1.    ,  2.    ,  1.4533],\n",
       "       [ 1.    ,  6.    ,  1.4533],\n",
       "       [ 1.    ,  7.    ,  0.9305],\n",
       "       [ 2.    ,  3.    ,  1.4533],\n",
       "       [ 2.    ,  8.    ,  0.9305],\n",
       "       [ 3.    ,  4.    ,  1.4533],\n",
       "       [ 3.    ,  9.    ,  0.9305],\n",
       "       [ 4.    ,  5.    ,  1.4533],\n",
       "       [ 4.    , 10.    ,  0.9305],\n",
       "       [ 5.    ,  6.    ,  1.4533],\n",
       "       [ 5.    , 11.    ,  0.9305],\n",
       "       [ 6.    , 12.    ,  0.9305]])"
      ]
     },
     "execution_count": 4,
     "metadata": {},
     "output_type": "execute_result"
    }
   ],
   "source": [
    "caler.mayer()"
   ]
  },
  {
   "cell_type": "code",
   "execution_count": 5,
   "metadata": {},
   "outputs": [
    {
     "data": {
      "text/plain": [
       "array([[ 1.    ,  2.    ,  0.    ,  0.    ,  1.    ,  0.6514],\n",
       "       [ 1.    ,  2.    , -0.    , -0.    , -1.    ,  0.6514],\n",
       "       [ 2.    ,  3.    ,  0.    ,  0.    , -1.    ,  0.6514],\n",
       "       [ 2.    ,  3.    , -0.    , -0.    ,  1.    ,  0.6514]])"
      ]
     },
     "execution_count": 5,
     "metadata": {},
     "output_type": "execute_result"
    }
   ],
   "source": [
    "bonds=[\n",
    "    [1,2],\n",
    "    [2,3]\n",
    "]\n",
    "caler.dirMayer(bonds)"
   ]
  },
  {
   "cell_type": "code",
   "execution_count": 6,
   "metadata": {},
   "outputs": [
    {
     "data": {
      "text/plain": [
       "array([[ 1.    ,  2.    ,  0.    ,  0.    ,  1.    ,  0.873 ],\n",
       "       [ 1.    ,  6.    ,  0.    ,  0.    ,  1.    ,  0.873 ],\n",
       "       [ 1.    ,  7.    ,  0.    ,  0.    ,  1.    ,  0.2387],\n",
       "       [ 1.    ,  2.    , -0.    , -0.    , -1.    ,  0.873 ],\n",
       "       [ 1.    ,  6.    , -0.    , -0.    , -1.    ,  0.873 ],\n",
       "       [ 1.    ,  7.    , -0.    , -0.    , -1.    ,  0.2387]])"
      ]
     },
     "execution_count": 6,
     "metadata": {},
     "output_type": "execute_result"
    }
   ],
   "source": [
    "caler.boundMayer(1)"
   ]
  },
  {
   "cell_type": "code",
   "execution_count": 7,
   "metadata": {},
   "outputs": [
    {
     "data": {
      "text/plain": [
       "array([[ 1.    ,  2.    ,  0.6606],\n",
       "       [ 1.    ,  6.    ,  0.6606],\n",
       "       [ 1.    ,  7.    ,  0.    ],\n",
       "       [ 2.    ,  3.    ,  0.6606],\n",
       "       [ 2.    ,  8.    ,  0.    ],\n",
       "       [ 3.    ,  4.    ,  0.6606],\n",
       "       [ 3.    ,  9.    ,  0.    ],\n",
       "       [ 4.    ,  5.    ,  0.6606],\n",
       "       [ 4.    , 10.    ,  0.    ],\n",
       "       [ 5.    ,  6.    ,  0.6606],\n",
       "       [ 5.    , 11.    ,  0.    ],\n",
       "       [ 6.    , 12.    ,  0.    ]])"
      ]
     },
     "execution_count": 7,
     "metadata": {},
     "output_type": "execute_result"
    }
   ],
   "source": [
    "caler.pi_pocv()"
   ]
  },
  {
   "cell_type": "code",
   "execution_count": 8,
   "metadata": {},
   "outputs": [
    {
     "data": {
      "text/plain": [
       "np.float64(0.0)"
      ]
     },
     "execution_count": 8,
     "metadata": {},
     "output_type": "execute_result"
    }
   ],
   "source": [
    "caler.pi_smo(1,2)"
   ]
  },
  {
   "cell_type": "code",
   "execution_count": 9,
   "metadata": {},
   "outputs": [
    {
     "data": {
      "text/plain": [
       "array([[1.    , 2.    , 0.7422],\n",
       "       [1.    , 3.    , 0.0669],\n",
       "       [1.    , 4.    , 0.342 ],\n",
       "       [1.    , 5.    , 0.0755],\n",
       "       [1.    , 6.    , 0.5998],\n",
       "       [2.    , 3.    , 0.658 ],\n",
       "       [2.    , 4.    , 0.0755],\n",
       "       [2.    , 5.    , 0.4002],\n",
       "       [2.    , 6.    , 0.0087],\n",
       "       [3.    , 4.    , 0.5998],\n",
       "       [3.    , 5.    , 0.0087],\n",
       "       [3.    , 6.    , 0.2578],\n",
       "       [4.    , 5.    , 0.7422],\n",
       "       [4.    , 6.    , 0.0669],\n",
       "       [5.    , 6.    , 0.658 ]])"
      ]
     },
     "execution_count": 9,
     "metadata": {},
     "output_type": "execute_result"
    }
   ],
   "source": [
    "caler.hmo()"
   ]
  },
  {
   "cell_type": "code",
   "execution_count": 10,
   "metadata": {},
   "outputs": [
    {
     "data": {
      "text/plain": [
       "array([[1.1407],\n",
       "       [0.689 ],\n",
       "       [0.2142],\n",
       "       [0.0001]])"
      ]
     },
     "execution_count": 10,
     "metadata": {},
     "output_type": "execute_result"
    }
   ],
   "source": [
    "caler.decompose(atms=(1,2))"
   ]
  }
 ],
 "metadata": {
  "kernelspec": {
   "display_name": "pywfn",
   "language": "python",
   "name": "python3"
  },
  "language_info": {
   "codemirror_mode": {
    "name": "ipython",
    "version": 3
   },
   "file_extension": ".py",
   "mimetype": "text/x-python",
   "name": "python",
   "nbconvert_exporter": "python",
   "pygments_lexer": "ipython3",
   "version": "3.10.14"
  }
 },
 "nbformat": 4,
 "nbformat_minor": 2
}
