{
 "cells": [
  {
   "cell_type": "markdown",
   "metadata": {},
   "source": [
    "# 键级计算\n",
    "> 展示如何使用pywfn计算各种键级"
   ]
  },
  {
   "cell_type": "code",
   "execution_count": 1,
   "metadata": {},
   "outputs": [],
   "source": [
    "import sys\n",
    "sys.path.append('D:\\code\\pywfn')\n",
    "from pywfn.base import Mol\n",
    "from pywfn.reader import LogReader\n",
    "from pywfn.bondprop import order"
   ]
  },
  {
   "cell_type": "code",
   "execution_count": 2,
   "metadata": {},
   "outputs": [],
   "source": [
    "path=\"D:\\gfile\\zs\\920855be101df03924071c1e62ec6714.log\"\n",
    "# path=\"D:\\gfile\\zs\\d0a83c941438319e992c22b9c05c70f8.log\"\n",
    "# path=\"D:\\gfile\\zs\\d70b5dcd365d3ade25ff6cf9f8dcf792.log\"\n",
    "# path=\"D:\\gfile\\zs\\db9ac6a8d784b6d6de1bd38aa923b326.log\"\n",
    "path=\"D:\\gfile\\zs\\POP.log\"\n",
    "reader=LogReader(path)\n",
    "mol=Mol(reader)\n",
    "caler=order.Calculator(mol)"
   ]
  },
  {
   "cell_type": "markdown",
   "metadata": {},
   "source": [
    "## mayer键级"
   ]
  },
  {
   "cell_type": "code",
   "execution_count": 3,
   "metadata": {},
   "outputs": [
    {
     "ename": "ValueError",
     "evalue": "matmul: Input operand 1 has a mismatch in its core dimension 0, with gufunc signature (n?,k),(k,m?)->(n?,m?) (size 0 is different from 12)",
     "output_type": "error",
     "traceback": [
      "\u001b[1;31m---------------------------------------------------------------------------\u001b[0m",
      "\u001b[1;31mValueError\u001b[0m                                Traceback (most recent call last)",
      "Cell \u001b[1;32mIn[3], line 1\u001b[0m\n\u001b[1;32m----> 1\u001b[0m \u001b[43mcaler\u001b[49m\u001b[38;5;241;43m.\u001b[39;49m\u001b[43mmayer\u001b[49m\u001b[43m(\u001b[49m\u001b[43m)\u001b[49m\n",
      "File \u001b[1;32mD:\\code\\pywfn\\pywfn\\bondprop\\order.py:31\u001b[0m, in \u001b[0;36mCalculator.mayer\u001b[1;34m(self, PM, bonds)\u001b[0m\n\u001b[0;32m     29\u001b[0m \u001b[38;5;66;03m# 获取重叠矩阵\u001b[39;00m\n\u001b[0;32m     30\u001b[0m SM\u001b[38;5;241m=\u001b[39m\u001b[38;5;28mself\u001b[39m\u001b[38;5;241m.\u001b[39mmol\u001b[38;5;241m.\u001b[39mSM\n\u001b[1;32m---> 31\u001b[0m PS\u001b[38;5;241m=\u001b[39m\u001b[43mPM\u001b[49m\u001b[38;5;129;43m@SM\u001b[39;49m\n\u001b[0;32m     32\u001b[0m OM\u001b[38;5;241m=\u001b[39mPS\u001b[38;5;241m*\u001b[39mPS\u001b[38;5;241m.\u001b[39mT\n\u001b[0;32m     33\u001b[0m orders\u001b[38;5;241m=\u001b[39m[]\n",
      "\u001b[1;31mValueError\u001b[0m: matmul: Input operand 1 has a mismatch in its core dimension 0, with gufunc signature (n?,k),(k,m?)->(n?,m?) (size 0 is different from 12)"
     ]
    }
   ],
   "source": [
    "caler.mayer()"
   ]
  },
  {
   "cell_type": "code",
   "execution_count": null,
   "metadata": {},
   "outputs": [],
   "source": []
  }
 ],
 "metadata": {
  "kernelspec": {
   "display_name": "pywfn",
   "language": "python",
   "name": "python3"
  },
  "language_info": {
   "codemirror_mode": {
    "name": "ipython",
    "version": 3
   },
   "file_extension": ".py",
   "mimetype": "text/x-python",
   "name": "python",
   "nbconvert_exporter": "python",
   "pygments_lexer": "ipython3",
   "version": "3.10.14"
  }
 },
 "nbformat": 4,
 "nbformat_minor": 2
}
