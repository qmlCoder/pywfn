{
 "cells": [
  {
   "cell_type": "code",
   "execution_count": 1,
   "id": "52a6644b",
   "metadata": {},
   "outputs": [],
   "source": [
    "import sys;sys.path.append('d:/code/pywfn')"
   ]
  },
  {
   "cell_type": "code",
   "execution_count": 2,
   "id": "efb1204b",
   "metadata": {},
   "outputs": [
    {
     "ename": "IndexError",
     "evalue": "index 102 is out of bounds for axis 1 with size 102",
     "output_type": "error",
     "traceback": [
      "\u001b[1;31m---------------------------------------------------------------------------\u001b[0m",
      "\u001b[1;31mIndexError\u001b[0m                                Traceback (most recent call last)",
      "Cell \u001b[1;32mIn[2], line 8\u001b[0m\n\u001b[0;32m      4\u001b[0m \u001b[38;5;28;01mimport\u001b[39;00m\u001b[38;5;250m \u001b[39m\u001b[38;5;21;01mnumpy\u001b[39;00m\u001b[38;5;250m \u001b[39m\u001b[38;5;28;01mas\u001b[39;00m\u001b[38;5;250m \u001b[39m\u001b[38;5;21;01mnp\u001b[39;00m\n\u001b[0;32m      6\u001b[0m mol\u001b[38;5;241m=\u001b[39mMole(FchReader(\u001b[38;5;124mrf\u001b[39m\u001b[38;5;124m\"\u001b[39m\u001b[38;5;124md:\u001b[39m\u001b[38;5;124m\\\u001b[39m\u001b[38;5;124mgfile\u001b[39m\u001b[38;5;124m\\\u001b[39m\u001b[38;5;124mpywfn\u001b[39m\u001b[38;5;124m\\\u001b[39m\u001b[38;5;124mC6H6.fch\u001b[39m\u001b[38;5;124m\"\u001b[39m))\n\u001b[1;32m----> 8\u001b[0m caler\u001b[38;5;241m=\u001b[39m\u001b[43mdensity\u001b[49m\u001b[38;5;241;43m.\u001b[39;49m\u001b[43mCalculator\u001b[49m\u001b[43m(\u001b[49m\u001b[43mmol\u001b[49m\u001b[43m)\u001b[49m\n\u001b[0;32m     10\u001b[0m p0\u001b[38;5;241m=\u001b[39mnp\u001b[38;5;241m.\u001b[39marray([\u001b[38;5;241m-\u001b[39m\u001b[38;5;241m1.\u001b[39m,\u001b[38;5;241m1.\u001b[39m,\u001b[38;5;241m0.\u001b[39m])\n\u001b[0;32m     11\u001b[0m p1\u001b[38;5;241m=\u001b[39mnp\u001b[38;5;241m.\u001b[39marray([\u001b[38;5;241m1.\u001b[39m,\u001b[38;5;241m1.\u001b[39m,\u001b[38;5;241m0.\u001b[39m])\n",
      "File \u001b[1;32md:\\code/pywfn\\pywfn\\gridprop\\density.py:24\u001b[0m, in \u001b[0;36mCalculator.__init__\u001b[1;34m(self, mol)\u001b[0m\n\u001b[0;32m     22\u001b[0m \u001b[38;5;28mself\u001b[39m\u001b[38;5;241m.\u001b[39mmol\u001b[38;5;241m=\u001b[39mmol\n\u001b[0;32m     23\u001b[0m \u001b[38;5;28mself\u001b[39m\u001b[38;5;241m.\u001b[39mwfnCaler\u001b[38;5;241m=\u001b[39mwfnfunc\u001b[38;5;241m.\u001b[39mCalculator(mol)\n\u001b[1;32m---> 24\u001b[0m \u001b[38;5;28mself\u001b[39m\u001b[38;5;241m.\u001b[39mPM\u001b[38;5;241m=\u001b[39m\u001b[38;5;28;43mself\u001b[39;49m\u001b[38;5;241;43m.\u001b[39;49m\u001b[43mmol\u001b[49m\u001b[38;5;241;43m.\u001b[39;49m\u001b[43mPM\u001b[49m\u001b[38;5;241m.\u001b[39mcopy()\n",
      "File \u001b[1;32md:\\code/pywfn\\pywfn\\base\\mole.py:234\u001b[0m, in \u001b[0;36mMole.PM\u001b[1;34m(self)\u001b[0m\n\u001b[0;32m    231\u001b[0m \u001b[38;5;129m@property\u001b[39m\n\u001b[0;32m    232\u001b[0m \u001b[38;5;28;01mdef\u001b[39;00m\u001b[38;5;250m \u001b[39m\u001b[38;5;21mPM\u001b[39m(\u001b[38;5;28mself\u001b[39m):\n\u001b[0;32m    233\u001b[0m \u001b[38;5;250m    \u001b[39m\u001b[38;5;124;03m\"\"\"密度矩阵\"\"\"\u001b[39;00m\n\u001b[1;32m--> 234\u001b[0m     \u001b[38;5;28;01mreturn\u001b[39;00m \u001b[43mmaths\u001b[49m\u001b[38;5;241;43m.\u001b[39;49m\u001b[43mCM2PM\u001b[49m\u001b[43m(\u001b[49m\u001b[38;5;28;43mself\u001b[39;49m\u001b[38;5;241;43m.\u001b[39;49m\u001b[43mCM\u001b[49m\u001b[43m,\u001b[49m\u001b[38;5;28;43mself\u001b[39;49m\u001b[38;5;241;43m.\u001b[39;49m\u001b[43mO_obts\u001b[49m\u001b[43m,\u001b[49m\u001b[38;5;28;43mself\u001b[39;49m\u001b[38;5;241;43m.\u001b[39;49m\u001b[43moE\u001b[49m\u001b[43m)\u001b[49m\n",
      "File \u001b[1;32md:\\code/pywfn\\pywfn\\maths\\__init__.py:143\u001b[0m, in \u001b[0;36mCM2PM\u001b[1;34m(CM, obts, oe)\u001b[0m\n\u001b[0;32m    137\u001b[0m \u001b[38;5;250m\u001b[39m\u001b[38;5;124;03m\"\"\"\u001b[39;00m\n\u001b[0;32m    138\u001b[0m \u001b[38;5;124;03m根据系数矩阵构建密度矩阵\u001b[39;00m\n\u001b[0;32m    139\u001b[0m \u001b[38;5;124;03mCM:系数矩阵,如果是开壳层的话,列数是行数的两倍[n,n]/[n,2n]\u001b[39;00m\n\u001b[0;32m    140\u001b[0m \u001b[38;5;124;03mn:分子轨道占据电子数\u001b[39;00m\n\u001b[0;32m    141\u001b[0m \u001b[38;5;124;03m\"\"\"\u001b[39;00m\n\u001b[0;32m    142\u001b[0m \u001b[38;5;28;01massert\u001b[39;00m \u001b[38;5;28mtype\u001b[39m(obts)\u001b[38;5;241m==\u001b[39m\u001b[38;5;28mlist\u001b[39m,\u001b[38;5;124m\"\u001b[39m\u001b[38;5;124mobts必须为列表\u001b[39m\u001b[38;5;124m\"\u001b[39m\n\u001b[1;32m--> 143\u001b[0m CMv\u001b[38;5;241m=\u001b[39m\u001b[43mCM\u001b[49m\u001b[43m[\u001b[49m\u001b[43m:\u001b[49m\u001b[43m,\u001b[49m\u001b[43mobts\u001b[49m\u001b[43m]\u001b[49m\u001b[38;5;241m.\u001b[39mcopy()\n\u001b[0;32m    144\u001b[0m CMh\u001b[38;5;241m=\u001b[39mnp\u001b[38;5;241m.\u001b[39mtranspose(CMv)\n\u001b[0;32m    145\u001b[0m PM \u001b[38;5;241m=\u001b[39m (CMv \u001b[38;5;241m@\u001b[39m CMh) \u001b[38;5;241m*\u001b[39m oe\n",
      "\u001b[1;31mIndexError\u001b[0m: index 102 is out of bounds for axis 1 with size 102"
     ]
    }
   ],
   "source": [
    "from pywfn.reader import FchReader\n",
    "from pywfn.base import Mole\n",
    "from pywfn.gridprop import density,RectGrid\n",
    "import numpy as np\n",
    "\n",
    "mol=Mole(FchReader(rf\"d:\\gfile\\pywfn\\C6H6.fch\"))\n",
    "\n",
    "caler=density.Calculator(mol)\n",
    "\n",
    "p0=np.array([-1.,1.,0.])\n",
    "p1=np.array([1.,1.,0.])\n",
    "p2=np.array([1.,-1.,0.])\n",
    "\n",
    "shape,grids=RectGrid().set_v2(p0,p1,p2).get()\n",
    "\n",
    "dens0,dens1,dens2=caler.molDens(grids,level=2)"
   ]
  },
  {
   "cell_type": "code",
   "execution_count": null,
   "id": "b79ba2ed",
   "metadata": {},
   "outputs": [],
   "source": []
  }
 ],
 "metadata": {
  "kernelspec": {
   "display_name": "pywfn",
   "language": "python",
   "name": "python3"
  },
  "language_info": {
   "codemirror_mode": {
    "name": "ipython",
    "version": 3
   },
   "file_extension": ".py",
   "mimetype": "text/x-python",
   "name": "python",
   "nbconvert_exporter": "python",
   "pygments_lexer": "ipython3",
   "version": "3.10.16"
  }
 },
 "nbformat": 4,
 "nbformat_minor": 5
}
