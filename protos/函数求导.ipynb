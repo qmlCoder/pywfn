{
 "cells": [
  {
   "cell_type": "code",
   "execution_count": 2,
   "metadata": {},
   "outputs": [],
   "source": [
    "import sympy as sp"
   ]
  },
  {
   "cell_type": "code",
   "execution_count": 4,
   "metadata": {},
   "outputs": [
    {
     "data": {
      "text/latex": [
       "$\\displaystyle - \\sin{\\left(x \\right)}$"
      ],
      "text/plain": [
       "-sin(x)"
      ]
     },
     "execution_count": 4,
     "metadata": {},
     "output_type": "execute_result"
    }
   ],
   "source": [
    "# 求cos(x)一阶导\n",
    "x=sp.symbols('x')\n",
    "sp.diff(sp.cos(x),x)"
   ]
  },
  {
   "cell_type": "code",
   "execution_count": 5,
   "metadata": {},
   "outputs": [
    {
     "data": {
      "text/plain": [
       "(-2*x*y*sin(x**2*y)/(x**2 + y**2 + 1) - 2*x*cos(x**2*y)/(x**2 + y**2 + 1)**2,\n",
       " -x**2*sin(x**2*y)/(x**2 + y**2 + 1) - 2*y*cos(x**2*y)/(x**2 + y**2 + 1)**2)"
      ]
     },
     "execution_count": 5,
     "metadata": {},
     "output_type": "execute_result"
    }
   ],
   "source": [
    "# 求一阶偏导\n",
    "g=sp.symbols('g',cls=sp.Function)\n",
    "x,y=sp.symbols('x,y')\n",
    "eq=sp.cos(x**2*y)/(x**2+y**2+1)\n",
    "sp.diff(eq,x),sp.diff(eq,y)"
   ]
  },
  {
   "cell_type": "code",
   "execution_count": null,
   "metadata": {},
   "outputs": [],
   "source": [
    "g=sp.symbols('g',cls=sp.Function)\n",
    "x,y,z=sp.symbols('x,y,z')\n",
    "l,m,n=sp.symbols('')"
   ]
  },
  {
   "cell_type": "code",
   "execution_count": 7,
   "metadata": {},
   "outputs": [
    {
     "data": {
      "text/plain": [
       "(-2*Nm*alp*x*x**l*y**m*z**n*exp(-alp*(x**2 + y**2 + z**2)) + Nm*l*x**l*y**m*z**n*exp(-alp*(x**2 + y**2 + z**2))/x,\n",
       " -2*Nm*alp*x**l*y*y**m*z**n*exp(-alp*(x**2 + y**2 + z**2)) + Nm*m*x**l*y**m*z**n*exp(-alp*(x**2 + y**2 + z**2))/y,\n",
       " -2*Nm*alp*x**l*y**m*z*z**n*exp(-alp*(x**2 + y**2 + z**2)) + Nm*n*x**l*y**m*z**n*exp(-alp*(x**2 + y**2 + z**2))/z)"
      ]
     },
     "execution_count": 7,
     "metadata": {},
     "output_type": "execute_result"
    }
   ],
   "source": [
    "import sympy as sp\n",
    "\n",
    "# 定义符号\n",
    "x, y, z, Nm, l, m, n, alp = sp.symbols('x y z Nm l m n alp')\n",
    "\n",
    "# 定义函数f(x, y, z)\n",
    "f = Nm * x**l * y**m * z**n * sp.exp(-alp * (x**2 + y**2 + z**2))\n",
    "\n",
    "# 计算关于x, y, z的偏导数\n",
    "df_dx = sp.diff(f, x)\n",
    "df_dy = sp.diff(f, y)\n",
    "df_dz = sp.diff(f, z)\n",
    "\n",
    "df_dx, df_dy, df_dz"
   ]
  },
  {
   "cell_type": "markdown",
   "metadata": {},
   "source": [
    "`df/dx = -2*Nm*alp*x*x**l*y**m*z**n*exp(-alp*(x**2 + y**2 + z**2)) + Nm*l*x**l*y**m*z**n*exp(-alp*(x**2 + y**2 + z**2))/x`\n",
    "\n",
    "`wfn= Nm* x**l*y**m*z**n *exp(-alp*(x**2 + y**2 + z**2)`\n",
    "\n",
    "`df/dx = -2*alp*x*wfn+l*wfn/2`"
   ]
  }
 ],
 "metadata": {
  "kernelspec": {
   "display_name": "pywfn",
   "language": "python",
   "name": "python3"
  },
  "language_info": {
   "codemirror_mode": {
    "name": "ipython",
    "version": 3
   },
   "file_extension": ".py",
   "mimetype": "text/x-python",
   "name": "python",
   "nbconvert_exporter": "python",
   "pygments_lexer": "ipython3",
   "version": "3.10.14"
  }
 },
 "nbformat": 4,
 "nbformat_minor": 2
}
