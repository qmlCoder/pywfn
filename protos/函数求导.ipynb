{
 "cells": [
  {
   "cell_type": "code",
   "execution_count": 12,
   "metadata": {},
   "outputs": [
    {
     "name": "stdout",
     "output_type": "stream",
     "text": [
      "dx -2*Nm*alp*x*x**l*y**m*z**n*exp(-alp*(x**2 + y**2 + z**2)) + Nm*l*x**l*y**m*z**n*exp(-alp*(x**2 + y**2 + z**2))/x\n",
      "dy -2*Nm*alp*x**l*y*y**m*z**n*exp(-alp*(x**2 + y**2 + z**2)) + Nm*m*x**l*y**m*z**n*exp(-alp*(x**2 + y**2 + z**2))/y\n",
      "dz -2*Nm*alp*x**l*y**m*z*z**n*exp(-alp*(x**2 + y**2 + z**2)) + Nm*n*x**l*y**m*z**n*exp(-alp*(x**2 + y**2 + z**2))/z\n"
     ]
    }
   ],
   "source": [
    "import sympy as sp\n",
    "import numpy as np\n",
    "\n",
    "# 定义符号\n",
    "x, y, z, Nm, l, m, n, alp = sp.symbols('x y z Nm l m n alp')\n",
    "\n",
    "# 定义函数f(x, y, z)\n",
    "f = Nm * x**l * y**m * z**n * sp.exp(-alp * (x**2 + y**2 + z**2))\n",
    "\n",
    "# 计算关于x, y, z的偏导数\n",
    "dx = sp.diff(f, x)\n",
    "dy = sp.diff(f, y)\n",
    "dz = sp.diff(f, z)\n",
    "\n",
    "subs={dx:sp.Symbol('dx'),dy:sp.Symbol('dy'),dz:sp.Symbol('dz')}\n",
    "print('dx',dx)\n",
    "print('dy',dy)\n",
    "print('dz',dz)\n"
   ]
  },
  {
   "cell_type": "code",
   "execution_count": 3,
   "metadata": {},
   "outputs": [
    {
     "name": "stdout",
     "output_type": "stream",
     "text": [
      "dxx Nm*x**(l - 2)*y**m*z**n*(2*alp*x**2*(2*alp*x**2 - 2*l - 1) + l*(l - 1))*exp(-alp*(x**2 + y**2 + z**2))\n",
      "dxy Nm*x**(l - 1)*y**(m - 1)*z**n*(4*alp**2*x**2*y**2 - 2*alp*l*y**2 - 2*alp*m*x**2 + l*m)*exp(-alp*(x**2 + y**2 + z**2))\n",
      "dxz Nm*x**(l - 1)*y**m*z**(n - 1)*(4*alp**2*x**2*z**2 - 2*alp*l*z**2 - 2*alp*n*x**2 + l*n)*exp(-alp*(x**2 + y**2 + z**2))\n",
      "dyx Nm*x**(l - 1)*y**(m - 1)*z**n*(4*alp**2*x**2*y**2 - 2*alp*l*y**2 - 2*alp*m*x**2 + l*m)*exp(-alp*(x**2 + y**2 + z**2))\n",
      "dyy Nm*x**l*y**(m - 2)*z**n*(2*alp*y**2*(2*alp*y**2 - 2*m - 1) + m*(m - 1))*exp(-alp*(x**2 + y**2 + z**2))\n",
      "dyz Nm*x**l*y**(m - 1)*z**(n - 1)*(4*alp**2*y**2*z**2 - 2*alp*m*z**2 - 2*alp*n*y**2 + m*n)*exp(-alp*(x**2 + y**2 + z**2))\n",
      "dzx Nm*x**(l - 1)*y**m*z**(n - 1)*(4*alp**2*x**2*z**2 - 2*alp*l*z**2 - 2*alp*n*x**2 + l*n)*exp(-alp*(x**2 + y**2 + z**2))\n",
      "dzy Nm*x**l*y**(m - 1)*z**(n - 1)*(4*alp**2*y**2*z**2 - 2*alp*m*z**2 - 2*alp*n*y**2 + m*n)*exp(-alp*(x**2 + y**2 + z**2))\n",
      "dzz Nm*x**l*y**m*z**(n - 2)*(2*alp*z**2*(2*alp*z**2 - 2*n - 1) + n*(n - 1))*exp(-alp*(x**2 + y**2 + z**2))\n"
     ]
    }
   ],
   "source": [
    "dxx=sp.diff(f,x,x).simplify()\n",
    "dxy=sp.diff(f,x,y).simplify()\n",
    "dxz=sp.diff(f,x,z).simplify()\n",
    "dyx=sp.diff(f,y,x).simplify()\n",
    "dyy=sp.diff(f,y,y).simplify()\n",
    "dyz=sp.diff(f,y,z).simplify()\n",
    "dzx=sp.diff(f,z,x).simplify()\n",
    "dzy=sp.diff(f,z,y).simplify()\n",
    "dzz=sp.diff(f,z,z).simplify()\n",
    "\n",
    "print('dxx',dxx)\n",
    "print('dxy',dxy)\n",
    "print('dxz',dxz)\n",
    "print('dyx',dyx)\n",
    "print('dyy',dyy)\n",
    "print('dyz',dyz)\n",
    "print('dzx',dzx)\n",
    "print('dzy',dzy)\n",
    "print('dzz',dzz)"
   ]
  },
  {
   "cell_type": "code",
   "execution_count": 5,
   "metadata": {},
   "outputs": [
    {
     "name": "stdout",
     "output_type": "stream",
     "text": [
      "dxx= Nm*y**m*z**n*(2*alp*x**2*(2*alp*x**(l + 2) - 2*l*x**l - x**l) + l*x**l*(l - 1))*exp(-alp*(x**2 + y**2 + z**2))/x**2\n",
      "dxy= Nm*z**n*(4*alp**2*x**(l + 3)*y**(m + 3) - 2*alp*l*x**(l + 1)*y**(m + 3) - 2*alp*m*x**(l + 3)*y**(m + 1) + l*m*x**(l + 1)*y**(m + 1))*exp(-alp*(x**2 + y**2 + z**2))/(x**2*y**2)\n",
      "dxz= Nm*y**m*(4*alp**2*x**(l + 3)*z**(n + 3) - 2*alp*l*x**(l + 1)*z**(n + 3) - 2*alp*n*x**(l + 3)*z**(n + 1) + l*n*x**(l + 1)*z**(n + 1))*exp(-alp*(x**2 + y**2 + z**2))/(x**2*z**2)\n",
      "dyx= Nm*z**n*(4*alp**2*x**(l + 3)*y**(m + 3) - 2*alp*l*x**(l + 1)*y**(m + 3) - 2*alp*m*x**(l + 3)*y**(m + 1) + l*m*x**(l + 1)*y**(m + 1))*exp(-alp*(x**2 + y**2 + z**2))/(x**2*y**2)\n",
      "dyy= Nm*x**l*z**n*(2*alp*y**2*(2*alp*y**(m + 2) - 2*m*y**m - y**m) + m*y**m*(m - 1))*exp(-alp*(x**2 + y**2 + z**2))/y**2\n",
      "dyz= Nm*x**l*(4*alp**2*y**(m + 3)*z**(n + 3) - 2*alp*m*y**(m + 1)*z**(n + 3) - 2*alp*n*y**(m + 3)*z**(n + 1) + m*n*y**(m + 1)*z**(n + 1))*exp(-alp*(x**2 + y**2 + z**2))/(y**2*z**2)\n",
      "dzx= Nm*y**m*(4*alp**2*x**(l + 3)*z**(n + 3) - 2*alp*l*x**(l + 1)*z**(n + 3) - 2*alp*n*x**(l + 3)*z**(n + 1) + l*n*x**(l + 1)*z**(n + 1))*exp(-alp*(x**2 + y**2 + z**2))/(x**2*z**2)\n",
      "dzy= Nm*x**l*(4*alp**2*y**(m + 3)*z**(n + 3) - 2*alp*m*y**(m + 1)*z**(n + 3) - 2*alp*n*y**(m + 3)*z**(n + 1) + m*n*y**(m + 1)*z**(n + 1))*exp(-alp*(x**2 + y**2 + z**2))/(y**2*z**2)\n",
      "dzz= Nm*x**l*y**m*(2*alp*z**2*(2*alp*z**(n + 2) - 2*n*z**n - z**n) + n*z**n*(n - 1))*exp(-alp*(x**2 + y**2 + z**2))/z**2\n"
     ]
    }
   ],
   "source": [
    "dx = sp.diff(f, x)\n",
    "dy = sp.diff(f, y)\n",
    "dz = sp.diff(f, z)\n",
    "\n",
    "dxx=sp.diff(dx,x).simplify()\n",
    "dxy=sp.diff(dx,y).simplify()\n",
    "dxz=sp.diff(dx,z).simplify()\n",
    "dyx=sp.diff(dy,x).simplify()\n",
    "dyy=sp.diff(dy,y).simplify()\n",
    "dyz=sp.diff(dy,z).simplify()\n",
    "dzx=sp.diff(dz,x).simplify()\n",
    "dzy=sp.diff(dz,y).simplify()\n",
    "dzz=sp.diff(dz,z).simplify()\n",
    "\n",
    "print('dxx=',dxx)\n",
    "print('dxy=',dxy)\n",
    "print('dxz=',dxz)\n",
    "print('dyx=',dyx)\n",
    "print('dyy=',dyy)\n",
    "print('dyz=',dyz)\n",
    "print('dzx=',dzx)\n",
    "print('dzy=',dzy)\n",
    "print('dzz=',dzz)"
   ]
  },
  {
   "cell_type": "code",
   "execution_count": 24,
   "metadata": {},
   "outputs": [],
   "source": [
    "exp=np.exp\n",
    "def f1(x,y,z,alp,l,m,n):\n",
    "    dxx = x**(l - 2)*y**m*z**n*(2*alp*x**2*(2*alp*x**2 - 2*l - 1) + l*(l - 1))*exp(-alp*(x**2 + y**2 + z**2))\n",
    "    dxy = x**(l - 1)*y**(m - 1)*z**n*(4*alp**2*x**2*y**2 - 2*alp*l*y**2 - 2*alp*m*x**2 + l*m)*exp(-alp*(x**2 + y**2 + z**2))\n",
    "    dxz = x**(l - 1)*y**m*z**(n - 1)*(4*alp**2*x**2*z**2 - 2*alp*l*z**2 - 2*alp*n*x**2 + l*n)*exp(-alp*(x**2 + y**2 + z**2))\n",
    "    dyx = x**(l - 1)*y**(m - 1)*z**n*(4*alp**2*x**2*y**2 - 2*alp*l*y**2 - 2*alp*m*x**2 + l*m)*exp(-alp*(x**2 + y**2 + z**2))\n",
    "    dyy = x**l*y**(m - 2)*z**n*(2*alp*y**2*(2*alp*y**2 - 2*m - 1) + m*(m - 1))*exp(-alp*(x**2 + y**2 + z**2))\n",
    "    dyz = x**l*y**(m - 1)*z**(n - 1)*(4*alp**2*y**2*z**2 - 2*alp*m*z**2 - 2*alp*n*y**2 + m*n)*exp(-alp*(x**2 + y**2 + z**2))\n",
    "    dzx = x**(l - 1)*y**m*z**(n - 1)*(4*alp**2*x**2*z**2 - 2*alp*l*z**2 - 2*alp*n*x**2 + l*n)*exp(-alp*(x**2 + y**2 + z**2))\n",
    "    dzy = x**l*y**(m - 1)*z**(n - 1)*(4*alp**2*y**2*z**2 - 2*alp*m*z**2 - 2*alp*n*y**2 + m*n)*exp(-alp*(x**2 + y**2 + z**2))\n",
    "    dzz = x**l*y**m*z**(n - 2)*(2*alp*z**2*(2*alp*z**2 - 2*n - 1) + n*(n - 1))*exp(-alp*(x**2 + y**2 + z**2))\n",
    "    return np.array([dxx,dxy,dxz,dyx,dyy,dyz,dzx,dzy,dzz])\n",
    "\n",
    "def f2(x,y,z,alp,l,m,n):\n",
    "    dxx= y**m*z**n*(2*alp*x**2*(2*alp*x**(l + 2) - 2*l*x**l - x**l) + l*x**l*(l - 1))*exp(-alp*(x**2 + y**2 + z**2))/x**2\n",
    "    dxy= z**n*(4*alp**2*x**(l + 3)*y**(m + 3) - 2*alp*l*x**(l + 1)*y**(m + 3) - 2*alp*m*x**(l + 3)*y**(m + 1) + l*m*x**(l + 1)*y**(m + 1))*exp(-alp*(x**2 + y**2 + z**2))/(x**2*y**2)\n",
    "    dxz= y**m*(4*alp**2*x**(l + 3)*z**(n + 3) - 2*alp*l*x**(l + 1)*z**(n + 3) - 2*alp*n*x**(l + 3)*z**(n + 1) + l*n*x**(l + 1)*z**(n + 1))*exp(-alp*(x**2 + y**2 + z**2))/(x**2*z**2)\n",
    "    dyx= z**n*(4*alp**2*x**(l + 3)*y**(m + 3) - 2*alp*l*x**(l + 1)*y**(m + 3) - 2*alp*m*x**(l + 3)*y**(m + 1) + l*m*x**(l + 1)*y**(m + 1))*exp(-alp*(x**2 + y**2 + z**2))/(x**2*y**2)\n",
    "    dyy= x**l*z**n*(2*alp*y**2*(2*alp*y**(m + 2) - 2*m*y**m - y**m) + m*y**m*(m - 1))*exp(-alp*(x**2 + y**2 + z**2))/y**2\n",
    "    dyz= x**l*(4*alp**2*y**(m + 3)*z**(n + 3) - 2*alp*m*y**(m + 1)*z**(n + 3) - 2*alp*n*y**(m + 3)*z**(n + 1) + m*n*y**(m + 1)*z**(n + 1))*exp(-alp*(x**2 + y**2 + z**2))/(y**2*z**2)\n",
    "    dzx= y**m*(4*alp**2*x**(l + 3)*z**(n + 3) - 2*alp*l*x**(l + 1)*z**(n + 3) - 2*alp*n*x**(l + 3)*z**(n + 1) + l*n*x**(l + 1)*z**(n + 1))*exp(-alp*(x**2 + y**2 + z**2))/(x**2*z**2)\n",
    "    dzy= x**l*(4*alp**2*y**(m + 3)*z**(n + 3) - 2*alp*m*y**(m + 1)*z**(n + 3) - 2*alp*n*y**(m + 3)*z**(n + 1) + m*n*y**(m + 1)*z**(n + 1))*exp(-alp*(x**2 + y**2 + z**2))/(y**2*z**2)\n",
    "    dzz= x**l*y**m*(2*alp*z**2*(2*alp*z**(n + 2) - 2*n*z**n - z**n) + n*z**n*(n - 1))*exp(-alp*(x**2 + y**2 + z**2))/z**2\n",
    "    return np.array([dxx,dxy,dxz,dyx,dyy,dyz,dzx,dzy,dzz])"
   ]
  },
  {
   "cell_type": "code",
   "execution_count": 25,
   "metadata": {},
   "outputs": [
    {
     "data": {
      "text/plain": [
       "(array([-0.0451414 ,  0.00437922,  0.91464519,  0.00437922, -0.00369011,\n",
       "         0.04280559,  0.91464519,  0.04280559, -0.11191528]),\n",
       " array([-0.0451414 ,  0.00437922,  0.91464519,  0.00437922, -0.00369011,\n",
       "         0.04280559,  0.91464519,  0.04280559, -0.11191528]))"
      ]
     },
     "execution_count": 25,
     "metadata": {},
     "output_type": "execute_result"
    }
   ],
   "source": [
    "import numpy as np\n",
    "x,y,z,alp,l,m,n=np.random.rand(7).tolist()\n",
    "f1(x,y,z,alp,l,m,n),f2(x,y,z,alp,l,m,n)"
   ]
  },
  {
   "cell_type": "code",
   "execution_count": 5,
   "metadata": {},
   "outputs": [
    {
     "name": "stdout",
     "output_type": "stream",
     "text": [
      "(x - y)**3 + (x + y)**2\n",
      "2*(-3*x + 3*y + 1)\n",
      "2*x + 2*y + 3*(x - y)**2\n",
      "-6*x + 6*y + 2\n"
     ]
    }
   ],
   "source": [
    "x,y=sp.symbols('x y')\n",
    "f=(x+y)**2+(x-y)**3\n",
    "print(f)\n",
    "print(sp.diff(f,x,y))\n",
    "dx=sp.diff(f,x)\n",
    "print(dx)\n",
    "print(sp.diff(dx,y))"
   ]
  },
  {
   "cell_type": "code",
   "execution_count": 10,
   "metadata": {},
   "outputs": [
    {
     "data": {
      "text/latex": [
       "$\\displaystyle \\Psi^{2}$"
      ],
      "text/plain": [
       "\\Psi**2"
      ]
     },
     "execution_count": 10,
     "metadata": {},
     "output_type": "execute_result"
    }
   ],
   "source": [
    "wfn=sp.symbols(r'\\Psi')\n",
    "rho=wfn**2\n",
    "rho"
   ]
  },
  {
   "cell_type": "code",
   "execution_count": 11,
   "metadata": {},
   "outputs": [
    {
     "data": {
      "text/latex": [
       "$\\displaystyle 0$"
      ],
      "text/plain": [
       "0"
      ]
     },
     "execution_count": 11,
     "metadata": {},
     "output_type": "execute_result"
    }
   ],
   "source": [
    "sp.diff(rho,x)"
   ]
  }
 ],
 "metadata": {
  "kernelspec": {
   "display_name": "pywfn",
   "language": "python",
   "name": "python3"
  },
  "language_info": {
   "codemirror_mode": {
    "name": "ipython",
    "version": 3
   },
   "file_extension": ".py",
   "mimetype": "text/x-python",
   "name": "python",
   "nbconvert_exporter": "python",
   "pygments_lexer": "ipython3",
   "version": "3.10.14"
  }
 },
 "nbformat": 4,
 "nbformat_minor": 2
}
