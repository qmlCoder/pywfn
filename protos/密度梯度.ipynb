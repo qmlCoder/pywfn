{
 "cells": [
  {
   "cell_type": "markdown",
   "metadata": {},
   "source": [
    "使用sympy推导公式\n",
    "\n",
    "> 就我这个数学水平，自己推公式太难了"
   ]
  },
  {
   "cell_type": "code",
   "execution_count": 16,
   "metadata": {},
   "outputs": [],
   "source": [
    "import sympy as sp\n",
    "sp.init_printing()"
   ]
  },
  {
   "cell_type": "markdown",
   "metadata": {},
   "source": [
    "promol 的密度及梯度"
   ]
  },
  {
   "cell_type": "code",
   "execution_count": 20,
   "metadata": {},
   "outputs": [],
   "source": [
    "x,y,z=sp.symbols('x y z')\n",
    "r=sp.sqrt(x**2+y**2+z**2)\n",
    "c,a=sp.symbols('c a')\n",
    "rho=c*sp.exp(-r/a)"
   ]
  },
  {
   "cell_type": "code",
   "execution_count": 21,
   "metadata": {},
   "outputs": [
    {
     "data": {
      "image/png": "[encoded data removed]",
      "text/latex": [
       "$\\displaystyle - \\frac{c x e^{- \\frac{\\sqrt{x^{2} + y^{2} + z^{2}}}{a}}}{a \\sqrt{x^{2} + y^{2} + z^{2}}}$"
      ],
      "text/plain": [
       "          ______________  \n",
       "         ╱  2    2    2   \n",
       "      -╲╱  x  + y  + z    \n",
       "      ─────────────────── \n",
       "               a          \n",
       "-c⋅x⋅ℯ                    \n",
       "──────────────────────────\n",
       "        ______________    \n",
       "       ╱  2    2    2     \n",
       "   a⋅╲╱  x  + y  + z      "
      ]
     },
     "execution_count": 21,
     "metadata": {},
     "output_type": "execute_result"
    }
   ],
   "source": [
    "sp.diff(rho,x)"
   ]
  },
  {
   "cell_type": "code",
   "execution_count": 7,
   "metadata": {},
   "outputs": [
    {
     "data": {
      "text/latex": [
       "$\\displaystyle - \\frac{c y e^{- \\frac{\\sqrt{x^{2} + y^{2} + z^{2}}}{a}}}{a \\sqrt{x^{2} + y^{2} + z^{2}}}$"
      ],
      "text/plain": [
       "-c*y*exp(-sqrt(x**2 + y**2 + z**2)/a)/(a*sqrt(x**2 + y**2 + z**2))"
      ]
     },
     "execution_count": 7,
     "metadata": {},
     "output_type": "execute_result"
    }
   ],
   "source": [
    "sp.diff(rho,y)"
   ]
  },
  {
   "cell_type": "code",
   "execution_count": 8,
   "metadata": {},
   "outputs": [
    {
     "data": {
      "text/latex": [
       "$\\displaystyle - \\frac{c z e^{- \\frac{\\sqrt{x^{2} + y^{2} + z^{2}}}{a}}}{a \\sqrt{x^{2} + y^{2} + z^{2}}}$"
      ],
      "text/plain": [
       "-c*z*exp(-sqrt(x**2 + y**2 + z**2)/a)/(a*sqrt(x**2 + y**2 + z**2))"
      ]
     },
     "execution_count": 8,
     "metadata": {},
     "output_type": "execute_result"
    }
   ],
   "source": [
    "sp.diff(rho,z)"
   ]
  },
  {
   "cell_type": "code",
   "execution_count": 4,
   "metadata": {},
   "outputs": [
    {
     "data": {
      "text/latex": [
       "$\\displaystyle \\frac{c \\left(\\frac{x^{2}}{\\left(x^{2} + y^{2} + z^{2}\\right)^{\\frac{3}{2}}} - \\frac{1}{\\sqrt{x^{2} + y^{2} + z^{2}}} + \\frac{x^{2}}{a \\left(x^{2} + y^{2} + z^{2}\\right)}\\right) e^{- \\frac{\\sqrt{x^{2} + y^{2} + z^{2}}}{a}}}{a}$"
      ],
      "text/plain": [
       "c*(x**2/(x**2 + y**2 + z**2)**(3/2) - 1/sqrt(x**2 + y**2 + z**2) + x**2/(a*(x**2 + y**2 + z**2)))*exp(-sqrt(x**2 + y**2 + z**2)/a)/a"
      ]
     },
     "execution_count": 4,
     "metadata": {},
     "output_type": "execute_result"
    }
   ],
   "source": [
    "sp.diff(rho,x,x)"
   ]
  },
  {
   "cell_type": "code",
   "execution_count": 5,
   "metadata": {},
   "outputs": [
    {
     "data": {
      "text/latex": [
       "$\\displaystyle \\frac{c x y \\left(\\frac{1}{\\left(x^{2} + y^{2} + z^{2}\\right)^{\\frac{3}{2}}} + \\frac{1}{a \\left(x^{2} + y^{2} + z^{2}\\right)}\\right) e^{- \\frac{\\sqrt{x^{2} + y^{2} + z^{2}}}{a}}}{a}$"
      ],
      "text/plain": [
       "c*x*y*((x**2 + y**2 + z**2)**(-3/2) + 1/(a*(x**2 + y**2 + z**2)))*exp(-sqrt(x**2 + y**2 + z**2)/a)/a"
      ]
     },
     "execution_count": 5,
     "metadata": {},
     "output_type": "execute_result"
    }
   ],
   "source": [
    "sp.diff(rho,x,y)"
   ]
  },
  {
   "cell_type": "code",
   "execution_count": 6,
   "metadata": {},
   "outputs": [
    {
     "data": {
      "text/latex": [
       "$\\displaystyle \\frac{c x z \\left(\\frac{1}{\\left(x^{2} + y^{2} + z^{2}\\right)^{\\frac{3}{2}}} + \\frac{1}{a \\left(x^{2} + y^{2} + z^{2}\\right)}\\right) e^{- \\frac{\\sqrt{x^{2} + y^{2} + z^{2}}}{a}}}{a}$"
      ],
      "text/plain": [
       "c*x*z*((x**2 + y**2 + z**2)**(-3/2) + 1/(a*(x**2 + y**2 + z**2)))*exp(-sqrt(x**2 + y**2 + z**2)/a)/a"
      ]
     },
     "execution_count": 6,
     "metadata": {},
     "output_type": "execute_result"
    }
   ],
   "source": [
    "sp.diff(rho,x,z)"
   ]
  },
  {
   "cell_type": "code",
   "execution_count": 23,
   "metadata": {},
   "outputs": [
    {
     "data": {
      "image/png": "[encoded data removed]",
      "text/latex": [
       "$\\displaystyle \\frac{c x y \\left(\\frac{1}{\\left(x^{2} + y^{2} + z^{2}\\right)^{\\frac{3}{2}}} + \\frac{1}{a \\left(x^{2} + y^{2} + z^{2}\\right)}\\right) e^{- \\frac{\\sqrt{x^{2} + y^{2} + z^{2}}}{a}}}{a}$"
      ],
      "text/plain": [
       "                                                  ______________ \n",
       "                                                 ╱  2    2    2  \n",
       "                                              -╲╱  x  + y  + z   \n",
       "                                              ───────────────────\n",
       "      ⎛        1                  1        ⎞           a         \n",
       "c⋅x⋅y⋅⎜───────────────── + ────────────────⎟⋅ℯ                   \n",
       "      ⎜              3/2     ⎛ 2    2    2⎞⎟                     \n",
       "      ⎜⎛ 2    2    2⎞      a⋅⎝x  + y  + z ⎠⎟                     \n",
       "      ⎝⎝x  + y  + z ⎠                      ⎠                     \n",
       "─────────────────────────────────────────────────────────────────\n",
       "                                a                                "
      ]
     },
     "execution_count": 23,
     "metadata": {},
     "output_type": "execute_result"
    }
   ],
   "source": [
    "sp.diff(rho,y,x)"
   ]
  },
  {
   "cell_type": "code",
   "execution_count": 24,
   "metadata": {},
   "outputs": [
    {
     "data": {
      "image/png": "[encoded data removed]",
      "text/latex": [
       "$\\displaystyle \\frac{c \\left(\\frac{y^{2}}{\\left(x^{2} + y^{2} + z^{2}\\right)^{\\frac{3}{2}}} - \\frac{1}{\\sqrt{x^{2} + y^{2} + z^{2}}} + \\frac{y^{2}}{a \\left(x^{2} + y^{2} + z^{2}\\right)}\\right) e^{- \\frac{\\sqrt{x^{2} + y^{2} + z^{2}}}{a}}}{a}$"
      ],
      "text/plain": [
       "                                                                  ____________ ↪\n",
       "                                                                 ╱  2    2     ↪\n",
       "                                                              -╲╱  x  + y  + z ↪\n",
       "  ⎛        2                                       2       ⎞  ──────────────── ↪\n",
       "  ⎜       y                    1                  y        ⎟           a       ↪\n",
       "c⋅⎜───────────────── - ───────────────── + ────────────────⎟⋅ℯ                 ↪\n",
       "  ⎜              3/2      ______________     ⎛ 2    2    2⎞⎟                   ↪\n",
       "  ⎜⎛ 2    2    2⎞        ╱  2    2    2    a⋅⎝x  + y  + z ⎠⎟                   ↪\n",
       "  ⎝⎝x  + y  + z ⎠      ╲╱  x  + y  + z                     ⎠                   ↪\n",
       "────────────────────────────────────────────────────────────────────────────── ↪\n",
       "                                        a                                      ↪\n",
       "\n",
       "↪ __ \n",
       "↪ 2  \n",
       "↪    \n",
       "↪ ───\n",
       "↪    \n",
       "↪    \n",
       "↪    \n",
       "↪    \n",
       "↪    \n",
       "↪ ───\n",
       "↪    "
      ]
     },
     "execution_count": 24,
     "metadata": {},
     "output_type": "execute_result"
    }
   ],
   "source": [
    "sp.diff(rho,y,y)"
   ]
  },
  {
   "cell_type": "code",
   "execution_count": 25,
   "metadata": {},
   "outputs": [
    {
     "data": {
      "image/png": "[encoded data removed]",
      "text/latex": [
       "$\\displaystyle \\frac{c y z \\left(\\frac{1}{\\left(x^{2} + y^{2} + z^{2}\\right)^{\\frac{3}{2}}} + \\frac{1}{a \\left(x^{2} + y^{2} + z^{2}\\right)}\\right) e^{- \\frac{\\sqrt{x^{2} + y^{2} + z^{2}}}{a}}}{a}$"
      ],
      "text/plain": [
       "                                                  ______________ \n",
       "                                                 ╱  2    2    2  \n",
       "                                              -╲╱  x  + y  + z   \n",
       "                                              ───────────────────\n",
       "      ⎛        1                  1        ⎞           a         \n",
       "c⋅y⋅z⋅⎜───────────────── + ────────────────⎟⋅ℯ                   \n",
       "      ⎜              3/2     ⎛ 2    2    2⎞⎟                     \n",
       "      ⎜⎛ 2    2    2⎞      a⋅⎝x  + y  + z ⎠⎟                     \n",
       "      ⎝⎝x  + y  + z ⎠                      ⎠                     \n",
       "─────────────────────────────────────────────────────────────────\n",
       "                                a                                "
      ]
     },
     "execution_count": 25,
     "metadata": {},
     "output_type": "execute_result"
    }
   ],
   "source": [
    "sp.diff(rho,y,z)"
   ]
  },
  {
   "cell_type": "markdown",
   "metadata": {},
   "source": [
    "高斯函数的电子密度及梯度"
   ]
  },
  {
   "cell_type": "code",
   "execution_count": 9,
   "metadata": {},
   "outputs": [
    {
     "data": {
      "text/latex": [
       "$\\displaystyle N x^{l} y^{m} z^{n} e^{- a \\left(x^{2} + y^{2} + z^{2}\\right)}$"
      ],
      "text/plain": [
       "N*x**l*y**m*z**n*exp(-a*(x**2 + y**2 + z**2))"
      ]
     },
     "execution_count": 9,
     "metadata": {},
     "output_type": "execute_result"
    }
   ],
   "source": [
    "x,y,z=sp.symbols('x y z')\n",
    "l,m,n=sp.symbols('l m n')\n",
    "r2=x**2+y**2+z**2\n",
    "c,a=sp.symbols('c a')\n",
    "N=sp.Symbol('N')\n",
    "wfn=N*x**l*y**m*z**n*sp.exp(-a*r2)\n",
    "wfn"
   ]
  },
  {
   "cell_type": "code",
   "execution_count": 10,
   "metadata": {},
   "outputs": [
    {
     "data": {
      "text/latex": [
       "$\\displaystyle - 2 N a x x^{l} y^{m} z^{n} e^{- a \\left(x^{2} + y^{2} + z^{2}\\right)} + \\frac{N l x^{l} y^{m} z^{n} e^{- a \\left(x^{2} + y^{2} + z^{2}\\right)}}{x}$"
      ],
      "text/plain": [
       "-2*N*a*x*x**l*y**m*z**n*exp(-a*(x**2 + y**2 + z**2)) + N*l*x**l*y**m*z**n*exp(-a*(x**2 + y**2 + z**2))/x"
      ]
     },
     "execution_count": 10,
     "metadata": {},
     "output_type": "execute_result"
    }
   ],
   "source": [
    "sp.diff(wfn,x)"
   ]
  },
  {
   "cell_type": "code",
   "execution_count": 11,
   "metadata": {},
   "outputs": [
    {
     "data": {
      "text/latex": [
       "$\\displaystyle - 2 N a x^{l} y y^{m} z^{n} e^{- a \\left(x^{2} + y^{2} + z^{2}\\right)} + \\frac{N m x^{l} y^{m} z^{n} e^{- a \\left(x^{2} + y^{2} + z^{2}\\right)}}{y}$"
      ],
      "text/plain": [
       "-2*N*a*x**l*y*y**m*z**n*exp(-a*(x**2 + y**2 + z**2)) + N*m*x**l*y**m*z**n*exp(-a*(x**2 + y**2 + z**2))/y"
      ]
     },
     "execution_count": 11,
     "metadata": {},
     "output_type": "execute_result"
    }
   ],
   "source": [
    "sp.diff(wfn,y)"
   ]
  },
  {
   "cell_type": "code",
   "execution_count": 12,
   "metadata": {},
   "outputs": [
    {
     "data": {
      "text/latex": [
       "$\\displaystyle N x^{l} y^{m} z^{n} \\left(- 4 a l + 2 a \\left(2 a x^{2} - 1\\right) + \\frac{l \\left(l - 1\\right)}{x^{2}}\\right) e^{- a \\left(x^{2} + y^{2} + z^{2}\\right)}$"
      ],
      "text/plain": [
       "N*x**l*y**m*z**n*(-4*a*l + 2*a*(2*a*x**2 - 1) + l*(l - 1)/x**2)*exp(-a*(x**2 + y**2 + z**2))"
      ]
     },
     "execution_count": 12,
     "metadata": {},
     "output_type": "execute_result"
    }
   ],
   "source": [
    "sp.diff(wfn,x,x)"
   ]
  },
  {
   "cell_type": "code",
   "execution_count": 13,
   "metadata": {},
   "outputs": [
    {
     "data": {
      "text/latex": [
       "$\\displaystyle N x^{l} y^{m} z^{n} \\left(4 a^{2} x y - \\frac{2 a l y}{x} - \\frac{2 a m x}{y} + \\frac{l m}{x y}\\right) e^{- a \\left(x^{2} + y^{2} + z^{2}\\right)}$"
      ],
      "text/plain": [
       "N*x**l*y**m*z**n*(4*a**2*x*y - 2*a*l*y/x - 2*a*m*x/y + l*m/(x*y))*exp(-a*(x**2 + y**2 + z**2))"
      ]
     },
     "execution_count": 13,
     "metadata": {},
     "output_type": "execute_result"
    }
   ],
   "source": [
    "sp.diff(wfn,x,y)"
   ]
  },
  {
   "cell_type": "code",
   "execution_count": 14,
   "metadata": {},
   "outputs": [
    {
     "data": {
      "text/latex": [
       "$\\displaystyle N x^{l} y^{m} z^{n} \\left(4 a^{2} x z - \\frac{2 a l z}{x} - \\frac{2 a n x}{z} + \\frac{l n}{x z}\\right) e^{- a \\left(x^{2} + y^{2} + z^{2}\\right)}$"
      ],
      "text/plain": [
       "N*x**l*y**m*z**n*(4*a**2*x*z - 2*a*l*z/x - 2*a*n*x/z + l*n/(x*z))*exp(-a*(x**2 + y**2 + z**2))"
      ]
     },
     "execution_count": 14,
     "metadata": {},
     "output_type": "execute_result"
    }
   ],
   "source": [
    "sp.diff(wfn,x,z)"
   ]
  },
  {
   "cell_type": "code",
   "execution_count": 15,
   "metadata": {},
   "outputs": [
    {
     "data": {
      "text/latex": [
       "$\\displaystyle N x^{l} y^{m} z^{n} \\left(4 a^{2} x y - \\frac{2 a l y}{x} - \\frac{2 a m x}{y} + \\frac{l m}{x y}\\right) e^{- a \\left(x^{2} + y^{2} + z^{2}\\right)}$"
      ],
      "text/plain": [
       "N*x**l*y**m*z**n*(4*a**2*x*y - 2*a*l*y/x - 2*a*m*x/y + l*m/(x*y))*exp(-a*(x**2 + y**2 + z**2))"
      ]
     },
     "execution_count": 15,
     "metadata": {},
     "output_type": "execute_result"
    }
   ],
   "source": [
    "sp.diff(wfn,y,x)"
   ]
  }
 ],
 "metadata": {
  "kernelspec": {
   "display_name": "pywfn",
   "language": "python",
   "name": "python3"
  },
  "language_info": {
   "codemirror_mode": {
    "name": "ipython",
    "version": 3
   },
   "file_extension": ".py",
   "mimetype": "text/x-python",
   "name": "python",
   "nbconvert_exporter": "python",
   "pygments_lexer": "ipython3",
   "version": "3.10.14"
  }
 },
 "nbformat": 4,
 "nbformat_minor": 2
}
