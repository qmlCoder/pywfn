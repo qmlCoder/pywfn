{
 "cells": [
  {
   "cell_type": "markdown",
   "metadata": {},
   "source": [
    "使用sympy推导公式"
   ]
  },
  {
   "cell_type": "code",
   "execution_count": 1,
   "metadata": {},
   "outputs": [],
   "source": [
    "import sympy as sp"
   ]
  },
  {
   "cell_type": "markdown",
   "metadata": {},
   "source": [
    "promol 的密度及梯度"
   ]
  },
  {
   "cell_type": "code",
   "execution_count": 12,
   "metadata": {},
   "outputs": [],
   "source": [
    "x,y,z=sp.symbols('x y z')\n",
    "r=sp.sqrt(x**2+y**2+z**2)\n",
    "c,a=sp.symbols('c a')\n",
    "rho=c*sp.exp(-r/a)"
   ]
  },
  {
   "cell_type": "code",
   "execution_count": 13,
   "metadata": {},
   "outputs": [
    {
     "data": {
      "text/latex": [
       "$\\displaystyle - \\frac{c x e^{- \\frac{\\sqrt{x^{2} + y^{2} + z^{2}}}{a}}}{a \\sqrt{x^{2} + y^{2} + z^{2}}}$"
      ],
      "text/plain": [
       "-c*x*exp(-sqrt(x**2 + y**2 + z**2)/a)/(a*sqrt(x**2 + y**2 + z**2))"
      ]
     },
     "execution_count": 13,
     "metadata": {},
     "output_type": "execute_result"
    }
   ],
   "source": [
    "sp.diff(rho,x)"
   ]
  },
  {
   "cell_type": "markdown",
   "metadata": {},
   "source": [
    "高斯函数的电子密度及梯度"
   ]
  },
  {
   "cell_type": "code",
   "execution_count": 21,
   "metadata": {},
   "outputs": [
    {
     "data": {
      "text/latex": [
       "$\\displaystyle N x^{l} y^{m} z^{n} e^{- a \\left(x^{2} + y^{2} + z^{2}\\right)}$"
      ],
      "text/plain": [
       "N*x**l*y**m*z**n*exp(-a*(x**2 + y**2 + z**2))"
      ]
     },
     "execution_count": 21,
     "metadata": {},
     "output_type": "execute_result"
    }
   ],
   "source": [
    "x,y,z=sp.symbols('x y z')\n",
    "l,m,n=sp.symbols('l m n')\n",
    "r2=x**2+y**2+z**2\n",
    "c,a=sp.symbols('c a')\n",
    "N=sp.Symbol('N')\n",
    "wfn=N*x**l*y**m*z**n*sp.exp(-a*r2)\n",
    "wfn"
   ]
  },
  {
   "cell_type": "code",
   "execution_count": 22,
   "metadata": {},
   "outputs": [
    {
     "data": {
      "text/latex": [
       "$\\displaystyle - 2 N a x x^{l} y^{m} z^{n} e^{- a \\left(x^{2} + y^{2} + z^{2}\\right)} + \\frac{N l x^{l} y^{m} z^{n} e^{- a \\left(x^{2} + y^{2} + z^{2}\\right)}}{x}$"
      ],
      "text/plain": [
       "-2*N*a*x*x**l*y**m*z**n*exp(-a*(x**2 + y**2 + z**2)) + N*l*x**l*y**m*z**n*exp(-a*(x**2 + y**2 + z**2))/x"
      ]
     },
     "execution_count": 22,
     "metadata": {},
     "output_type": "execute_result"
    }
   ],
   "source": [
    "sp.diff(wfn,x)"
   ]
  },
  {
   "cell_type": "code",
   "execution_count": 23,
   "metadata": {},
   "outputs": [
    {
     "data": {
      "text/latex": [
       "$\\displaystyle 0$"
      ],
      "text/plain": [
       "0"
      ]
     },
     "execution_count": 23,
     "metadata": {},
     "output_type": "execute_result"
    }
   ],
   "source": [
    "v1,v2,v3=sp.symbols('v1 v2 v3')\n",
    "rho=(v1+v2+v3)**2\n",
    "sp.diff(rho,x)"
   ]
  }
 ],
 "metadata": {
  "kernelspec": {
   "display_name": "pywfn",
   "language": "python",
   "name": "python3"
  },
  "language_info": {
   "codemirror_mode": {
    "name": "ipython",
    "version": 3
   },
   "file_extension": ".py",
   "mimetype": "text/x-python",
   "name": "python",
   "nbconvert_exporter": "python",
   "pygments_lexer": "ipython3",
   "version": "3.10.14"
  }
 },
 "nbformat": 4,
 "nbformat_minor": 2
}
