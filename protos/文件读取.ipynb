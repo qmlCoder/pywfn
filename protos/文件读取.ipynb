{
 "cells": [
  {
   "cell_type": "markdown",
   "metadata": {},
   "source": [
    "> 测试各种文件读取器"
   ]
  },
  {
   "cell_type": "code",
   "execution_count": 1,
   "metadata": {},
   "outputs": [],
   "source": [
    "import sys\n",
    "sys.path.append('d:/code/pywfn')\n",
    "from pywfn.base import Mol"
   ]
  },
  {
   "cell_type": "code",
   "execution_count": 2,
   "metadata": {},
   "outputs": [],
   "source": [
    "root='D:/gfile/pywfn'"
   ]
  },
  {
   "cell_type": "markdown",
   "metadata": {},
   "source": [
    "## log文件"
   ]
  },
  {
   "cell_type": "code",
   "execution_count": 3,
   "metadata": {},
   "outputs": [],
   "source": [
    "from pywfn.reader import LogReader"
   ]
  },
  {
   "cell_type": "code",
   "execution_count": 4,
   "metadata": {},
   "outputs": [
    {
     "data": {
      "text/plain": [
       "array([[ 2.0569, -0.0692,  0.    , ...,  0.    ,  0.0235,  0.034 ],\n",
       "       [-0.0692,  0.3264,  0.    , ...,  0.    , -0.0466, -0.0596],\n",
       "       [ 0.    ,  0.    ,  0.3509, ...,  0.    ,  0.    ,  0.    ],\n",
       "       ...,\n",
       "       [ 0.    ,  0.    ,  0.    , ...,  0.0005,  0.    ,  0.    ],\n",
       "       [ 0.0235, -0.0466,  0.    , ...,  0.    ,  0.2049,  0.1353],\n",
       "       [ 0.034 , -0.0596,  0.    , ...,  0.    ,  0.1353,  0.101 ]])"
      ]
     },
     "execution_count": 4,
     "metadata": {},
     "output_type": "execute_result"
    }
   ],
   "source": [
    "path=f'{root}/HCCH.out'\n",
    "reader=LogReader(path)\n",
    "mol=Mol(reader)\n",
    "mol.PM"
   ]
  },
  {
   "cell_type": "markdown",
   "metadata": {},
   "source": [
    "## fch/fchk文件"
   ]
  },
  {
   "cell_type": "code",
   "execution_count": 5,
   "metadata": {},
   "outputs": [],
   "source": [
    "from pywfn.reader import FchReader"
   ]
  },
  {
   "cell_type": "code",
   "execution_count": 6,
   "metadata": {},
   "outputs": [],
   "source": [
    "path=f'{root}/HCCH.fch'\n",
    "reader=FchReader(path)\n",
    "DM=reader.get_DM()"
   ]
  },
  {
   "cell_type": "code",
   "execution_count": 7,
   "metadata": {},
   "outputs": [
    {
     "data": {
      "text/plain": [
       "array([[ 2.0569, -0.0692,  0.    , ..., -0.    ,  0.0235,  0.034 ],\n",
       "       [-0.0692,  0.3264,  0.    , ...,  0.    , -0.0466, -0.0596],\n",
       "       [ 0.    ,  0.    ,  0.3509, ...,  0.    ,  0.    ,  0.    ],\n",
       "       ...,\n",
       "       [-0.    ,  0.    ,  0.    , ...,  0.0005,  0.    ,  0.    ],\n",
       "       [ 0.0235, -0.0466,  0.    , ...,  0.    ,  0.2049,  0.1353],\n",
       "       [ 0.034 , -0.0596,  0.    , ...,  0.    ,  0.1353,  0.101 ]])"
      ]
     },
     "execution_count": 7,
     "metadata": {},
     "output_type": "execute_result"
    }
   ],
   "source": [
    "DM"
   ]
  },
  {
   "cell_type": "code",
   "execution_count": 8,
   "metadata": {},
   "outputs": [
    {
     "data": {
      "text/plain": [
       "array([[ 0.7015,  0.7023, -0.1748, ..., -0.0686, -0.2918, -0.3697],\n",
       "       [ 0.0339,  0.0355,  0.3299, ...,  1.1405,  2.4225,  1.5503],\n",
       "       [ 0.    ,  0.    ,  0.    , ...,  0.    ,  0.    ,  0.    ],\n",
       "       ...,\n",
       "       [ 0.    ,  0.    ,  0.    , ...,  0.    ,  0.    ,  0.    ],\n",
       "       [-0.0008,  0.0008,  0.077 , ...,  0.427 ,  0.2793, -0.4146],\n",
       "       [ 0.0014,  0.0003, -0.0087, ..., -0.5056, -0.3369, -0.1291]])"
      ]
     },
     "execution_count": 8,
     "metadata": {},
     "output_type": "execute_result"
    }
   ],
   "source": [
    "reader.get_CM()"
   ]
  },
  {
   "cell_type": "code",
   "execution_count": 9,
   "metadata": {},
   "outputs": [
    {
     "data": {
      "text/plain": [
       "array([[ 0.7015,  0.7023, -0.1748, ..., -0.0686, -0.2918, -0.3697],\n",
       "       [ 0.0339,  0.0355,  0.3299, ...,  1.1405,  2.4225,  1.5503],\n",
       "       [ 0.    ,  0.    ,  0.    , ...,  0.    ,  0.    ,  0.    ],\n",
       "       ...,\n",
       "       [ 0.    ,  0.    ,  0.    , ...,  0.    ,  0.    ,  0.    ],\n",
       "       [-0.0008,  0.0008,  0.077 , ...,  0.427 ,  0.2793, -0.4146],\n",
       "       [ 0.0014,  0.0003, -0.0087, ..., -0.5056, -0.3369, -0.1291]])"
      ]
     },
     "execution_count": 9,
     "metadata": {},
     "output_type": "execute_result"
    }
   ],
   "source": [
    "mol.CM"
   ]
  },
  {
   "cell_type": "code",
   "execution_count": 10,
   "metadata": {},
   "outputs": [
    {
     "data": {
      "text/plain": [
       "array([[ 0.0278, -0.012 ,  0.2473, ...,  0.    ,  0.    ,  0.    ],\n",
       "       [ 0.133 , -0.0181, -0.0129, ...,  0.    ,  0.    ,  0.    ],\n",
       "       [ 0.    ,  0.    ,  0.    , ...,  0.2712,  0.0474,  0.7969],\n",
       "       ...,\n",
       "       [ 0.    ,  0.    ,  0.    , ...,  0.    ,  0.    ,  0.    ],\n",
       "       [ 0.0419,  0.2323,  0.2126, ...,  0.    ,  0.    ,  0.    ],\n",
       "       [ 0.0778,  0.195 ,  0.0155, ...,  0.    ,  0.    ,  0.    ]])"
      ]
     },
     "execution_count": 10,
     "metadata": {},
     "output_type": "execute_result"
    }
   ],
   "source": [
    "reader.get_OB()"
   ]
  },
  {
   "cell_type": "code",
   "execution_count": 12,
   "metadata": {},
   "outputs": [
    {
     "data": {
      "text/plain": [
       "array([[1.    , 0.2191, 0.    , ..., 0.    , 0.    , 0.0101],\n",
       "       [0.2191, 1.    , 0.    , ..., 0.    , 0.0041, 0.0838],\n",
       "       [0.    , 0.    , 1.    , ..., 0.    , 0.    , 0.    ],\n",
       "       ...,\n",
       "       [0.    , 0.    , 0.    , ..., 1.    , 0.    , 0.    ],\n",
       "       [0.    , 0.0041, 0.    , ..., 0.    , 1.    , 0.6583],\n",
       "       [0.0101, 0.0838, 0.    , ..., 0.    , 0.6583, 1.    ]])"
      ]
     },
     "execution_count": 12,
     "metadata": {},
     "output_type": "execute_result"
    }
   ],
   "source": [
    "mol.SM"
   ]
  }
 ],
 "metadata": {
  "kernelspec": {
   "display_name": "pywfn",
   "language": "python",
   "name": "python3"
  },
  "language_info": {
   "codemirror_mode": {
    "name": "ipython",
    "version": 3
   },
   "file_extension": ".py",
   "mimetype": "text/x-python",
   "name": "python",
   "nbconvert_exporter": "python",
   "pygments_lexer": "ipython3",
   "version": "3.10.14"
  }
 },
 "nbformat": 4,
 "nbformat_minor": 2
}
