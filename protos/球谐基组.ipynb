{
 "cells": [
  {
   "cell_type": "code",
   "execution_count": 1,
   "metadata": {},
   "outputs": [
    {
     "name": "stdout",
     "output_type": "stream",
     "text": [
      "动态链接库目录 d:\\code\\pywfn\\pywfn\\libs\n",
      "当前系统:windows, 动态链接库目录d:\\code\\pywfn\\pywfn\\libs\n"
     ]
    }
   ],
   "source": [
    "import sys;sys.path.append('d:/code/pywfn')\n",
    "from pywfn.base import Mol\n",
    "from pywfn.reader import LogReader\n",
    "from pywfn.data import bastrans"
   ]
  },
  {
   "cell_type": "code",
   "execution_count": 3,
   "metadata": {},
   "outputs": [],
   "source": [
    "d5mol=Mol(LogReader(\"D:/gfile/pywfn/5d6d/ch4_5d.out\"))\n",
    "d6mol=Mol(LogReader(\"D:/gfile/pywfn/5d6d/ch4_6d.out\"))"
   ]
  },
  {
   "cell_type": "code",
   "execution_count": null,
   "metadata": {},
   "outputs": [],
   "source": [
    "reader=LogReader(\"D:/gfile/pywfn/5d6d/ch4_5d.out\")\n",
    "atms,shls,syms,engs,occs,CM=reader.read_CMs()\n",
    "print(len(atms),atms)\n",
    "print(len(shls),shls)\n",
    "print(len(syms),syms)\n",
    "print(CM.shape)"
   ]
  },
  {
   "cell_type": "code",
   "execution_count": 15,
   "metadata": {},
   "outputs": [
    {
     "data": {
      "text/plain": [
       "(6, 5)"
      ]
     },
     "execution_count": 15,
     "metadata": {},
     "output_type": "execute_result"
    }
   ],
   "source": [
    "bastrans.DMat.shape"
   ]
  },
  {
   "cell_type": "code",
   "execution_count": 30,
   "metadata": {},
   "outputs": [
    {
     "data": {
      "text/plain": [
       "((22, 22), (23, 23))"
      ]
     },
     "execution_count": 30,
     "metadata": {},
     "output_type": "execute_result"
    }
   ],
   "source": [
    "d5mol.CM.shape,d6mol.CM.shape"
   ]
  },
  {
   "cell_type": "code",
   "execution_count": 31,
   "metadata": {},
   "outputs": [
    {
     "data": {
      "text/plain": [
       "[9, 10, 11, 12, 13]"
      ]
     },
     "execution_count": 31,
     "metadata": {},
     "output_type": "execute_result"
    }
   ],
   "source": [
    "d5mol.obtSyms\n",
    "idxs=[idx for idx,sym in enumerate(d5mol.obtSyms) if sym[0]=='D']\n",
    "idxs"
   ]
  },
  {
   "cell_type": "code",
   "execution_count": 32,
   "metadata": {},
   "outputs": [
    {
     "data": {
      "text/plain": [
       "(6, 5)"
      ]
     },
     "execution_count": 32,
     "metadata": {},
     "output_type": "execute_result"
    }
   ],
   "source": [
    "bastrans.DMat.shape"
   ]
  },
  {
   "cell_type": "code",
   "execution_count": 33,
   "metadata": {},
   "outputs": [
    {
     "data": {
      "text/plain": [
       "(5, 22)"
      ]
     },
     "execution_count": 33,
     "metadata": {},
     "output_type": "execute_result"
    }
   ],
   "source": [
    "d5mol.CM[idxs,:].copy().shape"
   ]
  },
  {
   "cell_type": "code",
   "execution_count": 34,
   "metadata": {},
   "outputs": [
    {
     "data": {
      "text/plain": [
       "(6, 22)"
      ]
     },
     "execution_count": 34,
     "metadata": {},
     "output_type": "execute_result"
    }
   ],
   "source": [
    "transD=bastrans.DMat@d5mol.CM[idxs,:].copy()\n",
    "transD.shape"
   ]
  },
  {
   "cell_type": "code",
   "execution_count": 35,
   "metadata": {},
   "outputs": [
    {
     "data": {
      "text/plain": [
       "array([[ 0.    ,  0.    ,  0.    ,  0.    ,  0.    ,  0.    ,  0.    ,\n",
       "         0.    ,  0.    ,  0.    ,  0.    ,  0.    ,  0.    ,  0.    ,\n",
       "         0.    ,  0.    ,  0.    , -0.5147,  0.8573,  0.    ,  0.    ,\n",
       "         0.    ],\n",
       "       [ 0.    ,  0.    ,  0.    , -0.0223,  0.    ,  0.    ,  0.    ,\n",
       "         0.0172,  0.    ,  0.0852,  0.    ,  0.    ,  0.    , -0.1818,\n",
       "         0.    ,  0.    ,  0.    , -0.4999, -0.0086,  0.    ,  0.    ,\n",
       "        -0.991 ],\n",
       "       [ 0.    ,  0.    ,  0.    ,  0.    ,  0.    ,  0.    ,  0.    ,\n",
       "         0.    ,  0.    ,  0.    ,  0.    ,  0.    ,  0.    ,  0.    ,\n",
       "         0.    ,  0.    ,  0.    ,  0.9999,  0.0171,  0.    ,  0.    ,\n",
       "         0.    ],\n",
       "       [ 0.    ,  0.    ,  0.    ,  0.0257,  0.    ,  0.    ,  0.    ,\n",
       "        -0.0199,  0.    , -0.0984,  0.    ,  0.    ,  0.    ,  0.21  ,\n",
       "         0.    ,  0.    ,  0.    ,  0.    ,  0.    ,  0.    ,  0.    ,\n",
       "         1.1443],\n",
       "       [ 0.    ,  0.    ,  0.    ,  0.    ,  0.0257,  0.    , -0.0199,\n",
       "         0.    ,  0.    ,  0.    , -0.0984,  0.    ,  0.21  ,  0.    ,\n",
       "         0.    ,  0.    ,  0.    ,  0.    ,  0.    ,  1.1443,  0.    ,\n",
       "         0.    ],\n",
       "       [ 0.    ,  0.    ,  0.0257,  0.    ,  0.    ,  0.    ,  0.    ,\n",
       "         0.    , -0.0199,  0.    ,  0.    , -0.0984,  0.    ,  0.    ,\n",
       "         0.21  ,  0.    ,  0.    ,  0.    ,  0.    ,  0.    ,  1.1443,\n",
       "         0.    ]])"
      ]
     },
     "execution_count": 35,
     "metadata": {},
     "output_type": "execute_result"
    }
   ],
   "source": [
    "transD"
   ]
  },
  {
   "cell_type": "code",
   "execution_count": 39,
   "metadata": {},
   "outputs": [
    {
     "data": {
      "text/plain": [
       "(6, 23)"
      ]
     },
     "execution_count": 39,
     "metadata": {},
     "output_type": "execute_result"
    }
   ],
   "source": [
    "d6mol.CM\n",
    "d6mol.obtSyms\n",
    "idxs=[idx for idx,sym in enumerate(d6mol.obtSyms) if sym in ['XX','YY','ZZ','XY','XZ','YZ']]\n",
    "d6mol.CM[idxs,:].shape"
   ]
  },
  {
   "cell_type": "code",
   "execution_count": 8,
   "metadata": {},
   "outputs": [
    {
     "data": {
      "text/plain": [
       "['S',\n",
       " 'S',\n",
       " 'PX',\n",
       " 'PY',\n",
       " 'PZ',\n",
       " 'S',\n",
       " 'PX',\n",
       " 'PY',\n",
       " 'PZ',\n",
       " 'XX',\n",
       " 'YY',\n",
       " 'ZZ',\n",
       " 'XY',\n",
       " 'XZ',\n",
       " 'YZ',\n",
       " 'S',\n",
       " 'S',\n",
       " 'S',\n",
       " 'S',\n",
       " 'S',\n",
       " 'S',\n",
       " 'S',\n",
       " 'S']"
      ]
     },
     "execution_count": 8,
     "metadata": {},
     "output_type": "execute_result"
    }
   ],
   "source": [
    "d6mol.obtSyms"
   ]
  }
 ],
 "metadata": {
  "kernelspec": {
   "display_name": "pywfn",
   "language": "python",
   "name": "python3"
  },
  "language_info": {
   "codemirror_mode": {
    "name": "ipython",
    "version": 3
   },
   "file_extension": ".py",
   "mimetype": "text/x-python",
   "name": "python",
   "nbconvert_exporter": "python",
   "pygments_lexer": "ipython3",
   "version": "3.10.14"
  }
 },
 "nbformat": 4,
 "nbformat_minor": 2
}
