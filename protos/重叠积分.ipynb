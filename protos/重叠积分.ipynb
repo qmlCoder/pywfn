{
 "cells": [
  {
   "cell_type": "markdown",
   "metadata": {},
   "source": [
    "> 计算两个基函数之间的重叠积分"
   ]
  },
  {
   "cell_type": "code",
   "execution_count": 2,
   "metadata": {},
   "outputs": [],
   "source": [
    "import numpy as np\n",
    "import sympy as sp"
   ]
  },
  {
   "cell_type": "code",
   "execution_count": 7,
   "metadata": {},
   "outputs": [
    {
     "name": "stdout",
     "output_type": "stream",
     "text": [
      "x**l_1*y**m_1*z**n_1*exp(-α_1*(x**2 + y**2 + z**2))\n",
      "x**l_2*y**m_2*z**n_2*exp(-α_2*(x**2 + y**2 + z**2))\n"
     ]
    }
   ],
   "source": [
    "x, y, z= sp.symbols('x y z')\n",
    "l1, m1, n1, a1 = sp.symbols('l_1 m_1 n_1 α_1')\n",
    "l2, m2, n2, a2 = sp.symbols('l_2 m_2 n_2 α_2')\n",
    "\n",
    "f1=x**l1*y**m1*z**n1*sp.exp(-a1*(x**2+y**2+z**2))\n",
    "f2=x**l2*y**m2*z**n2*sp.exp(-a2*(x**2+y**2+z**2))\n",
    "print(f1)\n",
    "print(f2)"
   ]
  },
  {
   "cell_type": "code",
   "execution_count": null,
   "metadata": {},
   "outputs": [],
   "source": [
    "def overlap(\n",
    "    pa:np.ndarray, pb:np.ndarray,\n",
    "    alp1:float, alp2:float,\n",
    "    lmn1:list[int],lmn2:list[int]\n",
    "):\n",
    "    p=(alp1*pa+alp2*pb)/(alp1+alp2)\n",
    "    beta=alp1+alp2\n",
    "    l1,m1,n1=lmn1\n",
    "    l2,m2,n2=lmn2\n",
    "    l=l1+l2\n",
    "    m=m1+m2\n",
    "    n=n1+n2\n",
    "    beta=alp1+alp2\n",
    "    dab=np.linalg.norm(pa-pb)"
   ]
  },
  {
   "cell_type": "code",
   "execution_count": null,
   "metadata": {},
   "outputs": [],
   "source": []
  }
 ],
 "metadata": {
  "kernelspec": {
   "display_name": "pywfn",
   "language": "python",
   "name": "python3"
  },
  "language_info": {
   "codemirror_mode": {
    "name": "ipython",
    "version": 3
   },
   "file_extension": ".py",
   "mimetype": "text/x-python",
   "name": "python",
   "nbconvert_exporter": "python",
   "pygments_lexer": "ipython3",
   "version": "3.10.16"
  }
 },
 "nbformat": 4,
 "nbformat_minor": 2
}
