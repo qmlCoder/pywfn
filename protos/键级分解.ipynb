{
 "cells": [
  {
   "cell_type": "markdown",
   "metadata": {},
   "source": [
    "## 研究分解键级"
   ]
  },
  {
   "cell_type": "code",
   "execution_count": null,
   "metadata": {},
   "outputs": [
    {
     "name": "stdout",
     "output_type": "stream",
     "text": [
      "动态链接库目录 d:\\code\\pywfn\\pywfn\\libs\n",
      "当前系统:windows\n"
     ]
    }
   ],
   "source": [
    "import sys\n",
    "sys.path.append('d:/code/pywfn')\n",
    "from pywfn.base import Mole\n",
    "from pywfn.reader import LogReader\n",
    "from pywfn.atomprop import direction\n",
    "import numpy as np\n",
    "from collections import defaultdict\n",
    "import matplotlib.pyplot as plt\n",
    "import pandas as pd\n",
    "from pywfn.bondprop import order\n",
    "from pywfn.maths import CM2PM\n",
    "from pywfn.maths.mol import projCM"
   ]
  },
  {
   "cell_type": "code",
   "execution_count": 113,
   "metadata": {},
   "outputs": [],
   "source": [
    "def gtf(grid,l,m,n)->np.ndarray:\n",
    "    x=grid[:,0]\n",
    "    y=grid[:,1]\n",
    "    z=grid[:,2]\n",
    "    r2=x**2+y**2+z**2\n",
    "    alp=2.0\n",
    "    facs=[1,1,3]\n",
    "    fac=facs[l]*facs[m]*facs[n]\n",
    "    ang=l+m+n\n",
    "    Nm=(2*alp/np.pi)**(3/4)*np.sqrt((4*alp)**ang/fac)\n",
    "    val=x**l * y**m * z**n * np.exp(-alp*r2)*Nm\n",
    "    return val\n",
    "\n",
    "\n",
    "def decomOrbitals(T:np.ndarray,coefs:np.ndarray,keeps:list):\n",
    "    match len(coefs):\n",
    "        case 1:\n",
    "            return decomOrbitalS(T,coefs,keeps)\n",
    "        case 3:\n",
    "            return decomOrbitalP(T,coefs,keeps)\n",
    "        case 6:\n",
    "            return decomOrbitalD(T,coefs,keeps)\n",
    "        case _:\n",
    "            return coefs\n",
    "\n",
    "def decomOrbitalS(T:np.ndarray,coefs:np.ndarray,keeps:list[int]):\n",
    "    if keeps:\n",
    "        return coefs\n",
    "    else:\n",
    "        return np.array([0.])\n",
    "\n",
    "# 分解P轨道\n",
    "def decomOrbitalP(T:np.ndarray,rcoefs:np.ndarray,keeps:list[int])->np.ndarray:\n",
    "    \"\"\"分解P轨道\n",
    "\n",
    "    Args:\n",
    "        T (np.ndarray): 基坐标，每一行代表一个方向\n",
    "        rcoefs (np.ndarray): 原始函数空间的基函数系数\n",
    "        keeps (list[int]): 保留的角动量\n",
    "\n",
    "    Returns:\n",
    "        np.ndarray: 分解之后的轨道系数\n",
    "    \"\"\"\n",
    "    npos=3\n",
    "    cords=np.random.rand(npos,3) #随机生成3个点[n,3],[3,3]\n",
    "    # cords=np.eye(3) #固定生成6个点\n",
    "    wfn_1=np.zeros(shape=(npos,3)) #再这些点上的波函数数值\n",
    "    wfn_1[:,0]=gtf(cords,1,0,0)\n",
    "    wfn_1[:,1]=gtf(cords,0,1,0)\n",
    "    wfn_1[:,2]=gtf(cords,0,0,1)\n",
    "\n",
    "    wfn_2=np.zeros(shape=(npos,3))\n",
    "    wfn_2[:,0]=gtf(cords@T,1,0,0)\n",
    "    wfn_2[:,1]=gtf(cords@T,0,1,0)\n",
    "    wfn_2[:,2]=gtf(cords@T,0,0,1)\n",
    "\n",
    "    Mr=np.linalg.inv(wfn_2)@wfn_1\n",
    "    Mi=np.linalg.inv(Mr)\n",
    "    tcoefs=Mr@rcoefs # 根据函数空间基组1下的系数获取函数空间基组2下的系数\n",
    "    for i in range(3):\n",
    "        if i in keeps:continue\n",
    "        tcoefs[i]=0.0\n",
    "    fcoefs=Mi@tcoefs # 根据修改后的函数空间基组2下的系数得到函数空间基组1下的系数\n",
    "    return fcoefs\n",
    "\n",
    "# # 分解D轨道\n",
    "# def decomOrbitalD(T:np.ndarray,rcoefs:np.ndarray,keeps:list[int]):\n",
    "#     # return rcoefs\n",
    "#     M=np.array([\n",
    "#         [T[0,0]**2, T[0,0]*T[0,1], T[0,0]*T[0,2], T[0,1]**2, T[0,1]*T[0,2], T[0,2]**2],\n",
    "#         [T[1,0]**2, T[1,0]*T[1,1], T[1,0]*T[1,2], T[1,1]**2, T[1,1]*T[1,2], T[1,2]**2],\n",
    "#         [T[2,0]**2, T[2,0]*T[2,1], T[2,0]*T[2,2], T[2,1]**2, T[2,1]*T[2,2], T[2,2]**2],\n",
    "#         [2*T[0,0]*T[1,0], (T[0,0]*T[1,1]+T[0,1]*T[1,0]), (T[0,0]*T[1,2]+T[0,2]*T[1,2]), 2*T[0,1]*T[1,1], (T[0,1]*T[1,2]+T[0,2]*T[1,1]), 2*T[0,2]*T[1,2]],\n",
    "#         [2*T[0,0]*T[2,0], (T[0,0]*T[2,1]+T[0,1]*T[2,0]), (T[0,0]*T[2,2]+T[0,2]*T[2,0]), 2*T[0,1]*T[2,1], (T[0,1]*T[2,2]+T[0,2]*T[2,1]), 2*T[0,2]*T[2,2]],\n",
    "#         [2*T[1,0]*T[2,0], (T[1,0]*T[2,1]+T[1,1]*T[2,0]), (T[1,0]*T[2,2]+T[1,2]*T[2,0]), 2*T[1,1]*T[2,1], (T[1,1]*T[2,2]+T[1,2]*T[2,1]), 2*T[1,2]*T[2,2]],\n",
    "#     ])\n",
    "#     npos=6\n",
    "#     cords=np.random.rand(npos,3) #随机生成6个点\n",
    "#     # cords=np.eye(6) #固定生成6个点\n",
    "#     f11=lambda cords:gtf(cords,2,0,0)\n",
    "#     f12=lambda cords:gtf(cords,0,2,0)\n",
    "#     f13=lambda cords:gtf(cords,0,0,2)\n",
    "#     f14=lambda cords:gtf(cords,1,1,0)\n",
    "#     f15=lambda cords:gtf(cords,1,0,1)\n",
    "#     f16=lambda cords:gtf(cords,0,1,1)\n",
    "#     f1s=[f11,f12,f13,f14,f15,f16]\n",
    "#     f21=lambda cords:gtf(cords@T,2,0,0)\n",
    "#     f22=lambda cords:gtf(cords@T,0,2,0)\n",
    "#     f23=lambda cords:gtf(cords@T,0,0,2)\n",
    "#     f24=lambda cords:gtf(cords@T,1,1,0)\n",
    "#     f25=lambda cords:gtf(cords@T,1,0,1)\n",
    "#     f26=lambda cords:gtf(cords@T,0,1,1)\n",
    "#     f2s=[f21,f22,f23,f24,f25,f26]\n",
    "#     wfn_1=np.zeros(shape=(npos,6))\n",
    "#     wfn_2=np.zeros(shape=(npos,6))\n",
    "#     for i in range(6):\n",
    "#         wfn_1[:,i]=f1s[i](cords)\n",
    "#         wfn_2[:,i]=f2s[i](cords@T)\n",
    "\n",
    "#     Mr=np.linalg.inv(wfn_2)@wfn_1\n",
    "#     Mi=np.linalg.inv(Mr)\n",
    "#     tcoefs=Mr@rcoefs\n",
    "#     for i in range(6):\n",
    "#         if i in keeps:continue\n",
    "#         tcoefs[i]=0.0\n",
    "    \n",
    "#     fcoefs=Mi@tcoefs\n",
    "#     print(f'{tcoefs}->{fcoefs}')\n",
    "#     randP=np.random.rand(2,3)\n",
    "#     v1=sum([c*f(randP) for c,f in zip(fcoefs,f1s)])\n",
    "#     v2=sum([c*f(randP@T) for c,f in zip(tcoefs,f2s)])\n",
    "#     print(f'{v1}->{v2}')\n",
    "#     return fcoefs\n",
    "\n",
    "def decomOrbitalD(T:np.ndarray,rcoefs:np.ndarray,keeps:list[int]):\n",
    "    M=np.array([\n",
    "        [T[0,0]**2, T[0,0]*T[0,1], T[0,0]*T[0,2], T[0,1]**2, T[0,1]*T[0,2], T[0,2]**2],\n",
    "        [T[1,0]**2, T[1,0]*T[1,1], T[1,0]*T[1,2], T[1,1]**2, T[1,1]*T[1,2], T[1,2]**2],\n",
    "        [T[2,0]**2, T[2,0]*T[2,1], T[2,0]*T[2,2], T[2,1]**2, T[2,1]*T[2,2], T[2,2]**2],\n",
    "        [2*T[0,0]*T[1,0], (T[0,0]*T[1,1]+T[0,1]*T[1,0]), (T[0,0]*T[1,2]+T[0,2]*T[1,2]), 2*T[0,1]*T[1,1], (T[0,1]*T[1,2]+T[0,2]*T[1,1]), 2*T[0,2]*T[1,2]],\n",
    "        [2*T[0,0]*T[2,0], (T[0,0]*T[2,1]+T[0,1]*T[2,0]), (T[0,0]*T[2,2]+T[0,2]*T[2,0]), 2*T[0,1]*T[2,1], (T[0,1]*T[2,2]+T[0,2]*T[2,1]), 2*T[0,2]*T[2,2]],\n",
    "        [2*T[1,0]*T[2,0], (T[1,0]*T[2,1]+T[1,1]*T[2,0]), (T[1,0]*T[2,2]+T[1,2]*T[2,0]), 2*T[1,1]*T[2,1], (T[1,1]*T[2,2]+T[1,2]*T[2,1]), 2*T[1,2]*T[2,2]],\n",
    "    ])\n",
    "    # print('decomOrbitalD',np.linalg.norm(M,axis=0))\n",
    "    # np.cross()\n",
    "    Mr=np.linalg.inv(M)\n",
    "    Mi=np.linalg.inv(Mr)\n",
    "    tcoefs=Mr@rcoefs\n",
    "    tcoefs*=np.array(keeps)\n",
    "    fcoefs=Mi@tcoefs\n",
    "    return fcoefs\n",
    "\n",
    "# 分解D轨道\n",
    "def decomOrbitalD2(T:np.ndarray,rcoefs:np.ndarray,keeps:list[int]):\n",
    "    # return rcoefs\n",
    "    npos=3\n",
    "    cords=np.random.rand(npos,3) #随机生成6个点\n",
    "    wfn_1=np.zeros(shape=(npos,3))\n",
    "    wfn_1[:,0]=gtf(cords,1,1,0)\n",
    "    wfn_1[:,1]=gtf(cords,1,0,1)\n",
    "    wfn_1[:,2]=gtf(cords,0,1,1)\n",
    "\n",
    "    wfn_2=np.zeros(shape=(npos,3))\n",
    "    wfn_2[:,0]=gtf(cords@T,1,1,0)\n",
    "    wfn_2[:,1]=gtf(cords@T,1,0,1)\n",
    "    wfn_2[:,2]=gtf(cords@T,0,1,1)\n",
    "\n",
    "    Mr=np.linalg.inv(wfn_2)@wfn_1\n",
    "    Mi=np.linalg.inv(Mr)\n",
    "    tcoefs=Mr@rcoefs\n",
    "    for i in range(3):\n",
    "        if i in keeps:continue\n",
    "        tcoefs[i]=0.0\n",
    "    print('>',tcoefs)\n",
    "    fcoefs=Mi@tcoefs\n",
    "    return fcoefs"
   ]
  },
  {
   "cell_type": "code",
   "execution_count": 35,
   "metadata": {},
   "outputs": [
    {
     "name": "stdout",
     "output_type": "stream",
     "text": [
      "[0.0072 0.0892 0.6843]\n",
      "----------------------------------------\n",
      "> [-225.0025    0.        0.    ]\n",
      "< [-317.3673  187.2602  253.9957]\n",
      "> [ 0.     -1.0607  0.    ]\n",
      "< [ 11.4333   0.6135 -11.6611]\n",
      "> [ 0.      0.     -3.6613]\n",
      "< [-0.8194 -1.5808  2.9359]\n",
      "----------------------------------------\n",
      "[-306.7534  186.293   245.2705]\n",
      "-44.574440089893194\n"
     ]
    }
   ],
   "source": [
    "rcoefs=np.random.rand(3) # 原始向量\n",
    "x=np.random.rand(3)\n",
    "x/=np.linalg.norm(x)\n",
    "v=np.random.rand(3)\n",
    "v/=np.linalg.norm(v)\n",
    "y=np.cross(x,v)\n",
    "y/=np.linalg.norm(y)\n",
    "z=np.cross(x,y)\n",
    "z/=np.linalg.norm(z)\n",
    "T=np.array([x,y,z]).T # 变换矩阵\n",
    "\n",
    "print(rcoefs)\n",
    "print('-'*40)\n",
    "ts=[]\n",
    "for i in range(3):\n",
    "    tcoefs=decomOrbitalD2(T,rcoefs,[i])\n",
    "    ts.append(tcoefs)\n",
    "    print('<',tcoefs)\n",
    "print('-'*40)\n",
    "print(np.sum(ts,axis=0))\n",
    "print(np.sum(ts[1]*ts[2]))"
   ]
  },
  {
   "cell_type": "code",
   "execution_count": 114,
   "metadata": {},
   "outputs": [
    {
     "name": "stdout",
     "output_type": "stream",
     "text": [
      "[0.6909 0.2084 0.7257 0.5621 0.6794 0.1344]\n",
      "----------------------------------------\n",
      "< [0.5413 0.0944 0.4932 0.3462 1.0461 0.4321]\n",
      "< [ 0.0184  0.2348  0.1179  0.1313 -0.0931 -0.3327]\n",
      "< [ 0.0623 -0.1537  0.0914  0.1797 -0.1939 -0.0201]\n",
      "< [ 0.0689  0.0328  0.0231 -0.0951 -0.0799  0.0551]\n",
      "----------------------------------------\n",
      "[0.6909 0.2084 0.7257 0.5621 0.6794 0.1344]\n"
     ]
    }
   ],
   "source": [
    "rcoefs=np.random.rand(6) # 原始向量\n",
    "x=np.random.rand(3)\n",
    "x/=np.linalg.norm(x)\n",
    "v=np.random.rand(3)\n",
    "v/=np.linalg.norm(v)\n",
    "y=np.cross(x,v)\n",
    "y/=np.linalg.norm(y)\n",
    "z=np.cross(x,y)\n",
    "z/=np.linalg.norm(z)\n",
    "T=np.array([x,y,z]).T # 变换矩阵\n",
    "\n",
    "\n",
    "print(rcoefs)\n",
    "print('-'*40)\n",
    "keeps=[\n",
    "    [1,1,1,0,0,0],\n",
    "    [0,0,0,1,0,0],\n",
    "    [0,0,0,0,1,0],\n",
    "    [0,0,0,0,0,1],\n",
    "]\n",
    "ts=[]\n",
    "for keep in keeps:\n",
    "    tcoefs=decomOrbitalD(T,rcoefs,keep)\n",
    "    ts.append(tcoefs)\n",
    "    print('<',tcoefs)\n",
    "print('-'*40)\n",
    "print(np.sum(ts,axis=0))"
   ]
  },
  {
   "cell_type": "code",
   "execution_count": null,
   "metadata": {},
   "outputs": [
    {
     "data": {
      "text/plain": [
       "np.float64(0.0016159225539921756)"
      ]
     },
     "execution_count": 34,
     "metadata": {},
     "output_type": "execute_result"
    }
   ],
   "source": []
  },
  {
   "cell_type": "code",
   "execution_count": null,
   "metadata": {},
   "outputs": [
    {
     "data": {
      "text/plain": [
       "[0, 1, 2, 3, 4, 5, 6]"
      ]
     },
     "execution_count": 18,
     "metadata": {},
     "output_type": "execute_result"
    }
   ],
   "source": [
    "path=rf\"D:\\gfile\\pywfn\\C2_t.out\"\n",
    "mol=Mole(LogReader(path))\n",
    "mol.atom(1)._props['normal']=np.array([1,0,0],dtype=float)\n",
    "mol.atom(3)._props['normal']=np.array([1,0,0],dtype=float)\n",
    "dirCaler=direction.Calculator(mol) # 方向计算器\n",
    "sys1=dirCaler.coordSystem(1,3)\n",
    "sys2=dirCaler.coordSystem(3,1)"
   ]
  },
  {
   "cell_type": "code",
   "execution_count": 15,
   "metadata": {},
   "outputs": [
    {
     "data": {
      "text/plain": [
       "array([ 0., -0.,  3.,  0., -0., -0.])"
      ]
     },
     "execution_count": 15,
     "metadata": {},
     "output_type": "execute_result"
    }
   ],
   "source": [
    "path=rf\"D:\\gfile\\pywfn\\C2.out\"\n",
    "mol=Mol(LogReader(path))\n",
    "mol.atom(1)._props['normal']=np.array([1,0,0],dtype=float)\n",
    "mol.atom(3)._props['normal']=np.array([1,0,0],dtype=float)\n",
    "dirCaler=direction.Calculator(mol) # 方向计算器\n",
    "sys1=dirCaler.coordSystem(1,3)\n",
    "sys2=dirCaler.coordSystem(3,1)\n",
    "sys2=sys1\n",
    "rcoefs=np.array([1.,2.,3.,4.,5.,6.])\n",
    "decomOrbitals(sys1,rcoefs,[0])"
   ]
  },
  {
   "cell_type": "code",
   "execution_count": null,
   "metadata": {},
   "outputs": [],
   "source": [
    "path=rf\"D:\\gfile\\pywfn\\O2.out\"\n",
    "mol=Mole(LogReader(path))\n",
    "mol.atom(1)._props['normal']=np.array([1,0,0],dtype=float)\n",
    "mol.atom(2)._props['normal']=np.array([1,0,0],dtype=float)\n",
    "dirCaler=direction.Calculator(mol) # 方向计算器\n",
    "sys1=dirCaler.coordSystem(1,2)\n",
    "sys2=dirCaler.coordSystem(2,1)\n",
    "atms=[1,2]"
   ]
  },
  {
   "cell_type": "code",
   "execution_count": 74,
   "metadata": {},
   "outputs": [
    {
     "data": {
      "text/plain": [
       "<matplotlib.image.AxesImage at 0x1ea103a3df0>"
      ]
     },
     "execution_count": 74,
     "metadata": {},
     "output_type": "execute_result"
    },
    {
     "data": {
      "image/png": "[encoded data removed]",
      "text/plain": [
       "<Figure size 480x480 with 1 Axes>"
      ]
     },
     "metadata": {},
     "output_type": "display_data"
    }
   ],
   "source": [
    "# 键级矩阵是对称的吗？\n",
    "nobt=len(mol.O_obts)\n",
    "CM=mol.CM[:,:nobt].copy()\n",
    "PM=CM@CM.T\n",
    "PS=PM@mol.SM\n",
    "OM=PS*PS.T\n",
    "plt.matshow(OM)"
   ]
  },
  {
   "cell_type": "code",
   "execution_count": null,
   "metadata": {},
   "outputs": [],
   "source": [
    "path=rf\"D:\\gfile\\HFV\\键级分解\\O2_nd.log\"\n",
    "mol=Mole(LogReader(path))\n",
    "mol.atom(1)._props['normal']=np.array([1,0,0],dtype=float)\n",
    "mol.atom(2)._props['normal']=np.array([1,0,0],dtype=float)\n",
    "dirCaler=direction.Calculator(mol) # 方向计算器\n",
    "sys1=dirCaler.coordSystem(1,2)\n",
    "sys2=dirCaler.coordSystem(2,1)\n",
    "atms=[1,2]"
   ]
  },
  {
   "cell_type": "code",
   "execution_count": null,
   "metadata": {},
   "outputs": [],
   "source": [
    "path=rf\"D:\\gfile\\HFV\\键级分解\\O2_nd_nosymm.out\"\n",
    "mol=Mole(LogReader(path))\n",
    "dirCaler=direction.Calculator(mol) # 方向计算器\n",
    "# mol.atom(1)._props['normal']=dirCaler.maxWeave(1,7,'P[XYZ]')\n",
    "# mol.atom(2)._props['normal']=dirCaler.maxWeave(2,7,'P[XYZ]')\n",
    "mol.atom(1)._props['normal']=np.array([0.,0.,1.])\n",
    "mol.atom(2)._props['normal']=np.array([0.,0.,1.])\n",
    "sys1=dirCaler.coordSystem(1,2)\n",
    "sys2=dirCaler.coordSystem(2,1)\n",
    "atms=[1,2]"
   ]
  },
  {
   "cell_type": "code",
   "execution_count": null,
   "metadata": {},
   "outputs": [
    {
     "data": {
      "text/plain": [
       "array([[1.    , 2.    , 0.9563],\n",
       "       [1.    , 3.    , 0.9562],\n",
       "       [1.    , 4.    , 0.9562],\n",
       "       [1.    , 5.    , 1.0267],\n",
       "       [5.    , 6.    , 0.9562],\n",
       "       [5.    , 7.    , 0.9562],\n",
       "       [5.    , 8.    , 0.9563]])"
      ]
     },
     "execution_count": 74,
     "metadata": {},
     "output_type": "execute_result"
    }
   ],
   "source": [
    "path=rf\"D:\\gfile\\pywfn\\CH3-CH3.out\"\n",
    "mol=Mole(LogReader(path))\n",
    "mol.atom(1)._props['normal']=np.array([0,1,0],dtype=float)\n",
    "mol.atom(5)._props['normal']=np.array([0,1,0],dtype=float)\n",
    "dirCaler=direction.Calculator(mol) # 方向计算器\n",
    "sys1=dirCaler.coordSystem(1,5)\n",
    "sys2=dirCaler.coordSystem(5,1)\n",
    "atms=[1,5]\n",
    "order.Calculator(mol).mayer()"
   ]
  },
  {
   "cell_type": "code",
   "execution_count": null,
   "metadata": {},
   "outputs": [
    {
     "data": {
      "text/plain": [
       "array([[1.    , 2.    , 0.9592],\n",
       "       [1.    , 3.    , 0.9592],\n",
       "       [1.    , 4.    , 0.9592],\n",
       "       [1.    , 5.    , 0.9854],\n",
       "       [5.    , 6.    , 0.9592],\n",
       "       [5.    , 7.    , 0.9592],\n",
       "       [5.    , 8.    , 0.9592]])"
      ]
     },
     "execution_count": 71,
     "metadata": {},
     "output_type": "execute_result"
    }
   ],
   "source": [
    "path=rf\"D:\\gfile\\HFV\\CH3-CH3_nd.out\"\n",
    "mol=Mole(LogReader(path))\n",
    "mol.atom(1)._props['normal']=np.array([0,1,0],dtype=float)\n",
    "mol.atom(5)._props['normal']=np.array([0,1,0],dtype=float)\n",
    "dirCaler=direction.Calculator(mol) # 方向计算器\n",
    "sys1=dirCaler.coordSystem(1,5)\n",
    "sys2=dirCaler.coordSystem(5,1)\n",
    "atms=[1,5]\n",
    "order.Calculator(mol).mayer()"
   ]
  },
  {
   "cell_type": "code",
   "execution_count": null,
   "metadata": {},
   "outputs": [
    {
     "data": {
      "text/plain": [
       "array([[1.    , 2.    , 0.9512],\n",
       "       [1.    , 3.    , 0.9512],\n",
       "       [1.    , 4.    , 2.0125],\n",
       "       [4.    , 5.    , 0.9512],\n",
       "       [4.    , 6.    , 0.9512]])"
      ]
     },
     "execution_count": 48,
     "metadata": {},
     "output_type": "execute_result"
    }
   ],
   "source": [
    "path=rf\"D:\\gfile\\HFV\\CH2-CH2_nd.out\"\n",
    "mol=Mole(LogReader(path))\n",
    "dirCaler=direction.Calculator(mol) # 方向计算器\n",
    "sys1=dirCaler.coordSystem(1,4)\n",
    "sys2=dirCaler.coordSystem(4,1)\n",
    "atms=[1,4]\n",
    "order.Calculator(mol).mayer()"
   ]
  },
  {
   "cell_type": "code",
   "execution_count": null,
   "metadata": {},
   "outputs": [
    {
     "data": {
      "text/plain": [
       "array([[1.    , 2.    , 0.9423],\n",
       "       [1.    , 3.    , 0.9423],\n",
       "       [1.    , 4.    , 2.0419],\n",
       "       [4.    , 5.    , 0.9423],\n",
       "       [4.    , 6.    , 0.9423]])"
      ]
     },
     "execution_count": 78,
     "metadata": {},
     "output_type": "execute_result"
    }
   ],
   "source": [
    "path=rf\"D:\\gfile\\pywfn\\CH2=CH2_wfn.out\"\n",
    "mol=Mole(LogReader(path))\n",
    "mol.atom(1)._props['normal']=np.array([1,0,0],dtype=float)\n",
    "mol.atom(4)._props['normal']=np.array([1,0,0],dtype=float)\n",
    "dirCaler=direction.Calculator(mol) # 方向计算器\n",
    "sys1=dirCaler.coordSystem(1,2)\n",
    "sys2=dirCaler.coordSystem(2,1)\n",
    "atms=[1,2]\n",
    "order.Calculator(mol).mayer()"
   ]
  },
  {
   "cell_type": "code",
   "execution_count": null,
   "metadata": {},
   "outputs": [
    {
     "data": {
      "text/plain": [
       "array([[ 1.    ,  2.    ,  1.4533],\n",
       "       [ 1.    ,  6.    ,  1.4533],\n",
       "       [ 1.    ,  7.    ,  0.9299],\n",
       "       [ 2.    ,  3.    ,  1.4533],\n",
       "       [ 2.    ,  8.    ,  0.9299],\n",
       "       [ 3.    ,  4.    ,  1.4533],\n",
       "       [ 3.    ,  9.    ,  0.9299],\n",
       "       [ 4.    ,  5.    ,  1.4533],\n",
       "       [ 4.    , 10.    ,  0.9299],\n",
       "       [ 5.    ,  6.    ,  1.4533],\n",
       "       [ 5.    , 11.    ,  0.9299],\n",
       "       [ 6.    , 12.    ,  0.9299]])"
      ]
     },
     "execution_count": 23,
     "metadata": {},
     "output_type": "execute_result"
    }
   ],
   "source": [
    "path=rf\"D:\\gfile\\pywfn\\C6H6.log\"\n",
    "mol=Mole(LogReader(path))\n",
    "dirCaler=direction.Calculator(mol) # 方向计算器\n",
    "sys1=dirCaler.coordSystem(1,2)\n",
    "sys2=dirCaler.coordSystem(2,1)\n",
    "atms=[1,2]\n",
    "order.Calculator(mol).mayer()"
   ]
  },
  {
   "cell_type": "code",
   "execution_count": null,
   "metadata": {},
   "outputs": [],
   "source": [
    "path=rf\"D:\\gfile\\HFV\\键级分解\\C6H6_nd.out\"\n",
    "mol=Mole(LogReader(path))\n",
    "dirCaler=direction.Calculator(mol) # 方向计算器\n",
    "atms=[3,4]\n",
    "sys1=dirCaler.coordSystem(atms[0],atms[1])\n",
    "sys2=dirCaler.coordSystem(atms[1],atms[0])\n"
   ]
  },
  {
   "cell_type": "code",
   "execution_count": 69,
   "metadata": {},
   "outputs": [
    {
     "data": {
      "text/plain": [
       "<matplotlib.image.AxesImage at 0x1fadcde58d0>"
      ]
     },
     "execution_count": 69,
     "metadata": {},
     "output_type": "execute_result"
    },
    {
     "data": {
      "image/png": "[encoded data removed]",
      "text/plain": [
       "<Figure size 480x480 with 1 Axes>"
      ]
     },
     "metadata": {},
     "output_type": "display_data"
    }
   ],
   "source": [
    "plt.matshow(mol.SM,vmin=-1,vmax=1,cmap='bwr')"
   ]
  },
  {
   "cell_type": "code",
   "execution_count": null,
   "metadata": {},
   "outputs": [],
   "source": [
    "path=rf\"D:\\gfile\\HFV\\键级分解\\complex.log\"\n",
    "mol=Mole(LogReader(path))\n",
    "dirCaler=direction.Calculator(mol) # 方向计算器\n",
    "atms=[12,14]\n",
    "sys1=dirCaler.coordSystem(atms[0],atms[1])\n",
    "sys2=dirCaler.coordSystem(atms[1],atms[0])"
   ]
  },
  {
   "cell_type": "code",
   "execution_count": null,
   "metadata": {},
   "outputs": [
    {
     "name": "stdout",
     "output_type": "stream",
     "text": [
      "12  14-31.5375\n",
      "------------------------0-------------------------\n",
      "12  14 -3.9960\n",
      "------------------------1-------------------------\n",
      "12  14  6.1054\n",
      "------------------------2-------------------------\n",
      "12  14  0.0000\n",
      "------------------------3-------------------------\n",
      "-29.428003799452952\n",
      "1.6295251568302245\n"
     ]
    }
   ],
   "source": [
    "Ts=[sys1,sys2]\n",
    "sig_keeps={\n",
    "    0:[0], #s\n",
    "    1:[0], #px,py,pz\n",
    "    2:[0,1,2]  #xx,yy,zz,xy,xz,yz\n",
    "} # 每个角动量保持的索引\n",
    "piz_keeps={\n",
    "    0:[], \n",
    "    1:[2], \n",
    "    2:[5]      # xx,yy,zz,xy,xz,yz\n",
    "} # 每个角动量保持的索引\n",
    "piy_keeps={\n",
    "    0:[], \n",
    "    1:[1], \n",
    "    2:[4]  #xx,yy,zz,xy,xz,yz\n",
    "} # 每个角动量保持的索引\n",
    "det_keeps={\n",
    "    0:[], #s\n",
    "    1:[], #px,py,pz\n",
    "    2:[5] #xx,yy,zz,xy,xz,yz\n",
    "} # 每个角动量保持的索引\n",
    "\n",
    "nmat=mol.CM.shape[0]\n",
    "keepList=[sig_keeps,piz_keeps,piy_keeps,det_keeps]\n",
    "orderCaler=order.Calculator(mol)\n",
    "nobt=len(mol.O_obts)\n",
    "CMs:list[np.ndarray]=[]\n",
    "orders=[]\n",
    "for k,keeps in enumerate(keepList):\n",
    "    # if k!=1:continue\n",
    "    CMt=np.zeros_like(mol.CM)\n",
    "    for o in mol.O_obts: # 对每一个分子轨道进行修改\n",
    "        coefDict=defaultdict(list) #系数字典\n",
    "        for i in range(nmat): # 循环每一个系数\n",
    "            iatm=mol.atoAtms[i]\n",
    "            ishl=mol.atoShls[i]\n",
    "            iang=mol.atoAngs[i]\n",
    "            key=(iatm,ishl,iang)\n",
    "            if iatm in atms:\n",
    "                coefDict[key].append(mol.CM[i,o])\n",
    "            else:\n",
    "                # coefDict[key].append(0)\n",
    "                coefDict[key].append(mol.CM[i,o])\n",
    "\n",
    "        for key,val in coefDict.items():\n",
    "            iatm,ishl,iang=key\n",
    "            rcoefs=np.array(val)\n",
    "            if iatm in atms:\n",
    "                tcoefs=decomOrbitals(Ts[atms.index(iatm)],rcoefs,keeps[iang])\n",
    "            else:\n",
    "                # tcoefs=np.zeros_like(rcoefs)\n",
    "                tcoefs=np.array(coefDict[key])\n",
    "            # print(k,rcoefs,'->',tcoefs,keeps[iang])\n",
    "            assert len(rcoefs)==len(tcoefs),\"长度对不上\"\n",
    "            \n",
    "            coefDict[key]=tcoefs.tolist()\n",
    "        values=list(coefDict.values())\n",
    "        CMt[:,o]=np.concatenate(values)\n",
    "    file=open(f'CM{k}.txt','w')\n",
    "    for i,line in enumerate(CMt[:,:nobt]):\n",
    "        file.write(f'{mol.atoSyms[i]:<4}'+','.join([f'{e:>8.4f}' for e in line])+'\\n')\n",
    "    file.close()\n",
    "    CMs.append(CMt)\n",
    "    PMt=CM2PM(CMt,mol.O_obts,mol.oE) # 变换的密度矩阵\n",
    "    bonds,results=orderCaler.mayer(PMt)\n",
    "    # print(results)\n",
    "    # values=results[:,-1]\n",
    "    # values[values<0]=0\n",
    "    # results[:,-1]=values#**0.5\n",
    "    # orders.append(results[:,-1])\n",
    "    for a1,a2,val in results:\n",
    "        if a1 not in atms:continue\n",
    "        if a2 not in atms:continue\n",
    "        print(f'{a1:3>.0f}  {a2:3>.0f}{val:>8.4f}')\n",
    "        orders.append(val)\n",
    "    # print(results)\n",
    "    print(f'{k:-^50}')\n",
    "print(sum(orders))\n",
    "file=open(f'CM.txt','w')\n",
    "for i,line in enumerate(mol.CM[:,:nobt]):\n",
    "    file.write(f'{mol.atoSyms[i]:<4}'+','.join([f'{e:>8.4f}' for e in line])+'\\n')\n",
    "file.close()\n",
    "for a1,a2,val in orderCaler.mayer():\n",
    "    if a1 not in atms:continue\n",
    "    if a2 not in atms:continue\n",
    "    print(val)\n",
    "# print(orderCaler.mayer())"
   ]
  },
  {
   "cell_type": "code",
   "execution_count": 57,
   "metadata": {},
   "outputs": [
    {
     "data": {
      "text/plain": [
       "(array([1., 1., 1.]), array([1., 1., 1.]))"
      ]
     },
     "execution_count": 57,
     "metadata": {},
     "output_type": "execute_result"
    }
   ],
   "source": [
    "np.linalg.norm(Ts[0],axis=0),np.linalg.norm(Ts[1],axis=0)"
   ]
  },
  {
   "cell_type": "code",
   "execution_count": 319,
   "metadata": {},
   "outputs": [],
   "source": [
    "def get_PM(CM:np.ndarray)->np.ndarray:\n",
    "    PM=CM@CM.T\n",
    "    return PM\n",
    "def get_OM(PM:np.ndarray,SM:np.ndarray)->np.ndarray:\n",
    "    OM=(PM@SM)*(PM@SM).T\n",
    "    return OM\n",
    "\n",
    "C0,C1,C2,C3=[CMs[i][:,:nobt].copy() for i in range(4)]\n",
    "P0,P1,P2,P3=[get_PM(C) for C in [C0,C1,C2,C3]]\n",
    "O0,O1,O2,O3=[get_OM(O,mol.SM) for O in [P0,P1,P2,P3]]\n",
    "CM=mol.CM[:,:nobt].copy()\n",
    "PM=get_PM(CM)\n",
    "OM=get_OM(PM,mol.SM)"
   ]
  },
  {
   "cell_type": "code",
   "execution_count": 322,
   "metadata": {},
   "outputs": [
    {
     "name": "stdout",
     "output_type": "stream",
     "text": [
      "  1.0453, -0.1019,  0.0133,  0.0133,        , -0.1493,  0.0013,  0.0013,        , -0.0013,  0.0041,  0.0127,  0.0127,        ,  0.0366, -0.0069, -0.0069,        \n",
      " -0.1019,  0.3017, -0.0202, -0.0202,        ,  0.3165, -0.0065, -0.0065,        ,  0.0041, -0.0157, -0.0373, -0.0373,        , -0.0794,  0.0074,  0.0074,        \n",
      "  0.0133, -0.0202,  0.3881, -0.1168,        , -0.0897,  0.2231, -0.1086,        , -0.0127,  0.0373, -0.1602, -0.0902,        , -0.0177, -0.0957, -0.0192,        \n",
      "  0.0133, -0.0202, -0.1168,  0.3881,        , -0.0897, -0.1086,  0.2231,        , -0.0127,  0.0373, -0.0902, -0.1602,        , -0.0177, -0.0192, -0.0957,        \n",
      "        ,        ,        ,        ,  0.2100,        ,        ,        ,  0.1288,        ,        ,        ,        ,  0.2100,        ,        ,        ,  0.1288\n",
      " -0.1493,  0.3165, -0.0897, -0.0897,        ,  0.3753, -0.0321, -0.0321,        ,  0.0366, -0.0794,  0.0177,  0.0177,        , -0.1211,  0.0335,  0.0335,        \n",
      "  0.0013, -0.0065,  0.2231, -0.1086,        , -0.0321,  0.1360, -0.0839,        ,  0.0069, -0.0074, -0.0957, -0.0192,        , -0.0335, -0.0611,  0.0091,        \n",
      "  0.0013, -0.0065, -0.1086,  0.2231,        , -0.0321, -0.0839,  0.1360,        ,  0.0069, -0.0074, -0.0192, -0.0957,        , -0.0335,  0.0091, -0.0611,        \n",
      "        ,        ,        ,        ,  0.1288,        ,        ,        ,  0.0790,        ,        ,        ,        ,  0.1288,        ,        ,        ,  0.0790\n",
      " -0.0013,  0.0041, -0.0127, -0.0127,        ,  0.0366,  0.0069,  0.0069,        ,  1.0453, -0.1019, -0.0133, -0.0133,        , -0.1493, -0.0013, -0.0013,        \n",
      "  0.0041, -0.0157,  0.0373,  0.0373,        , -0.0794, -0.0074, -0.0074,        , -0.1019,  0.3017,  0.0202,  0.0202,        ,  0.3165,  0.0065,  0.0065,        \n",
      "  0.0127, -0.0373, -0.1602, -0.0902,        ,  0.0177, -0.0957, -0.0192,        , -0.0133,  0.0202,  0.3881, -0.1168,        ,  0.0897,  0.2231, -0.1086,        \n",
      "  0.0127, -0.0373, -0.0902, -0.1602,        ,  0.0177, -0.0192, -0.0957,        , -0.0133,  0.0202, -0.1168,  0.3881,        ,  0.0897, -0.1086,  0.2231,        \n",
      "        ,        ,        ,        ,  0.2100,        ,        ,        ,  0.1288,        ,        ,        ,        ,  0.2100,        ,        ,        ,  0.1288\n",
      "  0.0366, -0.0794, -0.0177, -0.0177,        , -0.1211, -0.0335, -0.0335,        , -0.1493,  0.3165,  0.0897,  0.0897,        ,  0.3753,  0.0321,  0.0321,        \n",
      " -0.0069,  0.0074, -0.0957, -0.0192,        ,  0.0335, -0.0611,  0.0091,        , -0.0013,  0.0065,  0.2231, -0.1086,        ,  0.0321,  0.1360, -0.0839,        \n",
      " -0.0069,  0.0074, -0.0192, -0.0957,        ,  0.0335,  0.0091, -0.0611,        , -0.0013,  0.0065, -0.1086,  0.2231,        ,  0.0321, -0.0839,  0.1360,        \n",
      "        ,        ,        ,        ,  0.1288,        ,        ,        ,  0.0790,        ,        ,        ,        ,  0.1288,        ,        ,        ,  0.0790\n"
     ]
    }
   ],
   "source": [
    "for row in PM:\n",
    "    print(','.join([(f'{e:>8.4f}' if abs(e)>1e-4 else '        ') for e in row]))"
   ]
  },
  {
   "cell_type": "code",
   "execution_count": 320,
   "metadata": {},
   "outputs": [
    {
     "name": "stdout",
     "output_type": "stream",
     "text": [
      "  1.0453, -0.1019,  0.0133,  0.0133,        , -0.1493,  0.0013,  0.0013,        , -0.0013,  0.0041,  0.0127,  0.0127,        ,  0.0366, -0.0069, -0.0069,        \n",
      " -0.1019,  0.3017, -0.0202, -0.0202,        ,  0.3165, -0.0065, -0.0065,        ,  0.0041, -0.0157, -0.0373, -0.0373,        , -0.0794,  0.0074,  0.0074,        \n",
      "  0.0133, -0.0202,  0.1357,  0.1357,        , -0.0897,  0.0573,  0.0573,        , -0.0127,  0.0373, -0.1252, -0.1252,        , -0.0177, -0.0574, -0.0574,        \n",
      "  0.0133, -0.0202,  0.1357,  0.1357,        , -0.0897,  0.0573,  0.0573,        , -0.0127,  0.0373, -0.1252, -0.1252,        , -0.0177, -0.0574, -0.0574,        \n",
      "        ,        ,        ,        ,        ,        ,        ,        ,        ,        ,        ,        ,        ,        ,        ,        ,        ,        \n",
      " -0.1493,  0.3165, -0.0897, -0.0897,        ,  0.3753, -0.0321, -0.0321,        ,  0.0366, -0.0794,  0.0177,  0.0177,        , -0.1211,  0.0335,  0.0335,        \n",
      "  0.0013, -0.0065,  0.0573,  0.0573,        , -0.0321,  0.0260,  0.0260,        ,  0.0069, -0.0074, -0.0574, -0.0574,        , -0.0335, -0.0260, -0.0260,        \n",
      "  0.0013, -0.0065,  0.0573,  0.0573,        , -0.0321,  0.0260,  0.0260,        ,  0.0069, -0.0074, -0.0574, -0.0574,        , -0.0335, -0.0260, -0.0260,        \n",
      "        ,        ,        ,        ,        ,        ,        ,        ,        ,        ,        ,        ,        ,        ,        ,        ,        ,        \n",
      " -0.0013,  0.0041, -0.0127, -0.0127,        ,  0.0366,  0.0069,  0.0069,        ,  1.0453, -0.1019, -0.0133, -0.0133,        , -0.1493, -0.0013, -0.0013,        \n",
      "  0.0041, -0.0157,  0.0373,  0.0373,        , -0.0794, -0.0074, -0.0074,        , -0.1019,  0.3017,  0.0202,  0.0202,        ,  0.3165,  0.0065,  0.0065,        \n",
      "  0.0127, -0.0373, -0.1252, -0.1252,        ,  0.0177, -0.0574, -0.0574,        , -0.0133,  0.0202,  0.1357,  0.1357,        ,  0.0897,  0.0573,  0.0573,        \n",
      "  0.0127, -0.0373, -0.1252, -0.1252,        ,  0.0177, -0.0574, -0.0574,        , -0.0133,  0.0202,  0.1357,  0.1357,        ,  0.0897,  0.0573,  0.0573,        \n",
      "        ,        ,        ,        ,        ,        ,        ,        ,        ,        ,        ,        ,        ,        ,        ,        ,        ,        \n",
      "  0.0366, -0.0794, -0.0177, -0.0177,        , -0.1211, -0.0335, -0.0335,        , -0.1493,  0.3165,  0.0897,  0.0897,        ,  0.3753,  0.0321,  0.0321,        \n",
      " -0.0069,  0.0074, -0.0574, -0.0574,        ,  0.0335, -0.0260, -0.0260,        , -0.0013,  0.0065,  0.0573,  0.0573,        ,  0.0321,  0.0260,  0.0260,        \n",
      " -0.0069,  0.0074, -0.0574, -0.0574,        ,  0.0335, -0.0260, -0.0260,        , -0.0013,  0.0065,  0.0573,  0.0573,        ,  0.0321,  0.0260,  0.0260,        \n",
      "        ,        ,        ,        ,        ,        ,        ,        ,        ,        ,        ,        ,        ,        ,        ,        ,        ,        \n"
     ]
    }
   ],
   "source": [
    "for row in P0:\n",
    "    print(','.join([(f'{e:>8.4f}' if abs(e)>1e-4 else '        ') for e in row]))"
   ]
  },
  {
   "cell_type": "code",
   "execution_count": 321,
   "metadata": {},
   "outputs": [
    {
     "name": "stdout",
     "output_type": "stream",
     "text": [
      "        ,        ,        ,        ,        ,        ,        ,        ,        ,        ,        ,        ,        ,        ,        ,        ,        ,        \n",
      "        ,        ,        ,        ,        ,        ,        ,        ,        ,        ,        ,        ,        ,        ,        ,        ,        ,        \n",
      "        ,        ,        ,        ,        ,        ,        ,        ,        ,        ,        ,        ,        ,        ,        ,        ,        ,        \n",
      "        ,        ,        ,        ,        ,        ,        ,        ,        ,        ,        ,        ,        ,        ,        ,        ,        ,        \n",
      "        ,        ,        ,        ,  0.2100,        ,        ,        ,  0.1288,        ,        ,        ,        ,  0.2100,        ,        ,        ,  0.1288\n",
      "        ,        ,        ,        ,        ,        ,        ,        ,        ,        ,        ,        ,        ,        ,        ,        ,        ,        \n",
      "        ,        ,        ,        ,        ,        ,        ,        ,        ,        ,        ,        ,        ,        ,        ,        ,        ,        \n",
      "        ,        ,        ,        ,        ,        ,        ,        ,        ,        ,        ,        ,        ,        ,        ,        ,        ,        \n",
      "        ,        ,        ,        ,  0.1288,        ,        ,        ,  0.0790,        ,        ,        ,        ,  0.1288,        ,        ,        ,  0.0790\n",
      "        ,        ,        ,        ,        ,        ,        ,        ,        ,        ,        ,        ,        ,        ,        ,        ,        ,        \n",
      "        ,        ,        ,        ,        ,        ,        ,        ,        ,        ,        ,        ,        ,        ,        ,        ,        ,        \n",
      "        ,        ,        ,        ,        ,        ,        ,        ,        ,        ,        ,        ,        ,        ,        ,        ,        ,        \n",
      "        ,        ,        ,        ,        ,        ,        ,        ,        ,        ,        ,        ,        ,        ,        ,        ,        ,        \n",
      "        ,        ,        ,        ,  0.2100,        ,        ,        ,  0.1288,        ,        ,        ,        ,  0.2100,        ,        ,        ,  0.1288\n",
      "        ,        ,        ,        ,        ,        ,        ,        ,        ,        ,        ,        ,        ,        ,        ,        ,        ,        \n",
      "        ,        ,        ,        ,        ,        ,        ,        ,        ,        ,        ,        ,        ,        ,        ,        ,        ,        \n",
      "        ,        ,        ,        ,        ,        ,        ,        ,        ,        ,        ,        ,        ,        ,        ,        ,        ,        \n",
      "        ,        ,        ,        ,  0.1288,        ,        ,        ,  0.0790,        ,        ,        ,        ,  0.1288,        ,        ,        ,  0.0790\n"
     ]
    }
   ],
   "source": [
    "for row in P1:\n",
    "    print(','.join([(f'{e:>8.4f}' if abs(e)>1e-4 else '        ') for e in row]))"
   ]
  },
  {
   "cell_type": "code",
   "execution_count": 316,
   "metadata": {},
   "outputs": [
    {
     "name": "stdout",
     "output_type": "stream",
     "text": [
      "        ,        ,        ,        ,        ,        ,        ,        ,        ,        ,        ,        ,        ,        ,        ,        ,        ,        \n",
      "        ,        ,        ,        ,        ,        ,        ,        ,        ,        ,        ,        ,        ,        ,        ,        ,        ,        \n",
      "        ,        ,  0.2525, -0.2525,        ,        ,  0.1659, -0.1659,        ,        ,        , -0.0350,  0.0350,        ,        , -0.0383,  0.0383,        \n",
      "        ,        , -0.2525,  0.2525,        ,        , -0.1659,  0.1659,        ,        ,        ,  0.0350, -0.0350,        ,        ,  0.0383, -0.0383,        \n",
      "        ,        ,        ,        ,        ,        ,        ,        ,        ,        ,        ,        ,        ,        ,        ,        ,        ,        \n",
      "        ,        ,        ,        ,        ,        ,        ,        ,        ,        ,        ,        ,        ,        ,        ,        ,        ,        \n",
      "        ,        ,  0.1659, -0.1659,        ,        ,  0.1099, -0.1099,        ,        ,        , -0.0383,  0.0383,        ,        , -0.0351,  0.0351,        \n",
      "        ,        , -0.1659,  0.1659,        ,        , -0.1099,  0.1099,        ,        ,        ,  0.0383, -0.0383,        ,        ,  0.0351, -0.0351,        \n",
      "        ,        ,        ,        ,        ,        ,        ,        ,        ,        ,        ,        ,        ,        ,        ,        ,        ,        \n",
      "        ,        ,        ,        ,        ,        ,        ,        ,        ,        ,        ,        ,        ,        ,        ,        ,        ,        \n",
      "        ,        ,        ,        ,        ,        ,        ,        ,        ,        ,        ,        ,        ,        ,        ,        ,        ,        \n",
      "        ,        , -0.0350,  0.0350,        ,        , -0.0383,  0.0383,        ,        ,        ,  0.2525, -0.2525,        ,        ,  0.1659, -0.1659,        \n",
      "        ,        ,  0.0350, -0.0350,        ,        ,  0.0383, -0.0383,        ,        ,        , -0.2525,  0.2525,        ,        , -0.1659,  0.1659,        \n",
      "        ,        ,        ,        ,        ,        ,        ,        ,        ,        ,        ,        ,        ,        ,        ,        ,        ,        \n",
      "        ,        ,        ,        ,        ,        ,        ,        ,        ,        ,        ,        ,        ,        ,        ,        ,        ,        \n",
      "        ,        , -0.0383,  0.0383,        ,        , -0.0351,  0.0351,        ,        ,        ,  0.1659, -0.1659,        ,        ,  0.1099, -0.1099,        \n",
      "        ,        ,  0.0383, -0.0383,        ,        ,  0.0351, -0.0351,        ,        ,        , -0.1659,  0.1659,        ,        , -0.1099,  0.1099,        \n",
      "        ,        ,        ,        ,        ,        ,        ,        ,        ,        ,        ,        ,        ,        ,        ,        ,        ,        \n"
     ]
    }
   ],
   "source": [
    "for row in P2:\n",
    "    print(','.join([(f'{e:>8.4f}' if abs(e)>1e-4 else '        ') for e in row]))"
   ]
  },
  {
   "cell_type": "code",
   "execution_count": 282,
   "metadata": {},
   "outputs": [
    {
     "data": {
      "text/plain": [
       "np.float64(0.0)"
      ]
     },
     "execution_count": 282,
     "metadata": {},
     "output_type": "execute_result"
    }
   ],
   "source": [
    "np.sum(OM)-np.sum(O0+O1+O2+O3)"
   ]
  },
  {
   "cell_type": "code",
   "execution_count": 284,
   "metadata": {},
   "outputs": [
    {
     "data": {
      "text/plain": [
       "<matplotlib.image.AxesImage at 0x1ea11f666b0>"
      ]
     },
     "execution_count": 284,
     "metadata": {},
     "output_type": "execute_result"
    },
    {
     "data": {
      "image/png": "[encoded data removed]",
      "text/plain": [
       "<Figure size 480x480 with 1 Axes>"
      ]
     },
     "metadata": {},
     "output_type": "display_data"
    }
   ],
   "source": [
    "plt.matshow(OM-O0-O1-O2-O3)"
   ]
  },
  {
   "cell_type": "code",
   "execution_count": 60,
   "metadata": {},
   "outputs": [
    {
     "data": {
      "text/plain": [
       "<matplotlib.image.AxesImage at 0x2a0fbebe560>"
      ]
     },
     "execution_count": 60,
     "metadata": {},
     "output_type": "execute_result"
    },
    {
     "data": {
      "image/png": "[encoded data removed]",
      "text/plain": [
       "<Figure size 800x500 with 6 Axes>"
      ]
     },
     "metadata": {},
     "output_type": "display_data"
    }
   ],
   "source": [
    "from matplotlib.axes._axes import Axes\n",
    "fig,axs=plt.subplots(1,6,figsize=(8,5)) # type: ignore\n",
    "axs:list[Axes]=axs\n",
    "vmin=np.min(mol.CM[:,:nobt])\n",
    "vmax=np.max(mol.CM[:,:nobt])\n",
    "axs[0].matshow(mol.CM[:,:nobt],vmin=vmin,vmax=vmax)\n",
    "axs[1].matshow(CMs[0][:,:nobt],vmin=vmin,vmax=vmax)\n",
    "axs[2].matshow(CMs[1][:,:nobt],vmin=vmin,vmax=vmax)\n",
    "axs[3].matshow(CMs[2][:,:nobt],vmin=vmin,vmax=vmax)\n",
    "axs[4].matshow(CMs[3][:,:nobt],vmin=vmin,vmax=vmax)\n",
    "axs[5].matshow((np.sum(CMs,axis=0))[:,:nobt],vmin=vmin,vmax=vmax)"
   ]
  },
  {
   "cell_type": "code",
   "execution_count": 61,
   "metadata": {},
   "outputs": [
    {
     "data": {
      "text/plain": [
       "array([[ 0.,  0.,  0.,  0.,  0.,  0.,  0.,  0.],\n",
       "       [ 0.,  0.,  0.,  0.,  0.,  0.,  0.,  0.],\n",
       "       [ 0., -0., -0.,  0., -0., -0.,  0.,  0.],\n",
       "       [ 0., -0., -0.,  0.,  0.,  0., -0., -0.],\n",
       "       [ 0.,  0.,  0.,  0.,  0.,  0.,  0., -0.],\n",
       "       [ 0.,  0.,  0.,  0.,  0.,  0.,  0.,  0.],\n",
       "       [-0.,  0.,  0., -0., -0., -0.,  0.,  0.],\n",
       "       [-0., -0.,  0., -0., -0.,  0.,  0.,  0.],\n",
       "       [ 0.,  0.,  0.,  0.,  0., -0.,  0., -0.],\n",
       "       [ 0.,  0.,  0.,  0.,  0.,  0.,  0.,  0.],\n",
       "       [ 0.,  0.,  0.,  0.,  0.,  0.,  0.,  0.],\n",
       "       [ 0.,  0.,  0.,  0.,  0., -0.,  0.,  0.],\n",
       "       [ 0.,  0., -0.,  0.,  0.,  0., -0.,  0.],\n",
       "       [ 0.,  0.,  0.,  0.,  0.,  0.,  0.,  0.],\n",
       "       [ 0.,  0.,  0.,  0.,  0.,  0.,  0.,  0.],\n",
       "       [-0., -0., -0., -0.,  0., -0.,  0., -0.],\n",
       "       [-0., -0.,  0.,  0.,  0.,  0., -0., -0.],\n",
       "       [ 0.,  0.,  0., -0.,  0.,  0., -0.,  0.]])"
      ]
     },
     "execution_count": 61,
     "metadata": {},
     "output_type": "execute_result"
    }
   ],
   "source": [
    "(np.sum(CMs,axis=0))[:,:nobt]-mol.CM[:,:nobt]"
   ]
  },
  {
   "cell_type": "code",
   "execution_count": 188,
   "metadata": {},
   "outputs": [
    {
     "data": {
      "image/png": "[encoded data removed]",
      "text/plain": [
       "<Figure size 1500x500 with 6 Axes>"
      ]
     },
     "metadata": {},
     "output_type": "display_data"
    }
   ],
   "source": [
    "from matplotlib.axes._axes import Axes\n",
    "def get_OM(CM,SM):\n",
    "    OM=((CM@CM.T)@SM)**2\n",
    "    return OM\n",
    "OMs=[get_OM(CM[:,:nobt],mol.SM) for CM in CMs]\n",
    "OMs.append(np.sum(OMs,axis=0))\n",
    "OMs.append(get_OM(mol.CM[:,:nobt],mol.SM))\n",
    "fig,axs=plt.subplots(1,6,figsize=(15,5)) # type: ignore\n",
    "axs:list[Axes]=axs\n",
    "vmin=np.min(OMs[4])\n",
    "vmax=np.max(OMs[4])\n",
    "for i in range(6):\n",
    "    axs[i].matshow(OMs[i],vmin=vmin,vmax=vmax)"
   ]
  },
  {
   "cell_type": "code",
   "execution_count": 111,
   "metadata": {},
   "outputs": [
    {
     "name": "stdout",
     "output_type": "stream",
     "text": [
      "1 1S   1 1S   :  1.0000\n",
      "1 1S   1 2S   :  0.2337\n",
      "1 1S   1 2PX  :  0.0000\n",
      "1 1S   1 2PY  :  0.0000\n",
      "1 1S   1 2PZ  :  0.0000\n",
      "1 1S   1 3S   :  0.1673\n",
      "1 1S   1 3PX  :  0.0000\n",
      "1 1S   1 3PY  :  0.0000\n",
      "1 1S   1 3PZ  :  0.0000\n",
      "1 1S   2 1S   :  0.0000\n",
      "1 1S   2 2S   :  0.0028\n",
      "1 1S   2 2PX  : -0.0053\n",
      "1 1S   2 2PY  : -0.0053\n",
      "1 1S   2 2PZ  :  0.0000\n",
      "1 1S   2 3S   :  0.0382\n",
      "1 1S   2 3PX  : -0.0646\n",
      "1 1S   2 3PY  : -0.0646\n",
      "1 1S   2 3PZ  :  0.0000\n",
      "------------------------------------------------------------\n",
      "1 2S   1 1S   :  0.2337\n",
      "1 2S   1 2S   :  1.0000\n",
      "1 2S   1 2PX  :  0.0000\n",
      "1 2S   1 2PY  :  0.0000\n",
      "1 2S   1 2PZ  :  0.0000\n",
      "1 2S   1 3S   :  0.7636\n",
      "1 2S   1 3PX  :  0.0000\n",
      "1 2S   1 3PY  :  0.0000\n",
      "1 2S   1 3PZ  :  0.0000\n",
      "1 2S   2 1S   :  0.0028\n",
      "1 2S   2 2S   :  0.0698\n",
      "1 2S   2 2PX  : -0.0814\n",
      "1 2S   2 2PY  : -0.0814\n",
      "1 2S   2 2PZ  :  0.0000\n",
      "1 2S   2 3S   :  0.2333\n",
      "1 2S   2 3PX  : -0.3174\n",
      "1 2S   2 3PY  : -0.3174\n",
      "1 2S   2 3PZ  :  0.0000\n",
      "------------------------------------------------------------\n",
      "1 2PX  1 1S   :  0.0000\n",
      "1 2PX  1 2S   :  0.0000\n",
      "1 2PX  1 2PX  :  1.0000\n",
      "1 2PX  1 2PY  :  0.0000\n",
      "1 2PX  1 2PZ  :  0.0000\n",
      "1 2PX  1 3S   :  0.0000\n",
      "1 2PX  1 3PX  :  0.5015\n",
      "1 2PX  1 3PY  :  0.0000\n",
      "1 2PX  1 3PZ  :  0.0000\n",
      "1 2PX  2 1S   :  0.0053\n",
      "1 2PX  2 2S   :  0.0814\n",
      "1 2PX  2 2PX  : -0.0689\n",
      "1 2PX  2 2PY  : -0.1027\n",
      "1 2PX  2 2PZ  :  0.0000\n",
      "1 2PX  2 3S   :  0.1280\n",
      "1 2PX  2 3PX  : -0.0334\n",
      "1 2PX  2 3PY  : -0.1800\n",
      "1 2PX  2 3PZ  :  0.0000\n",
      "------------------------------------------------------------\n",
      "1 2PY  1 1S   :  0.0000\n",
      "1 2PY  1 2S   :  0.0000\n",
      "1 2PY  1 2PX  :  0.0000\n",
      "1 2PY  1 2PY  :  1.0000\n",
      "1 2PY  1 2PZ  :  0.0000\n",
      "1 2PY  1 3S   :  0.0000\n",
      "1 2PY  1 3PX  :  0.0000\n",
      "1 2PY  1 3PY  :  0.5015\n",
      "1 2PY  1 3PZ  :  0.0000\n",
      "1 2PY  2 1S   :  0.0053\n",
      "1 2PY  2 2S   :  0.0814\n",
      "1 2PY  2 2PX  : -0.1027\n",
      "1 2PY  2 2PY  : -0.0689\n",
      "1 2PY  2 2PZ  :  0.0000\n",
      "1 2PY  2 3S   :  0.1280\n",
      "1 2PY  2 3PX  : -0.1800\n",
      "1 2PY  2 3PY  : -0.0334\n",
      "1 2PY  2 3PZ  :  0.0000\n",
      "------------------------------------------------------------\n",
      "1 2PZ  1 1S   :  0.0000\n",
      "1 2PZ  1 2S   :  0.0000\n",
      "1 2PZ  1 2PX  :  0.0000\n",
      "1 2PZ  1 2PY  :  0.0000\n",
      "1 2PZ  1 2PZ  :  1.0000\n",
      "1 2PZ  1 3S   :  0.0000\n",
      "1 2PZ  1 3PX  :  0.0000\n",
      "1 2PZ  1 3PY  :  0.0000\n",
      "1 2PZ  1 3PZ  :  0.5015\n",
      "1 2PZ  2 1S   :  0.0000\n",
      "1 2PZ  2 2S   :  0.0000\n",
      "1 2PZ  2 2PX  :  0.0000\n",
      "1 2PZ  2 2PY  :  0.0000\n",
      "1 2PZ  2 2PZ  :  0.0338\n",
      "1 2PZ  2 3S   :  0.0000\n",
      "1 2PZ  2 3PX  :  0.0000\n",
      "1 2PZ  2 3PY  :  0.0000\n",
      "1 2PZ  2 3PZ  :  0.1466\n",
      "------------------------------------------------------------\n",
      "1 3S   1 1S   :  0.1673\n",
      "1 3S   1 2S   :  0.7636\n",
      "1 3S   1 2PX  :  0.0000\n",
      "1 3S   1 2PY  :  0.0000\n",
      "1 3S   1 2PZ  :  0.0000\n",
      "1 3S   1 3S   :  1.0000\n",
      "1 3S   1 3PX  :  0.0000\n",
      "1 3S   1 3PY  :  0.0000\n",
      "1 3S   1 3PZ  :  0.0000\n",
      "1 3S   2 1S   :  0.0382\n",
      "1 3S   2 2S   :  0.2333\n",
      "1 3S   2 2PX  : -0.1280\n",
      "1 3S   2 2PY  : -0.1280\n",
      "1 3S   2 2PZ  :  0.0000\n",
      "1 3S   2 3S   :  0.4665\n",
      "1 3S   2 3PX  : -0.4074\n",
      "1 3S   2 3PY  : -0.4074\n",
      "1 3S   2 3PZ  :  0.0000\n",
      "------------------------------------------------------------\n",
      "1 3PX  1 1S   :  0.0000\n",
      "1 3PX  1 2S   :  0.0000\n",
      "1 3PX  1 2PX  :  0.5015\n",
      "1 3PX  1 2PY  :  0.0000\n",
      "1 3PX  1 2PZ  :  0.0000\n",
      "1 3PX  1 3S   :  0.0000\n",
      "1 3PX  1 3PX  :  1.0000\n",
      "1 3PX  1 3PY  :  0.0000\n",
      "1 3PX  1 3PZ  :  0.0000\n",
      "1 3PX  2 1S   :  0.0646\n",
      "1 3PX  2 2S   :  0.3174\n",
      "1 3PX  2 2PX  : -0.0334\n",
      "1 3PX  2 2PY  : -0.1800\n",
      "1 3PX  2 2PZ  :  0.0000\n",
      "1 3PX  2 3S   :  0.4074\n",
      "1 3PX  2 3PX  :  0.1108\n",
      "1 3PX  2 3PY  : -0.3557\n",
      "1 3PX  2 3PZ  :  0.0000\n",
      "------------------------------------------------------------\n",
      "1 3PY  1 1S   :  0.0000\n",
      "1 3PY  1 2S   :  0.0000\n",
      "1 3PY  1 2PX  :  0.0000\n",
      "1 3PY  1 2PY  :  0.5015\n",
      "1 3PY  1 2PZ  :  0.0000\n",
      "1 3PY  1 3S   :  0.0000\n",
      "1 3PY  1 3PX  :  0.0000\n",
      "1 3PY  1 3PY  :  1.0000\n",
      "1 3PY  1 3PZ  :  0.0000\n",
      "1 3PY  2 1S   :  0.0646\n",
      "1 3PY  2 2S   :  0.3174\n",
      "1 3PY  2 2PX  : -0.1800\n",
      "1 3PY  2 2PY  : -0.0334\n",
      "1 3PY  2 2PZ  :  0.0000\n",
      "1 3PY  2 3S   :  0.4074\n",
      "1 3PY  2 3PX  : -0.3557\n",
      "1 3PY  2 3PY  :  0.1108\n",
      "1 3PY  2 3PZ  :  0.0000\n",
      "------------------------------------------------------------\n",
      "1 3PZ  1 1S   :  0.0000\n",
      "1 3PZ  1 2S   :  0.0000\n",
      "1 3PZ  1 2PX  :  0.0000\n",
      "1 3PZ  1 2PY  :  0.0000\n",
      "1 3PZ  1 2PZ  :  0.5015\n",
      "1 3PZ  1 3S   :  0.0000\n",
      "1 3PZ  1 3PX  :  0.0000\n",
      "1 3PZ  1 3PY  :  0.0000\n",
      "1 3PZ  1 3PZ  :  1.0000\n",
      "1 3PZ  2 1S   :  0.0000\n",
      "1 3PZ  2 2S   :  0.0000\n",
      "1 3PZ  2 2PX  :  0.0000\n",
      "1 3PZ  2 2PY  :  0.0000\n",
      "1 3PZ  2 2PZ  :  0.1466\n",
      "1 3PZ  2 3S   :  0.0000\n",
      "1 3PZ  2 3PX  :  0.0000\n",
      "1 3PZ  2 3PY  :  0.0000\n",
      "1 3PZ  2 3PZ  :  0.4665\n",
      "------------------------------------------------------------\n",
      "2 1S   1 1S   :  0.0000\n",
      "2 1S   1 2S   :  0.0028\n",
      "2 1S   1 2PX  :  0.0053\n",
      "2 1S   1 2PY  :  0.0053\n",
      "2 1S   1 2PZ  :  0.0000\n",
      "2 1S   1 3S   :  0.0382\n",
      "2 1S   1 3PX  :  0.0646\n",
      "2 1S   1 3PY  :  0.0646\n",
      "2 1S   1 3PZ  :  0.0000\n",
      "2 1S   2 1S   :  1.0000\n",
      "2 1S   2 2S   :  0.2337\n",
      "2 1S   2 2PX  :  0.0000\n",
      "2 1S   2 2PY  :  0.0000\n",
      "2 1S   2 2PZ  :  0.0000\n",
      "2 1S   2 3S   :  0.1673\n",
      "2 1S   2 3PX  :  0.0000\n",
      "2 1S   2 3PY  :  0.0000\n",
      "2 1S   2 3PZ  :  0.0000\n",
      "------------------------------------------------------------\n",
      "2 2S   1 1S   :  0.0028\n",
      "2 2S   1 2S   :  0.0698\n",
      "2 2S   1 2PX  :  0.0814\n",
      "2 2S   1 2PY  :  0.0814\n",
      "2 2S   1 2PZ  :  0.0000\n",
      "2 2S   1 3S   :  0.2333\n",
      "2 2S   1 3PX  :  0.3174\n",
      "2 2S   1 3PY  :  0.3174\n",
      "2 2S   1 3PZ  :  0.0000\n",
      "2 2S   2 1S   :  0.2337\n",
      "2 2S   2 2S   :  1.0000\n",
      "2 2S   2 2PX  :  0.0000\n",
      "2 2S   2 2PY  :  0.0000\n",
      "2 2S   2 2PZ  :  0.0000\n",
      "2 2S   2 3S   :  0.7636\n",
      "2 2S   2 3PX  :  0.0000\n",
      "2 2S   2 3PY  :  0.0000\n",
      "2 2S   2 3PZ  :  0.0000\n",
      "------------------------------------------------------------\n",
      "2 2PX  1 1S   : -0.0053\n",
      "2 2PX  1 2S   : -0.0814\n",
      "2 2PX  1 2PX  : -0.0689\n",
      "2 2PX  1 2PY  : -0.1027\n",
      "2 2PX  1 2PZ  :  0.0000\n",
      "2 2PX  1 3S   : -0.1280\n",
      "2 2PX  1 3PX  : -0.0334\n",
      "2 2PX  1 3PY  : -0.1800\n",
      "2 2PX  1 3PZ  :  0.0000\n",
      "2 2PX  2 1S   :  0.0000\n",
      "2 2PX  2 2S   :  0.0000\n",
      "2 2PX  2 2PX  :  1.0000\n",
      "2 2PX  2 2PY  :  0.0000\n",
      "2 2PX  2 2PZ  :  0.0000\n",
      "2 2PX  2 3S   :  0.0000\n",
      "2 2PX  2 3PX  :  0.5015\n",
      "2 2PX  2 3PY  :  0.0000\n",
      "2 2PX  2 3PZ  :  0.0000\n",
      "------------------------------------------------------------\n",
      "2 2PY  1 1S   : -0.0053\n",
      "2 2PY  1 2S   : -0.0814\n",
      "2 2PY  1 2PX  : -0.1027\n",
      "2 2PY  1 2PY  : -0.0689\n",
      "2 2PY  1 2PZ  :  0.0000\n",
      "2 2PY  1 3S   : -0.1280\n",
      "2 2PY  1 3PX  : -0.1800\n",
      "2 2PY  1 3PY  : -0.0334\n",
      "2 2PY  1 3PZ  :  0.0000\n",
      "2 2PY  2 1S   :  0.0000\n",
      "2 2PY  2 2S   :  0.0000\n",
      "2 2PY  2 2PX  :  0.0000\n",
      "2 2PY  2 2PY  :  1.0000\n",
      "2 2PY  2 2PZ  :  0.0000\n",
      "2 2PY  2 3S   :  0.0000\n",
      "2 2PY  2 3PX  :  0.0000\n",
      "2 2PY  2 3PY  :  0.5015\n",
      "2 2PY  2 3PZ  :  0.0000\n",
      "------------------------------------------------------------\n",
      "2 2PZ  1 1S   :  0.0000\n",
      "2 2PZ  1 2S   :  0.0000\n",
      "2 2PZ  1 2PX  :  0.0000\n",
      "2 2PZ  1 2PY  :  0.0000\n",
      "2 2PZ  1 2PZ  :  0.0338\n",
      "2 2PZ  1 3S   :  0.0000\n",
      "2 2PZ  1 3PX  :  0.0000\n",
      "2 2PZ  1 3PY  :  0.0000\n",
      "2 2PZ  1 3PZ  :  0.1466\n",
      "2 2PZ  2 1S   :  0.0000\n",
      "2 2PZ  2 2S   :  0.0000\n",
      "2 2PZ  2 2PX  :  0.0000\n",
      "2 2PZ  2 2PY  :  0.0000\n",
      "2 2PZ  2 2PZ  :  1.0000\n",
      "2 2PZ  2 3S   :  0.0000\n",
      "2 2PZ  2 3PX  :  0.0000\n",
      "2 2PZ  2 3PY  :  0.0000\n",
      "2 2PZ  2 3PZ  :  0.5015\n",
      "------------------------------------------------------------\n",
      "2 3S   1 1S   :  0.0382\n",
      "2 3S   1 2S   :  0.2333\n",
      "2 3S   1 2PX  :  0.1280\n",
      "2 3S   1 2PY  :  0.1280\n",
      "2 3S   1 2PZ  :  0.0000\n",
      "2 3S   1 3S   :  0.4665\n",
      "2 3S   1 3PX  :  0.4074\n",
      "2 3S   1 3PY  :  0.4074\n",
      "2 3S   1 3PZ  :  0.0000\n",
      "2 3S   2 1S   :  0.1673\n",
      "2 3S   2 2S   :  0.7636\n",
      "2 3S   2 2PX  :  0.0000\n",
      "2 3S   2 2PY  :  0.0000\n",
      "2 3S   2 2PZ  :  0.0000\n",
      "2 3S   2 3S   :  1.0000\n",
      "2 3S   2 3PX  :  0.0000\n",
      "2 3S   2 3PY  :  0.0000\n",
      "2 3S   2 3PZ  :  0.0000\n",
      "------------------------------------------------------------\n",
      "2 3PX  1 1S   : -0.0646\n",
      "2 3PX  1 2S   : -0.3174\n",
      "2 3PX  1 2PX  : -0.0334\n",
      "2 3PX  1 2PY  : -0.1800\n",
      "2 3PX  1 2PZ  :  0.0000\n",
      "2 3PX  1 3S   : -0.4074\n",
      "2 3PX  1 3PX  :  0.1108\n",
      "2 3PX  1 3PY  : -0.3557\n",
      "2 3PX  1 3PZ  :  0.0000\n",
      "2 3PX  2 1S   :  0.0000\n",
      "2 3PX  2 2S   :  0.0000\n",
      "2 3PX  2 2PX  :  0.5015\n",
      "2 3PX  2 2PY  :  0.0000\n",
      "2 3PX  2 2PZ  :  0.0000\n",
      "2 3PX  2 3S   :  0.0000\n",
      "2 3PX  2 3PX  :  1.0000\n",
      "2 3PX  2 3PY  :  0.0000\n",
      "2 3PX  2 3PZ  :  0.0000\n",
      "------------------------------------------------------------\n",
      "2 3PY  1 1S   : -0.0646\n",
      "2 3PY  1 2S   : -0.3174\n",
      "2 3PY  1 2PX  : -0.1800\n",
      "2 3PY  1 2PY  : -0.0334\n",
      "2 3PY  1 2PZ  :  0.0000\n",
      "2 3PY  1 3S   : -0.4074\n",
      "2 3PY  1 3PX  : -0.3557\n",
      "2 3PY  1 3PY  :  0.1108\n",
      "2 3PY  1 3PZ  :  0.0000\n",
      "2 3PY  2 1S   :  0.0000\n",
      "2 3PY  2 2S   :  0.0000\n",
      "2 3PY  2 2PX  :  0.0000\n",
      "2 3PY  2 2PY  :  0.5015\n",
      "2 3PY  2 2PZ  :  0.0000\n",
      "2 3PY  2 3S   :  0.0000\n",
      "2 3PY  2 3PX  :  0.0000\n",
      "2 3PY  2 3PY  :  1.0000\n",
      "2 3PY  2 3PZ  :  0.0000\n",
      "------------------------------------------------------------\n",
      "2 3PZ  1 1S   :  0.0000\n",
      "2 3PZ  1 2S   :  0.0000\n",
      "2 3PZ  1 2PX  :  0.0000\n",
      "2 3PZ  1 2PY  :  0.0000\n",
      "2 3PZ  1 2PZ  :  0.1466\n",
      "2 3PZ  1 3S   :  0.0000\n",
      "2 3PZ  1 3PX  :  0.0000\n",
      "2 3PZ  1 3PY  :  0.0000\n",
      "2 3PZ  1 3PZ  :  0.4665\n",
      "2 3PZ  2 1S   :  0.0000\n",
      "2 3PZ  2 2S   :  0.0000\n",
      "2 3PZ  2 2PX  :  0.0000\n",
      "2 3PZ  2 2PY  :  0.0000\n",
      "2 3PZ  2 2PZ  :  0.5015\n",
      "2 3PZ  2 3S   :  0.0000\n",
      "2 3PZ  2 3PX  :  0.0000\n",
      "2 3PZ  2 3PY  :  0.0000\n",
      "2 3PZ  2 3PZ  :  1.0000\n",
      "------------------------------------------------------------\n"
     ]
    }
   ],
   "source": [
    "nmat=mol.CM.shape[0]\n",
    "for i in range(nmat):\n",
    "    symi=mol.obtSyms[i]\n",
    "    atmi=mol.obtAtms[i]\n",
    "    shli=mol.obtShls[i]\n",
    "    for j in range(nmat):\n",
    "        symj=mol.obtSyms[j]\n",
    "        atmj=mol.obtAtms[j]\n",
    "        shlj=mol.obtShls[j]\n",
    "        print(f'{atmi} {shli}{symi:<4}{atmj} {shlj}{symj:<4}:{mol.SM[i,j]:>8.4f}')\n",
    "    print('-'*60)"
   ]
  },
  {
   "cell_type": "markdown",
   "metadata": {},
   "source": [
    "## 键级与系数\n",
    "### 原子都在轴上的简单例子"
   ]
  },
  {
   "cell_type": "code",
   "execution_count": 88,
   "metadata": {},
   "outputs": [],
   "source": [
    "\n",
    "import sympy as sp\n",
    "def get_PM(rsyms):\n",
    "    syms=[]\n",
    "    for atm in range(2):\n",
    "        for sym in rsyms:\n",
    "            if sym==0:\n",
    "                syms.append(0)\n",
    "            else:\n",
    "                syms.append(rf'\\overrightarrow{{{atm+1}{sym}}} ')\n",
    "    mat:list[list[sp.Symbol|int]]=[]\n",
    "    for symi in syms:\n",
    "        mat.append([])\n",
    "        for symj in syms:\n",
    "            if symi==0 or symj==0:\n",
    "                mat[-1].append(0)\n",
    "            else:\n",
    "                mat[-1].append(sp.Symbol(f'{symi}·{symj}'))\n",
    "    return sp.Matrix(mat)\n",
    "P0=get_PM(['S','PZ'])\n",
    "P1=get_PM(['S',0])\n",
    "P2=get_PM([0,'PZ'])\n",
    "smat:list[list[sp.Symbol]]=[]\n",
    "rsyms=['1S','1PZ','2S','2PZ']\n",
    "for i in range(4):\n",
    "    smat.append([])\n",
    "    si=rsyms[i]\n",
    "    for j in range(4):\n",
    "        sj=rsyms[j]\n",
    "        smat[-1].append(sp.Symbol(f'S_{{{si},{sj}}}'))\n",
    "SM=sp.Matrix(smat)\n",
    "OM0=P0@SM\n",
    "OM1=(P1+P2)@SM"
   ]
  },
  {
   "cell_type": "code",
   "execution_count": 86,
   "metadata": {},
   "outputs": [
    {
     "data": {
      "text/latex": [
       "$\\displaystyle \\left[\\begin{matrix}\\overrightarrow{1S} ·\\overrightarrow{1S}  & \\overrightarrow{1S} ·\\overrightarrow{1PZ}  & \\overrightarrow{1S} ·\\overrightarrow{2S}  & \\overrightarrow{1S} ·\\overrightarrow{2PZ} \\\\\\overrightarrow{1PZ} ·\\overrightarrow{1S}  & \\overrightarrow{1PZ} ·\\overrightarrow{1PZ}  & \\overrightarrow{1PZ} ·\\overrightarrow{2S}  & \\overrightarrow{1PZ} ·\\overrightarrow{2PZ} \\\\\\overrightarrow{2S} ·\\overrightarrow{1S}  & \\overrightarrow{2S} ·\\overrightarrow{1PZ}  & \\overrightarrow{2S} ·\\overrightarrow{2S}  & \\overrightarrow{2S} ·\\overrightarrow{2PZ} \\\\\\overrightarrow{2PZ} ·\\overrightarrow{1S}  & \\overrightarrow{2PZ} ·\\overrightarrow{1PZ}  & \\overrightarrow{2PZ} ·\\overrightarrow{2S}  & \\overrightarrow{2PZ} ·\\overrightarrow{2PZ} \\end{matrix}\\right]$"
      ],
      "text/plain": [
       "Matrix([\n",
       "[ \\overrightarrow{1S} ·\\overrightarrow{1S} ,  \\overrightarrow{1S} ·\\overrightarrow{1PZ} ,  \\overrightarrow{1S} ·\\overrightarrow{2S} ,  \\overrightarrow{1S} ·\\overrightarrow{2PZ} ],\n",
       "[\\overrightarrow{1PZ} ·\\overrightarrow{1S} , \\overrightarrow{1PZ} ·\\overrightarrow{1PZ} , \\overrightarrow{1PZ} ·\\overrightarrow{2S} , \\overrightarrow{1PZ} ·\\overrightarrow{2PZ} ],\n",
       "[ \\overrightarrow{2S} ·\\overrightarrow{1S} ,  \\overrightarrow{2S} ·\\overrightarrow{1PZ} ,  \\overrightarrow{2S} ·\\overrightarrow{2S} ,  \\overrightarrow{2S} ·\\overrightarrow{2PZ} ],\n",
       "[\\overrightarrow{2PZ} ·\\overrightarrow{1S} , \\overrightarrow{2PZ} ·\\overrightarrow{1PZ} , \\overrightarrow{2PZ} ·\\overrightarrow{2S} , \\overrightarrow{2PZ} ·\\overrightarrow{2PZ} ]])"
      ]
     },
     "execution_count": 86,
     "metadata": {},
     "output_type": "execute_result"
    }
   ],
   "source": [
    "P0"
   ]
  },
  {
   "cell_type": "code",
   "execution_count": 87,
   "metadata": {},
   "outputs": [
    {
     "data": {
      "text/latex": [
       "$\\displaystyle \\left[\\begin{matrix}\\overrightarrow{1S} ·\\overrightarrow{1S}  & 0 & \\overrightarrow{1S} ·\\overrightarrow{2S}  & 0\\\\0 & \\overrightarrow{1PZ} ·\\overrightarrow{1PZ}  & 0 & \\overrightarrow{1PZ} ·\\overrightarrow{2PZ} \\\\\\overrightarrow{2S} ·\\overrightarrow{1S}  & 0 & \\overrightarrow{2S} ·\\overrightarrow{2S}  & 0\\\\0 & \\overrightarrow{2PZ} ·\\overrightarrow{1PZ}  & 0 & \\overrightarrow{2PZ} ·\\overrightarrow{2PZ} \\end{matrix}\\right]$"
      ],
      "text/plain": [
       "Matrix([\n",
       "[\\overrightarrow{1S} ·\\overrightarrow{1S} ,                                           0, \\overrightarrow{1S} ·\\overrightarrow{2S} ,                                           0],\n",
       "[                                        0, \\overrightarrow{1PZ} ·\\overrightarrow{1PZ} ,                                         0, \\overrightarrow{1PZ} ·\\overrightarrow{2PZ} ],\n",
       "[\\overrightarrow{2S} ·\\overrightarrow{1S} ,                                           0, \\overrightarrow{2S} ·\\overrightarrow{2S} ,                                           0],\n",
       "[                                        0, \\overrightarrow{2PZ} ·\\overrightarrow{1PZ} ,                                         0, \\overrightarrow{2PZ} ·\\overrightarrow{2PZ} ]])"
      ]
     },
     "execution_count": 87,
     "metadata": {},
     "output_type": "execute_result"
    }
   ],
   "source": [
    "P1+P2"
   ]
  },
  {
   "cell_type": "code",
   "execution_count": 90,
   "metadata": {},
   "outputs": [
    {
     "data": {
      "text/latex": [
       "$\\displaystyle S_{1PZ,2S} \\overrightarrow{1S} ·\\overrightarrow{1PZ}  + S_{1S,2S} \\overrightarrow{1S} ·\\overrightarrow{1S}  + S_{2PZ,2S} \\overrightarrow{1S} ·\\overrightarrow{2PZ}  + S_{2S,2S} \\overrightarrow{1S} ·\\overrightarrow{2S} $"
      ],
      "text/plain": [
       "S_{1PZ,2S}*\\overrightarrow{1S} ·\\overrightarrow{1PZ}  + S_{1S,2S}*\\overrightarrow{1S} ·\\overrightarrow{1S}  + S_{2PZ,2S}*\\overrightarrow{1S} ·\\overrightarrow{2PZ}  + S_{2S,2S}*\\overrightarrow{1S} ·\\overrightarrow{2S} "
      ]
     },
     "execution_count": 90,
     "metadata": {},
     "output_type": "execute_result"
    }
   ],
   "source": [
    "OM0[0,2]"
   ]
  },
  {
   "cell_type": "code",
   "execution_count": 91,
   "metadata": {},
   "outputs": [
    {
     "data": {
      "text/latex": [
       "$\\displaystyle S_{1S,2S} \\overrightarrow{1S} ·\\overrightarrow{1S}  + S_{2S,2S} \\overrightarrow{1S} ·\\overrightarrow{2S} $"
      ],
      "text/plain": [
       "S_{1S,2S}*\\overrightarrow{1S} ·\\overrightarrow{1S}  + S_{2S,2S}*\\overrightarrow{1S} ·\\overrightarrow{2S} "
      ]
     },
     "execution_count": 91,
     "metadata": {},
     "output_type": "execute_result"
    }
   ],
   "source": [
    "OM1[0,2]"
   ]
  },
  {
   "cell_type": "markdown",
   "metadata": {},
   "source": [
    "### 四个基函数"
   ]
  },
  {
   "cell_type": "code",
   "execution_count": 44,
   "metadata": {},
   "outputs": [
    {
     "data": {
      "text/latex": [
       "$\\displaystyle \\left[\\begin{matrix}S_{1S,1S} & S_{1S,1PX} & S_{1S,1PY} & S_{1S,1PZ} & S_{1S,2S} & S_{1S,2PX} & S_{1S,2PY} & S_{1S,2PZ}\\\\S_{1PX,1S} & S_{1PX,1PX} & S_{1PX,1PY} & S_{1PX,1PZ} & S_{1PX,2S} & S_{1PX,2PX} & S_{1PX,2PY} & S_{1PX,2PZ}\\\\S_{1PY,1S} & S_{1PY,1PX} & S_{1PY,1PY} & S_{1PY,1PZ} & S_{1PY,2S} & S_{1PY,2PX} & S_{1PY,2PY} & S_{1PY,2PZ}\\\\S_{1PZ,1S} & S_{1PZ,1PX} & S_{1PZ,1PY} & S_{1PZ,1PZ} & S_{1PZ,2S} & S_{1PZ,2PX} & S_{1PZ,2PY} & S_{1PZ,2PZ}\\\\S_{2S,1S} & S_{2S,1PX} & S_{2S,1PY} & S_{2S,1PZ} & S_{2S,2S} & S_{2S,2PX} & S_{2S,2PY} & S_{2S,2PZ}\\\\S_{2PX,1S} & S_{2PX,1PX} & S_{2PX,1PY} & S_{2PX,1PZ} & S_{2PX,2S} & S_{2PX,2PX} & S_{2PX,2PY} & S_{2PX,2PZ}\\\\S_{2PY,1S} & S_{2PY,1PX} & S_{2PY,1PY} & S_{2PY,1PZ} & S_{2PY,2S} & S_{2PY,2PX} & S_{2PY,2PY} & S_{2PY,2PZ}\\\\S_{2PZ,1S} & S_{2PZ,1PX} & S_{2PZ,1PY} & S_{2PZ,1PZ} & S_{2PZ,2S} & S_{2PZ,2PX} & S_{2PZ,2PY} & S_{2PZ,2PZ}\\end{matrix}\\right]$"
      ],
      "text/plain": [
       "Matrix([\n",
       "[ S_{1S,1S},  S_{1S,1PX},  S_{1S,1PY},  S_{1S,1PZ},  S_{1S,2S},  S_{1S,2PX},  S_{1S,2PY},  S_{1S,2PZ}],\n",
       "[S_{1PX,1S}, S_{1PX,1PX}, S_{1PX,1PY}, S_{1PX,1PZ}, S_{1PX,2S}, S_{1PX,2PX}, S_{1PX,2PY}, S_{1PX,2PZ}],\n",
       "[S_{1PY,1S}, S_{1PY,1PX}, S_{1PY,1PY}, S_{1PY,1PZ}, S_{1PY,2S}, S_{1PY,2PX}, S_{1PY,2PY}, S_{1PY,2PZ}],\n",
       "[S_{1PZ,1S}, S_{1PZ,1PX}, S_{1PZ,1PY}, S_{1PZ,1PZ}, S_{1PZ,2S}, S_{1PZ,2PX}, S_{1PZ,2PY}, S_{1PZ,2PZ}],\n",
       "[ S_{2S,1S},  S_{2S,1PX},  S_{2S,1PY},  S_{2S,1PZ},  S_{2S,2S},  S_{2S,2PX},  S_{2S,2PY},  S_{2S,2PZ}],\n",
       "[S_{2PX,1S}, S_{2PX,1PX}, S_{2PX,1PY}, S_{2PX,1PZ}, S_{2PX,2S}, S_{2PX,2PX}, S_{2PX,2PY}, S_{2PX,2PZ}],\n",
       "[S_{2PY,1S}, S_{2PY,1PX}, S_{2PY,1PY}, S_{2PY,1PZ}, S_{2PY,2S}, S_{2PY,2PX}, S_{2PY,2PY}, S_{2PY,2PZ}],\n",
       "[S_{2PZ,1S}, S_{2PZ,1PX}, S_{2PZ,1PY}, S_{2PZ,1PZ}, S_{2PZ,2S}, S_{2PZ,2PX}, S_{2PZ,2PY}, S_{2PZ,2PZ}]])"
      ]
     },
     "execution_count": 44,
     "metadata": {},
     "output_type": "execute_result"
    }
   ],
   "source": [
    "import sympy as sp\n",
    "def get_PM(rsyms):\n",
    "    syms=[]\n",
    "    for atm in range(2):\n",
    "        for sym in rsyms:\n",
    "            if sym==0:\n",
    "                syms.append(0)\n",
    "            else:\n",
    "                syms.append(rf'\\overrightarrow{{{atm+1}{sym}}} ')\n",
    "    mat:list[list[sp.Symbol|int]]=[]\n",
    "    for symi in syms:\n",
    "        mat.append([])\n",
    "        for symj in syms:\n",
    "            if symi==0 or symj==0:\n",
    "                mat[-1].append(0)\n",
    "            else:\n",
    "                mat[-1].append(sp.Symbol(f'{symi}·{symj}'))\n",
    "    return sp.Matrix(mat)\n",
    "P0=get_PM(['S','PX','PY','PZ'])\n",
    "P1=get_PM(['S','PX', 0, 0])\n",
    "P2=get_PM([0, 0,'PY', 0])\n",
    "P3=get_PM([0, 0, 0,'PZ'])\n",
    "smat:list[list[sp.Symbol]]=[]\n",
    "rsyms=['1S','1PX','1PY','1PZ','2S','2PX','2PY','2PZ']\n",
    "for i in range(8):\n",
    "    smat.append([])\n",
    "    si=rsyms[i]\n",
    "    for j in range(8):\n",
    "        sj=rsyms[j]\n",
    "        smat[-1].append(sp.Symbol(f'S_{{{si},{sj}}}'))\n",
    "SM=sp.Matrix(smat)\n",
    "SM"
   ]
  },
  {
   "cell_type": "code",
   "execution_count": 79,
   "metadata": {},
   "outputs": [],
   "source": [
    "OM0=P0@SM\n",
    "#OM0=OM0*OM0.T"
   ]
  },
  {
   "cell_type": "code",
   "execution_count": 81,
   "metadata": {},
   "outputs": [],
   "source": [
    "OM1=(P1+P2+P3)@SM\n",
    "#OM1=OM1*OM1.T"
   ]
  },
  {
   "cell_type": "code",
   "execution_count": 82,
   "metadata": {},
   "outputs": [
    {
     "data": {
      "text/latex": [
       "$\\displaystyle S_{1PX,2S} \\overrightarrow{1S} ·\\overrightarrow{1PX}  + S_{1PY,2S} \\overrightarrow{1S} ·\\overrightarrow{1PY}  + S_{1PZ,2S} \\overrightarrow{1S} ·\\overrightarrow{1PZ}  + S_{1S,2S} \\overrightarrow{1S} ·\\overrightarrow{1S}  + S_{2PX,2S} \\overrightarrow{1S} ·\\overrightarrow{2PX}  + S_{2PY,2S} \\overrightarrow{1S} ·\\overrightarrow{2PY}  + S_{2PZ,2S} \\overrightarrow{1S} ·\\overrightarrow{2PZ}  + S_{2S,2S} \\overrightarrow{1S} ·\\overrightarrow{2S} $"
      ],
      "text/plain": [
       "S_{1PX,2S}*\\overrightarrow{1S} ·\\overrightarrow{1PX}  + S_{1PY,2S}*\\overrightarrow{1S} ·\\overrightarrow{1PY}  + S_{1PZ,2S}*\\overrightarrow{1S} ·\\overrightarrow{1PZ}  + S_{1S,2S}*\\overrightarrow{1S} ·\\overrightarrow{1S}  + S_{2PX,2S}*\\overrightarrow{1S} ·\\overrightarrow{2PX}  + S_{2PY,2S}*\\overrightarrow{1S} ·\\overrightarrow{2PY}  + S_{2PZ,2S}*\\overrightarrow{1S} ·\\overrightarrow{2PZ}  + S_{2S,2S}*\\overrightarrow{1S} ·\\overrightarrow{2S} "
      ]
     },
     "execution_count": 82,
     "metadata": {},
     "output_type": "execute_result"
    }
   ],
   "source": [
    "OM0[0,4]"
   ]
  },
  {
   "cell_type": "code",
   "execution_count": 83,
   "metadata": {},
   "outputs": [
    {
     "data": {
      "text/latex": [
       "$\\displaystyle S_{1PX,2S} \\left(\\overrightarrow{1S^0} ·\\overrightarrow{1PX^0}  + \\overrightarrow{1S^1} ·\\overrightarrow{1PX^1}  + \\overrightarrow{1S^2} ·\\overrightarrow{1PX^2} \\right) + S_{1PY,2S} \\left(\\overrightarrow{1S^0} ·\\overrightarrow{1PY^0}  + \\overrightarrow{1S^1} ·\\overrightarrow{1PY^1}  + \\overrightarrow{1S^2} ·\\overrightarrow{1PY^2} \\right) + S_{1PZ,2S} \\left(\\overrightarrow{1S^0} ·\\overrightarrow{1PZ^0}  + \\overrightarrow{1S^1} ·\\overrightarrow{1PZ^1}  + \\overrightarrow{1S^2} ·\\overrightarrow{1PZ^2} \\right) + S_{1S,2S} \\left(\\overrightarrow{1S^0} ·\\overrightarrow{1S^0}  + \\overrightarrow{1S^1} ·\\overrightarrow{1S^1}  + \\overrightarrow{1S^2} ·\\overrightarrow{1S^2} \\right) + S_{2PX,2S} \\left(\\overrightarrow{1S^0} ·\\overrightarrow{2PX^0}  + \\overrightarrow{1S^1} ·\\overrightarrow{2PX^1}  + \\overrightarrow{1S^2} ·\\overrightarrow{2PX^2} \\right) + S_{2PY,2S} \\left(\\overrightarrow{1S^0} ·\\overrightarrow{2PY^0}  + \\overrightarrow{1S^1} ·\\overrightarrow{2PY^1}  + \\overrightarrow{1S^2} ·\\overrightarrow{2PY^2} \\right) + S_{2PZ,2S} \\left(\\overrightarrow{1S^0} ·\\overrightarrow{2PZ^0}  + \\overrightarrow{1S^1} ·\\overrightarrow{2PZ^1}  + \\overrightarrow{1S^2} ·\\overrightarrow{2PZ^2} \\right) + S_{2S,2S} \\left(\\overrightarrow{1S^0} ·\\overrightarrow{2S^0}  + \\overrightarrow{1S^1} ·\\overrightarrow{2S^1}  + \\overrightarrow{1S^2} ·\\overrightarrow{2S^2} \\right)$"
      ],
      "text/plain": [
       "S_{1PX,2S}*(\\overrightarrow{1S^0} ·\\overrightarrow{1PX^0}  + \\overrightarrow{1S^1} ·\\overrightarrow{1PX^1}  + \\overrightarrow{1S^2} ·\\overrightarrow{1PX^2} ) + S_{1PY,2S}*(\\overrightarrow{1S^0} ·\\overrightarrow{1PY^0}  + \\overrightarrow{1S^1} ·\\overrightarrow{1PY^1}  + \\overrightarrow{1S^2} ·\\overrightarrow{1PY^2} ) + S_{1PZ,2S}*(\\overrightarrow{1S^0} ·\\overrightarrow{1PZ^0}  + \\overrightarrow{1S^1} ·\\overrightarrow{1PZ^1}  + \\overrightarrow{1S^2} ·\\overrightarrow{1PZ^2} ) + S_{1S,2S}*(\\overrightarrow{1S^0} ·\\overrightarrow{1S^0}  + \\overrightarrow{1S^1} ·\\overrightarrow{1S^1}  + \\overrightarrow{1S^2} ·\\overrightarrow{1S^2} ) + S_{2PX,2S}*(\\overrightarrow{1S^0} ·\\overrightarrow{2PX^0}  + \\overrightarrow{1S^1} ·\\overrightarrow{2PX^1}  + \\overrightarrow{1S^2} ·\\overrightarrow{2PX^2} ) + S_{2PY,2S}*(\\overrightarrow{1S^0} ·\\overrightarrow{2PY^0}  + \\overrightarrow{1S^1} ·\\overrightarrow{2PY^1}  + \\overrightarrow{1S^2} ·\\overrightarrow{2PY^2} ) + S_{2PZ,2S}*(\\overrightarrow{1S^0} ·\\overrightarrow{2PZ^0}  + \\overrightarrow{1S^1} ·\\overrightarrow{2PZ^1}  + \\overrightarrow{1S^2} ·\\overrightarrow{2PZ^2} ) + S_{2S,2S}*(\\overrightarrow{1S^0} ·\\overrightarrow{2S^0}  + \\overrightarrow{1S^1} ·\\overrightarrow{2S^1}  + \\overrightarrow{1S^2} ·\\overrightarrow{2S^2} )"
      ]
     },
     "execution_count": 83,
     "metadata": {},
     "output_type": "execute_result"
    }
   ],
   "source": [
    "OM1[0,4]"
   ]
  },
  {
   "cell_type": "markdown",
   "metadata": {},
   "source": [
    "## 原子不在轴上"
   ]
  },
  {
   "cell_type": "code",
   "execution_count": 55,
   "metadata": {},
   "outputs": [
    {
     "data": {
      "text/latex": [
       "$\\displaystyle \\left[\\begin{matrix}S_{1S,1S} & S_{1S,1PX} & S_{1S,1PY} & S_{1S,1PZ} & S_{1S,2S} & S_{1S,2PX} & S_{1S,2PY} & S_{1S,2PZ}\\\\S_{1PX,1S} & S_{1PX,1PX} & S_{1PX,1PY} & S_{1PX,1PZ} & S_{1PX,2S} & S_{1PX,2PX} & S_{1PX,2PY} & S_{1PX,2PZ}\\\\S_{1PY,1S} & S_{1PY,1PX} & S_{1PY,1PY} & S_{1PY,1PZ} & S_{1PY,2S} & S_{1PY,2PX} & S_{1PY,2PY} & S_{1PY,2PZ}\\\\S_{1PZ,1S} & S_{1PZ,1PX} & S_{1PZ,1PY} & S_{1PZ,1PZ} & S_{1PZ,2S} & S_{1PZ,2PX} & S_{1PZ,2PY} & S_{1PZ,2PZ}\\\\S_{2S,1S} & S_{2S,1PX} & S_{2S,1PY} & S_{2S,1PZ} & S_{2S,2S} & S_{2S,2PX} & S_{2S,2PY} & S_{2S,2PZ}\\\\S_{2PX,1S} & S_{2PX,1PX} & S_{2PX,1PY} & S_{2PX,1PZ} & S_{2PX,2S} & S_{2PX,2PX} & S_{2PX,2PY} & S_{2PX,2PZ}\\\\S_{2PY,1S} & S_{2PY,1PX} & S_{2PY,1PY} & S_{2PY,1PZ} & S_{2PY,2S} & S_{2PY,2PX} & S_{2PY,2PY} & S_{2PY,2PZ}\\\\S_{2PZ,1S} & S_{2PZ,1PX} & S_{2PZ,1PY} & S_{2PZ,1PZ} & S_{2PZ,2S} & S_{2PZ,2PX} & S_{2PZ,2PY} & S_{2PZ,2PZ}\\end{matrix}\\right]$"
      ],
      "text/plain": [
       "Matrix([\n",
       "[ S_{1S,1S},  S_{1S,1PX},  S_{1S,1PY},  S_{1S,1PZ},  S_{1S,2S},  S_{1S,2PX},  S_{1S,2PY},  S_{1S,2PZ}],\n",
       "[S_{1PX,1S}, S_{1PX,1PX}, S_{1PX,1PY}, S_{1PX,1PZ}, S_{1PX,2S}, S_{1PX,2PX}, S_{1PX,2PY}, S_{1PX,2PZ}],\n",
       "[S_{1PY,1S}, S_{1PY,1PX}, S_{1PY,1PY}, S_{1PY,1PZ}, S_{1PY,2S}, S_{1PY,2PX}, S_{1PY,2PY}, S_{1PY,2PZ}],\n",
       "[S_{1PZ,1S}, S_{1PZ,1PX}, S_{1PZ,1PY}, S_{1PZ,1PZ}, S_{1PZ,2S}, S_{1PZ,2PX}, S_{1PZ,2PY}, S_{1PZ,2PZ}],\n",
       "[ S_{2S,1S},  S_{2S,1PX},  S_{2S,1PY},  S_{2S,1PZ},  S_{2S,2S},  S_{2S,2PX},  S_{2S,2PY},  S_{2S,2PZ}],\n",
       "[S_{2PX,1S}, S_{2PX,1PX}, S_{2PX,1PY}, S_{2PX,1PZ}, S_{2PX,2S}, S_{2PX,2PX}, S_{2PX,2PY}, S_{2PX,2PZ}],\n",
       "[S_{2PY,1S}, S_{2PY,1PX}, S_{2PY,1PY}, S_{2PY,1PZ}, S_{2PY,2S}, S_{2PY,2PX}, S_{2PY,2PY}, S_{2PY,2PZ}],\n",
       "[S_{2PZ,1S}, S_{2PZ,1PX}, S_{2PZ,1PY}, S_{2PZ,1PZ}, S_{2PZ,2S}, S_{2PZ,2PX}, S_{2PZ,2PY}, S_{2PZ,2PZ}]])"
      ]
     },
     "execution_count": 55,
     "metadata": {},
     "output_type": "execute_result"
    }
   ],
   "source": [
    "import sympy as sp\n",
    "def get_PM(rsyms):\n",
    "    syms=[]\n",
    "    for atm in range(2):\n",
    "        for sym in rsyms:\n",
    "            if sym==0:\n",
    "                syms.append(0)\n",
    "            else:\n",
    "                syms.append(rf'\\overrightarrow{{{atm+1}{sym}}} ')\n",
    "    mat:list[list[sp.Symbol|int]]=[]\n",
    "    for symi in syms:\n",
    "        mat.append([])\n",
    "        for symj in syms:\n",
    "            if symi==0 or symj==0:\n",
    "                mat[-1].append(0)\n",
    "            else:\n",
    "                mat[-1].append(sp.Symbol(f'{symi}·{symj}'))\n",
    "    return sp.Matrix(mat)\n",
    "P0=get_PM(['S','PX','PY','PZ'])\n",
    "P1=get_PM(['S^0','PX^0','PY^0','PZ^0'])\n",
    "P2=get_PM(['S^1','PX^1','PY^1','PZ^1'])\n",
    "P3=get_PM(['S^2','PX^2','PY^2','PZ^2'])\n",
    "smat:list[list[sp.Symbol]]=[]\n",
    "rsyms=['1S','1PX','1PY','1PZ','2S','2PX','2PY','2PZ']\n",
    "for i in range(8):\n",
    "    smat.append([])\n",
    "    si=rsyms[i]\n",
    "    for j in range(8):\n",
    "        sj=rsyms[j]\n",
    "        smat[-1].append(sp.Symbol(f'S_{{{si},{sj}}}'))\n",
    "SM=sp.Matrix(smat)\n",
    "SM"
   ]
  },
  {
   "cell_type": "code",
   "execution_count": 59,
   "metadata": {},
   "outputs": [],
   "source": [
    "OM0=P0@SM\n",
    "OM1=(P1+P2+P3)@SM"
   ]
  },
  {
   "cell_type": "code",
   "execution_count": 63,
   "metadata": {},
   "outputs": [
    {
     "data": {
      "text/latex": [
       "$\\displaystyle \\left[\\begin{matrix}\\overrightarrow{1S} ·\\overrightarrow{1S}  & \\overrightarrow{1S} ·\\overrightarrow{1PX}  & \\overrightarrow{1S} ·\\overrightarrow{1PY}  & \\overrightarrow{1S} ·\\overrightarrow{1PZ}  & \\overrightarrow{1S} ·\\overrightarrow{2S}  & \\overrightarrow{1S} ·\\overrightarrow{2PX}  & \\overrightarrow{1S} ·\\overrightarrow{2PY}  & \\overrightarrow{1S} ·\\overrightarrow{2PZ} \\\\\\overrightarrow{1PX} ·\\overrightarrow{1S}  & \\overrightarrow{1PX} ·\\overrightarrow{1PX}  & \\overrightarrow{1PX} ·\\overrightarrow{1PY}  & \\overrightarrow{1PX} ·\\overrightarrow{1PZ}  & \\overrightarrow{1PX} ·\\overrightarrow{2S}  & \\overrightarrow{1PX} ·\\overrightarrow{2PX}  & \\overrightarrow{1PX} ·\\overrightarrow{2PY}  & \\overrightarrow{1PX} ·\\overrightarrow{2PZ} \\\\\\overrightarrow{1PY} ·\\overrightarrow{1S}  & \\overrightarrow{1PY} ·\\overrightarrow{1PX}  & \\overrightarrow{1PY} ·\\overrightarrow{1PY}  & \\overrightarrow{1PY} ·\\overrightarrow{1PZ}  & \\overrightarrow{1PY} ·\\overrightarrow{2S}  & \\overrightarrow{1PY} ·\\overrightarrow{2PX}  & \\overrightarrow{1PY} ·\\overrightarrow{2PY}  & \\overrightarrow{1PY} ·\\overrightarrow{2PZ} \\\\\\overrightarrow{1PZ} ·\\overrightarrow{1S}  & \\overrightarrow{1PZ} ·\\overrightarrow{1PX}  & \\overrightarrow{1PZ} ·\\overrightarrow{1PY}  & \\overrightarrow{1PZ} ·\\overrightarrow{1PZ}  & \\overrightarrow{1PZ} ·\\overrightarrow{2S}  & \\overrightarrow{1PZ} ·\\overrightarrow{2PX}  & \\overrightarrow{1PZ} ·\\overrightarrow{2PY}  & \\overrightarrow{1PZ} ·\\overrightarrow{2PZ} \\\\\\overrightarrow{2S} ·\\overrightarrow{1S}  & \\overrightarrow{2S} ·\\overrightarrow{1PX}  & \\overrightarrow{2S} ·\\overrightarrow{1PY}  & \\overrightarrow{2S} ·\\overrightarrow{1PZ}  & \\overrightarrow{2S} ·\\overrightarrow{2S}  & \\overrightarrow{2S} ·\\overrightarrow{2PX}  & \\overrightarrow{2S} ·\\overrightarrow{2PY}  & \\overrightarrow{2S} ·\\overrightarrow{2PZ} \\\\\\overrightarrow{2PX} ·\\overrightarrow{1S}  & \\overrightarrow{2PX} ·\\overrightarrow{1PX}  & \\overrightarrow{2PX} ·\\overrightarrow{1PY}  & \\overrightarrow{2PX} ·\\overrightarrow{1PZ}  & \\overrightarrow{2PX} ·\\overrightarrow{2S}  & \\overrightarrow{2PX} ·\\overrightarrow{2PX}  & \\overrightarrow{2PX} ·\\overrightarrow{2PY}  & \\overrightarrow{2PX} ·\\overrightarrow{2PZ} \\\\\\overrightarrow{2PY} ·\\overrightarrow{1S}  & \\overrightarrow{2PY} ·\\overrightarrow{1PX}  & \\overrightarrow{2PY} ·\\overrightarrow{1PY}  & \\overrightarrow{2PY} ·\\overrightarrow{1PZ}  & \\overrightarrow{2PY} ·\\overrightarrow{2S}  & \\overrightarrow{2PY} ·\\overrightarrow{2PX}  & \\overrightarrow{2PY} ·\\overrightarrow{2PY}  & \\overrightarrow{2PY} ·\\overrightarrow{2PZ} \\\\\\overrightarrow{2PZ} ·\\overrightarrow{1S}  & \\overrightarrow{2PZ} ·\\overrightarrow{1PX}  & \\overrightarrow{2PZ} ·\\overrightarrow{1PY}  & \\overrightarrow{2PZ} ·\\overrightarrow{1PZ}  & \\overrightarrow{2PZ} ·\\overrightarrow{2S}  & \\overrightarrow{2PZ} ·\\overrightarrow{2PX}  & \\overrightarrow{2PZ} ·\\overrightarrow{2PY}  & \\overrightarrow{2PZ} ·\\overrightarrow{2PZ} \\end{matrix}\\right]$"
      ],
      "text/plain": [
       "Matrix([\n",
       "[ \\overrightarrow{1S} ·\\overrightarrow{1S} ,  \\overrightarrow{1S} ·\\overrightarrow{1PX} ,  \\overrightarrow{1S} ·\\overrightarrow{1PY} ,  \\overrightarrow{1S} ·\\overrightarrow{1PZ} ,  \\overrightarrow{1S} ·\\overrightarrow{2S} ,  \\overrightarrow{1S} ·\\overrightarrow{2PX} ,  \\overrightarrow{1S} ·\\overrightarrow{2PY} ,  \\overrightarrow{1S} ·\\overrightarrow{2PZ} ],\n",
       "[\\overrightarrow{1PX} ·\\overrightarrow{1S} , \\overrightarrow{1PX} ·\\overrightarrow{1PX} , \\overrightarrow{1PX} ·\\overrightarrow{1PY} , \\overrightarrow{1PX} ·\\overrightarrow{1PZ} , \\overrightarrow{1PX} ·\\overrightarrow{2S} , \\overrightarrow{1PX} ·\\overrightarrow{2PX} , \\overrightarrow{1PX} ·\\overrightarrow{2PY} , \\overrightarrow{1PX} ·\\overrightarrow{2PZ} ],\n",
       "[\\overrightarrow{1PY} ·\\overrightarrow{1S} , \\overrightarrow{1PY} ·\\overrightarrow{1PX} , \\overrightarrow{1PY} ·\\overrightarrow{1PY} , \\overrightarrow{1PY} ·\\overrightarrow{1PZ} , \\overrightarrow{1PY} ·\\overrightarrow{2S} , \\overrightarrow{1PY} ·\\overrightarrow{2PX} , \\overrightarrow{1PY} ·\\overrightarrow{2PY} , \\overrightarrow{1PY} ·\\overrightarrow{2PZ} ],\n",
       "[\\overrightarrow{1PZ} ·\\overrightarrow{1S} , \\overrightarrow{1PZ} ·\\overrightarrow{1PX} , \\overrightarrow{1PZ} ·\\overrightarrow{1PY} , \\overrightarrow{1PZ} ·\\overrightarrow{1PZ} , \\overrightarrow{1PZ} ·\\overrightarrow{2S} , \\overrightarrow{1PZ} ·\\overrightarrow{2PX} , \\overrightarrow{1PZ} ·\\overrightarrow{2PY} , \\overrightarrow{1PZ} ·\\overrightarrow{2PZ} ],\n",
       "[ \\overrightarrow{2S} ·\\overrightarrow{1S} ,  \\overrightarrow{2S} ·\\overrightarrow{1PX} ,  \\overrightarrow{2S} ·\\overrightarrow{1PY} ,  \\overrightarrow{2S} ·\\overrightarrow{1PZ} ,  \\overrightarrow{2S} ·\\overrightarrow{2S} ,  \\overrightarrow{2S} ·\\overrightarrow{2PX} ,  \\overrightarrow{2S} ·\\overrightarrow{2PY} ,  \\overrightarrow{2S} ·\\overrightarrow{2PZ} ],\n",
       "[\\overrightarrow{2PX} ·\\overrightarrow{1S} , \\overrightarrow{2PX} ·\\overrightarrow{1PX} , \\overrightarrow{2PX} ·\\overrightarrow{1PY} , \\overrightarrow{2PX} ·\\overrightarrow{1PZ} , \\overrightarrow{2PX} ·\\overrightarrow{2S} , \\overrightarrow{2PX} ·\\overrightarrow{2PX} , \\overrightarrow{2PX} ·\\overrightarrow{2PY} , \\overrightarrow{2PX} ·\\overrightarrow{2PZ} ],\n",
       "[\\overrightarrow{2PY} ·\\overrightarrow{1S} , \\overrightarrow{2PY} ·\\overrightarrow{1PX} , \\overrightarrow{2PY} ·\\overrightarrow{1PY} , \\overrightarrow{2PY} ·\\overrightarrow{1PZ} , \\overrightarrow{2PY} ·\\overrightarrow{2S} , \\overrightarrow{2PY} ·\\overrightarrow{2PX} , \\overrightarrow{2PY} ·\\overrightarrow{2PY} , \\overrightarrow{2PY} ·\\overrightarrow{2PZ} ],\n",
       "[\\overrightarrow{2PZ} ·\\overrightarrow{1S} , \\overrightarrow{2PZ} ·\\overrightarrow{1PX} , \\overrightarrow{2PZ} ·\\overrightarrow{1PY} , \\overrightarrow{2PZ} ·\\overrightarrow{1PZ} , \\overrightarrow{2PZ} ·\\overrightarrow{2S} , \\overrightarrow{2PZ} ·\\overrightarrow{2PX} , \\overrightarrow{2PZ} ·\\overrightarrow{2PY} , \\overrightarrow{2PZ} ·\\overrightarrow{2PZ} ]])"
      ]
     },
     "execution_count": 63,
     "metadata": {},
     "output_type": "execute_result"
    }
   ],
   "source": [
    "P0"
   ]
  },
  {
   "cell_type": "code",
   "execution_count": 62,
   "metadata": {},
   "outputs": [
    {
     "data": {
      "text/latex": [
       "$\\displaystyle \\left[\\begin{matrix}\\overrightarrow{1S^0} ·\\overrightarrow{1S^0}  + \\overrightarrow{1S^1} ·\\overrightarrow{1S^1}  + \\overrightarrow{1S^2} ·\\overrightarrow{1S^2}  & \\overrightarrow{1S^0} ·\\overrightarrow{1PX^0}  + \\overrightarrow{1S^1} ·\\overrightarrow{1PX^1}  + \\overrightarrow{1S^2} ·\\overrightarrow{1PX^2}  & \\overrightarrow{1S^0} ·\\overrightarrow{1PY^0}  + \\overrightarrow{1S^1} ·\\overrightarrow{1PY^1}  + \\overrightarrow{1S^2} ·\\overrightarrow{1PY^2}  & \\overrightarrow{1S^0} ·\\overrightarrow{1PZ^0}  + \\overrightarrow{1S^1} ·\\overrightarrow{1PZ^1}  + \\overrightarrow{1S^2} ·\\overrightarrow{1PZ^2}  & \\overrightarrow{1S^0} ·\\overrightarrow{2S^0}  + \\overrightarrow{1S^1} ·\\overrightarrow{2S^1}  + \\overrightarrow{1S^2} ·\\overrightarrow{2S^2}  & \\overrightarrow{1S^0} ·\\overrightarrow{2PX^0}  + \\overrightarrow{1S^1} ·\\overrightarrow{2PX^1}  + \\overrightarrow{1S^2} ·\\overrightarrow{2PX^2}  & \\overrightarrow{1S^0} ·\\overrightarrow{2PY^0}  + \\overrightarrow{1S^1} ·\\overrightarrow{2PY^1}  + \\overrightarrow{1S^2} ·\\overrightarrow{2PY^2}  & \\overrightarrow{1S^0} ·\\overrightarrow{2PZ^0}  + \\overrightarrow{1S^1} ·\\overrightarrow{2PZ^1}  + \\overrightarrow{1S^2} ·\\overrightarrow{2PZ^2} \\\\\\overrightarrow{1PX^0} ·\\overrightarrow{1S^0}  + \\overrightarrow{1PX^1} ·\\overrightarrow{1S^1}  + \\overrightarrow{1PX^2} ·\\overrightarrow{1S^2}  & \\overrightarrow{1PX^0} ·\\overrightarrow{1PX^0}  + \\overrightarrow{1PX^1} ·\\overrightarrow{1PX^1}  + \\overrightarrow{1PX^2} ·\\overrightarrow{1PX^2}  & \\overrightarrow{1PX^0} ·\\overrightarrow{1PY^0}  + \\overrightarrow{1PX^1} ·\\overrightarrow{1PY^1}  + \\overrightarrow{1PX^2} ·\\overrightarrow{1PY^2}  & \\overrightarrow{1PX^0} ·\\overrightarrow{1PZ^0}  + \\overrightarrow{1PX^1} ·\\overrightarrow{1PZ^1}  + \\overrightarrow{1PX^2} ·\\overrightarrow{1PZ^2}  & \\overrightarrow{1PX^0} ·\\overrightarrow{2S^0}  + \\overrightarrow{1PX^1} ·\\overrightarrow{2S^1}  + \\overrightarrow{1PX^2} ·\\overrightarrow{2S^2}  & \\overrightarrow{1PX^0} ·\\overrightarrow{2PX^0}  + \\overrightarrow{1PX^1} ·\\overrightarrow{2PX^1}  + \\overrightarrow{1PX^2} ·\\overrightarrow{2PX^2}  & \\overrightarrow{1PX^0} ·\\overrightarrow{2PY^0}  + \\overrightarrow{1PX^1} ·\\overrightarrow{2PY^1}  + \\overrightarrow{1PX^2} ·\\overrightarrow{2PY^2}  & \\overrightarrow{1PX^0} ·\\overrightarrow{2PZ^0}  + \\overrightarrow{1PX^1} ·\\overrightarrow{2PZ^1}  + \\overrightarrow{1PX^2} ·\\overrightarrow{2PZ^2} \\\\\\overrightarrow{1PY^0} ·\\overrightarrow{1S^0}  + \\overrightarrow{1PY^1} ·\\overrightarrow{1S^1}  + \\overrightarrow{1PY^2} ·\\overrightarrow{1S^2}  & \\overrightarrow{1PY^0} ·\\overrightarrow{1PX^0}  + \\overrightarrow{1PY^1} ·\\overrightarrow{1PX^1}  + \\overrightarrow{1PY^2} ·\\overrightarrow{1PX^2}  & \\overrightarrow{1PY^0} ·\\overrightarrow{1PY^0}  + \\overrightarrow{1PY^1} ·\\overrightarrow{1PY^1}  + \\overrightarrow{1PY^2} ·\\overrightarrow{1PY^2}  & \\overrightarrow{1PY^0} ·\\overrightarrow{1PZ^0}  + \\overrightarrow{1PY^1} ·\\overrightarrow{1PZ^1}  + \\overrightarrow{1PY^2} ·\\overrightarrow{1PZ^2}  & \\overrightarrow{1PY^0} ·\\overrightarrow{2S^0}  + \\overrightarrow{1PY^1} ·\\overrightarrow{2S^1}  + \\overrightarrow{1PY^2} ·\\overrightarrow{2S^2}  & \\overrightarrow{1PY^0} ·\\overrightarrow{2PX^0}  + \\overrightarrow{1PY^1} ·\\overrightarrow{2PX^1}  + \\overrightarrow{1PY^2} ·\\overrightarrow{2PX^2}  & \\overrightarrow{1PY^0} ·\\overrightarrow{2PY^0}  + \\overrightarrow{1PY^1} ·\\overrightarrow{2PY^1}  + \\overrightarrow{1PY^2} ·\\overrightarrow{2PY^2}  & \\overrightarrow{1PY^0} ·\\overrightarrow{2PZ^0}  + \\overrightarrow{1PY^1} ·\\overrightarrow{2PZ^1}  + \\overrightarrow{1PY^2} ·\\overrightarrow{2PZ^2} \\\\\\overrightarrow{1PZ^0} ·\\overrightarrow{1S^0}  + \\overrightarrow{1PZ^1} ·\\overrightarrow{1S^1}  + \\overrightarrow{1PZ^2} ·\\overrightarrow{1S^2}  & \\overrightarrow{1PZ^0} ·\\overrightarrow{1PX^0}  + \\overrightarrow{1PZ^1} ·\\overrightarrow{1PX^1}  + \\overrightarrow{1PZ^2} ·\\overrightarrow{1PX^2}  & \\overrightarrow{1PZ^0} ·\\overrightarrow{1PY^0}  + \\overrightarrow{1PZ^1} ·\\overrightarrow{1PY^1}  + \\overrightarrow{1PZ^2} ·\\overrightarrow{1PY^2}  & \\overrightarrow{1PZ^0} ·\\overrightarrow{1PZ^0}  + \\overrightarrow{1PZ^1} ·\\overrightarrow{1PZ^1}  + \\overrightarrow{1PZ^2} ·\\overrightarrow{1PZ^2}  & \\overrightarrow{1PZ^0} ·\\overrightarrow{2S^0}  + \\overrightarrow{1PZ^1} ·\\overrightarrow{2S^1}  + \\overrightarrow{1PZ^2} ·\\overrightarrow{2S^2}  & \\overrightarrow{1PZ^0} ·\\overrightarrow{2PX^0}  + \\overrightarrow{1PZ^1} ·\\overrightarrow{2PX^1}  + \\overrightarrow{1PZ^2} ·\\overrightarrow{2PX^2}  & \\overrightarrow{1PZ^0} ·\\overrightarrow{2PY^0}  + \\overrightarrow{1PZ^1} ·\\overrightarrow{2PY^1}  + \\overrightarrow{1PZ^2} ·\\overrightarrow{2PY^2}  & \\overrightarrow{1PZ^0} ·\\overrightarrow{2PZ^0}  + \\overrightarrow{1PZ^1} ·\\overrightarrow{2PZ^1}  + \\overrightarrow{1PZ^2} ·\\overrightarrow{2PZ^2} \\\\\\overrightarrow{2S^0} ·\\overrightarrow{1S^0}  + \\overrightarrow{2S^1} ·\\overrightarrow{1S^1}  + \\overrightarrow{2S^2} ·\\overrightarrow{1S^2}  & \\overrightarrow{2S^0} ·\\overrightarrow{1PX^0}  + \\overrightarrow{2S^1} ·\\overrightarrow{1PX^1}  + \\overrightarrow{2S^2} ·\\overrightarrow{1PX^2}  & \\overrightarrow{2S^0} ·\\overrightarrow{1PY^0}  + \\overrightarrow{2S^1} ·\\overrightarrow{1PY^1}  + \\overrightarrow{2S^2} ·\\overrightarrow{1PY^2}  & \\overrightarrow{2S^0} ·\\overrightarrow{1PZ^0}  + \\overrightarrow{2S^1} ·\\overrightarrow{1PZ^1}  + \\overrightarrow{2S^2} ·\\overrightarrow{1PZ^2}  & \\overrightarrow{2S^0} ·\\overrightarrow{2S^0}  + \\overrightarrow{2S^1} ·\\overrightarrow{2S^1}  + \\overrightarrow{2S^2} ·\\overrightarrow{2S^2}  & \\overrightarrow{2S^0} ·\\overrightarrow{2PX^0}  + \\overrightarrow{2S^1} ·\\overrightarrow{2PX^1}  + \\overrightarrow{2S^2} ·\\overrightarrow{2PX^2}  & \\overrightarrow{2S^0} ·\\overrightarrow{2PY^0}  + \\overrightarrow{2S^1} ·\\overrightarrow{2PY^1}  + \\overrightarrow{2S^2} ·\\overrightarrow{2PY^2}  & \\overrightarrow{2S^0} ·\\overrightarrow{2PZ^0}  + \\overrightarrow{2S^1} ·\\overrightarrow{2PZ^1}  + \\overrightarrow{2S^2} ·\\overrightarrow{2PZ^2} \\\\\\overrightarrow{2PX^0} ·\\overrightarrow{1S^0}  + \\overrightarrow{2PX^1} ·\\overrightarrow{1S^1}  + \\overrightarrow{2PX^2} ·\\overrightarrow{1S^2}  & \\overrightarrow{2PX^0} ·\\overrightarrow{1PX^0}  + \\overrightarrow{2PX^1} ·\\overrightarrow{1PX^1}  + \\overrightarrow{2PX^2} ·\\overrightarrow{1PX^2}  & \\overrightarrow{2PX^0} ·\\overrightarrow{1PY^0}  + \\overrightarrow{2PX^1} ·\\overrightarrow{1PY^1}  + \\overrightarrow{2PX^2} ·\\overrightarrow{1PY^2}  & \\overrightarrow{2PX^0} ·\\overrightarrow{1PZ^0}  + \\overrightarrow{2PX^1} ·\\overrightarrow{1PZ^1}  + \\overrightarrow{2PX^2} ·\\overrightarrow{1PZ^2}  & \\overrightarrow{2PX^0} ·\\overrightarrow{2S^0}  + \\overrightarrow{2PX^1} ·\\overrightarrow{2S^1}  + \\overrightarrow{2PX^2} ·\\overrightarrow{2S^2}  & \\overrightarrow{2PX^0} ·\\overrightarrow{2PX^0}  + \\overrightarrow{2PX^1} ·\\overrightarrow{2PX^1}  + \\overrightarrow{2PX^2} ·\\overrightarrow{2PX^2}  & \\overrightarrow{2PX^0} ·\\overrightarrow{2PY^0}  + \\overrightarrow{2PX^1} ·\\overrightarrow{2PY^1}  + \\overrightarrow{2PX^2} ·\\overrightarrow{2PY^2}  & \\overrightarrow{2PX^0} ·\\overrightarrow{2PZ^0}  + \\overrightarrow{2PX^1} ·\\overrightarrow{2PZ^1}  + \\overrightarrow{2PX^2} ·\\overrightarrow{2PZ^2} \\\\\\overrightarrow{2PY^0} ·\\overrightarrow{1S^0}  + \\overrightarrow{2PY^1} ·\\overrightarrow{1S^1}  + \\overrightarrow{2PY^2} ·\\overrightarrow{1S^2}  & \\overrightarrow{2PY^0} ·\\overrightarrow{1PX^0}  + \\overrightarrow{2PY^1} ·\\overrightarrow{1PX^1}  + \\overrightarrow{2PY^2} ·\\overrightarrow{1PX^2}  & \\overrightarrow{2PY^0} ·\\overrightarrow{1PY^0}  + \\overrightarrow{2PY^1} ·\\overrightarrow{1PY^1}  + \\overrightarrow{2PY^2} ·\\overrightarrow{1PY^2}  & \\overrightarrow{2PY^0} ·\\overrightarrow{1PZ^0}  + \\overrightarrow{2PY^1} ·\\overrightarrow{1PZ^1}  + \\overrightarrow{2PY^2} ·\\overrightarrow{1PZ^2}  & \\overrightarrow{2PY^0} ·\\overrightarrow{2S^0}  + \\overrightarrow{2PY^1} ·\\overrightarrow{2S^1}  + \\overrightarrow{2PY^2} ·\\overrightarrow{2S^2}  & \\overrightarrow{2PY^0} ·\\overrightarrow{2PX^0}  + \\overrightarrow{2PY^1} ·\\overrightarrow{2PX^1}  + \\overrightarrow{2PY^2} ·\\overrightarrow{2PX^2}  & \\overrightarrow{2PY^0} ·\\overrightarrow{2PY^0}  + \\overrightarrow{2PY^1} ·\\overrightarrow{2PY^1}  + \\overrightarrow{2PY^2} ·\\overrightarrow{2PY^2}  & \\overrightarrow{2PY^0} ·\\overrightarrow{2PZ^0}  + \\overrightarrow{2PY^1} ·\\overrightarrow{2PZ^1}  + \\overrightarrow{2PY^2} ·\\overrightarrow{2PZ^2} \\\\\\overrightarrow{2PZ^0} ·\\overrightarrow{1S^0}  + \\overrightarrow{2PZ^1} ·\\overrightarrow{1S^1}  + \\overrightarrow{2PZ^2} ·\\overrightarrow{1S^2}  & \\overrightarrow{2PZ^0} ·\\overrightarrow{1PX^0}  + \\overrightarrow{2PZ^1} ·\\overrightarrow{1PX^1}  + \\overrightarrow{2PZ^2} ·\\overrightarrow{1PX^2}  & \\overrightarrow{2PZ^0} ·\\overrightarrow{1PY^0}  + \\overrightarrow{2PZ^1} ·\\overrightarrow{1PY^1}  + \\overrightarrow{2PZ^2} ·\\overrightarrow{1PY^2}  & \\overrightarrow{2PZ^0} ·\\overrightarrow{1PZ^0}  + \\overrightarrow{2PZ^1} ·\\overrightarrow{1PZ^1}  + \\overrightarrow{2PZ^2} ·\\overrightarrow{1PZ^2}  & \\overrightarrow{2PZ^0} ·\\overrightarrow{2S^0}  + \\overrightarrow{2PZ^1} ·\\overrightarrow{2S^1}  + \\overrightarrow{2PZ^2} ·\\overrightarrow{2S^2}  & \\overrightarrow{2PZ^0} ·\\overrightarrow{2PX^0}  + \\overrightarrow{2PZ^1} ·\\overrightarrow{2PX^1}  + \\overrightarrow{2PZ^2} ·\\overrightarrow{2PX^2}  & \\overrightarrow{2PZ^0} ·\\overrightarrow{2PY^0}  + \\overrightarrow{2PZ^1} ·\\overrightarrow{2PY^1}  + \\overrightarrow{2PZ^2} ·\\overrightarrow{2PY^2}  & \\overrightarrow{2PZ^0} ·\\overrightarrow{2PZ^0}  + \\overrightarrow{2PZ^1} ·\\overrightarrow{2PZ^1}  + \\overrightarrow{2PZ^2} ·\\overrightarrow{2PZ^2} \\end{matrix}\\right]$"
      ],
      "text/plain": [
       "Matrix([\n",
       "[   \\overrightarrow{1S^0} ·\\overrightarrow{1S^0}  + \\overrightarrow{1S^1} ·\\overrightarrow{1S^1}  + \\overrightarrow{1S^2} ·\\overrightarrow{1S^2} ,    \\overrightarrow{1S^0} ·\\overrightarrow{1PX^0}  + \\overrightarrow{1S^1} ·\\overrightarrow{1PX^1}  + \\overrightarrow{1S^2} ·\\overrightarrow{1PX^2} ,    \\overrightarrow{1S^0} ·\\overrightarrow{1PY^0}  + \\overrightarrow{1S^1} ·\\overrightarrow{1PY^1}  + \\overrightarrow{1S^2} ·\\overrightarrow{1PY^2} ,    \\overrightarrow{1S^0} ·\\overrightarrow{1PZ^0}  + \\overrightarrow{1S^1} ·\\overrightarrow{1PZ^1}  + \\overrightarrow{1S^2} ·\\overrightarrow{1PZ^2} ,    \\overrightarrow{1S^0} ·\\overrightarrow{2S^0}  + \\overrightarrow{1S^1} ·\\overrightarrow{2S^1}  + \\overrightarrow{1S^2} ·\\overrightarrow{2S^2} ,    \\overrightarrow{1S^0} ·\\overrightarrow{2PX^0}  + \\overrightarrow{1S^1} ·\\overrightarrow{2PX^1}  + \\overrightarrow{1S^2} ·\\overrightarrow{2PX^2} ,    \\overrightarrow{1S^0} ·\\overrightarrow{2PY^0}  + \\overrightarrow{1S^1} ·\\overrightarrow{2PY^1}  + \\overrightarrow{1S^2} ·\\overrightarrow{2PY^2} ,    \\overrightarrow{1S^0} ·\\overrightarrow{2PZ^0}  + \\overrightarrow{1S^1} ·\\overrightarrow{2PZ^1}  + \\overrightarrow{1S^2} ·\\overrightarrow{2PZ^2} ],\n",
       "[\\overrightarrow{1PX^0} ·\\overrightarrow{1S^0}  + \\overrightarrow{1PX^1} ·\\overrightarrow{1S^1}  + \\overrightarrow{1PX^2} ·\\overrightarrow{1S^2} , \\overrightarrow{1PX^0} ·\\overrightarrow{1PX^0}  + \\overrightarrow{1PX^1} ·\\overrightarrow{1PX^1}  + \\overrightarrow{1PX^2} ·\\overrightarrow{1PX^2} , \\overrightarrow{1PX^0} ·\\overrightarrow{1PY^0}  + \\overrightarrow{1PX^1} ·\\overrightarrow{1PY^1}  + \\overrightarrow{1PX^2} ·\\overrightarrow{1PY^2} , \\overrightarrow{1PX^0} ·\\overrightarrow{1PZ^0}  + \\overrightarrow{1PX^1} ·\\overrightarrow{1PZ^1}  + \\overrightarrow{1PX^2} ·\\overrightarrow{1PZ^2} , \\overrightarrow{1PX^0} ·\\overrightarrow{2S^0}  + \\overrightarrow{1PX^1} ·\\overrightarrow{2S^1}  + \\overrightarrow{1PX^2} ·\\overrightarrow{2S^2} , \\overrightarrow{1PX^0} ·\\overrightarrow{2PX^0}  + \\overrightarrow{1PX^1} ·\\overrightarrow{2PX^1}  + \\overrightarrow{1PX^2} ·\\overrightarrow{2PX^2} , \\overrightarrow{1PX^0} ·\\overrightarrow{2PY^0}  + \\overrightarrow{1PX^1} ·\\overrightarrow{2PY^1}  + \\overrightarrow{1PX^2} ·\\overrightarrow{2PY^2} , \\overrightarrow{1PX^0} ·\\overrightarrow{2PZ^0}  + \\overrightarrow{1PX^1} ·\\overrightarrow{2PZ^1}  + \\overrightarrow{1PX^2} ·\\overrightarrow{2PZ^2} ],\n",
       "[\\overrightarrow{1PY^0} ·\\overrightarrow{1S^0}  + \\overrightarrow{1PY^1} ·\\overrightarrow{1S^1}  + \\overrightarrow{1PY^2} ·\\overrightarrow{1S^2} , \\overrightarrow{1PY^0} ·\\overrightarrow{1PX^0}  + \\overrightarrow{1PY^1} ·\\overrightarrow{1PX^1}  + \\overrightarrow{1PY^2} ·\\overrightarrow{1PX^2} , \\overrightarrow{1PY^0} ·\\overrightarrow{1PY^0}  + \\overrightarrow{1PY^1} ·\\overrightarrow{1PY^1}  + \\overrightarrow{1PY^2} ·\\overrightarrow{1PY^2} , \\overrightarrow{1PY^0} ·\\overrightarrow{1PZ^0}  + \\overrightarrow{1PY^1} ·\\overrightarrow{1PZ^1}  + \\overrightarrow{1PY^2} ·\\overrightarrow{1PZ^2} , \\overrightarrow{1PY^0} ·\\overrightarrow{2S^0}  + \\overrightarrow{1PY^1} ·\\overrightarrow{2S^1}  + \\overrightarrow{1PY^2} ·\\overrightarrow{2S^2} , \\overrightarrow{1PY^0} ·\\overrightarrow{2PX^0}  + \\overrightarrow{1PY^1} ·\\overrightarrow{2PX^1}  + \\overrightarrow{1PY^2} ·\\overrightarrow{2PX^2} , \\overrightarrow{1PY^0} ·\\overrightarrow{2PY^0}  + \\overrightarrow{1PY^1} ·\\overrightarrow{2PY^1}  + \\overrightarrow{1PY^2} ·\\overrightarrow{2PY^2} , \\overrightarrow{1PY^0} ·\\overrightarrow{2PZ^0}  + \\overrightarrow{1PY^1} ·\\overrightarrow{2PZ^1}  + \\overrightarrow{1PY^2} ·\\overrightarrow{2PZ^2} ],\n",
       "[\\overrightarrow{1PZ^0} ·\\overrightarrow{1S^0}  + \\overrightarrow{1PZ^1} ·\\overrightarrow{1S^1}  + \\overrightarrow{1PZ^2} ·\\overrightarrow{1S^2} , \\overrightarrow{1PZ^0} ·\\overrightarrow{1PX^0}  + \\overrightarrow{1PZ^1} ·\\overrightarrow{1PX^1}  + \\overrightarrow{1PZ^2} ·\\overrightarrow{1PX^2} , \\overrightarrow{1PZ^0} ·\\overrightarrow{1PY^0}  + \\overrightarrow{1PZ^1} ·\\overrightarrow{1PY^1}  + \\overrightarrow{1PZ^2} ·\\overrightarrow{1PY^2} , \\overrightarrow{1PZ^0} ·\\overrightarrow{1PZ^0}  + \\overrightarrow{1PZ^1} ·\\overrightarrow{1PZ^1}  + \\overrightarrow{1PZ^2} ·\\overrightarrow{1PZ^2} , \\overrightarrow{1PZ^0} ·\\overrightarrow{2S^0}  + \\overrightarrow{1PZ^1} ·\\overrightarrow{2S^1}  + \\overrightarrow{1PZ^2} ·\\overrightarrow{2S^2} , \\overrightarrow{1PZ^0} ·\\overrightarrow{2PX^0}  + \\overrightarrow{1PZ^1} ·\\overrightarrow{2PX^1}  + \\overrightarrow{1PZ^2} ·\\overrightarrow{2PX^2} , \\overrightarrow{1PZ^0} ·\\overrightarrow{2PY^0}  + \\overrightarrow{1PZ^1} ·\\overrightarrow{2PY^1}  + \\overrightarrow{1PZ^2} ·\\overrightarrow{2PY^2} , \\overrightarrow{1PZ^0} ·\\overrightarrow{2PZ^0}  + \\overrightarrow{1PZ^1} ·\\overrightarrow{2PZ^1}  + \\overrightarrow{1PZ^2} ·\\overrightarrow{2PZ^2} ],\n",
       "[   \\overrightarrow{2S^0} ·\\overrightarrow{1S^0}  + \\overrightarrow{2S^1} ·\\overrightarrow{1S^1}  + \\overrightarrow{2S^2} ·\\overrightarrow{1S^2} ,    \\overrightarrow{2S^0} ·\\overrightarrow{1PX^0}  + \\overrightarrow{2S^1} ·\\overrightarrow{1PX^1}  + \\overrightarrow{2S^2} ·\\overrightarrow{1PX^2} ,    \\overrightarrow{2S^0} ·\\overrightarrow{1PY^0}  + \\overrightarrow{2S^1} ·\\overrightarrow{1PY^1}  + \\overrightarrow{2S^2} ·\\overrightarrow{1PY^2} ,    \\overrightarrow{2S^0} ·\\overrightarrow{1PZ^0}  + \\overrightarrow{2S^1} ·\\overrightarrow{1PZ^1}  + \\overrightarrow{2S^2} ·\\overrightarrow{1PZ^2} ,    \\overrightarrow{2S^0} ·\\overrightarrow{2S^0}  + \\overrightarrow{2S^1} ·\\overrightarrow{2S^1}  + \\overrightarrow{2S^2} ·\\overrightarrow{2S^2} ,    \\overrightarrow{2S^0} ·\\overrightarrow{2PX^0}  + \\overrightarrow{2S^1} ·\\overrightarrow{2PX^1}  + \\overrightarrow{2S^2} ·\\overrightarrow{2PX^2} ,    \\overrightarrow{2S^0} ·\\overrightarrow{2PY^0}  + \\overrightarrow{2S^1} ·\\overrightarrow{2PY^1}  + \\overrightarrow{2S^2} ·\\overrightarrow{2PY^2} ,    \\overrightarrow{2S^0} ·\\overrightarrow{2PZ^0}  + \\overrightarrow{2S^1} ·\\overrightarrow{2PZ^1}  + \\overrightarrow{2S^2} ·\\overrightarrow{2PZ^2} ],\n",
       "[\\overrightarrow{2PX^0} ·\\overrightarrow{1S^0}  + \\overrightarrow{2PX^1} ·\\overrightarrow{1S^1}  + \\overrightarrow{2PX^2} ·\\overrightarrow{1S^2} , \\overrightarrow{2PX^0} ·\\overrightarrow{1PX^0}  + \\overrightarrow{2PX^1} ·\\overrightarrow{1PX^1}  + \\overrightarrow{2PX^2} ·\\overrightarrow{1PX^2} , \\overrightarrow{2PX^0} ·\\overrightarrow{1PY^0}  + \\overrightarrow{2PX^1} ·\\overrightarrow{1PY^1}  + \\overrightarrow{2PX^2} ·\\overrightarrow{1PY^2} , \\overrightarrow{2PX^0} ·\\overrightarrow{1PZ^0}  + \\overrightarrow{2PX^1} ·\\overrightarrow{1PZ^1}  + \\overrightarrow{2PX^2} ·\\overrightarrow{1PZ^2} , \\overrightarrow{2PX^0} ·\\overrightarrow{2S^0}  + \\overrightarrow{2PX^1} ·\\overrightarrow{2S^1}  + \\overrightarrow{2PX^2} ·\\overrightarrow{2S^2} , \\overrightarrow{2PX^0} ·\\overrightarrow{2PX^0}  + \\overrightarrow{2PX^1} ·\\overrightarrow{2PX^1}  + \\overrightarrow{2PX^2} ·\\overrightarrow{2PX^2} , \\overrightarrow{2PX^0} ·\\overrightarrow{2PY^0}  + \\overrightarrow{2PX^1} ·\\overrightarrow{2PY^1}  + \\overrightarrow{2PX^2} ·\\overrightarrow{2PY^2} , \\overrightarrow{2PX^0} ·\\overrightarrow{2PZ^0}  + \\overrightarrow{2PX^1} ·\\overrightarrow{2PZ^1}  + \\overrightarrow{2PX^2} ·\\overrightarrow{2PZ^2} ],\n",
       "[\\overrightarrow{2PY^0} ·\\overrightarrow{1S^0}  + \\overrightarrow{2PY^1} ·\\overrightarrow{1S^1}  + \\overrightarrow{2PY^2} ·\\overrightarrow{1S^2} , \\overrightarrow{2PY^0} ·\\overrightarrow{1PX^0}  + \\overrightarrow{2PY^1} ·\\overrightarrow{1PX^1}  + \\overrightarrow{2PY^2} ·\\overrightarrow{1PX^2} , \\overrightarrow{2PY^0} ·\\overrightarrow{1PY^0}  + \\overrightarrow{2PY^1} ·\\overrightarrow{1PY^1}  + \\overrightarrow{2PY^2} ·\\overrightarrow{1PY^2} , \\overrightarrow{2PY^0} ·\\overrightarrow{1PZ^0}  + \\overrightarrow{2PY^1} ·\\overrightarrow{1PZ^1}  + \\overrightarrow{2PY^2} ·\\overrightarrow{1PZ^2} , \\overrightarrow{2PY^0} ·\\overrightarrow{2S^0}  + \\overrightarrow{2PY^1} ·\\overrightarrow{2S^1}  + \\overrightarrow{2PY^2} ·\\overrightarrow{2S^2} , \\overrightarrow{2PY^0} ·\\overrightarrow{2PX^0}  + \\overrightarrow{2PY^1} ·\\overrightarrow{2PX^1}  + \\overrightarrow{2PY^2} ·\\overrightarrow{2PX^2} , \\overrightarrow{2PY^0} ·\\overrightarrow{2PY^0}  + \\overrightarrow{2PY^1} ·\\overrightarrow{2PY^1}  + \\overrightarrow{2PY^2} ·\\overrightarrow{2PY^2} , \\overrightarrow{2PY^0} ·\\overrightarrow{2PZ^0}  + \\overrightarrow{2PY^1} ·\\overrightarrow{2PZ^1}  + \\overrightarrow{2PY^2} ·\\overrightarrow{2PZ^2} ],\n",
       "[\\overrightarrow{2PZ^0} ·\\overrightarrow{1S^0}  + \\overrightarrow{2PZ^1} ·\\overrightarrow{1S^1}  + \\overrightarrow{2PZ^2} ·\\overrightarrow{1S^2} , \\overrightarrow{2PZ^0} ·\\overrightarrow{1PX^0}  + \\overrightarrow{2PZ^1} ·\\overrightarrow{1PX^1}  + \\overrightarrow{2PZ^2} ·\\overrightarrow{1PX^2} , \\overrightarrow{2PZ^0} ·\\overrightarrow{1PY^0}  + \\overrightarrow{2PZ^1} ·\\overrightarrow{1PY^1}  + \\overrightarrow{2PZ^2} ·\\overrightarrow{1PY^2} , \\overrightarrow{2PZ^0} ·\\overrightarrow{1PZ^0}  + \\overrightarrow{2PZ^1} ·\\overrightarrow{1PZ^1}  + \\overrightarrow{2PZ^2} ·\\overrightarrow{1PZ^2} , \\overrightarrow{2PZ^0} ·\\overrightarrow{2S^0}  + \\overrightarrow{2PZ^1} ·\\overrightarrow{2S^1}  + \\overrightarrow{2PZ^2} ·\\overrightarrow{2S^2} , \\overrightarrow{2PZ^0} ·\\overrightarrow{2PX^0}  + \\overrightarrow{2PZ^1} ·\\overrightarrow{2PX^1}  + \\overrightarrow{2PZ^2} ·\\overrightarrow{2PX^2} , \\overrightarrow{2PZ^0} ·\\overrightarrow{2PY^0}  + \\overrightarrow{2PZ^1} ·\\overrightarrow{2PY^1}  + \\overrightarrow{2PZ^2} ·\\overrightarrow{2PY^2} , \\overrightarrow{2PZ^0} ·\\overrightarrow{2PZ^0}  + \\overrightarrow{2PZ^1} ·\\overrightarrow{2PZ^1}  + \\overrightarrow{2PZ^2} ·\\overrightarrow{2PZ^2} ]])"
      ]
     },
     "execution_count": 62,
     "metadata": {},
     "output_type": "execute_result"
    }
   ],
   "source": [
    "P1+P2+P3"
   ]
  },
  {
   "cell_type": "code",
   "execution_count": 60,
   "metadata": {},
   "outputs": [
    {
     "data": {
      "text/latex": [
       "$\\displaystyle S_{1PX,2S} \\overrightarrow{1S} ·\\overrightarrow{1PX}  + S_{1PY,2S} \\overrightarrow{1S} ·\\overrightarrow{1PY}  + S_{1PZ,2S} \\overrightarrow{1S} ·\\overrightarrow{1PZ}  + S_{1S,2S} \\overrightarrow{1S} ·\\overrightarrow{1S}  + S_{2PX,2S} \\overrightarrow{1S} ·\\overrightarrow{2PX}  + S_{2PY,2S} \\overrightarrow{1S} ·\\overrightarrow{2PY}  + S_{2PZ,2S} \\overrightarrow{1S} ·\\overrightarrow{2PZ}  + S_{2S,2S} \\overrightarrow{1S} ·\\overrightarrow{2S} $"
      ],
      "text/plain": [
       "S_{1PX,2S}*\\overrightarrow{1S} ·\\overrightarrow{1PX}  + S_{1PY,2S}*\\overrightarrow{1S} ·\\overrightarrow{1PY}  + S_{1PZ,2S}*\\overrightarrow{1S} ·\\overrightarrow{1PZ}  + S_{1S,2S}*\\overrightarrow{1S} ·\\overrightarrow{1S}  + S_{2PX,2S}*\\overrightarrow{1S} ·\\overrightarrow{2PX}  + S_{2PY,2S}*\\overrightarrow{1S} ·\\overrightarrow{2PY}  + S_{2PZ,2S}*\\overrightarrow{1S} ·\\overrightarrow{2PZ}  + S_{2S,2S}*\\overrightarrow{1S} ·\\overrightarrow{2S} "
      ]
     },
     "execution_count": 60,
     "metadata": {},
     "output_type": "execute_result"
    }
   ],
   "source": [
    "OM0[0,4]"
   ]
  },
  {
   "cell_type": "code",
   "execution_count": 61,
   "metadata": {},
   "outputs": [
    {
     "data": {
      "text/latex": [
       "$\\displaystyle S_{1PX,2S} \\left(\\overrightarrow{1S^0} ·\\overrightarrow{1PX^0}  + \\overrightarrow{1S^1} ·\\overrightarrow{1PX^1}  + \\overrightarrow{1S^2} ·\\overrightarrow{1PX^2} \\right) + S_{1PY,2S} \\left(\\overrightarrow{1S^0} ·\\overrightarrow{1PY^0}  + \\overrightarrow{1S^1} ·\\overrightarrow{1PY^1}  + \\overrightarrow{1S^2} ·\\overrightarrow{1PY^2} \\right) + S_{1PZ,2S} \\left(\\overrightarrow{1S^0} ·\\overrightarrow{1PZ^0}  + \\overrightarrow{1S^1} ·\\overrightarrow{1PZ^1}  + \\overrightarrow{1S^2} ·\\overrightarrow{1PZ^2} \\right) + S_{1S,2S} \\left(\\overrightarrow{1S^0} ·\\overrightarrow{1S^0}  + \\overrightarrow{1S^1} ·\\overrightarrow{1S^1}  + \\overrightarrow{1S^2} ·\\overrightarrow{1S^2} \\right) + S_{2PX,2S} \\left(\\overrightarrow{1S^0} ·\\overrightarrow{2PX^0}  + \\overrightarrow{1S^1} ·\\overrightarrow{2PX^1}  + \\overrightarrow{1S^2} ·\\overrightarrow{2PX^2} \\right) + S_{2PY,2S} \\left(\\overrightarrow{1S^0} ·\\overrightarrow{2PY^0}  + \\overrightarrow{1S^1} ·\\overrightarrow{2PY^1}  + \\overrightarrow{1S^2} ·\\overrightarrow{2PY^2} \\right) + S_{2PZ,2S} \\left(\\overrightarrow{1S^0} ·\\overrightarrow{2PZ^0}  + \\overrightarrow{1S^1} ·\\overrightarrow{2PZ^1}  + \\overrightarrow{1S^2} ·\\overrightarrow{2PZ^2} \\right) + S_{2S,2S} \\left(\\overrightarrow{1S^0} ·\\overrightarrow{2S^0}  + \\overrightarrow{1S^1} ·\\overrightarrow{2S^1}  + \\overrightarrow{1S^2} ·\\overrightarrow{2S^2} \\right)$"
      ],
      "text/plain": [
       "S_{1PX,2S}*(\\overrightarrow{1S^0} ·\\overrightarrow{1PX^0}  + \\overrightarrow{1S^1} ·\\overrightarrow{1PX^1}  + \\overrightarrow{1S^2} ·\\overrightarrow{1PX^2} ) + S_{1PY,2S}*(\\overrightarrow{1S^0} ·\\overrightarrow{1PY^0}  + \\overrightarrow{1S^1} ·\\overrightarrow{1PY^1}  + \\overrightarrow{1S^2} ·\\overrightarrow{1PY^2} ) + S_{1PZ,2S}*(\\overrightarrow{1S^0} ·\\overrightarrow{1PZ^0}  + \\overrightarrow{1S^1} ·\\overrightarrow{1PZ^1}  + \\overrightarrow{1S^2} ·\\overrightarrow{1PZ^2} ) + S_{1S,2S}*(\\overrightarrow{1S^0} ·\\overrightarrow{1S^0}  + \\overrightarrow{1S^1} ·\\overrightarrow{1S^1}  + \\overrightarrow{1S^2} ·\\overrightarrow{1S^2} ) + S_{2PX,2S}*(\\overrightarrow{1S^0} ·\\overrightarrow{2PX^0}  + \\overrightarrow{1S^1} ·\\overrightarrow{2PX^1}  + \\overrightarrow{1S^2} ·\\overrightarrow{2PX^2} ) + S_{2PY,2S}*(\\overrightarrow{1S^0} ·\\overrightarrow{2PY^0}  + \\overrightarrow{1S^1} ·\\overrightarrow{2PY^1}  + \\overrightarrow{1S^2} ·\\overrightarrow{2PY^2} ) + S_{2PZ,2S}*(\\overrightarrow{1S^0} ·\\overrightarrow{2PZ^0}  + \\overrightarrow{1S^1} ·\\overrightarrow{2PZ^1}  + \\overrightarrow{1S^2} ·\\overrightarrow{2PZ^2} ) + S_{2S,2S}*(\\overrightarrow{1S^0} ·\\overrightarrow{2S^0}  + \\overrightarrow{1S^1} ·\\overrightarrow{2S^1}  + \\overrightarrow{1S^2} ·\\overrightarrow{2S^2} )"
      ]
     },
     "execution_count": 61,
     "metadata": {},
     "output_type": "execute_result"
    }
   ],
   "source": [
    "OM1[0,4]"
   ]
  },
  {
   "cell_type": "code",
   "execution_count": 64,
   "metadata": {},
   "outputs": [
    {
     "data": {
      "text/latex": [
       "$\\displaystyle S_{1PX,2PX} \\overrightarrow{1S} ·\\overrightarrow{1PX}  + S_{1PY,2PX} \\overrightarrow{1S} ·\\overrightarrow{1PY}  + S_{1PZ,2PX} \\overrightarrow{1S} ·\\overrightarrow{1PZ}  + S_{1S,2PX} \\overrightarrow{1S} ·\\overrightarrow{1S}  + S_{2PX,2PX} \\overrightarrow{1S} ·\\overrightarrow{2PX}  + S_{2PY,2PX} \\overrightarrow{1S} ·\\overrightarrow{2PY}  + S_{2PZ,2PX} \\overrightarrow{1S} ·\\overrightarrow{2PZ}  + S_{2S,2PX} \\overrightarrow{1S} ·\\overrightarrow{2S} $"
      ],
      "text/plain": [
       "S_{1PX,2PX}*\\overrightarrow{1S} ·\\overrightarrow{1PX}  + S_{1PY,2PX}*\\overrightarrow{1S} ·\\overrightarrow{1PY}  + S_{1PZ,2PX}*\\overrightarrow{1S} ·\\overrightarrow{1PZ}  + S_{1S,2PX}*\\overrightarrow{1S} ·\\overrightarrow{1S}  + S_{2PX,2PX}*\\overrightarrow{1S} ·\\overrightarrow{2PX}  + S_{2PY,2PX}*\\overrightarrow{1S} ·\\overrightarrow{2PY}  + S_{2PZ,2PX}*\\overrightarrow{1S} ·\\overrightarrow{2PZ}  + S_{2S,2PX}*\\overrightarrow{1S} ·\\overrightarrow{2S} "
      ]
     },
     "execution_count": 64,
     "metadata": {},
     "output_type": "execute_result"
    }
   ],
   "source": [
    "OM0[0,5]"
   ]
  },
  {
   "cell_type": "code",
   "execution_count": 65,
   "metadata": {},
   "outputs": [
    {
     "data": {
      "text/latex": [
       "$\\displaystyle S_{1PX,2PX} \\left(\\overrightarrow{1S^0} ·\\overrightarrow{1PX^0}  + \\overrightarrow{1S^1} ·\\overrightarrow{1PX^1}  + \\overrightarrow{1S^2} ·\\overrightarrow{1PX^2} \\right) + S_{1PY,2PX} \\left(\\overrightarrow{1S^0} ·\\overrightarrow{1PY^0}  + \\overrightarrow{1S^1} ·\\overrightarrow{1PY^1}  + \\overrightarrow{1S^2} ·\\overrightarrow{1PY^2} \\right) + S_{1PZ,2PX} \\left(\\overrightarrow{1S^0} ·\\overrightarrow{1PZ^0}  + \\overrightarrow{1S^1} ·\\overrightarrow{1PZ^1}  + \\overrightarrow{1S^2} ·\\overrightarrow{1PZ^2} \\right) + S_{1S,2PX} \\left(\\overrightarrow{1S^0} ·\\overrightarrow{1S^0}  + \\overrightarrow{1S^1} ·\\overrightarrow{1S^1}  + \\overrightarrow{1S^2} ·\\overrightarrow{1S^2} \\right) + S_{2PX,2PX} \\left(\\overrightarrow{1S^0} ·\\overrightarrow{2PX^0}  + \\overrightarrow{1S^1} ·\\overrightarrow{2PX^1}  + \\overrightarrow{1S^2} ·\\overrightarrow{2PX^2} \\right) + S_{2PY,2PX} \\left(\\overrightarrow{1S^0} ·\\overrightarrow{2PY^0}  + \\overrightarrow{1S^1} ·\\overrightarrow{2PY^1}  + \\overrightarrow{1S^2} ·\\overrightarrow{2PY^2} \\right) + S_{2PZ,2PX} \\left(\\overrightarrow{1S^0} ·\\overrightarrow{2PZ^0}  + \\overrightarrow{1S^1} ·\\overrightarrow{2PZ^1}  + \\overrightarrow{1S^2} ·\\overrightarrow{2PZ^2} \\right) + S_{2S,2PX} \\left(\\overrightarrow{1S^0} ·\\overrightarrow{2S^0}  + \\overrightarrow{1S^1} ·\\overrightarrow{2S^1}  + \\overrightarrow{1S^2} ·\\overrightarrow{2S^2} \\right)$"
      ],
      "text/plain": [
       "S_{1PX,2PX}*(\\overrightarrow{1S^0} ·\\overrightarrow{1PX^0}  + \\overrightarrow{1S^1} ·\\overrightarrow{1PX^1}  + \\overrightarrow{1S^2} ·\\overrightarrow{1PX^2} ) + S_{1PY,2PX}*(\\overrightarrow{1S^0} ·\\overrightarrow{1PY^0}  + \\overrightarrow{1S^1} ·\\overrightarrow{1PY^1}  + \\overrightarrow{1S^2} ·\\overrightarrow{1PY^2} ) + S_{1PZ,2PX}*(\\overrightarrow{1S^0} ·\\overrightarrow{1PZ^0}  + \\overrightarrow{1S^1} ·\\overrightarrow{1PZ^1}  + \\overrightarrow{1S^2} ·\\overrightarrow{1PZ^2} ) + S_{1S,2PX}*(\\overrightarrow{1S^0} ·\\overrightarrow{1S^0}  + \\overrightarrow{1S^1} ·\\overrightarrow{1S^1}  + \\overrightarrow{1S^2} ·\\overrightarrow{1S^2} ) + S_{2PX,2PX}*(\\overrightarrow{1S^0} ·\\overrightarrow{2PX^0}  + \\overrightarrow{1S^1} ·\\overrightarrow{2PX^1}  + \\overrightarrow{1S^2} ·\\overrightarrow{2PX^2} ) + S_{2PY,2PX}*(\\overrightarrow{1S^0} ·\\overrightarrow{2PY^0}  + \\overrightarrow{1S^1} ·\\overrightarrow{2PY^1}  + \\overrightarrow{1S^2} ·\\overrightarrow{2PY^2} ) + S_{2PZ,2PX}*(\\overrightarrow{1S^0} ·\\overrightarrow{2PZ^0}  + \\overrightarrow{1S^1} ·\\overrightarrow{2PZ^1}  + \\overrightarrow{1S^2} ·\\overrightarrow{2PZ^2} ) + S_{2S,2PX}*(\\overrightarrow{1S^0} ·\\overrightarrow{2S^0}  + \\overrightarrow{1S^1} ·\\overrightarrow{2S^1}  + \\overrightarrow{1S^2} ·\\overrightarrow{2S^2} )"
      ]
     },
     "execution_count": 65,
     "metadata": {},
     "output_type": "execute_result"
    }
   ],
   "source": [
    "OM1[0,5]"
   ]
  },
  {
   "cell_type": "code",
   "execution_count": 66,
   "metadata": {},
   "outputs": [
    {
     "data": {
      "text/latex": [
       "$\\displaystyle S_{1PX,1S} \\left(\\overrightarrow{2PX^0} ·\\overrightarrow{1PX^0}  + \\overrightarrow{2PX^1} ·\\overrightarrow{1PX^1}  + \\overrightarrow{2PX^2} ·\\overrightarrow{1PX^2} \\right) + S_{1PY,1S} \\left(\\overrightarrow{2PX^0} ·\\overrightarrow{1PY^0}  + \\overrightarrow{2PX^1} ·\\overrightarrow{1PY^1}  + \\overrightarrow{2PX^2} ·\\overrightarrow{1PY^2} \\right) + S_{1PZ,1S} \\left(\\overrightarrow{2PX^0} ·\\overrightarrow{1PZ^0}  + \\overrightarrow{2PX^1} ·\\overrightarrow{1PZ^1}  + \\overrightarrow{2PX^2} ·\\overrightarrow{1PZ^2} \\right) + S_{1S,1S} \\left(\\overrightarrow{2PX^0} ·\\overrightarrow{1S^0}  + \\overrightarrow{2PX^1} ·\\overrightarrow{1S^1}  + \\overrightarrow{2PX^2} ·\\overrightarrow{1S^2} \\right) + S_{2PX,1S} \\left(\\overrightarrow{2PX^0} ·\\overrightarrow{2PX^0}  + \\overrightarrow{2PX^1} ·\\overrightarrow{2PX^1}  + \\overrightarrow{2PX^2} ·\\overrightarrow{2PX^2} \\right) + S_{2PY,1S} \\left(\\overrightarrow{2PX^0} ·\\overrightarrow{2PY^0}  + \\overrightarrow{2PX^1} ·\\overrightarrow{2PY^1}  + \\overrightarrow{2PX^2} ·\\overrightarrow{2PY^2} \\right) + S_{2PZ,1S} \\left(\\overrightarrow{2PX^0} ·\\overrightarrow{2PZ^0}  + \\overrightarrow{2PX^1} ·\\overrightarrow{2PZ^1}  + \\overrightarrow{2PX^2} ·\\overrightarrow{2PZ^2} \\right) + S_{2S,1S} \\left(\\overrightarrow{2PX^0} ·\\overrightarrow{2S^0}  + \\overrightarrow{2PX^1} ·\\overrightarrow{2S^1}  + \\overrightarrow{2PX^2} ·\\overrightarrow{2S^2} \\right)$"
      ],
      "text/plain": [
       "S_{1PX,1S}*(\\overrightarrow{2PX^0} ·\\overrightarrow{1PX^0}  + \\overrightarrow{2PX^1} ·\\overrightarrow{1PX^1}  + \\overrightarrow{2PX^2} ·\\overrightarrow{1PX^2} ) + S_{1PY,1S}*(\\overrightarrow{2PX^0} ·\\overrightarrow{1PY^0}  + \\overrightarrow{2PX^1} ·\\overrightarrow{1PY^1}  + \\overrightarrow{2PX^2} ·\\overrightarrow{1PY^2} ) + S_{1PZ,1S}*(\\overrightarrow{2PX^0} ·\\overrightarrow{1PZ^0}  + \\overrightarrow{2PX^1} ·\\overrightarrow{1PZ^1}  + \\overrightarrow{2PX^2} ·\\overrightarrow{1PZ^2} ) + S_{1S,1S}*(\\overrightarrow{2PX^0} ·\\overrightarrow{1S^0}  + \\overrightarrow{2PX^1} ·\\overrightarrow{1S^1}  + \\overrightarrow{2PX^2} ·\\overrightarrow{1S^2} ) + S_{2PX,1S}*(\\overrightarrow{2PX^0} ·\\overrightarrow{2PX^0}  + \\overrightarrow{2PX^1} ·\\overrightarrow{2PX^1}  + \\overrightarrow{2PX^2} ·\\overrightarrow{2PX^2} ) + S_{2PY,1S}*(\\overrightarrow{2PX^0} ·\\overrightarrow{2PY^0}  + \\overrightarrow{2PX^1} ·\\overrightarrow{2PY^1}  + \\overrightarrow{2PX^2} ·\\overrightarrow{2PY^2} ) + S_{2PZ,1S}*(\\overrightarrow{2PX^0} ·\\overrightarrow{2PZ^0}  + \\overrightarrow{2PX^1} ·\\overrightarrow{2PZ^1}  + \\overrightarrow{2PX^2} ·\\overrightarrow{2PZ^2} ) + S_{2S,1S}*(\\overrightarrow{2PX^0} ·\\overrightarrow{2S^0}  + \\overrightarrow{2PX^1} ·\\overrightarrow{2S^1}  + \\overrightarrow{2PX^2} ·\\overrightarrow{2S^2} )"
      ]
     },
     "execution_count": 66,
     "metadata": {},
     "output_type": "execute_result"
    }
   ],
   "source": [
    "OM1[5,0]"
   ]
  },
  {
   "cell_type": "code",
   "execution_count": 186,
   "metadata": {},
   "outputs": [
    {
     "data": {
      "text/plain": [
       "array([[ 7846.9911,  6264.3527,  8137.9936,  4737.8589,  7169.0491,\n",
       "         6376.039 ,  7665.9575,  9452.6181,  8021.6333,  3979.836 ],\n",
       "       [ 6264.3527,  5002.1637,  6560.3303,  3785.2064,  6143.0294,\n",
       "         5251.7883,  6021.9304,  7441.9144,  6497.0768,  3386.8129],\n",
       "       [ 8137.9936,  6560.3303,  8536.4758,  4924.7331,  7651.3607,\n",
       "         6669.7132,  7972.6823,  9855.9494,  8401.8864,  4216.0045],\n",
       "       [ 4737.8589,  3785.2064,  4924.7331,  2942.597 ,  4458.0851,\n",
       "         3954.8876,  4657.2812,  5676.8669,  4972.8654,  2483.0865],\n",
       "       [ 7169.0491,  6143.0294,  7651.3607,  4458.0851,  6784.2363,\n",
       "         5848.8409,  7338.2878,  9177.2709,  7780.2802,  3713.1634],\n",
       "       [ 6376.039 ,  5251.7883,  6669.7132,  3954.8876,  5848.8409,\n",
       "         5286.713 ,  6322.2991,  7849.1335,  6765.4375,  3291.8536],\n",
       "       [ 7665.9575,  6021.9304,  7972.6823,  4657.2812,  7338.2878,\n",
       "         6322.2991,  7607.9428,  9141.3636,  7927.79  ,  4055.0675],\n",
       "       [ 9452.6181,  7441.9144,  9855.9494,  5676.8669,  9177.2709,\n",
       "         7849.1335,  9141.3636, 11275.8785,  9790.6317,  5078.4745],\n",
       "       [ 8021.6333,  6497.0768,  8401.8864,  4972.8654,  7780.2802,\n",
       "         6765.4375,  7927.79  ,  9790.6317,  8682.3925,  4347.5674],\n",
       "       [ 3979.836 ,  3386.8129,  4216.0045,  2483.0865,  3713.1634,\n",
       "         3291.8536,  4055.0675,  5078.4745,  4347.5674,  2093.0073]])"
      ]
     },
     "execution_count": 186,
     "metadata": {},
     "output_type": "execute_result"
    }
   ],
   "source": [
    "S=np.random.rand(10,10)\n",
    "S=S@S.T\n",
    "P1=np.random.rand(10,10)\n",
    "P1=P1@P1.T\n",
    "P2=np.random.rand(10,10)\n",
    "P2=P2@P2.T\n",
    "P=P1+P2\n",
    "(P@S)*(P@S).T-(P1@S)*(P1@S).T-(P2@S)*(P2@S).T"
   ]
  },
  {
   "cell_type": "code",
   "execution_count": 175,
   "metadata": {},
   "outputs": [
    {
     "data": {
      "text/plain": [
       "<matplotlib.image.AxesImage at 0x1ea1049e7d0>"
      ]
     },
     "execution_count": 175,
     "metadata": {},
     "output_type": "execute_result"
    },
    {
     "data": {
      "image/png": "[encoded data removed]",
      "text/plain": [
       "<Figure size 480x480 with 1 Axes>"
      ]
     },
     "metadata": {},
     "output_type": "display_data"
    }
   ],
   "source": [
    "plt.matshow(P)"
   ]
  },
  {
   "cell_type": "markdown",
   "metadata": {},
   "source": [
    "## 使用sympy推导"
   ]
  },
  {
   "cell_type": "code",
   "execution_count": 170,
   "metadata": {},
   "outputs": [
    {
     "data": {
      "text/latex": [
       "$\\displaystyle \\left[\\begin{matrix}C_{11} & C_{12}\\\\C_{21} & C_{22}\\\\C_{31} & C_{32}\\end{matrix}\\right]$"
      ],
      "text/plain": [
       "Matrix([\n",
       "[C_{11}, C_{12}],\n",
       "[C_{21}, C_{22}],\n",
       "[C_{31}, C_{32}]])"
      ]
     },
     "execution_count": 170,
     "metadata": {},
     "output_type": "execute_result"
    }
   ],
   "source": [
    "import sympy as sp\n",
    "syms0:list[list[sp.Symbol]]=[]\n",
    "syms1:list[list[sp.Symbol]]=[]\n",
    "syms2:list[list[sp.Symbol]]=[]\n",
    "for i in range(3):\n",
    "    syms0.append([])\n",
    "    syms1.append([])\n",
    "    syms2.append([])\n",
    "    for j in range(2):\n",
    "        syms0[-1].append(sp.Symbol(f'C_{{{i+1}{j+1}}}'))\n",
    "        syms1[-1].append(sp.Symbol(f'C_{{{i+1}{j+1}}}^1'))\n",
    "        syms2[-1].append(sp.Symbol(f'C_{{{i+1}{j+1}}}^2'))\n",
    "C=sp.Matrix(syms0)\n",
    "C1=sp.Matrix(syms1)\n",
    "C2=sp.Matrix(syms2)\n",
    "C"
   ]
  },
  {
   "cell_type": "code",
   "execution_count": 175,
   "metadata": {},
   "outputs": [
    {
     "data": {
      "text/latex": [
       "$\\displaystyle \\left[\\begin{matrix}S_{11} & S_{12} & S_{13}\\\\S_{21} & S_{22} & S_{23}\\\\S_{31} & S_{32} & S_{33}\\end{matrix}\\right]$"
      ],
      "text/plain": [
       "Matrix([\n",
       "[S_{11}, S_{12}, S_{13}],\n",
       "[S_{21}, S_{22}, S_{23}],\n",
       "[S_{31}, S_{32}, S_{33}]])"
      ]
     },
     "execution_count": 175,
     "metadata": {},
     "output_type": "execute_result"
    }
   ],
   "source": [
    "import sympy as sp\n",
    "syms:list[list[sp.Symbol]]=[]\n",
    "for i in range(3):\n",
    "    syms.append([])\n",
    "    for j in range(3):\n",
    "        syms[-1].append(sp.Symbol(f'S_{{{i+1}{j+1}}}'))\n",
    "S=sp.Matrix(syms)\n",
    "S"
   ]
  },
  {
   "cell_type": "code",
   "execution_count": 176,
   "metadata": {},
   "outputs": [],
   "source": [
    "def get_OM(C,S):\n",
    "    P=C@C.T\n",
    "    O=(P@S)*(P@S).T\n",
    "    return O"
   ]
  },
  {
   "cell_type": "code",
   "execution_count": 179,
   "metadata": {},
   "outputs": [
    {
     "data": {
      "text/latex": [
       "$\\displaystyle \\left[\\begin{matrix}\\left(S_{11} \\left(C_{11}^{2} + C_{12}^{2}\\right) + S_{21} \\left(C_{11} C_{21} + C_{12} C_{22}\\right) + S_{31} \\left(C_{11} C_{31} + C_{12} C_{32}\\right)\\right)^{2} + \\left(S_{12} \\left(C_{11}^{2} + C_{12}^{2}\\right) + S_{22} \\left(C_{11} C_{21} + C_{12} C_{22}\\right) + S_{32} \\left(C_{11} C_{31} + C_{12} C_{32}\\right)\\right)^{2} + \\left(S_{13} \\left(C_{11}^{2} + C_{12}^{2}\\right) + S_{23} \\left(C_{11} C_{21} + C_{12} C_{22}\\right) + S_{33} \\left(C_{11} C_{31} + C_{12} C_{32}\\right)\\right)^{2} & \\left(S_{11} \\left(C_{11}^{2} + C_{12}^{2}\\right) + S_{21} \\left(C_{11} C_{21} + C_{12} C_{22}\\right) + S_{31} \\left(C_{11} C_{31} + C_{12} C_{32}\\right)\\right) \\left(S_{11} \\left(C_{11} C_{21} + C_{12} C_{22}\\right) + S_{21} \\left(C_{21}^{2} + C_{22}^{2}\\right) + S_{31} \\left(C_{21} C_{31} + C_{22} C_{32}\\right)\\right) + \\left(S_{12} \\left(C_{11}^{2} + C_{12}^{2}\\right) + S_{22} \\left(C_{11} C_{21} + C_{12} C_{22}\\right) + S_{32} \\left(C_{11} C_{31} + C_{12} C_{32}\\right)\\right) \\left(S_{12} \\left(C_{11} C_{21} + C_{12} C_{22}\\right) + S_{22} \\left(C_{21}^{2} + C_{22}^{2}\\right) + S_{32} \\left(C_{21} C_{31} + C_{22} C_{32}\\right)\\right) + \\left(S_{13} \\left(C_{11}^{2} + C_{12}^{2}\\right) + S_{23} \\left(C_{11} C_{21} + C_{12} C_{22}\\right) + S_{33} \\left(C_{11} C_{31} + C_{12} C_{32}\\right)\\right) \\left(S_{13} \\left(C_{11} C_{21} + C_{12} C_{22}\\right) + S_{23} \\left(C_{21}^{2} + C_{22}^{2}\\right) + S_{33} \\left(C_{21} C_{31} + C_{22} C_{32}\\right)\\right) & \\left(S_{11} \\left(C_{11}^{2} + C_{12}^{2}\\right) + S_{21} \\left(C_{11} C_{21} + C_{12} C_{22}\\right) + S_{31} \\left(C_{11} C_{31} + C_{12} C_{32}\\right)\\right) \\left(S_{11} \\left(C_{11} C_{31} + C_{12} C_{32}\\right) + S_{21} \\left(C_{21} C_{31} + C_{22} C_{32}\\right) + S_{31} \\left(C_{31}^{2} + C_{32}^{2}\\right)\\right) + \\left(S_{12} \\left(C_{11}^{2} + C_{12}^{2}\\right) + S_{22} \\left(C_{11} C_{21} + C_{12} C_{22}\\right) + S_{32} \\left(C_{11} C_{31} + C_{12} C_{32}\\right)\\right) \\left(S_{12} \\left(C_{11} C_{31} + C_{12} C_{32}\\right) + S_{22} \\left(C_{21} C_{31} + C_{22} C_{32}\\right) + S_{32} \\left(C_{31}^{2} + C_{32}^{2}\\right)\\right) + \\left(S_{13} \\left(C_{11}^{2} + C_{12}^{2}\\right) + S_{23} \\left(C_{11} C_{21} + C_{12} C_{22}\\right) + S_{33} \\left(C_{11} C_{31} + C_{12} C_{32}\\right)\\right) \\left(S_{13} \\left(C_{11} C_{31} + C_{12} C_{32}\\right) + S_{23} \\left(C_{21} C_{31} + C_{22} C_{32}\\right) + S_{33} \\left(C_{31}^{2} + C_{32}^{2}\\right)\\right)\\\\\\left(S_{11} \\left(C_{11}^{2} + C_{12}^{2}\\right) + S_{21} \\left(C_{11} C_{21} + C_{12} C_{22}\\right) + S_{31} \\left(C_{11} C_{31} + C_{12} C_{32}\\right)\\right) \\left(S_{11} \\left(C_{11} C_{21} + C_{12} C_{22}\\right) + S_{21} \\left(C_{21}^{2} + C_{22}^{2}\\right) + S_{31} \\left(C_{21} C_{31} + C_{22} C_{32}\\right)\\right) + \\left(S_{12} \\left(C_{11}^{2} + C_{12}^{2}\\right) + S_{22} \\left(C_{11} C_{21} + C_{12} C_{22}\\right) + S_{32} \\left(C_{11} C_{31} + C_{12} C_{32}\\right)\\right) \\left(S_{12} \\left(C_{11} C_{21} + C_{12} C_{22}\\right) + S_{22} \\left(C_{21}^{2} + C_{22}^{2}\\right) + S_{32} \\left(C_{21} C_{31} + C_{22} C_{32}\\right)\\right) + \\left(S_{13} \\left(C_{11}^{2} + C_{12}^{2}\\right) + S_{23} \\left(C_{11} C_{21} + C_{12} C_{22}\\right) + S_{33} \\left(C_{11} C_{31} + C_{12} C_{32}\\right)\\right) \\left(S_{13} \\left(C_{11} C_{21} + C_{12} C_{22}\\right) + S_{23} \\left(C_{21}^{2} + C_{22}^{2}\\right) + S_{33} \\left(C_{21} C_{31} + C_{22} C_{32}\\right)\\right) & \\left(S_{11} \\left(C_{11} C_{21} + C_{12} C_{22}\\right) + S_{21} \\left(C_{21}^{2} + C_{22}^{2}\\right) + S_{31} \\left(C_{21} C_{31} + C_{22} C_{32}\\right)\\right)^{2} + \\left(S_{12} \\left(C_{11} C_{21} + C_{12} C_{22}\\right) + S_{22} \\left(C_{21}^{2} + C_{22}^{2}\\right) + S_{32} \\left(C_{21} C_{31} + C_{22} C_{32}\\right)\\right)^{2} + \\left(S_{13} \\left(C_{11} C_{21} + C_{12} C_{22}\\right) + S_{23} \\left(C_{21}^{2} + C_{22}^{2}\\right) + S_{33} \\left(C_{21} C_{31} + C_{22} C_{32}\\right)\\right)^{2} & \\left(S_{11} \\left(C_{11} C_{21} + C_{12} C_{22}\\right) + S_{21} \\left(C_{21}^{2} + C_{22}^{2}\\right) + S_{31} \\left(C_{21} C_{31} + C_{22} C_{32}\\right)\\right) \\left(S_{11} \\left(C_{11} C_{31} + C_{12} C_{32}\\right) + S_{21} \\left(C_{21} C_{31} + C_{22} C_{32}\\right) + S_{31} \\left(C_{31}^{2} + C_{32}^{2}\\right)\\right) + \\left(S_{12} \\left(C_{11} C_{21} + C_{12} C_{22}\\right) + S_{22} \\left(C_{21}^{2} + C_{22}^{2}\\right) + S_{32} \\left(C_{21} C_{31} + C_{22} C_{32}\\right)\\right) \\left(S_{12} \\left(C_{11} C_{31} + C_{12} C_{32}\\right) + S_{22} \\left(C_{21} C_{31} + C_{22} C_{32}\\right) + S_{32} \\left(C_{31}^{2} + C_{32}^{2}\\right)\\right) + \\left(S_{13} \\left(C_{11} C_{21} + C_{12} C_{22}\\right) + S_{23} \\left(C_{21}^{2} + C_{22}^{2}\\right) + S_{33} \\left(C_{21} C_{31} + C_{22} C_{32}\\right)\\right) \\left(S_{13} \\left(C_{11} C_{31} + C_{12} C_{32}\\right) + S_{23} \\left(C_{21} C_{31} + C_{22} C_{32}\\right) + S_{33} \\left(C_{31}^{2} + C_{32}^{2}\\right)\\right)\\\\\\left(S_{11} \\left(C_{11}^{2} + C_{12}^{2}\\right) + S_{21} \\left(C_{11} C_{21} + C_{12} C_{22}\\right) + S_{31} \\left(C_{11} C_{31} + C_{12} C_{32}\\right)\\right) \\left(S_{11} \\left(C_{11} C_{31} + C_{12} C_{32}\\right) + S_{21} \\left(C_{21} C_{31} + C_{22} C_{32}\\right) + S_{31} \\left(C_{31}^{2} + C_{32}^{2}\\right)\\right) + \\left(S_{12} \\left(C_{11}^{2} + C_{12}^{2}\\right) + S_{22} \\left(C_{11} C_{21} + C_{12} C_{22}\\right) + S_{32} \\left(C_{11} C_{31} + C_{12} C_{32}\\right)\\right) \\left(S_{12} \\left(C_{11} C_{31} + C_{12} C_{32}\\right) + S_{22} \\left(C_{21} C_{31} + C_{22} C_{32}\\right) + S_{32} \\left(C_{31}^{2} + C_{32}^{2}\\right)\\right) + \\left(S_{13} \\left(C_{11}^{2} + C_{12}^{2}\\right) + S_{23} \\left(C_{11} C_{21} + C_{12} C_{22}\\right) + S_{33} \\left(C_{11} C_{31} + C_{12} C_{32}\\right)\\right) \\left(S_{13} \\left(C_{11} C_{31} + C_{12} C_{32}\\right) + S_{23} \\left(C_{21} C_{31} + C_{22} C_{32}\\right) + S_{33} \\left(C_{31}^{2} + C_{32}^{2}\\right)\\right) & \\left(S_{11} \\left(C_{11} C_{21} + C_{12} C_{22}\\right) + S_{21} \\left(C_{21}^{2} + C_{22}^{2}\\right) + S_{31} \\left(C_{21} C_{31} + C_{22} C_{32}\\right)\\right) \\left(S_{11} \\left(C_{11} C_{31} + C_{12} C_{32}\\right) + S_{21} \\left(C_{21} C_{31} + C_{22} C_{32}\\right) + S_{31} \\left(C_{31}^{2} + C_{32}^{2}\\right)\\right) + \\left(S_{12} \\left(C_{11} C_{21} + C_{12} C_{22}\\right) + S_{22} \\left(C_{21}^{2} + C_{22}^{2}\\right) + S_{32} \\left(C_{21} C_{31} + C_{22} C_{32}\\right)\\right) \\left(S_{12} \\left(C_{11} C_{31} + C_{12} C_{32}\\right) + S_{22} \\left(C_{21} C_{31} + C_{22} C_{32}\\right) + S_{32} \\left(C_{31}^{2} + C_{32}^{2}\\right)\\right) + \\left(S_{13} \\left(C_{11} C_{21} + C_{12} C_{22}\\right) + S_{23} \\left(C_{21}^{2} + C_{22}^{2}\\right) + S_{33} \\left(C_{21} C_{31} + C_{22} C_{32}\\right)\\right) \\left(S_{13} \\left(C_{11} C_{31} + C_{12} C_{32}\\right) + S_{23} \\left(C_{21} C_{31} + C_{22} C_{32}\\right) + S_{33} \\left(C_{31}^{2} + C_{32}^{2}\\right)\\right) & \\left(S_{11} \\left(C_{11} C_{31} + C_{12} C_{32}\\right) + S_{21} \\left(C_{21} C_{31} + C_{22} C_{32}\\right) + S_{31} \\left(C_{31}^{2} + C_{32}^{2}\\right)\\right)^{2} + \\left(S_{12} \\left(C_{11} C_{31} + C_{12} C_{32}\\right) + S_{22} \\left(C_{21} C_{31} + C_{22} C_{32}\\right) + S_{32} \\left(C_{31}^{2} + C_{32}^{2}\\right)\\right)^{2} + \\left(S_{13} \\left(C_{11} C_{31} + C_{12} C_{32}\\right) + S_{23} \\left(C_{21} C_{31} + C_{22} C_{32}\\right) + S_{33} \\left(C_{31}^{2} + C_{32}^{2}\\right)\\right)^{2}\\end{matrix}\\right]$"
      ],
      "text/plain": [
       "Matrix([\n",
       "[                                                                                                                                                                                                                                                                                                                                                (S_{11}*(C_{11}**2 + C_{12}**2) + S_{21}*(C_{11}*C_{21} + C_{12}*C_{22}) + S_{31}*(C_{11}*C_{31} + C_{12}*C_{32}))**2 + (S_{12}*(C_{11}**2 + C_{12}**2) + S_{22}*(C_{11}*C_{21} + C_{12}*C_{22}) + S_{32}*(C_{11}*C_{31} + C_{12}*C_{32}))**2 + (S_{13}*(C_{11}**2 + C_{12}**2) + S_{23}*(C_{11}*C_{21} + C_{12}*C_{22}) + S_{33}*(C_{11}*C_{31} + C_{12}*C_{32}))**2, (S_{11}*(C_{11}**2 + C_{12}**2) + S_{21}*(C_{11}*C_{21} + C_{12}*C_{22}) + S_{31}*(C_{11}*C_{31} + C_{12}*C_{32}))*(S_{11}*(C_{11}*C_{21} + C_{12}*C_{22}) + S_{21}*(C_{21}**2 + C_{22}**2) + S_{31}*(C_{21}*C_{31} + C_{22}*C_{32})) + (S_{12}*(C_{11}**2 + C_{12}**2) + S_{22}*(C_{11}*C_{21} + C_{12}*C_{22}) + S_{32}*(C_{11}*C_{31} + C_{12}*C_{32}))*(S_{12}*(C_{11}*C_{21} + C_{12}*C_{22}) + S_{22}*(C_{21}**2 + C_{22}**2) + S_{32}*(C_{21}*C_{31} + C_{22}*C_{32})) + (S_{13}*(C_{11}**2 + C_{12}**2) + S_{23}*(C_{11}*C_{21} + C_{12}*C_{22}) + S_{33}*(C_{11}*C_{31} + C_{12}*C_{32}))*(S_{13}*(C_{11}*C_{21} + C_{12}*C_{22}) + S_{23}*(C_{21}**2 + C_{22}**2) + S_{33}*(C_{21}*C_{31} + C_{22}*C_{32})), (S_{11}*(C_{11}**2 + C_{12}**2) + S_{21}*(C_{11}*C_{21} + C_{12}*C_{22}) + S_{31}*(C_{11}*C_{31} + C_{12}*C_{32}))*(S_{11}*(C_{11}*C_{31} + C_{12}*C_{32}) + S_{21}*(C_{21}*C_{31} + C_{22}*C_{32}) + S_{31}*(C_{31}**2 + C_{32}**2)) + (S_{12}*(C_{11}**2 + C_{12}**2) + S_{22}*(C_{11}*C_{21} + C_{12}*C_{22}) + S_{32}*(C_{11}*C_{31} + C_{12}*C_{32}))*(S_{12}*(C_{11}*C_{31} + C_{12}*C_{32}) + S_{22}*(C_{21}*C_{31} + C_{22}*C_{32}) + S_{32}*(C_{31}**2 + C_{32}**2)) + (S_{13}*(C_{11}**2 + C_{12}**2) + S_{23}*(C_{11}*C_{21} + C_{12}*C_{22}) + S_{33}*(C_{11}*C_{31} + C_{12}*C_{32}))*(S_{13}*(C_{11}*C_{31} + C_{12}*C_{32}) + S_{23}*(C_{21}*C_{31} + C_{22}*C_{32}) + S_{33}*(C_{31}**2 + C_{32}**2))],\n",
       "[(S_{11}*(C_{11}**2 + C_{12}**2) + S_{21}*(C_{11}*C_{21} + C_{12}*C_{22}) + S_{31}*(C_{11}*C_{31} + C_{12}*C_{32}))*(S_{11}*(C_{11}*C_{21} + C_{12}*C_{22}) + S_{21}*(C_{21}**2 + C_{22}**2) + S_{31}*(C_{21}*C_{31} + C_{22}*C_{32})) + (S_{12}*(C_{11}**2 + C_{12}**2) + S_{22}*(C_{11}*C_{21} + C_{12}*C_{22}) + S_{32}*(C_{11}*C_{31} + C_{12}*C_{32}))*(S_{12}*(C_{11}*C_{21} + C_{12}*C_{22}) + S_{22}*(C_{21}**2 + C_{22}**2) + S_{32}*(C_{21}*C_{31} + C_{22}*C_{32})) + (S_{13}*(C_{11}**2 + C_{12}**2) + S_{23}*(C_{11}*C_{21} + C_{12}*C_{22}) + S_{33}*(C_{11}*C_{31} + C_{12}*C_{32}))*(S_{13}*(C_{11}*C_{21} + C_{12}*C_{22}) + S_{23}*(C_{21}**2 + C_{22}**2) + S_{33}*(C_{21}*C_{31} + C_{22}*C_{32})),                                                                                                                                                                                                                                                                                                                                                 (S_{11}*(C_{11}*C_{21} + C_{12}*C_{22}) + S_{21}*(C_{21}**2 + C_{22}**2) + S_{31}*(C_{21}*C_{31} + C_{22}*C_{32}))**2 + (S_{12}*(C_{11}*C_{21} + C_{12}*C_{22}) + S_{22}*(C_{21}**2 + C_{22}**2) + S_{32}*(C_{21}*C_{31} + C_{22}*C_{32}))**2 + (S_{13}*(C_{11}*C_{21} + C_{12}*C_{22}) + S_{23}*(C_{21}**2 + C_{22}**2) + S_{33}*(C_{21}*C_{31} + C_{22}*C_{32}))**2, (S_{11}*(C_{11}*C_{21} + C_{12}*C_{22}) + S_{21}*(C_{21}**2 + C_{22}**2) + S_{31}*(C_{21}*C_{31} + C_{22}*C_{32}))*(S_{11}*(C_{11}*C_{31} + C_{12}*C_{32}) + S_{21}*(C_{21}*C_{31} + C_{22}*C_{32}) + S_{31}*(C_{31}**2 + C_{32}**2)) + (S_{12}*(C_{11}*C_{21} + C_{12}*C_{22}) + S_{22}*(C_{21}**2 + C_{22}**2) + S_{32}*(C_{21}*C_{31} + C_{22}*C_{32}))*(S_{12}*(C_{11}*C_{31} + C_{12}*C_{32}) + S_{22}*(C_{21}*C_{31} + C_{22}*C_{32}) + S_{32}*(C_{31}**2 + C_{32}**2)) + (S_{13}*(C_{11}*C_{21} + C_{12}*C_{22}) + S_{23}*(C_{21}**2 + C_{22}**2) + S_{33}*(C_{21}*C_{31} + C_{22}*C_{32}))*(S_{13}*(C_{11}*C_{31} + C_{12}*C_{32}) + S_{23}*(C_{21}*C_{31} + C_{22}*C_{32}) + S_{33}*(C_{31}**2 + C_{32}**2))],\n",
       "[(S_{11}*(C_{11}**2 + C_{12}**2) + S_{21}*(C_{11}*C_{21} + C_{12}*C_{22}) + S_{31}*(C_{11}*C_{31} + C_{12}*C_{32}))*(S_{11}*(C_{11}*C_{31} + C_{12}*C_{32}) + S_{21}*(C_{21}*C_{31} + C_{22}*C_{32}) + S_{31}*(C_{31}**2 + C_{32}**2)) + (S_{12}*(C_{11}**2 + C_{12}**2) + S_{22}*(C_{11}*C_{21} + C_{12}*C_{22}) + S_{32}*(C_{11}*C_{31} + C_{12}*C_{32}))*(S_{12}*(C_{11}*C_{31} + C_{12}*C_{32}) + S_{22}*(C_{21}*C_{31} + C_{22}*C_{32}) + S_{32}*(C_{31}**2 + C_{32}**2)) + (S_{13}*(C_{11}**2 + C_{12}**2) + S_{23}*(C_{11}*C_{21} + C_{12}*C_{22}) + S_{33}*(C_{11}*C_{31} + C_{12}*C_{32}))*(S_{13}*(C_{11}*C_{31} + C_{12}*C_{32}) + S_{23}*(C_{21}*C_{31} + C_{22}*C_{32}) + S_{33}*(C_{31}**2 + C_{32}**2)), (S_{11}*(C_{11}*C_{21} + C_{12}*C_{22}) + S_{21}*(C_{21}**2 + C_{22}**2) + S_{31}*(C_{21}*C_{31} + C_{22}*C_{32}))*(S_{11}*(C_{11}*C_{31} + C_{12}*C_{32}) + S_{21}*(C_{21}*C_{31} + C_{22}*C_{32}) + S_{31}*(C_{31}**2 + C_{32}**2)) + (S_{12}*(C_{11}*C_{21} + C_{12}*C_{22}) + S_{22}*(C_{21}**2 + C_{22}**2) + S_{32}*(C_{21}*C_{31} + C_{22}*C_{32}))*(S_{12}*(C_{11}*C_{31} + C_{12}*C_{32}) + S_{22}*(C_{21}*C_{31} + C_{22}*C_{32}) + S_{32}*(C_{31}**2 + C_{32}**2)) + (S_{13}*(C_{11}*C_{21} + C_{12}*C_{22}) + S_{23}*(C_{21}**2 + C_{22}**2) + S_{33}*(C_{21}*C_{31} + C_{22}*C_{32}))*(S_{13}*(C_{11}*C_{31} + C_{12}*C_{32}) + S_{23}*(C_{21}*C_{31} + C_{22}*C_{32}) + S_{33}*(C_{31}**2 + C_{32}**2)),                                                                                                                                                                                                                                                                                                                                                 (S_{11}*(C_{11}*C_{31} + C_{12}*C_{32}) + S_{21}*(C_{21}*C_{31} + C_{22}*C_{32}) + S_{31}*(C_{31}**2 + C_{32}**2))**2 + (S_{12}*(C_{11}*C_{31} + C_{12}*C_{32}) + S_{22}*(C_{21}*C_{31} + C_{22}*C_{32}) + S_{32}*(C_{31}**2 + C_{32}**2))**2 + (S_{13}*(C_{11}*C_{31} + C_{12}*C_{32}) + S_{23}*(C_{21}*C_{31} + C_{22}*C_{32}) + S_{33}*(C_{31}**2 + C_{32}**2))**2]])"
      ]
     },
     "execution_count": 179,
     "metadata": {},
     "output_type": "execute_result"
    }
   ],
   "source": [
    "OM0=get_OM(C,S)\n",
    "OM0"
   ]
  },
  {
   "cell_type": "code",
   "execution_count": 180,
   "metadata": {},
   "outputs": [
    {
     "data": {
      "text/latex": [
       "$\\displaystyle \\left[\\begin{matrix}\\left(S_{11} \\left(\\left(C_{11}^1\\right)^{2} + \\left(C_{12}^1\\right)^{2}\\right) + S_{21} \\left(C_{11}^1 C_{21}^1 + C_{12}^1 C_{22}^1\\right) + S_{31} \\left(C_{11}^1 C_{31}^1 + C_{12}^1 C_{32}^1\\right)\\right)^{2} + \\left(S_{11} \\left(\\left(C_{11}^2\\right)^{2} + \\left(C_{12}^2\\right)^{2}\\right) + S_{21} \\left(C_{11}^2 C_{21}^2 + C_{12}^2 C_{22}^2\\right) + S_{31} \\left(C_{11}^2 C_{31}^2 + C_{12}^2 C_{32}^2\\right)\\right)^{2} + \\left(S_{12} \\left(\\left(C_{11}^1\\right)^{2} + \\left(C_{12}^1\\right)^{2}\\right) + S_{22} \\left(C_{11}^1 C_{21}^1 + C_{12}^1 C_{22}^1\\right) + S_{32} \\left(C_{11}^1 C_{31}^1 + C_{12}^1 C_{32}^1\\right)\\right)^{2} + \\left(S_{12} \\left(\\left(C_{11}^2\\right)^{2} + \\left(C_{12}^2\\right)^{2}\\right) + S_{22} \\left(C_{11}^2 C_{21}^2 + C_{12}^2 C_{22}^2\\right) + S_{32} \\left(C_{11}^2 C_{31}^2 + C_{12}^2 C_{32}^2\\right)\\right)^{2} + \\left(S_{13} \\left(\\left(C_{11}^1\\right)^{2} + \\left(C_{12}^1\\right)^{2}\\right) + S_{23} \\left(C_{11}^1 C_{21}^1 + C_{12}^1 C_{22}^1\\right) + S_{33} \\left(C_{11}^1 C_{31}^1 + C_{12}^1 C_{32}^1\\right)\\right)^{2} + \\left(S_{13} \\left(\\left(C_{11}^2\\right)^{2} + \\left(C_{12}^2\\right)^{2}\\right) + S_{23} \\left(C_{11}^2 C_{21}^2 + C_{12}^2 C_{22}^2\\right) + S_{33} \\left(C_{11}^2 C_{31}^2 + C_{12}^2 C_{32}^2\\right)\\right)^{2} & \\left(S_{11} \\left(\\left(C_{11}^1\\right)^{2} + \\left(C_{12}^1\\right)^{2}\\right) + S_{21} \\left(C_{11}^1 C_{21}^1 + C_{12}^1 C_{22}^1\\right) + S_{31} \\left(C_{11}^1 C_{31}^1 + C_{12}^1 C_{32}^1\\right)\\right) \\left(S_{11} \\left(C_{11}^1 C_{21}^1 + C_{12}^1 C_{22}^1\\right) + S_{21} \\left(\\left(C_{21}^1\\right)^{2} + \\left(C_{22}^1\\right)^{2}\\right) + S_{31} \\left(C_{21}^1 C_{31}^1 + C_{22}^1 C_{32}^1\\right)\\right) + \\left(S_{11} \\left(\\left(C_{11}^2\\right)^{2} + \\left(C_{12}^2\\right)^{2}\\right) + S_{21} \\left(C_{11}^2 C_{21}^2 + C_{12}^2 C_{22}^2\\right) + S_{31} \\left(C_{11}^2 C_{31}^2 + C_{12}^2 C_{32}^2\\right)\\right) \\left(S_{11} \\left(C_{11}^2 C_{21}^2 + C_{12}^2 C_{22}^2\\right) + S_{21} \\left(\\left(C_{21}^2\\right)^{2} + \\left(C_{22}^2\\right)^{2}\\right) + S_{31} \\left(C_{21}^2 C_{31}^2 + C_{22}^2 C_{32}^2\\right)\\right) + \\left(S_{12} \\left(\\left(C_{11}^1\\right)^{2} + \\left(C_{12}^1\\right)^{2}\\right) + S_{22} \\left(C_{11}^1 C_{21}^1 + C_{12}^1 C_{22}^1\\right) + S_{32} \\left(C_{11}^1 C_{31}^1 + C_{12}^1 C_{32}^1\\right)\\right) \\left(S_{12} \\left(C_{11}^1 C_{21}^1 + C_{12}^1 C_{22}^1\\right) + S_{22} \\left(\\left(C_{21}^1\\right)^{2} + \\left(C_{22}^1\\right)^{2}\\right) + S_{32} \\left(C_{21}^1 C_{31}^1 + C_{22}^1 C_{32}^1\\right)\\right) + \\left(S_{12} \\left(\\left(C_{11}^2\\right)^{2} + \\left(C_{12}^2\\right)^{2}\\right) + S_{22} \\left(C_{11}^2 C_{21}^2 + C_{12}^2 C_{22}^2\\right) + S_{32} \\left(C_{11}^2 C_{31}^2 + C_{12}^2 C_{32}^2\\right)\\right) \\left(S_{12} \\left(C_{11}^2 C_{21}^2 + C_{12}^2 C_{22}^2\\right) + S_{22} \\left(\\left(C_{21}^2\\right)^{2} + \\left(C_{22}^2\\right)^{2}\\right) + S_{32} \\left(C_{21}^2 C_{31}^2 + C_{22}^2 C_{32}^2\\right)\\right) + \\left(S_{13} \\left(\\left(C_{11}^1\\right)^{2} + \\left(C_{12}^1\\right)^{2}\\right) + S_{23} \\left(C_{11}^1 C_{21}^1 + C_{12}^1 C_{22}^1\\right) + S_{33} \\left(C_{11}^1 C_{31}^1 + C_{12}^1 C_{32}^1\\right)\\right) \\left(S_{13} \\left(C_{11}^1 C_{21}^1 + C_{12}^1 C_{22}^1\\right) + S_{23} \\left(\\left(C_{21}^1\\right)^{2} + \\left(C_{22}^1\\right)^{2}\\right) + S_{33} \\left(C_{21}^1 C_{31}^1 + C_{22}^1 C_{32}^1\\right)\\right) + \\left(S_{13} \\left(\\left(C_{11}^2\\right)^{2} + \\left(C_{12}^2\\right)^{2}\\right) + S_{23} \\left(C_{11}^2 C_{21}^2 + C_{12}^2 C_{22}^2\\right) + S_{33} \\left(C_{11}^2 C_{31}^2 + C_{12}^2 C_{32}^2\\right)\\right) \\left(S_{13} \\left(C_{11}^2 C_{21}^2 + C_{12}^2 C_{22}^2\\right) + S_{23} \\left(\\left(C_{21}^2\\right)^{2} + \\left(C_{22}^2\\right)^{2}\\right) + S_{33} \\left(C_{21}^2 C_{31}^2 + C_{22}^2 C_{32}^2\\right)\\right) & \\left(S_{11} \\left(\\left(C_{11}^1\\right)^{2} + \\left(C_{12}^1\\right)^{2}\\right) + S_{21} \\left(C_{11}^1 C_{21}^1 + C_{12}^1 C_{22}^1\\right) + S_{31} \\left(C_{11}^1 C_{31}^1 + C_{12}^1 C_{32}^1\\right)\\right) \\left(S_{11} \\left(C_{11}^1 C_{31}^1 + C_{12}^1 C_{32}^1\\right) + S_{21} \\left(C_{21}^1 C_{31}^1 + C_{22}^1 C_{32}^1\\right) + S_{31} \\left(\\left(C_{31}^1\\right)^{2} + \\left(C_{32}^1\\right)^{2}\\right)\\right) + \\left(S_{11} \\left(\\left(C_{11}^2\\right)^{2} + \\left(C_{12}^2\\right)^{2}\\right) + S_{21} \\left(C_{11}^2 C_{21}^2 + C_{12}^2 C_{22}^2\\right) + S_{31} \\left(C_{11}^2 C_{31}^2 + C_{12}^2 C_{32}^2\\right)\\right) \\left(S_{11} \\left(C_{11}^2 C_{31}^2 + C_{12}^2 C_{32}^2\\right) + S_{21} \\left(C_{21}^2 C_{31}^2 + C_{22}^2 C_{32}^2\\right) + S_{31} \\left(\\left(C_{31}^2\\right)^{2} + \\left(C_{32}^2\\right)^{2}\\right)\\right) + \\left(S_{12} \\left(\\left(C_{11}^1\\right)^{2} + \\left(C_{12}^1\\right)^{2}\\right) + S_{22} \\left(C_{11}^1 C_{21}^1 + C_{12}^1 C_{22}^1\\right) + S_{32} \\left(C_{11}^1 C_{31}^1 + C_{12}^1 C_{32}^1\\right)\\right) \\left(S_{12} \\left(C_{11}^1 C_{31}^1 + C_{12}^1 C_{32}^1\\right) + S_{22} \\left(C_{21}^1 C_{31}^1 + C_{22}^1 C_{32}^1\\right) + S_{32} \\left(\\left(C_{31}^1\\right)^{2} + \\left(C_{32}^1\\right)^{2}\\right)\\right) + \\left(S_{12} \\left(\\left(C_{11}^2\\right)^{2} + \\left(C_{12}^2\\right)^{2}\\right) + S_{22} \\left(C_{11}^2 C_{21}^2 + C_{12}^2 C_{22}^2\\right) + S_{32} \\left(C_{11}^2 C_{31}^2 + C_{12}^2 C_{32}^2\\right)\\right) \\left(S_{12} \\left(C_{11}^2 C_{31}^2 + C_{12}^2 C_{32}^2\\right) + S_{22} \\left(C_{21}^2 C_{31}^2 + C_{22}^2 C_{32}^2\\right) + S_{32} \\left(\\left(C_{31}^2\\right)^{2} + \\left(C_{32}^2\\right)^{2}\\right)\\right) + \\left(S_{13} \\left(\\left(C_{11}^1\\right)^{2} + \\left(C_{12}^1\\right)^{2}\\right) + S_{23} \\left(C_{11}^1 C_{21}^1 + C_{12}^1 C_{22}^1\\right) + S_{33} \\left(C_{11}^1 C_{31}^1 + C_{12}^1 C_{32}^1\\right)\\right) \\left(S_{13} \\left(C_{11}^1 C_{31}^1 + C_{12}^1 C_{32}^1\\right) + S_{23} \\left(C_{21}^1 C_{31}^1 + C_{22}^1 C_{32}^1\\right) + S_{33} \\left(\\left(C_{31}^1\\right)^{2} + \\left(C_{32}^1\\right)^{2}\\right)\\right) + \\left(S_{13} \\left(\\left(C_{11}^2\\right)^{2} + \\left(C_{12}^2\\right)^{2}\\right) + S_{23} \\left(C_{11}^2 C_{21}^2 + C_{12}^2 C_{22}^2\\right) + S_{33} \\left(C_{11}^2 C_{31}^2 + C_{12}^2 C_{32}^2\\right)\\right) \\left(S_{13} \\left(C_{11}^2 C_{31}^2 + C_{12}^2 C_{32}^2\\right) + S_{23} \\left(C_{21}^2 C_{31}^2 + C_{22}^2 C_{32}^2\\right) + S_{33} \\left(\\left(C_{31}^2\\right)^{2} + \\left(C_{32}^2\\right)^{2}\\right)\\right)\\\\\\left(S_{11} \\left(\\left(C_{11}^1\\right)^{2} + \\left(C_{12}^1\\right)^{2}\\right) + S_{21} \\left(C_{11}^1 C_{21}^1 + C_{12}^1 C_{22}^1\\right) + S_{31} \\left(C_{11}^1 C_{31}^1 + C_{12}^1 C_{32}^1\\right)\\right) \\left(S_{11} \\left(C_{11}^1 C_{21}^1 + C_{12}^1 C_{22}^1\\right) + S_{21} \\left(\\left(C_{21}^1\\right)^{2} + \\left(C_{22}^1\\right)^{2}\\right) + S_{31} \\left(C_{21}^1 C_{31}^1 + C_{22}^1 C_{32}^1\\right)\\right) + \\left(S_{11} \\left(\\left(C_{11}^2\\right)^{2} + \\left(C_{12}^2\\right)^{2}\\right) + S_{21} \\left(C_{11}^2 C_{21}^2 + C_{12}^2 C_{22}^2\\right) + S_{31} \\left(C_{11}^2 C_{31}^2 + C_{12}^2 C_{32}^2\\right)\\right) \\left(S_{11} \\left(C_{11}^2 C_{21}^2 + C_{12}^2 C_{22}^2\\right) + S_{21} \\left(\\left(C_{21}^2\\right)^{2} + \\left(C_{22}^2\\right)^{2}\\right) + S_{31} \\left(C_{21}^2 C_{31}^2 + C_{22}^2 C_{32}^2\\right)\\right) + \\left(S_{12} \\left(\\left(C_{11}^1\\right)^{2} + \\left(C_{12}^1\\right)^{2}\\right) + S_{22} \\left(C_{11}^1 C_{21}^1 + C_{12}^1 C_{22}^1\\right) + S_{32} \\left(C_{11}^1 C_{31}^1 + C_{12}^1 C_{32}^1\\right)\\right) \\left(S_{12} \\left(C_{11}^1 C_{21}^1 + C_{12}^1 C_{22}^1\\right) + S_{22} \\left(\\left(C_{21}^1\\right)^{2} + \\left(C_{22}^1\\right)^{2}\\right) + S_{32} \\left(C_{21}^1 C_{31}^1 + C_{22}^1 C_{32}^1\\right)\\right) + \\left(S_{12} \\left(\\left(C_{11}^2\\right)^{2} + \\left(C_{12}^2\\right)^{2}\\right) + S_{22} \\left(C_{11}^2 C_{21}^2 + C_{12}^2 C_{22}^2\\right) + S_{32} \\left(C_{11}^2 C_{31}^2 + C_{12}^2 C_{32}^2\\right)\\right) \\left(S_{12} \\left(C_{11}^2 C_{21}^2 + C_{12}^2 C_{22}^2\\right) + S_{22} \\left(\\left(C_{21}^2\\right)^{2} + \\left(C_{22}^2\\right)^{2}\\right) + S_{32} \\left(C_{21}^2 C_{31}^2 + C_{22}^2 C_{32}^2\\right)\\right) + \\left(S_{13} \\left(\\left(C_{11}^1\\right)^{2} + \\left(C_{12}^1\\right)^{2}\\right) + S_{23} \\left(C_{11}^1 C_{21}^1 + C_{12}^1 C_{22}^1\\right) + S_{33} \\left(C_{11}^1 C_{31}^1 + C_{12}^1 C_{32}^1\\right)\\right) \\left(S_{13} \\left(C_{11}^1 C_{21}^1 + C_{12}^1 C_{22}^1\\right) + S_{23} \\left(\\left(C_{21}^1\\right)^{2} + \\left(C_{22}^1\\right)^{2}\\right) + S_{33} \\left(C_{21}^1 C_{31}^1 + C_{22}^1 C_{32}^1\\right)\\right) + \\left(S_{13} \\left(\\left(C_{11}^2\\right)^{2} + \\left(C_{12}^2\\right)^{2}\\right) + S_{23} \\left(C_{11}^2 C_{21}^2 + C_{12}^2 C_{22}^2\\right) + S_{33} \\left(C_{11}^2 C_{31}^2 + C_{12}^2 C_{32}^2\\right)\\right) \\left(S_{13} \\left(C_{11}^2 C_{21}^2 + C_{12}^2 C_{22}^2\\right) + S_{23} \\left(\\left(C_{21}^2\\right)^{2} + \\left(C_{22}^2\\right)^{2}\\right) + S_{33} \\left(C_{21}^2 C_{31}^2 + C_{22}^2 C_{32}^2\\right)\\right) & \\left(S_{11} \\left(C_{11}^1 C_{21}^1 + C_{12}^1 C_{22}^1\\right) + S_{21} \\left(\\left(C_{21}^1\\right)^{2} + \\left(C_{22}^1\\right)^{2}\\right) + S_{31} \\left(C_{21}^1 C_{31}^1 + C_{22}^1 C_{32}^1\\right)\\right)^{2} + \\left(S_{11} \\left(C_{11}^2 C_{21}^2 + C_{12}^2 C_{22}^2\\right) + S_{21} \\left(\\left(C_{21}^2\\right)^{2} + \\left(C_{22}^2\\right)^{2}\\right) + S_{31} \\left(C_{21}^2 C_{31}^2 + C_{22}^2 C_{32}^2\\right)\\right)^{2} + \\left(S_{12} \\left(C_{11}^1 C_{21}^1 + C_{12}^1 C_{22}^1\\right) + S_{22} \\left(\\left(C_{21}^1\\right)^{2} + \\left(C_{22}^1\\right)^{2}\\right) + S_{32} \\left(C_{21}^1 C_{31}^1 + C_{22}^1 C_{32}^1\\right)\\right)^{2} + \\left(S_{12} \\left(C_{11}^2 C_{21}^2 + C_{12}^2 C_{22}^2\\right) + S_{22} \\left(\\left(C_{21}^2\\right)^{2} + \\left(C_{22}^2\\right)^{2}\\right) + S_{32} \\left(C_{21}^2 C_{31}^2 + C_{22}^2 C_{32}^2\\right)\\right)^{2} + \\left(S_{13} \\left(C_{11}^1 C_{21}^1 + C_{12}^1 C_{22}^1\\right) + S_{23} \\left(\\left(C_{21}^1\\right)^{2} + \\left(C_{22}^1\\right)^{2}\\right) + S_{33} \\left(C_{21}^1 C_{31}^1 + C_{22}^1 C_{32}^1\\right)\\right)^{2} + \\left(S_{13} \\left(C_{11}^2 C_{21}^2 + C_{12}^2 C_{22}^2\\right) + S_{23} \\left(\\left(C_{21}^2\\right)^{2} + \\left(C_{22}^2\\right)^{2}\\right) + S_{33} \\left(C_{21}^2 C_{31}^2 + C_{22}^2 C_{32}^2\\right)\\right)^{2} & \\left(S_{11} \\left(C_{11}^1 C_{21}^1 + C_{12}^1 C_{22}^1\\right) + S_{21} \\left(\\left(C_{21}^1\\right)^{2} + \\left(C_{22}^1\\right)^{2}\\right) + S_{31} \\left(C_{21}^1 C_{31}^1 + C_{22}^1 C_{32}^1\\right)\\right) \\left(S_{11} \\left(C_{11}^1 C_{31}^1 + C_{12}^1 C_{32}^1\\right) + S_{21} \\left(C_{21}^1 C_{31}^1 + C_{22}^1 C_{32}^1\\right) + S_{31} \\left(\\left(C_{31}^1\\right)^{2} + \\left(C_{32}^1\\right)^{2}\\right)\\right) + \\left(S_{11} \\left(C_{11}^2 C_{21}^2 + C_{12}^2 C_{22}^2\\right) + S_{21} \\left(\\left(C_{21}^2\\right)^{2} + \\left(C_{22}^2\\right)^{2}\\right) + S_{31} \\left(C_{21}^2 C_{31}^2 + C_{22}^2 C_{32}^2\\right)\\right) \\left(S_{11} \\left(C_{11}^2 C_{31}^2 + C_{12}^2 C_{32}^2\\right) + S_{21} \\left(C_{21}^2 C_{31}^2 + C_{22}^2 C_{32}^2\\right) + S_{31} \\left(\\left(C_{31}^2\\right)^{2} + \\left(C_{32}^2\\right)^{2}\\right)\\right) + \\left(S_{12} \\left(C_{11}^1 C_{21}^1 + C_{12}^1 C_{22}^1\\right) + S_{22} \\left(\\left(C_{21}^1\\right)^{2} + \\left(C_{22}^1\\right)^{2}\\right) + S_{32} \\left(C_{21}^1 C_{31}^1 + C_{22}^1 C_{32}^1\\right)\\right) \\left(S_{12} \\left(C_{11}^1 C_{31}^1 + C_{12}^1 C_{32}^1\\right) + S_{22} \\left(C_{21}^1 C_{31}^1 + C_{22}^1 C_{32}^1\\right) + S_{32} \\left(\\left(C_{31}^1\\right)^{2} + \\left(C_{32}^1\\right)^{2}\\right)\\right) + \\left(S_{12} \\left(C_{11}^2 C_{21}^2 + C_{12}^2 C_{22}^2\\right) + S_{22} \\left(\\left(C_{21}^2\\right)^{2} + \\left(C_{22}^2\\right)^{2}\\right) + S_{32} \\left(C_{21}^2 C_{31}^2 + C_{22}^2 C_{32}^2\\right)\\right) \\left(S_{12} \\left(C_{11}^2 C_{31}^2 + C_{12}^2 C_{32}^2\\right) + S_{22} \\left(C_{21}^2 C_{31}^2 + C_{22}^2 C_{32}^2\\right) + S_{32} \\left(\\left(C_{31}^2\\right)^{2} + \\left(C_{32}^2\\right)^{2}\\right)\\right) + \\left(S_{13} \\left(C_{11}^1 C_{21}^1 + C_{12}^1 C_{22}^1\\right) + S_{23} \\left(\\left(C_{21}^1\\right)^{2} + \\left(C_{22}^1\\right)^{2}\\right) + S_{33} \\left(C_{21}^1 C_{31}^1 + C_{22}^1 C_{32}^1\\right)\\right) \\left(S_{13} \\left(C_{11}^1 C_{31}^1 + C_{12}^1 C_{32}^1\\right) + S_{23} \\left(C_{21}^1 C_{31}^1 + C_{22}^1 C_{32}^1\\right) + S_{33} \\left(\\left(C_{31}^1\\right)^{2} + \\left(C_{32}^1\\right)^{2}\\right)\\right) + \\left(S_{13} \\left(C_{11}^2 C_{21}^2 + C_{12}^2 C_{22}^2\\right) + S_{23} \\left(\\left(C_{21}^2\\right)^{2} + \\left(C_{22}^2\\right)^{2}\\right) + S_{33} \\left(C_{21}^2 C_{31}^2 + C_{22}^2 C_{32}^2\\right)\\right) \\left(S_{13} \\left(C_{11}^2 C_{31}^2 + C_{12}^2 C_{32}^2\\right) + S_{23} \\left(C_{21}^2 C_{31}^2 + C_{22}^2 C_{32}^2\\right) + S_{33} \\left(\\left(C_{31}^2\\right)^{2} + \\left(C_{32}^2\\right)^{2}\\right)\\right)\\\\\\left(S_{11} \\left(\\left(C_{11}^1\\right)^{2} + \\left(C_{12}^1\\right)^{2}\\right) + S_{21} \\left(C_{11}^1 C_{21}^1 + C_{12}^1 C_{22}^1\\right) + S_{31} \\left(C_{11}^1 C_{31}^1 + C_{12}^1 C_{32}^1\\right)\\right) \\left(S_{11} \\left(C_{11}^1 C_{31}^1 + C_{12}^1 C_{32}^1\\right) + S_{21} \\left(C_{21}^1 C_{31}^1 + C_{22}^1 C_{32}^1\\right) + S_{31} \\left(\\left(C_{31}^1\\right)^{2} + \\left(C_{32}^1\\right)^{2}\\right)\\right) + \\left(S_{11} \\left(\\left(C_{11}^2\\right)^{2} + \\left(C_{12}^2\\right)^{2}\\right) + S_{21} \\left(C_{11}^2 C_{21}^2 + C_{12}^2 C_{22}^2\\right) + S_{31} \\left(C_{11}^2 C_{31}^2 + C_{12}^2 C_{32}^2\\right)\\right) \\left(S_{11} \\left(C_{11}^2 C_{31}^2 + C_{12}^2 C_{32}^2\\right) + S_{21} \\left(C_{21}^2 C_{31}^2 + C_{22}^2 C_{32}^2\\right) + S_{31} \\left(\\left(C_{31}^2\\right)^{2} + \\left(C_{32}^2\\right)^{2}\\right)\\right) + \\left(S_{12} \\left(\\left(C_{11}^1\\right)^{2} + \\left(C_{12}^1\\right)^{2}\\right) + S_{22} \\left(C_{11}^1 C_{21}^1 + C_{12}^1 C_{22}^1\\right) + S_{32} \\left(C_{11}^1 C_{31}^1 + C_{12}^1 C_{32}^1\\right)\\right) \\left(S_{12} \\left(C_{11}^1 C_{31}^1 + C_{12}^1 C_{32}^1\\right) + S_{22} \\left(C_{21}^1 C_{31}^1 + C_{22}^1 C_{32}^1\\right) + S_{32} \\left(\\left(C_{31}^1\\right)^{2} + \\left(C_{32}^1\\right)^{2}\\right)\\right) + \\left(S_{12} \\left(\\left(C_{11}^2\\right)^{2} + \\left(C_{12}^2\\right)^{2}\\right) + S_{22} \\left(C_{11}^2 C_{21}^2 + C_{12}^2 C_{22}^2\\right) + S_{32} \\left(C_{11}^2 C_{31}^2 + C_{12}^2 C_{32}^2\\right)\\right) \\left(S_{12} \\left(C_{11}^2 C_{31}^2 + C_{12}^2 C_{32}^2\\right) + S_{22} \\left(C_{21}^2 C_{31}^2 + C_{22}^2 C_{32}^2\\right) + S_{32} \\left(\\left(C_{31}^2\\right)^{2} + \\left(C_{32}^2\\right)^{2}\\right)\\right) + \\left(S_{13} \\left(\\left(C_{11}^1\\right)^{2} + \\left(C_{12}^1\\right)^{2}\\right) + S_{23} \\left(C_{11}^1 C_{21}^1 + C_{12}^1 C_{22}^1\\right) + S_{33} \\left(C_{11}^1 C_{31}^1 + C_{12}^1 C_{32}^1\\right)\\right) \\left(S_{13} \\left(C_{11}^1 C_{31}^1 + C_{12}^1 C_{32}^1\\right) + S_{23} \\left(C_{21}^1 C_{31}^1 + C_{22}^1 C_{32}^1\\right) + S_{33} \\left(\\left(C_{31}^1\\right)^{2} + \\left(C_{32}^1\\right)^{2}\\right)\\right) + \\left(S_{13} \\left(\\left(C_{11}^2\\right)^{2} + \\left(C_{12}^2\\right)^{2}\\right) + S_{23} \\left(C_{11}^2 C_{21}^2 + C_{12}^2 C_{22}^2\\right) + S_{33} \\left(C_{11}^2 C_{31}^2 + C_{12}^2 C_{32}^2\\right)\\right) \\left(S_{13} \\left(C_{11}^2 C_{31}^2 + C_{12}^2 C_{32}^2\\right) + S_{23} \\left(C_{21}^2 C_{31}^2 + C_{22}^2 C_{32}^2\\right) + S_{33} \\left(\\left(C_{31}^2\\right)^{2} + \\left(C_{32}^2\\right)^{2}\\right)\\right) & \\left(S_{11} \\left(C_{11}^1 C_{21}^1 + C_{12}^1 C_{22}^1\\right) + S_{21} \\left(\\left(C_{21}^1\\right)^{2} + \\left(C_{22}^1\\right)^{2}\\right) + S_{31} \\left(C_{21}^1 C_{31}^1 + C_{22}^1 C_{32}^1\\right)\\right) \\left(S_{11} \\left(C_{11}^1 C_{31}^1 + C_{12}^1 C_{32}^1\\right) + S_{21} \\left(C_{21}^1 C_{31}^1 + C_{22}^1 C_{32}^1\\right) + S_{31} \\left(\\left(C_{31}^1\\right)^{2} + \\left(C_{32}^1\\right)^{2}\\right)\\right) + \\left(S_{11} \\left(C_{11}^2 C_{21}^2 + C_{12}^2 C_{22}^2\\right) + S_{21} \\left(\\left(C_{21}^2\\right)^{2} + \\left(C_{22}^2\\right)^{2}\\right) + S_{31} \\left(C_{21}^2 C_{31}^2 + C_{22}^2 C_{32}^2\\right)\\right) \\left(S_{11} \\left(C_{11}^2 C_{31}^2 + C_{12}^2 C_{32}^2\\right) + S_{21} \\left(C_{21}^2 C_{31}^2 + C_{22}^2 C_{32}^2\\right) + S_{31} \\left(\\left(C_{31}^2\\right)^{2} + \\left(C_{32}^2\\right)^{2}\\right)\\right) + \\left(S_{12} \\left(C_{11}^1 C_{21}^1 + C_{12}^1 C_{22}^1\\right) + S_{22} \\left(\\left(C_{21}^1\\right)^{2} + \\left(C_{22}^1\\right)^{2}\\right) + S_{32} \\left(C_{21}^1 C_{31}^1 + C_{22}^1 C_{32}^1\\right)\\right) \\left(S_{12} \\left(C_{11}^1 C_{31}^1 + C_{12}^1 C_{32}^1\\right) + S_{22} \\left(C_{21}^1 C_{31}^1 + C_{22}^1 C_{32}^1\\right) + S_{32} \\left(\\left(C_{31}^1\\right)^{2} + \\left(C_{32}^1\\right)^{2}\\right)\\right) + \\left(S_{12} \\left(C_{11}^2 C_{21}^2 + C_{12}^2 C_{22}^2\\right) + S_{22} \\left(\\left(C_{21}^2\\right)^{2} + \\left(C_{22}^2\\right)^{2}\\right) + S_{32} \\left(C_{21}^2 C_{31}^2 + C_{22}^2 C_{32}^2\\right)\\right) \\left(S_{12} \\left(C_{11}^2 C_{31}^2 + C_{12}^2 C_{32}^2\\right) + S_{22} \\left(C_{21}^2 C_{31}^2 + C_{22}^2 C_{32}^2\\right) + S_{32} \\left(\\left(C_{31}^2\\right)^{2} + \\left(C_{32}^2\\right)^{2}\\right)\\right) + \\left(S_{13} \\left(C_{11}^1 C_{21}^1 + C_{12}^1 C_{22}^1\\right) + S_{23} \\left(\\left(C_{21}^1\\right)^{2} + \\left(C_{22}^1\\right)^{2}\\right) + S_{33} \\left(C_{21}^1 C_{31}^1 + C_{22}^1 C_{32}^1\\right)\\right) \\left(S_{13} \\left(C_{11}^1 C_{31}^1 + C_{12}^1 C_{32}^1\\right) + S_{23} \\left(C_{21}^1 C_{31}^1 + C_{22}^1 C_{32}^1\\right) + S_{33} \\left(\\left(C_{31}^1\\right)^{2} + \\left(C_{32}^1\\right)^{2}\\right)\\right) + \\left(S_{13} \\left(C_{11}^2 C_{21}^2 + C_{12}^2 C_{22}^2\\right) + S_{23} \\left(\\left(C_{21}^2\\right)^{2} + \\left(C_{22}^2\\right)^{2}\\right) + S_{33} \\left(C_{21}^2 C_{31}^2 + C_{22}^2 C_{32}^2\\right)\\right) \\left(S_{13} \\left(C_{11}^2 C_{31}^2 + C_{12}^2 C_{32}^2\\right) + S_{23} \\left(C_{21}^2 C_{31}^2 + C_{22}^2 C_{32}^2\\right) + S_{33} \\left(\\left(C_{31}^2\\right)^{2} + \\left(C_{32}^2\\right)^{2}\\right)\\right) & \\left(S_{11} \\left(C_{11}^1 C_{31}^1 + C_{12}^1 C_{32}^1\\right) + S_{21} \\left(C_{21}^1 C_{31}^1 + C_{22}^1 C_{32}^1\\right) + S_{31} \\left(\\left(C_{31}^1\\right)^{2} + \\left(C_{32}^1\\right)^{2}\\right)\\right)^{2} + \\left(S_{11} \\left(C_{11}^2 C_{31}^2 + C_{12}^2 C_{32}^2\\right) + S_{21} \\left(C_{21}^2 C_{31}^2 + C_{22}^2 C_{32}^2\\right) + S_{31} \\left(\\left(C_{31}^2\\right)^{2} + \\left(C_{32}^2\\right)^{2}\\right)\\right)^{2} + \\left(S_{12} \\left(C_{11}^1 C_{31}^1 + C_{12}^1 C_{32}^1\\right) + S_{22} \\left(C_{21}^1 C_{31}^1 + C_{22}^1 C_{32}^1\\right) + S_{32} \\left(\\left(C_{31}^1\\right)^{2} + \\left(C_{32}^1\\right)^{2}\\right)\\right)^{2} + \\left(S_{12} \\left(C_{11}^2 C_{31}^2 + C_{12}^2 C_{32}^2\\right) + S_{22} \\left(C_{21}^2 C_{31}^2 + C_{22}^2 C_{32}^2\\right) + S_{32} \\left(\\left(C_{31}^2\\right)^{2} + \\left(C_{32}^2\\right)^{2}\\right)\\right)^{2} + \\left(S_{13} \\left(C_{11}^1 C_{31}^1 + C_{12}^1 C_{32}^1\\right) + S_{23} \\left(C_{21}^1 C_{31}^1 + C_{22}^1 C_{32}^1\\right) + S_{33} \\left(\\left(C_{31}^1\\right)^{2} + \\left(C_{32}^1\\right)^{2}\\right)\\right)^{2} + \\left(S_{13} \\left(C_{11}^2 C_{31}^2 + C_{12}^2 C_{32}^2\\right) + S_{23} \\left(C_{21}^2 C_{31}^2 + C_{22}^2 C_{32}^2\\right) + S_{33} \\left(\\left(C_{31}^2\\right)^{2} + \\left(C_{32}^2\\right)^{2}\\right)\\right)^{2}\\end{matrix}\\right]$"
      ],
      "text/plain": [
       "Matrix([\n",
       "[                                                                                                                                                                                                                                                                                                                                                                                                                                                                                                                                                                                                                                                                                                                                                                                                                        (S_{11}*(C_{11}^1**2 + C_{12}^1**2) + S_{21}*(C_{11}^1*C_{21}^1 + C_{12}^1*C_{22}^1) + S_{31}*(C_{11}^1*C_{31}^1 + C_{12}^1*C_{32}^1))**2 + (S_{11}*(C_{11}^2**2 + C_{12}^2**2) + S_{21}*(C_{11}^2*C_{21}^2 + C_{12}^2*C_{22}^2) + S_{31}*(C_{11}^2*C_{31}^2 + C_{12}^2*C_{32}^2))**2 + (S_{12}*(C_{11}^1**2 + C_{12}^1**2) + S_{22}*(C_{11}^1*C_{21}^1 + C_{12}^1*C_{22}^1) + S_{32}*(C_{11}^1*C_{31}^1 + C_{12}^1*C_{32}^1))**2 + (S_{12}*(C_{11}^2**2 + C_{12}^2**2) + S_{22}*(C_{11}^2*C_{21}^2 + C_{12}^2*C_{22}^2) + S_{32}*(C_{11}^2*C_{31}^2 + C_{12}^2*C_{32}^2))**2 + (S_{13}*(C_{11}^1**2 + C_{12}^1**2) + S_{23}*(C_{11}^1*C_{21}^1 + C_{12}^1*C_{22}^1) + S_{33}*(C_{11}^1*C_{31}^1 + C_{12}^1*C_{32}^1))**2 + (S_{13}*(C_{11}^2**2 + C_{12}^2**2) + S_{23}*(C_{11}^2*C_{21}^2 + C_{12}^2*C_{22}^2) + S_{33}*(C_{11}^2*C_{31}^2 + C_{12}^2*C_{32}^2))**2, (S_{11}*(C_{11}^1**2 + C_{12}^1**2) + S_{21}*(C_{11}^1*C_{21}^1 + C_{12}^1*C_{22}^1) + S_{31}*(C_{11}^1*C_{31}^1 + C_{12}^1*C_{32}^1))*(S_{11}*(C_{11}^1*C_{21}^1 + C_{12}^1*C_{22}^1) + S_{21}*(C_{21}^1**2 + C_{22}^1**2) + S_{31}*(C_{21}^1*C_{31}^1 + C_{22}^1*C_{32}^1)) + (S_{11}*(C_{11}^2**2 + C_{12}^2**2) + S_{21}*(C_{11}^2*C_{21}^2 + C_{12}^2*C_{22}^2) + S_{31}*(C_{11}^2*C_{31}^2 + C_{12}^2*C_{32}^2))*(S_{11}*(C_{11}^2*C_{21}^2 + C_{12}^2*C_{22}^2) + S_{21}*(C_{21}^2**2 + C_{22}^2**2) + S_{31}*(C_{21}^2*C_{31}^2 + C_{22}^2*C_{32}^2)) + (S_{12}*(C_{11}^1**2 + C_{12}^1**2) + S_{22}*(C_{11}^1*C_{21}^1 + C_{12}^1*C_{22}^1) + S_{32}*(C_{11}^1*C_{31}^1 + C_{12}^1*C_{32}^1))*(S_{12}*(C_{11}^1*C_{21}^1 + C_{12}^1*C_{22}^1) + S_{22}*(C_{21}^1**2 + C_{22}^1**2) + S_{32}*(C_{21}^1*C_{31}^1 + C_{22}^1*C_{32}^1)) + (S_{12}*(C_{11}^2**2 + C_{12}^2**2) + S_{22}*(C_{11}^2*C_{21}^2 + C_{12}^2*C_{22}^2) + S_{32}*(C_{11}^2*C_{31}^2 + C_{12}^2*C_{32}^2))*(S_{12}*(C_{11}^2*C_{21}^2 + C_{12}^2*C_{22}^2) + S_{22}*(C_{21}^2**2 + C_{22}^2**2) + S_{32}*(C_{21}^2*C_{31}^2 + C_{22}^2*C_{32}^2)) + (S_{13}*(C_{11}^1**2 + C_{12}^1**2) + S_{23}*(C_{11}^1*C_{21}^1 + C_{12}^1*C_{22}^1) + S_{33}*(C_{11}^1*C_{31}^1 + C_{12}^1*C_{32}^1))*(S_{13}*(C_{11}^1*C_{21}^1 + C_{12}^1*C_{22}^1) + S_{23}*(C_{21}^1**2 + C_{22}^1**2) + S_{33}*(C_{21}^1*C_{31}^1 + C_{22}^1*C_{32}^1)) + (S_{13}*(C_{11}^2**2 + C_{12}^2**2) + S_{23}*(C_{11}^2*C_{21}^2 + C_{12}^2*C_{22}^2) + S_{33}*(C_{11}^2*C_{31}^2 + C_{12}^2*C_{32}^2))*(S_{13}*(C_{11}^2*C_{21}^2 + C_{12}^2*C_{22}^2) + S_{23}*(C_{21}^2**2 + C_{22}^2**2) + S_{33}*(C_{21}^2*C_{31}^2 + C_{22}^2*C_{32}^2)), (S_{11}*(C_{11}^1**2 + C_{12}^1**2) + S_{21}*(C_{11}^1*C_{21}^1 + C_{12}^1*C_{22}^1) + S_{31}*(C_{11}^1*C_{31}^1 + C_{12}^1*C_{32}^1))*(S_{11}*(C_{11}^1*C_{31}^1 + C_{12}^1*C_{32}^1) + S_{21}*(C_{21}^1*C_{31}^1 + C_{22}^1*C_{32}^1) + S_{31}*(C_{31}^1**2 + C_{32}^1**2)) + (S_{11}*(C_{11}^2**2 + C_{12}^2**2) + S_{21}*(C_{11}^2*C_{21}^2 + C_{12}^2*C_{22}^2) + S_{31}*(C_{11}^2*C_{31}^2 + C_{12}^2*C_{32}^2))*(S_{11}*(C_{11}^2*C_{31}^2 + C_{12}^2*C_{32}^2) + S_{21}*(C_{21}^2*C_{31}^2 + C_{22}^2*C_{32}^2) + S_{31}*(C_{31}^2**2 + C_{32}^2**2)) + (S_{12}*(C_{11}^1**2 + C_{12}^1**2) + S_{22}*(C_{11}^1*C_{21}^1 + C_{12}^1*C_{22}^1) + S_{32}*(C_{11}^1*C_{31}^1 + C_{12}^1*C_{32}^1))*(S_{12}*(C_{11}^1*C_{31}^1 + C_{12}^1*C_{32}^1) + S_{22}*(C_{21}^1*C_{31}^1 + C_{22}^1*C_{32}^1) + S_{32}*(C_{31}^1**2 + C_{32}^1**2)) + (S_{12}*(C_{11}^2**2 + C_{12}^2**2) + S_{22}*(C_{11}^2*C_{21}^2 + C_{12}^2*C_{22}^2) + S_{32}*(C_{11}^2*C_{31}^2 + C_{12}^2*C_{32}^2))*(S_{12}*(C_{11}^2*C_{31}^2 + C_{12}^2*C_{32}^2) + S_{22}*(C_{21}^2*C_{31}^2 + C_{22}^2*C_{32}^2) + S_{32}*(C_{31}^2**2 + C_{32}^2**2)) + (S_{13}*(C_{11}^1**2 + C_{12}^1**2) + S_{23}*(C_{11}^1*C_{21}^1 + C_{12}^1*C_{22}^1) + S_{33}*(C_{11}^1*C_{31}^1 + C_{12}^1*C_{32}^1))*(S_{13}*(C_{11}^1*C_{31}^1 + C_{12}^1*C_{32}^1) + S_{23}*(C_{21}^1*C_{31}^1 + C_{22}^1*C_{32}^1) + S_{33}*(C_{31}^1**2 + C_{32}^1**2)) + (S_{13}*(C_{11}^2**2 + C_{12}^2**2) + S_{23}*(C_{11}^2*C_{21}^2 + C_{12}^2*C_{22}^2) + S_{33}*(C_{11}^2*C_{31}^2 + C_{12}^2*C_{32}^2))*(S_{13}*(C_{11}^2*C_{31}^2 + C_{12}^2*C_{32}^2) + S_{23}*(C_{21}^2*C_{31}^2 + C_{22}^2*C_{32}^2) + S_{33}*(C_{31}^2**2 + C_{32}^2**2))],\n",
       "[(S_{11}*(C_{11}^1**2 + C_{12}^1**2) + S_{21}*(C_{11}^1*C_{21}^1 + C_{12}^1*C_{22}^1) + S_{31}*(C_{11}^1*C_{31}^1 + C_{12}^1*C_{32}^1))*(S_{11}*(C_{11}^1*C_{21}^1 + C_{12}^1*C_{22}^1) + S_{21}*(C_{21}^1**2 + C_{22}^1**2) + S_{31}*(C_{21}^1*C_{31}^1 + C_{22}^1*C_{32}^1)) + (S_{11}*(C_{11}^2**2 + C_{12}^2**2) + S_{21}*(C_{11}^2*C_{21}^2 + C_{12}^2*C_{22}^2) + S_{31}*(C_{11}^2*C_{31}^2 + C_{12}^2*C_{32}^2))*(S_{11}*(C_{11}^2*C_{21}^2 + C_{12}^2*C_{22}^2) + S_{21}*(C_{21}^2**2 + C_{22}^2**2) + S_{31}*(C_{21}^2*C_{31}^2 + C_{22}^2*C_{32}^2)) + (S_{12}*(C_{11}^1**2 + C_{12}^1**2) + S_{22}*(C_{11}^1*C_{21}^1 + C_{12}^1*C_{22}^1) + S_{32}*(C_{11}^1*C_{31}^1 + C_{12}^1*C_{32}^1))*(S_{12}*(C_{11}^1*C_{21}^1 + C_{12}^1*C_{22}^1) + S_{22}*(C_{21}^1**2 + C_{22}^1**2) + S_{32}*(C_{21}^1*C_{31}^1 + C_{22}^1*C_{32}^1)) + (S_{12}*(C_{11}^2**2 + C_{12}^2**2) + S_{22}*(C_{11}^2*C_{21}^2 + C_{12}^2*C_{22}^2) + S_{32}*(C_{11}^2*C_{31}^2 + C_{12}^2*C_{32}^2))*(S_{12}*(C_{11}^2*C_{21}^2 + C_{12}^2*C_{22}^2) + S_{22}*(C_{21}^2**2 + C_{22}^2**2) + S_{32}*(C_{21}^2*C_{31}^2 + C_{22}^2*C_{32}^2)) + (S_{13}*(C_{11}^1**2 + C_{12}^1**2) + S_{23}*(C_{11}^1*C_{21}^1 + C_{12}^1*C_{22}^1) + S_{33}*(C_{11}^1*C_{31}^1 + C_{12}^1*C_{32}^1))*(S_{13}*(C_{11}^1*C_{21}^1 + C_{12}^1*C_{22}^1) + S_{23}*(C_{21}^1**2 + C_{22}^1**2) + S_{33}*(C_{21}^1*C_{31}^1 + C_{22}^1*C_{32}^1)) + (S_{13}*(C_{11}^2**2 + C_{12}^2**2) + S_{23}*(C_{11}^2*C_{21}^2 + C_{12}^2*C_{22}^2) + S_{33}*(C_{11}^2*C_{31}^2 + C_{12}^2*C_{32}^2))*(S_{13}*(C_{11}^2*C_{21}^2 + C_{12}^2*C_{22}^2) + S_{23}*(C_{21}^2**2 + C_{22}^2**2) + S_{33}*(C_{21}^2*C_{31}^2 + C_{22}^2*C_{32}^2)),                                                                                                                                                                                                                                                                                                                                                                                                                                                                                                                                                                                                                                                                                                                                                                                                                         (S_{11}*(C_{11}^1*C_{21}^1 + C_{12}^1*C_{22}^1) + S_{21}*(C_{21}^1**2 + C_{22}^1**2) + S_{31}*(C_{21}^1*C_{31}^1 + C_{22}^1*C_{32}^1))**2 + (S_{11}*(C_{11}^2*C_{21}^2 + C_{12}^2*C_{22}^2) + S_{21}*(C_{21}^2**2 + C_{22}^2**2) + S_{31}*(C_{21}^2*C_{31}^2 + C_{22}^2*C_{32}^2))**2 + (S_{12}*(C_{11}^1*C_{21}^1 + C_{12}^1*C_{22}^1) + S_{22}*(C_{21}^1**2 + C_{22}^1**2) + S_{32}*(C_{21}^1*C_{31}^1 + C_{22}^1*C_{32}^1))**2 + (S_{12}*(C_{11}^2*C_{21}^2 + C_{12}^2*C_{22}^2) + S_{22}*(C_{21}^2**2 + C_{22}^2**2) + S_{32}*(C_{21}^2*C_{31}^2 + C_{22}^2*C_{32}^2))**2 + (S_{13}*(C_{11}^1*C_{21}^1 + C_{12}^1*C_{22}^1) + S_{23}*(C_{21}^1**2 + C_{22}^1**2) + S_{33}*(C_{21}^1*C_{31}^1 + C_{22}^1*C_{32}^1))**2 + (S_{13}*(C_{11}^2*C_{21}^2 + C_{12}^2*C_{22}^2) + S_{23}*(C_{21}^2**2 + C_{22}^2**2) + S_{33}*(C_{21}^2*C_{31}^2 + C_{22}^2*C_{32}^2))**2, (S_{11}*(C_{11}^1*C_{21}^1 + C_{12}^1*C_{22}^1) + S_{21}*(C_{21}^1**2 + C_{22}^1**2) + S_{31}*(C_{21}^1*C_{31}^1 + C_{22}^1*C_{32}^1))*(S_{11}*(C_{11}^1*C_{31}^1 + C_{12}^1*C_{32}^1) + S_{21}*(C_{21}^1*C_{31}^1 + C_{22}^1*C_{32}^1) + S_{31}*(C_{31}^1**2 + C_{32}^1**2)) + (S_{11}*(C_{11}^2*C_{21}^2 + C_{12}^2*C_{22}^2) + S_{21}*(C_{21}^2**2 + C_{22}^2**2) + S_{31}*(C_{21}^2*C_{31}^2 + C_{22}^2*C_{32}^2))*(S_{11}*(C_{11}^2*C_{31}^2 + C_{12}^2*C_{32}^2) + S_{21}*(C_{21}^2*C_{31}^2 + C_{22}^2*C_{32}^2) + S_{31}*(C_{31}^2**2 + C_{32}^2**2)) + (S_{12}*(C_{11}^1*C_{21}^1 + C_{12}^1*C_{22}^1) + S_{22}*(C_{21}^1**2 + C_{22}^1**2) + S_{32}*(C_{21}^1*C_{31}^1 + C_{22}^1*C_{32}^1))*(S_{12}*(C_{11}^1*C_{31}^1 + C_{12}^1*C_{32}^1) + S_{22}*(C_{21}^1*C_{31}^1 + C_{22}^1*C_{32}^1) + S_{32}*(C_{31}^1**2 + C_{32}^1**2)) + (S_{12}*(C_{11}^2*C_{21}^2 + C_{12}^2*C_{22}^2) + S_{22}*(C_{21}^2**2 + C_{22}^2**2) + S_{32}*(C_{21}^2*C_{31}^2 + C_{22}^2*C_{32}^2))*(S_{12}*(C_{11}^2*C_{31}^2 + C_{12}^2*C_{32}^2) + S_{22}*(C_{21}^2*C_{31}^2 + C_{22}^2*C_{32}^2) + S_{32}*(C_{31}^2**2 + C_{32}^2**2)) + (S_{13}*(C_{11}^1*C_{21}^1 + C_{12}^1*C_{22}^1) + S_{23}*(C_{21}^1**2 + C_{22}^1**2) + S_{33}*(C_{21}^1*C_{31}^1 + C_{22}^1*C_{32}^1))*(S_{13}*(C_{11}^1*C_{31}^1 + C_{12}^1*C_{32}^1) + S_{23}*(C_{21}^1*C_{31}^1 + C_{22}^1*C_{32}^1) + S_{33}*(C_{31}^1**2 + C_{32}^1**2)) + (S_{13}*(C_{11}^2*C_{21}^2 + C_{12}^2*C_{22}^2) + S_{23}*(C_{21}^2**2 + C_{22}^2**2) + S_{33}*(C_{21}^2*C_{31}^2 + C_{22}^2*C_{32}^2))*(S_{13}*(C_{11}^2*C_{31}^2 + C_{12}^2*C_{32}^2) + S_{23}*(C_{21}^2*C_{31}^2 + C_{22}^2*C_{32}^2) + S_{33}*(C_{31}^2**2 + C_{32}^2**2))],\n",
       "[(S_{11}*(C_{11}^1**2 + C_{12}^1**2) + S_{21}*(C_{11}^1*C_{21}^1 + C_{12}^1*C_{22}^1) + S_{31}*(C_{11}^1*C_{31}^1 + C_{12}^1*C_{32}^1))*(S_{11}*(C_{11}^1*C_{31}^1 + C_{12}^1*C_{32}^1) + S_{21}*(C_{21}^1*C_{31}^1 + C_{22}^1*C_{32}^1) + S_{31}*(C_{31}^1**2 + C_{32}^1**2)) + (S_{11}*(C_{11}^2**2 + C_{12}^2**2) + S_{21}*(C_{11}^2*C_{21}^2 + C_{12}^2*C_{22}^2) + S_{31}*(C_{11}^2*C_{31}^2 + C_{12}^2*C_{32}^2))*(S_{11}*(C_{11}^2*C_{31}^2 + C_{12}^2*C_{32}^2) + S_{21}*(C_{21}^2*C_{31}^2 + C_{22}^2*C_{32}^2) + S_{31}*(C_{31}^2**2 + C_{32}^2**2)) + (S_{12}*(C_{11}^1**2 + C_{12}^1**2) + S_{22}*(C_{11}^1*C_{21}^1 + C_{12}^1*C_{22}^1) + S_{32}*(C_{11}^1*C_{31}^1 + C_{12}^1*C_{32}^1))*(S_{12}*(C_{11}^1*C_{31}^1 + C_{12}^1*C_{32}^1) + S_{22}*(C_{21}^1*C_{31}^1 + C_{22}^1*C_{32}^1) + S_{32}*(C_{31}^1**2 + C_{32}^1**2)) + (S_{12}*(C_{11}^2**2 + C_{12}^2**2) + S_{22}*(C_{11}^2*C_{21}^2 + C_{12}^2*C_{22}^2) + S_{32}*(C_{11}^2*C_{31}^2 + C_{12}^2*C_{32}^2))*(S_{12}*(C_{11}^2*C_{31}^2 + C_{12}^2*C_{32}^2) + S_{22}*(C_{21}^2*C_{31}^2 + C_{22}^2*C_{32}^2) + S_{32}*(C_{31}^2**2 + C_{32}^2**2)) + (S_{13}*(C_{11}^1**2 + C_{12}^1**2) + S_{23}*(C_{11}^1*C_{21}^1 + C_{12}^1*C_{22}^1) + S_{33}*(C_{11}^1*C_{31}^1 + C_{12}^1*C_{32}^1))*(S_{13}*(C_{11}^1*C_{31}^1 + C_{12}^1*C_{32}^1) + S_{23}*(C_{21}^1*C_{31}^1 + C_{22}^1*C_{32}^1) + S_{33}*(C_{31}^1**2 + C_{32}^1**2)) + (S_{13}*(C_{11}^2**2 + C_{12}^2**2) + S_{23}*(C_{11}^2*C_{21}^2 + C_{12}^2*C_{22}^2) + S_{33}*(C_{11}^2*C_{31}^2 + C_{12}^2*C_{32}^2))*(S_{13}*(C_{11}^2*C_{31}^2 + C_{12}^2*C_{32}^2) + S_{23}*(C_{21}^2*C_{31}^2 + C_{22}^2*C_{32}^2) + S_{33}*(C_{31}^2**2 + C_{32}^2**2)), (S_{11}*(C_{11}^1*C_{21}^1 + C_{12}^1*C_{22}^1) + S_{21}*(C_{21}^1**2 + C_{22}^1**2) + S_{31}*(C_{21}^1*C_{31}^1 + C_{22}^1*C_{32}^1))*(S_{11}*(C_{11}^1*C_{31}^1 + C_{12}^1*C_{32}^1) + S_{21}*(C_{21}^1*C_{31}^1 + C_{22}^1*C_{32}^1) + S_{31}*(C_{31}^1**2 + C_{32}^1**2)) + (S_{11}*(C_{11}^2*C_{21}^2 + C_{12}^2*C_{22}^2) + S_{21}*(C_{21}^2**2 + C_{22}^2**2) + S_{31}*(C_{21}^2*C_{31}^2 + C_{22}^2*C_{32}^2))*(S_{11}*(C_{11}^2*C_{31}^2 + C_{12}^2*C_{32}^2) + S_{21}*(C_{21}^2*C_{31}^2 + C_{22}^2*C_{32}^2) + S_{31}*(C_{31}^2**2 + C_{32}^2**2)) + (S_{12}*(C_{11}^1*C_{21}^1 + C_{12}^1*C_{22}^1) + S_{22}*(C_{21}^1**2 + C_{22}^1**2) + S_{32}*(C_{21}^1*C_{31}^1 + C_{22}^1*C_{32}^1))*(S_{12}*(C_{11}^1*C_{31}^1 + C_{12}^1*C_{32}^1) + S_{22}*(C_{21}^1*C_{31}^1 + C_{22}^1*C_{32}^1) + S_{32}*(C_{31}^1**2 + C_{32}^1**2)) + (S_{12}*(C_{11}^2*C_{21}^2 + C_{12}^2*C_{22}^2) + S_{22}*(C_{21}^2**2 + C_{22}^2**2) + S_{32}*(C_{21}^2*C_{31}^2 + C_{22}^2*C_{32}^2))*(S_{12}*(C_{11}^2*C_{31}^2 + C_{12}^2*C_{32}^2) + S_{22}*(C_{21}^2*C_{31}^2 + C_{22}^2*C_{32}^2) + S_{32}*(C_{31}^2**2 + C_{32}^2**2)) + (S_{13}*(C_{11}^1*C_{21}^1 + C_{12}^1*C_{22}^1) + S_{23}*(C_{21}^1**2 + C_{22}^1**2) + S_{33}*(C_{21}^1*C_{31}^1 + C_{22}^1*C_{32}^1))*(S_{13}*(C_{11}^1*C_{31}^1 + C_{12}^1*C_{32}^1) + S_{23}*(C_{21}^1*C_{31}^1 + C_{22}^1*C_{32}^1) + S_{33}*(C_{31}^1**2 + C_{32}^1**2)) + (S_{13}*(C_{11}^2*C_{21}^2 + C_{12}^2*C_{22}^2) + S_{23}*(C_{21}^2**2 + C_{22}^2**2) + S_{33}*(C_{21}^2*C_{31}^2 + C_{22}^2*C_{32}^2))*(S_{13}*(C_{11}^2*C_{31}^2 + C_{12}^2*C_{32}^2) + S_{23}*(C_{21}^2*C_{31}^2 + C_{22}^2*C_{32}^2) + S_{33}*(C_{31}^2**2 + C_{32}^2**2)),                                                                                                                                                                                                                                                                                                                                                                                                                                                                                                                                                                                                                                                                                                                                                                                                                         (S_{11}*(C_{11}^1*C_{31}^1 + C_{12}^1*C_{32}^1) + S_{21}*(C_{21}^1*C_{31}^1 + C_{22}^1*C_{32}^1) + S_{31}*(C_{31}^1**2 + C_{32}^1**2))**2 + (S_{11}*(C_{11}^2*C_{31}^2 + C_{12}^2*C_{32}^2) + S_{21}*(C_{21}^2*C_{31}^2 + C_{22}^2*C_{32}^2) + S_{31}*(C_{31}^2**2 + C_{32}^2**2))**2 + (S_{12}*(C_{11}^1*C_{31}^1 + C_{12}^1*C_{32}^1) + S_{22}*(C_{21}^1*C_{31}^1 + C_{22}^1*C_{32}^1) + S_{32}*(C_{31}^1**2 + C_{32}^1**2))**2 + (S_{12}*(C_{11}^2*C_{31}^2 + C_{12}^2*C_{32}^2) + S_{22}*(C_{21}^2*C_{31}^2 + C_{22}^2*C_{32}^2) + S_{32}*(C_{31}^2**2 + C_{32}^2**2))**2 + (S_{13}*(C_{11}^1*C_{31}^1 + C_{12}^1*C_{32}^1) + S_{23}*(C_{21}^1*C_{31}^1 + C_{22}^1*C_{32}^1) + S_{33}*(C_{31}^1**2 + C_{32}^1**2))**2 + (S_{13}*(C_{11}^2*C_{31}^2 + C_{12}^2*C_{32}^2) + S_{23}*(C_{21}^2*C_{31}^2 + C_{22}^2*C_{32}^2) + S_{33}*(C_{31}^2**2 + C_{32}^2**2))**2]])"
      ]
     },
     "execution_count": 180,
     "metadata": {},
     "output_type": "execute_result"
    }
   ],
   "source": [
    "OM1=get_OM(C1,S)+get_OM(C2,S)\n",
    "OM1"
   ]
  },
  {
   "cell_type": "code",
   "execution_count": 181,
   "metadata": {},
   "outputs": [
    {
     "data": {
      "text/latex": [
       "$\\displaystyle \\left(S_{11} \\left(C_{11}^{2} + C_{12}^{2}\\right) + S_{21} \\left(C_{11} C_{21} + C_{12} C_{22}\\right) + S_{31} \\left(C_{11} C_{31} + C_{12} C_{32}\\right)\\right) \\left(S_{11} \\left(C_{11} C_{21} + C_{12} C_{22}\\right) + S_{21} \\left(C_{21}^{2} + C_{22}^{2}\\right) + S_{31} \\left(C_{21} C_{31} + C_{22} C_{32}\\right)\\right) + \\left(S_{12} \\left(C_{11}^{2} + C_{12}^{2}\\right) + S_{22} \\left(C_{11} C_{21} + C_{12} C_{22}\\right) + S_{32} \\left(C_{11} C_{31} + C_{12} C_{32}\\right)\\right) \\left(S_{12} \\left(C_{11} C_{21} + C_{12} C_{22}\\right) + S_{22} \\left(C_{21}^{2} + C_{22}^{2}\\right) + S_{32} \\left(C_{21} C_{31} + C_{22} C_{32}\\right)\\right) + \\left(S_{13} \\left(C_{11}^{2} + C_{12}^{2}\\right) + S_{23} \\left(C_{11} C_{21} + C_{12} C_{22}\\right) + S_{33} \\left(C_{11} C_{31} + C_{12} C_{32}\\right)\\right) \\left(S_{13} \\left(C_{11} C_{21} + C_{12} C_{22}\\right) + S_{23} \\left(C_{21}^{2} + C_{22}^{2}\\right) + S_{33} \\left(C_{21} C_{31} + C_{22} C_{32}\\right)\\right)$"
      ],
      "text/plain": [
       "(S_{11}*(C_{11}**2 + C_{12}**2) + S_{21}*(C_{11}*C_{21} + C_{12}*C_{22}) + S_{31}*(C_{11}*C_{31} + C_{12}*C_{32}))*(S_{11}*(C_{11}*C_{21} + C_{12}*C_{22}) + S_{21}*(C_{21}**2 + C_{22}**2) + S_{31}*(C_{21}*C_{31} + C_{22}*C_{32})) + (S_{12}*(C_{11}**2 + C_{12}**2) + S_{22}*(C_{11}*C_{21} + C_{12}*C_{22}) + S_{32}*(C_{11}*C_{31} + C_{12}*C_{32}))*(S_{12}*(C_{11}*C_{21} + C_{12}*C_{22}) + S_{22}*(C_{21}**2 + C_{22}**2) + S_{32}*(C_{21}*C_{31} + C_{22}*C_{32})) + (S_{13}*(C_{11}**2 + C_{12}**2) + S_{23}*(C_{11}*C_{21} + C_{12}*C_{22}) + S_{33}*(C_{11}*C_{31} + C_{12}*C_{32}))*(S_{13}*(C_{11}*C_{21} + C_{12}*C_{22}) + S_{23}*(C_{21}**2 + C_{22}**2) + S_{33}*(C_{21}*C_{31} + C_{22}*C_{32}))"
      ]
     },
     "execution_count": 181,
     "metadata": {},
     "output_type": "execute_result"
    }
   ],
   "source": [
    "OM0[0,1]"
   ]
  },
  {
   "cell_type": "code",
   "execution_count": null,
   "metadata": {},
   "outputs": [
    {
     "data": {
      "text/latex": [
       "$\\displaystyle \\left(S_{11} \\left(\\left(C_{11}^1\\right)^{2} + \\left(C_{12}^1\\right)^{2}\\right) + S_{21} \\left(C_{11}^1 C_{21}^1 + C_{12}^1 C_{22}^1\\right) + S_{31} \\left(C_{11}^1 C_{31}^1 + C_{12}^1 C_{32}^1\\right)\\right) \\left(S_{11} \\left(C_{11}^1 C_{21}^1 + C_{12}^1 C_{22}^1\\right) + S_{21} \\left(\\left(C_{21}^1\\right)^{2} + \\left(C_{22}^1\\right)^{2}\\right) + S_{31} \\left(C_{21}^1 C_{31}^1 + C_{22}^1 C_{32}^1\\right)\\right) + \\left(S_{11} \\left(\\left(C_{11}^2\\right)^{2} + \\left(C_{12}^2\\right)^{2}\\right) + S_{21} \\left(C_{11}^2 C_{21}^2 + C_{12}^2 C_{22}^2\\right) + S_{31} \\left(C_{11}^2 C_{31}^2 + C_{12}^2 C_{32}^2\\right)\\right) \\left(S_{11} \\left(C_{11}^2 C_{21}^2 + C_{12}^2 C_{22}^2\\right) + S_{21} \\left(\\left(C_{21}^2\\right)^{2} + \\left(C_{22}^2\\right)^{2}\\right) + S_{31} \\left(C_{21}^2 C_{31}^2 + C_{22}^2 C_{32}^2\\right)\\right) + \\left(S_{12} \\left(\\left(C_{11}^1\\right)^{2} + \\left(C_{12}^1\\right)^{2}\\right) + S_{22} \\left(C_{11}^1 C_{21}^1 + C_{12}^1 C_{22}^1\\right) + S_{32} \\left(C_{11}^1 C_{31}^1 + C_{12}^1 C_{32}^1\\right)\\right) \\left(S_{12} \\left(C_{11}^1 C_{21}^1 + C_{12}^1 C_{22}^1\\right) + S_{22} \\left(\\left(C_{21}^1\\right)^{2} + \\left(C_{22}^1\\right)^{2}\\right) + S_{32} \\left(C_{21}^1 C_{31}^1 + C_{22}^1 C_{32}^1\\right)\\right) + \\left(S_{12} \\left(\\left(C_{11}^2\\right)^{2} + \\left(C_{12}^2\\right)^{2}\\right) + S_{22} \\left(C_{11}^2 C_{21}^2 + C_{12}^2 C_{22}^2\\right) + S_{32} \\left(C_{11}^2 C_{31}^2 + C_{12}^2 C_{32}^2\\right)\\right) \\left(S_{12} \\left(C_{11}^2 C_{21}^2 + C_{12}^2 C_{22}^2\\right) + S_{22} \\left(\\left(C_{21}^2\\right)^{2} + \\left(C_{22}^2\\right)^{2}\\right) + S_{32} \\left(C_{21}^2 C_{31}^2 + C_{22}^2 C_{32}^2\\right)\\right) + \\left(S_{13} \\left(\\left(C_{11}^1\\right)^{2} + \\left(C_{12}^1\\right)^{2}\\right) + S_{23} \\left(C_{11}^1 C_{21}^1 + C_{12}^1 C_{22}^1\\right) + S_{33} \\left(C_{11}^1 C_{31}^1 + C_{12}^1 C_{32}^1\\right)\\right) \\left(S_{13} \\left(C_{11}^1 C_{21}^1 + C_{12}^1 C_{22}^1\\right) + S_{23} \\left(\\left(C_{21}^1\\right)^{2} + \\left(C_{22}^1\\right)^{2}\\right) + S_{33} \\left(C_{21}^1 C_{31}^1 + C_{22}^1 C_{32}^1\\right)\\right) + \\left(S_{13} \\left(\\left(C_{11}^2\\right)^{2} + \\left(C_{12}^2\\right)^{2}\\right) + S_{23} \\left(C_{11}^2 C_{21}^2 + C_{12}^2 C_{22}^2\\right) + S_{33} \\left(C_{11}^2 C_{31}^2 + C_{12}^2 C_{32}^2\\right)\\right) \\left(S_{13} \\left(C_{11}^2 C_{21}^2 + C_{12}^2 C_{22}^2\\right) + S_{23} \\left(\\left(C_{21}^2\\right)^{2} + \\left(C_{22}^2\\right)^{2}\\right) + S_{33} \\left(C_{21}^2 C_{31}^2 + C_{22}^2 C_{32}^2\\right)\\right)$"
      ],
      "text/plain": [
       "(S_{11}*(C_{11}^1**2 + C_{12}^1**2) + S_{21}*(C_{11}^1*C_{21}^1 + C_{12}^1*C_{22}^1) + S_{31}*(C_{11}^1*C_{31}^1 + C_{12}^1*C_{32}^1))*(S_{11}*(C_{11}^1*C_{21}^1 + C_{12}^1*C_{22}^1) + S_{21}*(C_{21}^1**2 + C_{22}^1**2) + S_{31}*(C_{21}^1*C_{31}^1 + C_{22}^1*C_{32}^1)) + (S_{11}*(C_{11}^2**2 + C_{12}^2**2) + S_{21}*(C_{11}^2*C_{21}^2 + C_{12}^2*C_{22}^2) + S_{31}*(C_{11}^2*C_{31}^2 + C_{12}^2*C_{32}^2))*(S_{11}*(C_{11}^2*C_{21}^2 + C_{12}^2*C_{22}^2) + S_{21}*(C_{21}^2**2 + C_{22}^2**2) + S_{31}*(C_{21}^2*C_{31}^2 + C_{22}^2*C_{32}^2)) + (S_{12}*(C_{11}^1**2 + C_{12}^1**2) + S_{22}*(C_{11}^1*C_{21}^1 + C_{12}^1*C_{22}^1) + S_{32}*(C_{11}^1*C_{31}^1 + C_{12}^1*C_{32}^1))*(S_{12}*(C_{11}^1*C_{21}^1 + C_{12}^1*C_{22}^1) + S_{22}*(C_{21}^1**2 + C_{22}^1**2) + S_{32}*(C_{21}^1*C_{31}^1 + C_{22}^1*C_{32}^1)) + (S_{12}*(C_{11}^2**2 + C_{12}^2**2) + S_{22}*(C_{11}^2*C_{21}^2 + C_{12}^2*C_{22}^2) + S_{32}*(C_{11}^2*C_{31}^2 + C_{12}^2*C_{32}^2))*(S_{12}*(C_{11}^2*C_{21}^2 + C_{12}^2*C_{22}^2) + S_{22}*(C_{21}^2**2 + C_{22}^2**2) + S_{32}*(C_{21}^2*C_{31}^2 + C_{22}^2*C_{32}^2)) + (S_{13}*(C_{11}^1**2 + C_{12}^1**2) + S_{23}*(C_{11}^1*C_{21}^1 + C_{12}^1*C_{22}^1) + S_{33}*(C_{11}^1*C_{31}^1 + C_{12}^1*C_{32}^1))*(S_{13}*(C_{11}^1*C_{21}^1 + C_{12}^1*C_{22}^1) + S_{23}*(C_{21}^1**2 + C_{22}^1**2) + S_{33}*(C_{21}^1*C_{31}^1 + C_{22}^1*C_{32}^1)) + (S_{13}*(C_{11}^2**2 + C_{12}^2**2) + S_{23}*(C_{11}^2*C_{21}^2 + C_{12}^2*C_{22}^2) + S_{33}*(C_{11}^2*C_{31}^2 + C_{12}^2*C_{32}^2))*(S_{13}*(C_{11}^2*C_{21}^2 + C_{12}^2*C_{22}^2) + S_{23}*(C_{21}^2**2 + C_{22}^2**2) + S_{33}*(C_{21}^2*C_{31}^2 + C_{22}^2*C_{32}^2))"
      ]
     },
     "execution_count": 182,
     "metadata": {},
     "output_type": "execute_result"
    }
   ],
   "source": [
    "OM1[0,1]"
   ]
  },
  {
   "cell_type": "code",
   "execution_count": 184,
   "metadata": {},
   "outputs": [
    {
     "data": {
      "text/latex": [
       "$\\displaystyle \\left[\\begin{matrix}P_{11} & P_{12} & P_{13}\\\\P_{21} & P_{22} & P_{23}\\\\P_{31} & P_{32} & P_{33}\\end{matrix}\\right]$"
      ],
      "text/plain": [
       "Matrix([\n",
       "[P_{11}, P_{12}, P_{13}],\n",
       "[P_{21}, P_{22}, P_{23}],\n",
       "[P_{31}, P_{32}, P_{33}]])"
      ]
     },
     "execution_count": 184,
     "metadata": {},
     "output_type": "execute_result"
    }
   ],
   "source": [
    "syms0:list[list[sp.Symbol]]=[]\n",
    "syms1:list[list[sp.Symbol]]=[]\n",
    "syms2:list[list[sp.Symbol]]=[]\n",
    "for i in range(3):\n",
    "    syms0.append([])\n",
    "    syms1.append([])\n",
    "    syms2.append([])\n",
    "    for j in range(3):\n",
    "        syms0[-1].append(sp.Symbol(f'P_{{{i+1}{j+1}}}'))\n",
    "        syms1[-1].append(sp.Symbol(f'P_{{{i+1}{j+1}}}^1'))\n",
    "        syms2[-1].append(sp.Symbol(f'P_{{{i+1}{j+1}}}^2'))\n",
    "P=sp.Matrix(syms0)\n",
    "P1=sp.Matrix(syms1)\n",
    "P2=sp.Matrix(syms2)\n",
    "P"
   ]
  },
  {
   "cell_type": "code",
   "execution_count": 185,
   "metadata": {},
   "outputs": [],
   "source": [
    "def get_OM2(P,S):\n",
    "    O=(P@S)*(P@S).T\n",
    "    return O"
   ]
  },
  {
   "cell_type": "code",
   "execution_count": 191,
   "metadata": {},
   "outputs": [
    {
     "data": {
      "text/latex": [
       "$\\displaystyle \\left[\\begin{matrix}\\left(P_{11} S_{11} + P_{12} S_{21} + P_{13} S_{31}\\right)^{2} + \\left(P_{11} S_{12} + P_{12} S_{22} + P_{13} S_{32}\\right)^{2} + \\left(P_{11} S_{13} + P_{12} S_{23} + P_{13} S_{33}\\right)^{2} & \\left(P_{11} S_{11} + P_{12} S_{21} + P_{13} S_{31}\\right) \\left(P_{21} S_{11} + P_{22} S_{21} + P_{23} S_{31}\\right) + \\left(P_{11} S_{12} + P_{12} S_{22} + P_{13} S_{32}\\right) \\left(P_{21} S_{12} + P_{22} S_{22} + P_{23} S_{32}\\right) + \\left(P_{11} S_{13} + P_{12} S_{23} + P_{13} S_{33}\\right) \\left(P_{21} S_{13} + P_{22} S_{23} + P_{23} S_{33}\\right) & \\left(P_{11} S_{11} + P_{12} S_{21} + P_{13} S_{31}\\right) \\left(P_{31} S_{11} + P_{32} S_{21} + P_{33} S_{31}\\right) + \\left(P_{11} S_{12} + P_{12} S_{22} + P_{13} S_{32}\\right) \\left(P_{31} S_{12} + P_{32} S_{22} + P_{33} S_{32}\\right) + \\left(P_{11} S_{13} + P_{12} S_{23} + P_{13} S_{33}\\right) \\left(P_{31} S_{13} + P_{32} S_{23} + P_{33} S_{33}\\right)\\\\\\left(P_{11} S_{11} + P_{12} S_{21} + P_{13} S_{31}\\right) \\left(P_{21} S_{11} + P_{22} S_{21} + P_{23} S_{31}\\right) + \\left(P_{11} S_{12} + P_{12} S_{22} + P_{13} S_{32}\\right) \\left(P_{21} S_{12} + P_{22} S_{22} + P_{23} S_{32}\\right) + \\left(P_{11} S_{13} + P_{12} S_{23} + P_{13} S_{33}\\right) \\left(P_{21} S_{13} + P_{22} S_{23} + P_{23} S_{33}\\right) & \\left(P_{21} S_{11} + P_{22} S_{21} + P_{23} S_{31}\\right)^{2} + \\left(P_{21} S_{12} + P_{22} S_{22} + P_{23} S_{32}\\right)^{2} + \\left(P_{21} S_{13} + P_{22} S_{23} + P_{23} S_{33}\\right)^{2} & \\left(P_{21} S_{11} + P_{22} S_{21} + P_{23} S_{31}\\right) \\left(P_{31} S_{11} + P_{32} S_{21} + P_{33} S_{31}\\right) + \\left(P_{21} S_{12} + P_{22} S_{22} + P_{23} S_{32}\\right) \\left(P_{31} S_{12} + P_{32} S_{22} + P_{33} S_{32}\\right) + \\left(P_{21} S_{13} + P_{22} S_{23} + P_{23} S_{33}\\right) \\left(P_{31} S_{13} + P_{32} S_{23} + P_{33} S_{33}\\right)\\\\\\left(P_{11} S_{11} + P_{12} S_{21} + P_{13} S_{31}\\right) \\left(P_{31} S_{11} + P_{32} S_{21} + P_{33} S_{31}\\right) + \\left(P_{11} S_{12} + P_{12} S_{22} + P_{13} S_{32}\\right) \\left(P_{31} S_{12} + P_{32} S_{22} + P_{33} S_{32}\\right) + \\left(P_{11} S_{13} + P_{12} S_{23} + P_{13} S_{33}\\right) \\left(P_{31} S_{13} + P_{32} S_{23} + P_{33} S_{33}\\right) & \\left(P_{21} S_{11} + P_{22} S_{21} + P_{23} S_{31}\\right) \\left(P_{31} S_{11} + P_{32} S_{21} + P_{33} S_{31}\\right) + \\left(P_{21} S_{12} + P_{22} S_{22} + P_{23} S_{32}\\right) \\left(P_{31} S_{12} + P_{32} S_{22} + P_{33} S_{32}\\right) + \\left(P_{21} S_{13} + P_{22} S_{23} + P_{23} S_{33}\\right) \\left(P_{31} S_{13} + P_{32} S_{23} + P_{33} S_{33}\\right) & \\left(P_{31} S_{11} + P_{32} S_{21} + P_{33} S_{31}\\right)^{2} + \\left(P_{31} S_{12} + P_{32} S_{22} + P_{33} S_{32}\\right)^{2} + \\left(P_{31} S_{13} + P_{32} S_{23} + P_{33} S_{33}\\right)^{2}\\end{matrix}\\right]$"
      ],
      "text/plain": [
       "Matrix([\n",
       "[                                                                                                                                       (P_{11}*S_{11} + P_{12}*S_{21} + P_{13}*S_{31})**2 + (P_{11}*S_{12} + P_{12}*S_{22} + P_{13}*S_{32})**2 + (P_{11}*S_{13} + P_{12}*S_{23} + P_{13}*S_{33})**2, (P_{11}*S_{11} + P_{12}*S_{21} + P_{13}*S_{31})*(P_{21}*S_{11} + P_{22}*S_{21} + P_{23}*S_{31}) + (P_{11}*S_{12} + P_{12}*S_{22} + P_{13}*S_{32})*(P_{21}*S_{12} + P_{22}*S_{22} + P_{23}*S_{32}) + (P_{11}*S_{13} + P_{12}*S_{23} + P_{13}*S_{33})*(P_{21}*S_{13} + P_{22}*S_{23} + P_{23}*S_{33}), (P_{11}*S_{11} + P_{12}*S_{21} + P_{13}*S_{31})*(P_{31}*S_{11} + P_{32}*S_{21} + P_{33}*S_{31}) + (P_{11}*S_{12} + P_{12}*S_{22} + P_{13}*S_{32})*(P_{31}*S_{12} + P_{32}*S_{22} + P_{33}*S_{32}) + (P_{11}*S_{13} + P_{12}*S_{23} + P_{13}*S_{33})*(P_{31}*S_{13} + P_{32}*S_{23} + P_{33}*S_{33})],\n",
       "[(P_{11}*S_{11} + P_{12}*S_{21} + P_{13}*S_{31})*(P_{21}*S_{11} + P_{22}*S_{21} + P_{23}*S_{31}) + (P_{11}*S_{12} + P_{12}*S_{22} + P_{13}*S_{32})*(P_{21}*S_{12} + P_{22}*S_{22} + P_{23}*S_{32}) + (P_{11}*S_{13} + P_{12}*S_{23} + P_{13}*S_{33})*(P_{21}*S_{13} + P_{22}*S_{23} + P_{23}*S_{33}),                                                                                                                                        (P_{21}*S_{11} + P_{22}*S_{21} + P_{23}*S_{31})**2 + (P_{21}*S_{12} + P_{22}*S_{22} + P_{23}*S_{32})**2 + (P_{21}*S_{13} + P_{22}*S_{23} + P_{23}*S_{33})**2, (P_{21}*S_{11} + P_{22}*S_{21} + P_{23}*S_{31})*(P_{31}*S_{11} + P_{32}*S_{21} + P_{33}*S_{31}) + (P_{21}*S_{12} + P_{22}*S_{22} + P_{23}*S_{32})*(P_{31}*S_{12} + P_{32}*S_{22} + P_{33}*S_{32}) + (P_{21}*S_{13} + P_{22}*S_{23} + P_{23}*S_{33})*(P_{31}*S_{13} + P_{32}*S_{23} + P_{33}*S_{33})],\n",
       "[(P_{11}*S_{11} + P_{12}*S_{21} + P_{13}*S_{31})*(P_{31}*S_{11} + P_{32}*S_{21} + P_{33}*S_{31}) + (P_{11}*S_{12} + P_{12}*S_{22} + P_{13}*S_{32})*(P_{31}*S_{12} + P_{32}*S_{22} + P_{33}*S_{32}) + (P_{11}*S_{13} + P_{12}*S_{23} + P_{13}*S_{33})*(P_{31}*S_{13} + P_{32}*S_{23} + P_{33}*S_{33}), (P_{21}*S_{11} + P_{22}*S_{21} + P_{23}*S_{31})*(P_{31}*S_{11} + P_{32}*S_{21} + P_{33}*S_{31}) + (P_{21}*S_{12} + P_{22}*S_{22} + P_{23}*S_{32})*(P_{31}*S_{12} + P_{32}*S_{22} + P_{33}*S_{32}) + (P_{21}*S_{13} + P_{22}*S_{23} + P_{23}*S_{33})*(P_{31}*S_{13} + P_{32}*S_{23} + P_{33}*S_{33}),                                                                                                                                        (P_{31}*S_{11} + P_{32}*S_{21} + P_{33}*S_{31})**2 + (P_{31}*S_{12} + P_{32}*S_{22} + P_{33}*S_{32})**2 + (P_{31}*S_{13} + P_{32}*S_{23} + P_{33}*S_{33})**2]])"
      ]
     },
     "execution_count": 191,
     "metadata": {},
     "output_type": "execute_result"
    }
   ],
   "source": [
    "OM0=get_OM2(P,S)\n",
    "OM0"
   ]
  },
  {
   "cell_type": "code",
   "execution_count": 192,
   "metadata": {},
   "outputs": [
    {
     "data": {
      "text/latex": [
       "$\\displaystyle \\left[\\begin{matrix}\\left(P_{11}^1 S_{11} + P_{12}^1 S_{21} + P_{13}^1 S_{31}\\right)^{2} + \\left(P_{11}^1 S_{12} + P_{12}^1 S_{22} + P_{13}^1 S_{32}\\right)^{2} + \\left(P_{11}^1 S_{13} + P_{12}^1 S_{23} + P_{13}^1 S_{33}\\right)^{2} + \\left(P_{11}^2 S_{11} + P_{12}^2 S_{21} + P_{13}^2 S_{31}\\right)^{2} + \\left(P_{11}^2 S_{12} + P_{12}^2 S_{22} + P_{13}^2 S_{32}\\right)^{2} + \\left(P_{11}^2 S_{13} + P_{12}^2 S_{23} + P_{13}^2 S_{33}\\right)^{2} & \\left(P_{11}^1 S_{11} + P_{12}^1 S_{21} + P_{13}^1 S_{31}\\right) \\left(P_{21}^1 S_{11} + P_{22}^1 S_{21} + P_{23}^1 S_{31}\\right) + \\left(P_{11}^1 S_{12} + P_{12}^1 S_{22} + P_{13}^1 S_{32}\\right) \\left(P_{21}^1 S_{12} + P_{22}^1 S_{22} + P_{23}^1 S_{32}\\right) + \\left(P_{11}^1 S_{13} + P_{12}^1 S_{23} + P_{13}^1 S_{33}\\right) \\left(P_{21}^1 S_{13} + P_{22}^1 S_{23} + P_{23}^1 S_{33}\\right) + \\left(P_{11}^2 S_{11} + P_{12}^2 S_{21} + P_{13}^2 S_{31}\\right) \\left(P_{21}^2 S_{11} + P_{22}^2 S_{21} + P_{23}^2 S_{31}\\right) + \\left(P_{11}^2 S_{12} + P_{12}^2 S_{22} + P_{13}^2 S_{32}\\right) \\left(P_{21}^2 S_{12} + P_{22}^2 S_{22} + P_{23}^2 S_{32}\\right) + \\left(P_{11}^2 S_{13} + P_{12}^2 S_{23} + P_{13}^2 S_{33}\\right) \\left(P_{21}^2 S_{13} + P_{22}^2 S_{23} + P_{23}^2 S_{33}\\right) & \\left(P_{11}^1 S_{11} + P_{12}^1 S_{21} + P_{13}^1 S_{31}\\right) \\left(P_{31}^1 S_{11} + P_{32}^1 S_{21} + P_{33}^1 S_{31}\\right) + \\left(P_{11}^1 S_{12} + P_{12}^1 S_{22} + P_{13}^1 S_{32}\\right) \\left(P_{31}^1 S_{12} + P_{32}^1 S_{22} + P_{33}^1 S_{32}\\right) + \\left(P_{11}^1 S_{13} + P_{12}^1 S_{23} + P_{13}^1 S_{33}\\right) \\left(P_{31}^1 S_{13} + P_{32}^1 S_{23} + P_{33}^1 S_{33}\\right) + \\left(P_{11}^2 S_{11} + P_{12}^2 S_{21} + P_{13}^2 S_{31}\\right) \\left(P_{31}^2 S_{11} + P_{32}^2 S_{21} + P_{33}^2 S_{31}\\right) + \\left(P_{11}^2 S_{12} + P_{12}^2 S_{22} + P_{13}^2 S_{32}\\right) \\left(P_{31}^2 S_{12} + P_{32}^2 S_{22} + P_{33}^2 S_{32}\\right) + \\left(P_{11}^2 S_{13} + P_{12}^2 S_{23} + P_{13}^2 S_{33}\\right) \\left(P_{31}^2 S_{13} + P_{32}^2 S_{23} + P_{33}^2 S_{33}\\right)\\\\\\left(P_{11}^1 S_{11} + P_{12}^1 S_{21} + P_{13}^1 S_{31}\\right) \\left(P_{21}^1 S_{11} + P_{22}^1 S_{21} + P_{23}^1 S_{31}\\right) + \\left(P_{11}^1 S_{12} + P_{12}^1 S_{22} + P_{13}^1 S_{32}\\right) \\left(P_{21}^1 S_{12} + P_{22}^1 S_{22} + P_{23}^1 S_{32}\\right) + \\left(P_{11}^1 S_{13} + P_{12}^1 S_{23} + P_{13}^1 S_{33}\\right) \\left(P_{21}^1 S_{13} + P_{22}^1 S_{23} + P_{23}^1 S_{33}\\right) + \\left(P_{11}^2 S_{11} + P_{12}^2 S_{21} + P_{13}^2 S_{31}\\right) \\left(P_{21}^2 S_{11} + P_{22}^2 S_{21} + P_{23}^2 S_{31}\\right) + \\left(P_{11}^2 S_{12} + P_{12}^2 S_{22} + P_{13}^2 S_{32}\\right) \\left(P_{21}^2 S_{12} + P_{22}^2 S_{22} + P_{23}^2 S_{32}\\right) + \\left(P_{11}^2 S_{13} + P_{12}^2 S_{23} + P_{13}^2 S_{33}\\right) \\left(P_{21}^2 S_{13} + P_{22}^2 S_{23} + P_{23}^2 S_{33}\\right) & \\left(P_{21}^1 S_{11} + P_{22}^1 S_{21} + P_{23}^1 S_{31}\\right)^{2} + \\left(P_{21}^1 S_{12} + P_{22}^1 S_{22} + P_{23}^1 S_{32}\\right)^{2} + \\left(P_{21}^1 S_{13} + P_{22}^1 S_{23} + P_{23}^1 S_{33}\\right)^{2} + \\left(P_{21}^2 S_{11} + P_{22}^2 S_{21} + P_{23}^2 S_{31}\\right)^{2} + \\left(P_{21}^2 S_{12} + P_{22}^2 S_{22} + P_{23}^2 S_{32}\\right)^{2} + \\left(P_{21}^2 S_{13} + P_{22}^2 S_{23} + P_{23}^2 S_{33}\\right)^{2} & \\left(P_{21}^1 S_{11} + P_{22}^1 S_{21} + P_{23}^1 S_{31}\\right) \\left(P_{31}^1 S_{11} + P_{32}^1 S_{21} + P_{33}^1 S_{31}\\right) + \\left(P_{21}^1 S_{12} + P_{22}^1 S_{22} + P_{23}^1 S_{32}\\right) \\left(P_{31}^1 S_{12} + P_{32}^1 S_{22} + P_{33}^1 S_{32}\\right) + \\left(P_{21}^1 S_{13} + P_{22}^1 S_{23} + P_{23}^1 S_{33}\\right) \\left(P_{31}^1 S_{13} + P_{32}^1 S_{23} + P_{33}^1 S_{33}\\right) + \\left(P_{21}^2 S_{11} + P_{22}^2 S_{21} + P_{23}^2 S_{31}\\right) \\left(P_{31}^2 S_{11} + P_{32}^2 S_{21} + P_{33}^2 S_{31}\\right) + \\left(P_{21}^2 S_{12} + P_{22}^2 S_{22} + P_{23}^2 S_{32}\\right) \\left(P_{31}^2 S_{12} + P_{32}^2 S_{22} + P_{33}^2 S_{32}\\right) + \\left(P_{21}^2 S_{13} + P_{22}^2 S_{23} + P_{23}^2 S_{33}\\right) \\left(P_{31}^2 S_{13} + P_{32}^2 S_{23} + P_{33}^2 S_{33}\\right)\\\\\\left(P_{11}^1 S_{11} + P_{12}^1 S_{21} + P_{13}^1 S_{31}\\right) \\left(P_{31}^1 S_{11} + P_{32}^1 S_{21} + P_{33}^1 S_{31}\\right) + \\left(P_{11}^1 S_{12} + P_{12}^1 S_{22} + P_{13}^1 S_{32}\\right) \\left(P_{31}^1 S_{12} + P_{32}^1 S_{22} + P_{33}^1 S_{32}\\right) + \\left(P_{11}^1 S_{13} + P_{12}^1 S_{23} + P_{13}^1 S_{33}\\right) \\left(P_{31}^1 S_{13} + P_{32}^1 S_{23} + P_{33}^1 S_{33}\\right) + \\left(P_{11}^2 S_{11} + P_{12}^2 S_{21} + P_{13}^2 S_{31}\\right) \\left(P_{31}^2 S_{11} + P_{32}^2 S_{21} + P_{33}^2 S_{31}\\right) + \\left(P_{11}^2 S_{12} + P_{12}^2 S_{22} + P_{13}^2 S_{32}\\right) \\left(P_{31}^2 S_{12} + P_{32}^2 S_{22} + P_{33}^2 S_{32}\\right) + \\left(P_{11}^2 S_{13} + P_{12}^2 S_{23} + P_{13}^2 S_{33}\\right) \\left(P_{31}^2 S_{13} + P_{32}^2 S_{23} + P_{33}^2 S_{33}\\right) & \\left(P_{21}^1 S_{11} + P_{22}^1 S_{21} + P_{23}^1 S_{31}\\right) \\left(P_{31}^1 S_{11} + P_{32}^1 S_{21} + P_{33}^1 S_{31}\\right) + \\left(P_{21}^1 S_{12} + P_{22}^1 S_{22} + P_{23}^1 S_{32}\\right) \\left(P_{31}^1 S_{12} + P_{32}^1 S_{22} + P_{33}^1 S_{32}\\right) + \\left(P_{21}^1 S_{13} + P_{22}^1 S_{23} + P_{23}^1 S_{33}\\right) \\left(P_{31}^1 S_{13} + P_{32}^1 S_{23} + P_{33}^1 S_{33}\\right) + \\left(P_{21}^2 S_{11} + P_{22}^2 S_{21} + P_{23}^2 S_{31}\\right) \\left(P_{31}^2 S_{11} + P_{32}^2 S_{21} + P_{33}^2 S_{31}\\right) + \\left(P_{21}^2 S_{12} + P_{22}^2 S_{22} + P_{23}^2 S_{32}\\right) \\left(P_{31}^2 S_{12} + P_{32}^2 S_{22} + P_{33}^2 S_{32}\\right) + \\left(P_{21}^2 S_{13} + P_{22}^2 S_{23} + P_{23}^2 S_{33}\\right) \\left(P_{31}^2 S_{13} + P_{32}^2 S_{23} + P_{33}^2 S_{33}\\right) & \\left(P_{31}^1 S_{11} + P_{32}^1 S_{21} + P_{33}^1 S_{31}\\right)^{2} + \\left(P_{31}^1 S_{12} + P_{32}^1 S_{22} + P_{33}^1 S_{32}\\right)^{2} + \\left(P_{31}^1 S_{13} + P_{32}^1 S_{23} + P_{33}^1 S_{33}\\right)^{2} + \\left(P_{31}^2 S_{11} + P_{32}^2 S_{21} + P_{33}^2 S_{31}\\right)^{2} + \\left(P_{31}^2 S_{12} + P_{32}^2 S_{22} + P_{33}^2 S_{32}\\right)^{2} + \\left(P_{31}^2 S_{13} + P_{32}^2 S_{23} + P_{33}^2 S_{33}\\right)^{2}\\end{matrix}\\right]$"
      ],
      "text/plain": [
       "Matrix([\n",
       "[                                                                                                                                                                                                                                                                                                                  (P_{11}^1*S_{11} + P_{12}^1*S_{21} + P_{13}^1*S_{31})**2 + (P_{11}^1*S_{12} + P_{12}^1*S_{22} + P_{13}^1*S_{32})**2 + (P_{11}^1*S_{13} + P_{12}^1*S_{23} + P_{13}^1*S_{33})**2 + (P_{11}^2*S_{11} + P_{12}^2*S_{21} + P_{13}^2*S_{31})**2 + (P_{11}^2*S_{12} + P_{12}^2*S_{22} + P_{13}^2*S_{32})**2 + (P_{11}^2*S_{13} + P_{12}^2*S_{23} + P_{13}^2*S_{33})**2, (P_{11}^1*S_{11} + P_{12}^1*S_{21} + P_{13}^1*S_{31})*(P_{21}^1*S_{11} + P_{22}^1*S_{21} + P_{23}^1*S_{31}) + (P_{11}^1*S_{12} + P_{12}^1*S_{22} + P_{13}^1*S_{32})*(P_{21}^1*S_{12} + P_{22}^1*S_{22} + P_{23}^1*S_{32}) + (P_{11}^1*S_{13} + P_{12}^1*S_{23} + P_{13}^1*S_{33})*(P_{21}^1*S_{13} + P_{22}^1*S_{23} + P_{23}^1*S_{33}) + (P_{11}^2*S_{11} + P_{12}^2*S_{21} + P_{13}^2*S_{31})*(P_{21}^2*S_{11} + P_{22}^2*S_{21} + P_{23}^2*S_{31}) + (P_{11}^2*S_{12} + P_{12}^2*S_{22} + P_{13}^2*S_{32})*(P_{21}^2*S_{12} + P_{22}^2*S_{22} + P_{23}^2*S_{32}) + (P_{11}^2*S_{13} + P_{12}^2*S_{23} + P_{13}^2*S_{33})*(P_{21}^2*S_{13} + P_{22}^2*S_{23} + P_{23}^2*S_{33}), (P_{11}^1*S_{11} + P_{12}^1*S_{21} + P_{13}^1*S_{31})*(P_{31}^1*S_{11} + P_{32}^1*S_{21} + P_{33}^1*S_{31}) + (P_{11}^1*S_{12} + P_{12}^1*S_{22} + P_{13}^1*S_{32})*(P_{31}^1*S_{12} + P_{32}^1*S_{22} + P_{33}^1*S_{32}) + (P_{11}^1*S_{13} + P_{12}^1*S_{23} + P_{13}^1*S_{33})*(P_{31}^1*S_{13} + P_{32}^1*S_{23} + P_{33}^1*S_{33}) + (P_{11}^2*S_{11} + P_{12}^2*S_{21} + P_{13}^2*S_{31})*(P_{31}^2*S_{11} + P_{32}^2*S_{21} + P_{33}^2*S_{31}) + (P_{11}^2*S_{12} + P_{12}^2*S_{22} + P_{13}^2*S_{32})*(P_{31}^2*S_{12} + P_{32}^2*S_{22} + P_{33}^2*S_{32}) + (P_{11}^2*S_{13} + P_{12}^2*S_{23} + P_{13}^2*S_{33})*(P_{31}^2*S_{13} + P_{32}^2*S_{23} + P_{33}^2*S_{33})],\n",
       "[(P_{11}^1*S_{11} + P_{12}^1*S_{21} + P_{13}^1*S_{31})*(P_{21}^1*S_{11} + P_{22}^1*S_{21} + P_{23}^1*S_{31}) + (P_{11}^1*S_{12} + P_{12}^1*S_{22} + P_{13}^1*S_{32})*(P_{21}^1*S_{12} + P_{22}^1*S_{22} + P_{23}^1*S_{32}) + (P_{11}^1*S_{13} + P_{12}^1*S_{23} + P_{13}^1*S_{33})*(P_{21}^1*S_{13} + P_{22}^1*S_{23} + P_{23}^1*S_{33}) + (P_{11}^2*S_{11} + P_{12}^2*S_{21} + P_{13}^2*S_{31})*(P_{21}^2*S_{11} + P_{22}^2*S_{21} + P_{23}^2*S_{31}) + (P_{11}^2*S_{12} + P_{12}^2*S_{22} + P_{13}^2*S_{32})*(P_{21}^2*S_{12} + P_{22}^2*S_{22} + P_{23}^2*S_{32}) + (P_{11}^2*S_{13} + P_{12}^2*S_{23} + P_{13}^2*S_{33})*(P_{21}^2*S_{13} + P_{22}^2*S_{23} + P_{23}^2*S_{33}),                                                                                                                                                                                                                                                                                                                   (P_{21}^1*S_{11} + P_{22}^1*S_{21} + P_{23}^1*S_{31})**2 + (P_{21}^1*S_{12} + P_{22}^1*S_{22} + P_{23}^1*S_{32})**2 + (P_{21}^1*S_{13} + P_{22}^1*S_{23} + P_{23}^1*S_{33})**2 + (P_{21}^2*S_{11} + P_{22}^2*S_{21} + P_{23}^2*S_{31})**2 + (P_{21}^2*S_{12} + P_{22}^2*S_{22} + P_{23}^2*S_{32})**2 + (P_{21}^2*S_{13} + P_{22}^2*S_{23} + P_{23}^2*S_{33})**2, (P_{21}^1*S_{11} + P_{22}^1*S_{21} + P_{23}^1*S_{31})*(P_{31}^1*S_{11} + P_{32}^1*S_{21} + P_{33}^1*S_{31}) + (P_{21}^1*S_{12} + P_{22}^1*S_{22} + P_{23}^1*S_{32})*(P_{31}^1*S_{12} + P_{32}^1*S_{22} + P_{33}^1*S_{32}) + (P_{21}^1*S_{13} + P_{22}^1*S_{23} + P_{23}^1*S_{33})*(P_{31}^1*S_{13} + P_{32}^1*S_{23} + P_{33}^1*S_{33}) + (P_{21}^2*S_{11} + P_{22}^2*S_{21} + P_{23}^2*S_{31})*(P_{31}^2*S_{11} + P_{32}^2*S_{21} + P_{33}^2*S_{31}) + (P_{21}^2*S_{12} + P_{22}^2*S_{22} + P_{23}^2*S_{32})*(P_{31}^2*S_{12} + P_{32}^2*S_{22} + P_{33}^2*S_{32}) + (P_{21}^2*S_{13} + P_{22}^2*S_{23} + P_{23}^2*S_{33})*(P_{31}^2*S_{13} + P_{32}^2*S_{23} + P_{33}^2*S_{33})],\n",
       "[(P_{11}^1*S_{11} + P_{12}^1*S_{21} + P_{13}^1*S_{31})*(P_{31}^1*S_{11} + P_{32}^1*S_{21} + P_{33}^1*S_{31}) + (P_{11}^1*S_{12} + P_{12}^1*S_{22} + P_{13}^1*S_{32})*(P_{31}^1*S_{12} + P_{32}^1*S_{22} + P_{33}^1*S_{32}) + (P_{11}^1*S_{13} + P_{12}^1*S_{23} + P_{13}^1*S_{33})*(P_{31}^1*S_{13} + P_{32}^1*S_{23} + P_{33}^1*S_{33}) + (P_{11}^2*S_{11} + P_{12}^2*S_{21} + P_{13}^2*S_{31})*(P_{31}^2*S_{11} + P_{32}^2*S_{21} + P_{33}^2*S_{31}) + (P_{11}^2*S_{12} + P_{12}^2*S_{22} + P_{13}^2*S_{32})*(P_{31}^2*S_{12} + P_{32}^2*S_{22} + P_{33}^2*S_{32}) + (P_{11}^2*S_{13} + P_{12}^2*S_{23} + P_{13}^2*S_{33})*(P_{31}^2*S_{13} + P_{32}^2*S_{23} + P_{33}^2*S_{33}), (P_{21}^1*S_{11} + P_{22}^1*S_{21} + P_{23}^1*S_{31})*(P_{31}^1*S_{11} + P_{32}^1*S_{21} + P_{33}^1*S_{31}) + (P_{21}^1*S_{12} + P_{22}^1*S_{22} + P_{23}^1*S_{32})*(P_{31}^1*S_{12} + P_{32}^1*S_{22} + P_{33}^1*S_{32}) + (P_{21}^1*S_{13} + P_{22}^1*S_{23} + P_{23}^1*S_{33})*(P_{31}^1*S_{13} + P_{32}^1*S_{23} + P_{33}^1*S_{33}) + (P_{21}^2*S_{11} + P_{22}^2*S_{21} + P_{23}^2*S_{31})*(P_{31}^2*S_{11} + P_{32}^2*S_{21} + P_{33}^2*S_{31}) + (P_{21}^2*S_{12} + P_{22}^2*S_{22} + P_{23}^2*S_{32})*(P_{31}^2*S_{12} + P_{32}^2*S_{22} + P_{33}^2*S_{32}) + (P_{21}^2*S_{13} + P_{22}^2*S_{23} + P_{23}^2*S_{33})*(P_{31}^2*S_{13} + P_{32}^2*S_{23} + P_{33}^2*S_{33}),                                                                                                                                                                                                                                                                                                                   (P_{31}^1*S_{11} + P_{32}^1*S_{21} + P_{33}^1*S_{31})**2 + (P_{31}^1*S_{12} + P_{32}^1*S_{22} + P_{33}^1*S_{32})**2 + (P_{31}^1*S_{13} + P_{32}^1*S_{23} + P_{33}^1*S_{33})**2 + (P_{31}^2*S_{11} + P_{32}^2*S_{21} + P_{33}^2*S_{31})**2 + (P_{31}^2*S_{12} + P_{32}^2*S_{22} + P_{33}^2*S_{32})**2 + (P_{31}^2*S_{13} + P_{32}^2*S_{23} + P_{33}^2*S_{33})**2]])"
      ]
     },
     "execution_count": 192,
     "metadata": {},
     "output_type": "execute_result"
    }
   ],
   "source": [
    "OM1=get_OM2(P1,S)+get_OM2(P2,S)\n",
    "OM1"
   ]
  },
  {
   "cell_type": "code",
   "execution_count": 199,
   "metadata": {},
   "outputs": [
    {
     "data": {
      "text/latex": [
       "$\\displaystyle \\left(P_{11} S_{11} + P_{12} S_{21} + P_{13} S_{31}\\right) \\left(P_{21} S_{11} + P_{22} S_{21} + P_{23} S_{31}\\right) + \\left(P_{11} S_{12} + P_{12} S_{22} + P_{13} S_{32}\\right) \\left(P_{21} S_{12} + P_{22} S_{22} + P_{23} S_{32}\\right) + \\left(P_{11} S_{13} + P_{12} S_{23} + P_{13} S_{33}\\right) \\left(P_{21} S_{13} + P_{22} S_{23} + P_{23} S_{33}\\right)$"
      ],
      "text/plain": [
       "(P_{11}*S_{11} + P_{12}*S_{21} + P_{13}*S_{31})*(P_{21}*S_{11} + P_{22}*S_{21} + P_{23}*S_{31}) + (P_{11}*S_{12} + P_{12}*S_{22} + P_{13}*S_{32})*(P_{21}*S_{12} + P_{22}*S_{22} + P_{23}*S_{32}) + (P_{11}*S_{13} + P_{12}*S_{23} + P_{13}*S_{33})*(P_{21}*S_{13} + P_{22}*S_{23} + P_{23}*S_{33})"
      ]
     },
     "execution_count": 199,
     "metadata": {},
     "output_type": "execute_result"
    }
   ],
   "source": [
    "OM0[0,1]"
   ]
  },
  {
   "cell_type": "code",
   "execution_count": 200,
   "metadata": {},
   "outputs": [
    {
     "data": {
      "text/latex": [
       "$\\displaystyle \\left(P_{11}^1 S_{11} + P_{12}^1 S_{21} + P_{13}^1 S_{31}\\right) \\left(P_{21}^1 S_{11} + P_{22}^1 S_{21} + P_{23}^1 S_{31}\\right) + \\left(P_{11}^1 S_{12} + P_{12}^1 S_{22} + P_{13}^1 S_{32}\\right) \\left(P_{21}^1 S_{12} + P_{22}^1 S_{22} + P_{23}^1 S_{32}\\right) + \\left(P_{11}^1 S_{13} + P_{12}^1 S_{23} + P_{13}^1 S_{33}\\right) \\left(P_{21}^1 S_{13} + P_{22}^1 S_{23} + P_{23}^1 S_{33}\\right) + \\left(P_{11}^2 S_{11} + P_{12}^2 S_{21} + P_{13}^2 S_{31}\\right) \\left(P_{21}^2 S_{11} + P_{22}^2 S_{21} + P_{23}^2 S_{31}\\right) + \\left(P_{11}^2 S_{12} + P_{12}^2 S_{22} + P_{13}^2 S_{32}\\right) \\left(P_{21}^2 S_{12} + P_{22}^2 S_{22} + P_{23}^2 S_{32}\\right) + \\left(P_{11}^2 S_{13} + P_{12}^2 S_{23} + P_{13}^2 S_{33}\\right) \\left(P_{21}^2 S_{13} + P_{22}^2 S_{23} + P_{23}^2 S_{33}\\right)$"
      ],
      "text/plain": [
       "(P_{11}^1*S_{11} + P_{12}^1*S_{21} + P_{13}^1*S_{31})*(P_{21}^1*S_{11} + P_{22}^1*S_{21} + P_{23}^1*S_{31}) + (P_{11}^1*S_{12} + P_{12}^1*S_{22} + P_{13}^1*S_{32})*(P_{21}^1*S_{12} + P_{22}^1*S_{22} + P_{23}^1*S_{32}) + (P_{11}^1*S_{13} + P_{12}^1*S_{23} + P_{13}^1*S_{33})*(P_{21}^1*S_{13} + P_{22}^1*S_{23} + P_{23}^1*S_{33}) + (P_{11}^2*S_{11} + P_{12}^2*S_{21} + P_{13}^2*S_{31})*(P_{21}^2*S_{11} + P_{22}^2*S_{21} + P_{23}^2*S_{31}) + (P_{11}^2*S_{12} + P_{12}^2*S_{22} + P_{13}^2*S_{32})*(P_{21}^2*S_{12} + P_{22}^2*S_{22} + P_{23}^2*S_{32}) + (P_{11}^2*S_{13} + P_{12}^2*S_{23} + P_{13}^2*S_{33})*(P_{21}^2*S_{13} + P_{22}^2*S_{23} + P_{23}^2*S_{33})"
      ]
     },
     "execution_count": 200,
     "metadata": {},
     "output_type": "execute_result"
    }
   ],
   "source": [
    "OM1[0,1]"
   ]
  },
  {
   "cell_type": "code",
   "execution_count": 202,
   "metadata": {},
   "outputs": [
    {
     "data": {
      "text/latex": [
       "$\\displaystyle \\left[\\begin{matrix}P_{11}^1 P_{11}^2 + P_{12}^1 P_{21}^2 + P_{13}^1 P_{31}^2 & P_{11}^1 P_{12}^2 + P_{12}^1 P_{22}^2 + P_{13}^1 P_{32}^2 & P_{11}^1 P_{13}^2 + P_{12}^1 P_{23}^2 + P_{13}^1 P_{33}^2\\\\P_{11}^2 P_{21}^1 + P_{21}^2 P_{22}^1 + P_{23}^1 P_{31}^2 & P_{12}^2 P_{21}^1 + P_{22}^1 P_{22}^2 + P_{23}^1 P_{32}^2 & P_{13}^2 P_{21}^1 + P_{22}^1 P_{23}^2 + P_{23}^1 P_{33}^2\\\\P_{11}^2 P_{31}^1 + P_{21}^2 P_{32}^1 + P_{31}^2 P_{33}^1 & P_{12}^2 P_{31}^1 + P_{22}^2 P_{32}^1 + P_{32}^2 P_{33}^1 & P_{13}^2 P_{31}^1 + P_{23}^2 P_{32}^1 + P_{33}^1 P_{33}^2\\end{matrix}\\right]$"
      ],
      "text/plain": [
       "Matrix([\n",
       "[P_{11}^1*P_{11}^2 + P_{12}^1*P_{21}^2 + P_{13}^1*P_{31}^2, P_{11}^1*P_{12}^2 + P_{12}^1*P_{22}^2 + P_{13}^1*P_{32}^2, P_{11}^1*P_{13}^2 + P_{12}^1*P_{23}^2 + P_{13}^1*P_{33}^2],\n",
       "[P_{11}^2*P_{21}^1 + P_{21}^2*P_{22}^1 + P_{23}^1*P_{31}^2, P_{12}^2*P_{21}^1 + P_{22}^1*P_{22}^2 + P_{23}^1*P_{32}^2, P_{13}^2*P_{21}^1 + P_{22}^1*P_{23}^2 + P_{23}^1*P_{33}^2],\n",
       "[P_{11}^2*P_{31}^1 + P_{21}^2*P_{32}^1 + P_{31}^2*P_{33}^1, P_{12}^2*P_{31}^1 + P_{22}^2*P_{32}^1 + P_{32}^2*P_{33}^1, P_{13}^2*P_{31}^1 + P_{23}^2*P_{32}^1 + P_{33}^1*P_{33}^2]])"
      ]
     },
     "execution_count": 202,
     "metadata": {},
     "output_type": "execute_result"
    }
   ],
   "source": [
    "P1@P2"
   ]
  },
  {
   "cell_type": "code",
   "execution_count": 203,
   "metadata": {},
   "outputs": [
    {
     "data": {
      "text/latex": [
       "$\\displaystyle \\left[\\begin{matrix}P_{11}^1 P_{11}^2 + P_{12}^2 P_{21}^1 + P_{13}^2 P_{31}^1 & P_{11}^2 P_{12}^1 + P_{12}^2 P_{22}^1 + P_{13}^2 P_{32}^1 & P_{11}^2 P_{13}^1 + P_{12}^2 P_{23}^1 + P_{13}^2 P_{33}^1\\\\P_{11}^1 P_{21}^2 + P_{21}^1 P_{22}^2 + P_{23}^2 P_{31}^1 & P_{12}^1 P_{21}^2 + P_{22}^1 P_{22}^2 + P_{23}^2 P_{32}^1 & P_{13}^1 P_{21}^2 + P_{22}^2 P_{23}^1 + P_{23}^2 P_{33}^1\\\\P_{11}^1 P_{31}^2 + P_{21}^1 P_{32}^2 + P_{31}^1 P_{33}^2 & P_{12}^1 P_{31}^2 + P_{22}^1 P_{32}^2 + P_{32}^1 P_{33}^2 & P_{13}^1 P_{31}^2 + P_{23}^1 P_{32}^2 + P_{33}^1 P_{33}^2\\end{matrix}\\right]$"
      ],
      "text/plain": [
       "Matrix([\n",
       "[P_{11}^1*P_{11}^2 + P_{12}^2*P_{21}^1 + P_{13}^2*P_{31}^1, P_{11}^2*P_{12}^1 + P_{12}^2*P_{22}^1 + P_{13}^2*P_{32}^1, P_{11}^2*P_{13}^1 + P_{12}^2*P_{23}^1 + P_{13}^2*P_{33}^1],\n",
       "[P_{11}^1*P_{21}^2 + P_{21}^1*P_{22}^2 + P_{23}^2*P_{31}^1, P_{12}^1*P_{21}^2 + P_{22}^1*P_{22}^2 + P_{23}^2*P_{32}^1, P_{13}^1*P_{21}^2 + P_{22}^2*P_{23}^1 + P_{23}^2*P_{33}^1],\n",
       "[P_{11}^1*P_{31}^2 + P_{21}^1*P_{32}^2 + P_{31}^1*P_{33}^2, P_{12}^1*P_{31}^2 + P_{22}^1*P_{32}^2 + P_{32}^1*P_{33}^2, P_{13}^1*P_{31}^2 + P_{23}^1*P_{32}^2 + P_{33}^1*P_{33}^2]])"
      ]
     },
     "execution_count": 203,
     "metadata": {},
     "output_type": "execute_result"
    }
   ],
   "source": [
    "P2@P1"
   ]
  },
  {
   "cell_type": "markdown",
   "metadata": {},
   "source": [
    "## D轨道系数对应关系的推导"
   ]
  },
  {
   "cell_type": "code",
   "execution_count": 1,
   "metadata": {},
   "outputs": [
    {
     "data": {
      "text/latex": [
       "$\\displaystyle \\left[\\begin{matrix}T_{11} & T_{12} & T_{13}\\\\T_{21} & T_{22} & T_{23}\\\\T_{31} & T_{32} & T_{33}\\end{matrix}\\right]$"
      ],
      "text/plain": [
       "Matrix([\n",
       "[T_{11}, T_{12}, T_{13}],\n",
       "[T_{21}, T_{22}, T_{23}],\n",
       "[T_{31}, T_{32}, T_{33}]])"
      ]
     },
     "execution_count": 1,
     "metadata": {},
     "output_type": "execute_result"
    }
   ],
   "source": [
    "import sympy as sp\n",
    "syms:list[list[sp.Symbol]]=[]\n",
    "for i in range(3):\n",
    "    syms.append([])\n",
    "    for j in range(3):\n",
    "        syms[-1].append(sp.Symbol(f'T_{{{i+1}{j+1}}}'))\n",
    "T=sp.Matrix(syms)\n",
    "T"
   ]
  },
  {
   "cell_type": "code",
   "execution_count": 106,
   "metadata": {},
   "outputs": [],
   "source": [
    "x,y,z=sp.symbols('x y z')\n",
    "r=sp.Matrix([[x,y,z]])\n",
    "x_,y_,z_=r@T"
   ]
  },
  {
   "cell_type": "code",
   "execution_count": 107,
   "metadata": {},
   "outputs": [],
   "source": [
    "r_=r@T"
   ]
  },
  {
   "cell_type": "code",
   "execution_count": 108,
   "metadata": {},
   "outputs": [],
   "source": [
    "C11,C12,C13,C14,C15,C16=sp.symbols('C11 C12 C13 C14 C15 C16')\n",
    "C21,C22,C23,C24,C25,C26=sp.symbols('C21 C22 C23 C24 C25 C26')"
   ]
  },
  {
   "cell_type": "code",
   "execution_count": 109,
   "metadata": {},
   "outputs": [
    {
     "data": {
      "text/latex": [
       "$\\displaystyle C_{21} T_{11}^{2} x^{2} + 2 C_{21} T_{11} T_{21} x y + 2 C_{21} T_{11} T_{31} x z + C_{21} T_{21}^{2} y^{2} + 2 C_{21} T_{21} T_{31} y z + C_{21} T_{31}^{2} z^{2} + C_{22} T_{11} T_{12} x^{2} + C_{22} T_{11} T_{22} x y + C_{22} T_{11} T_{32} x z + C_{22} T_{12} T_{21} x y + C_{22} T_{12} T_{31} x z + C_{22} T_{21} T_{22} y^{2} + C_{22} T_{21} T_{32} y z + C_{22} T_{22} T_{31} y z + C_{22} T_{31} T_{32} z^{2} + C_{23} T_{11} T_{13} x^{2} + C_{23} T_{11} T_{23} x y + C_{23} T_{11} T_{33} x z + C_{23} T_{13} T_{21} x y + C_{23} T_{13} T_{31} x z + C_{23} T_{21} T_{23} y^{2} + C_{23} T_{21} T_{33} y z + C_{23} T_{23} T_{31} y z + C_{23} T_{31} T_{33} z^{2} + C_{24} T_{12}^{2} x^{2} + 2 C_{24} T_{12} T_{22} x y + 2 C_{24} T_{12} T_{32} x z + C_{24} T_{22}^{2} y^{2} + 2 C_{24} T_{22} T_{32} y z + C_{24} T_{32}^{2} z^{2} + C_{25} T_{12} T_{13} x^{2} + C_{25} T_{12} T_{23} x y + C_{25} T_{12} T_{33} x z + C_{25} T_{13} T_{22} x y + C_{25} T_{13} T_{32} x z + C_{25} T_{22} T_{23} y^{2} + C_{25} T_{22} T_{33} y z + C_{25} T_{23} T_{32} y z + C_{25} T_{32} T_{33} z^{2} + C_{26} T_{13}^{2} x^{2} + 2 C_{26} T_{13} T_{23} x y + 2 C_{26} T_{13} T_{33} x z + C_{26} T_{23}^{2} y^{2} + 2 C_{26} T_{23} T_{33} y z + C_{26} T_{33}^{2} z^{2}$"
      ],
      "text/plain": [
       "C21*T_{11}**2*x**2 + 2*C21*T_{11}*T_{21}*x*y + 2*C21*T_{11}*T_{31}*x*z + C21*T_{21}**2*y**2 + 2*C21*T_{21}*T_{31}*y*z + C21*T_{31}**2*z**2 + C22*T_{11}*T_{12}*x**2 + C22*T_{11}*T_{22}*x*y + C22*T_{11}*T_{32}*x*z + C22*T_{12}*T_{21}*x*y + C22*T_{12}*T_{31}*x*z + C22*T_{21}*T_{22}*y**2 + C22*T_{21}*T_{32}*y*z + C22*T_{22}*T_{31}*y*z + C22*T_{31}*T_{32}*z**2 + C23*T_{11}*T_{13}*x**2 + C23*T_{11}*T_{23}*x*y + C23*T_{11}*T_{33}*x*z + C23*T_{13}*T_{21}*x*y + C23*T_{13}*T_{31}*x*z + C23*T_{21}*T_{23}*y**2 + C23*T_{21}*T_{33}*y*z + C23*T_{23}*T_{31}*y*z + C23*T_{31}*T_{33}*z**2 + C24*T_{12}**2*x**2 + 2*C24*T_{12}*T_{22}*x*y + 2*C24*T_{12}*T_{32}*x*z + C24*T_{22}**2*y**2 + 2*C24*T_{22}*T_{32}*y*z + C24*T_{32}**2*z**2 + C25*T_{12}*T_{13}*x**2 + C25*T_{12}*T_{23}*x*y + C25*T_{12}*T_{33}*x*z + C25*T_{13}*T_{22}*x*y + C25*T_{13}*T_{32}*x*z + C25*T_{22}*T_{23}*y**2 + C25*T_{22}*T_{33}*y*z + C25*T_{23}*T_{32}*y*z + C25*T_{32}*T_{33}*z**2 + C26*T_{13}**2*x**2 + 2*C26*T_{13}*T_{23}*x*y + 2*C26*T_{13}*T_{33}*x*z + C26*T_{23}**2*y**2 + 2*C26*T_{23}*T_{33}*y*z + C26*T_{33}**2*z**2"
      ]
     },
     "execution_count": 109,
     "metadata": {},
     "output_type": "execute_result"
    }
   ],
   "source": [
    "(C21*(x_*x_)+C22*(x_*y_)+C23*(x_*z_)+C24*(y_*y_)+C25*(y_*z_)+C26*(z_*z_)).expand()"
   ]
  },
  {
   "cell_type": "code",
   "execution_count": 2,
   "metadata": {},
   "outputs": [
    {
     "data": {
      "text/latex": [
       "$\\displaystyle \\left[\\begin{matrix}T_{11}^{2} & T_{11} T_{12} & T_{11} T_{13} & T_{12}^{2} & T_{12} T_{13} & T_{13}^{2}\\\\T_{21}^{2} & T_{21} T_{22} & T_{21} T_{23} & T_{22}^{2} & T_{22} T_{23} & T_{23}^{2}\\\\T_{31}^{2} & T_{31} T_{32} & T_{31} T_{33} & T_{32}^{2} & T_{32} T_{33} & T_{33}^{2}\\\\2 T_{11} T_{21} & T_{11} T_{22} + T_{12} T_{21} & T_{11} T_{23} + T_{13} T_{23} & 2 T_{12} T_{22} & T_{12} T_{23} + T_{13} T_{22} & 2 T_{13} T_{23}\\\\2 T_{11} T_{31} & T_{11} T_{32} + T_{12} T_{31} & T_{11} T_{33} + T_{13} T_{31} & 2 T_{12} T_{32} & T_{12} T_{33} + T_{13} T_{32} & 2 T_{13} T_{33}\\\\2 T_{21} T_{31} & T_{21} T_{32} + T_{22} T_{31} & T_{21} T_{33} + T_{23} T_{31} & 2 T_{22} T_{32} & T_{22} T_{33} + T_{23} T_{32} & 2 T_{23} T_{33}\\end{matrix}\\right]$"
      ],
      "text/plain": [
       "Matrix([\n",
       "[      T_{11}**2,                 T_{11}*T_{12},                 T_{11}*T_{13},       T_{12}**2,                 T_{12}*T_{13},       T_{13}**2],\n",
       "[      T_{21}**2,                 T_{21}*T_{22},                 T_{21}*T_{23},       T_{22}**2,                 T_{22}*T_{23},       T_{23}**2],\n",
       "[      T_{31}**2,                 T_{31}*T_{32},                 T_{31}*T_{33},       T_{32}**2,                 T_{32}*T_{33},       T_{33}**2],\n",
       "[2*T_{11}*T_{21}, T_{11}*T_{22} + T_{12}*T_{21}, T_{11}*T_{23} + T_{13}*T_{23}, 2*T_{12}*T_{22}, T_{12}*T_{23} + T_{13}*T_{22}, 2*T_{13}*T_{23}],\n",
       "[2*T_{11}*T_{31}, T_{11}*T_{32} + T_{12}*T_{31}, T_{11}*T_{33} + T_{13}*T_{31}, 2*T_{12}*T_{32}, T_{12}*T_{33} + T_{13}*T_{32}, 2*T_{13}*T_{33}],\n",
       "[2*T_{21}*T_{31}, T_{21}*T_{32} + T_{22}*T_{31}, T_{21}*T_{33} + T_{23}*T_{31}, 2*T_{22}*T_{32}, T_{22}*T_{33} + T_{23}*T_{32}, 2*T_{23}*T_{33}]])"
      ]
     },
     "execution_count": 2,
     "metadata": {},
     "output_type": "execute_result"
    }
   ],
   "source": [
    "M=sp.Matrix([\n",
    "    [T[0,0]**2, T[0,0]*T[0,1], T[0,0]*T[0,2], T[0,1]**2, T[0,1]*T[0,2], T[0,2]**2], # type: ignore\n",
    "    [T[1,0]**2, T[1,0]*T[1,1], T[1,0]*T[1,2], T[1,1]**2, T[1,1]*T[1,2], T[1,2]**2], # type: ignore\n",
    "    [T[2,0]**2, T[2,0]*T[2,1], T[2,0]*T[2,2], T[2,1]**2, T[2,1]*T[2,2], T[2,2]**2], # type: ignore\n",
    "    [2*T[0,0]*T[1,0], (T[0,0]*T[1,1]+T[0,1]*T[1,0]), (T[0,0]*T[1,2]+T[0,2]*T[1,2]), 2*T[0,1]*T[1,1], (T[0,1]*T[1,2]+T[0,2]*T[1,1]), 2*T[0,2]*T[1,2]], # type: ignore\n",
    "    [2*T[0,0]*T[2,0], (T[0,0]*T[2,1]+T[0,1]*T[2,0]), (T[0,0]*T[2,2]+T[0,2]*T[2,0]), 2*T[0,1]*T[2,1], (T[0,1]*T[2,2]+T[0,2]*T[2,1]), 2*T[0,2]*T[2,2]], # type: ignore\n",
    "    [2*T[1,0]*T[2,0], (T[1,0]*T[2,1]+T[1,1]*T[2,0]), (T[1,0]*T[2,2]+T[1,2]*T[2,0]), 2*T[1,1]*T[2,1], (T[1,1]*T[2,2]+T[1,2]*T[2,1]), 2*T[1,2]*T[2,2]], # type: ignore\n",
    "    ])\n",
    "M"
   ]
  },
  {
   "cell_type": "code",
   "execution_count": 3,
   "metadata": {},
   "outputs": [],
   "source": [
    "from sympy import preview, symbols\n",
    "from sympy.abc import x\n",
    "\n",
    "def sympy_latex_to_png(latex_formula, file_name='formula.png'):\n",
    "    preview(latex_formula, output='png', viewer='file', filename=file_name)\n",
    "\n",
    "# 示例用法\n",
    "latex_formula = x**2 + 2*x + 1  # 可以是任何SymPy表达式\n",
    "sympy_latex_to_png(latex_formula, 'quadratic_expression.png')"
   ]
  },
  {
   "cell_type": "code",
   "execution_count": null,
   "metadata": {},
   "outputs": [],
   "source": [
    "import matplotlib.pyplot as plt\n",
    "from matplotlib import rc\n",
    "\n",
    "def latex_to_png(latex_formula, file_name='formula.png'):\n",
    "    # 设置 LaTeX 渲染文本\n",
    "    rc('text', usetex=True)\n",
    "    fig = plt.figure(figsize=(6, 0.8))  # 调整大小以适应需要\n",
    "    plt.text(0.5, 0.5, rf'{latex_formula}', fontsize=20, color='black', ha='center', va='center')\n",
    "    plt.axis('off')  # 不显示坐标轴\n",
    "    plt.savefig(file_name, dpi=300, bbox_inches='tight', pad_inches=0.1)\n",
    "    plt.close(fig)\n",
    "\n",
    "# 示例用法\n",
    "latex_formula = r\"$x^2 + 2x + 1$\"  # LaTeX 公式字符串\n",
    "latex_to_png(latex_formula, 'quadratic_expression.png')"
   ]
  }
 ],
 "metadata": {
  "kernelspec": {
   "display_name": "pywfn",
   "language": "python",
   "name": "python3"
  },
  "language_info": {
   "codemirror_mode": {
    "name": "ipython",
    "version": 3
   },
   "file_extension": ".py",
   "mimetype": "text/x-python",
   "name": "python",
   "nbconvert_exporter": "python",
   "pygments_lexer": "ipython3",
   "version": "3.10.16"
  }
 },
 "nbformat": 4,
 "nbformat_minor": 2
}
