{
 "cells": [
  {
   "cell_type": "markdown",
   "metadata": {},
   "source": [
    "## 研究分解键级"
   ]
  },
  {
   "cell_type": "code",
   "execution_count": 1,
   "metadata": {},
   "outputs": [
    {
     "name": "stdout",
     "output_type": "stream",
     "text": [
      "动态链接库目录 d:\\code\\pywfn\\pywfn\\libs\n",
      "当前系统:windows\n"
     ]
    }
   ],
   "source": [
    "import sys\n",
    "sys.path.append('d:/code/pywfn')\n",
    "from pywfn.base import Mol\n",
    "from pywfn.reader import LogReader\n",
    "from pywfn.atomprop import direction\n",
    "import numpy as np\n",
    "from collections import defaultdict\n",
    "import matplotlib.pyplot as plt\n",
    "import pandas as pd\n",
    "from pywfn.bondprop import order\n",
    "from pywfn.maths import CM2PM\n",
    "from pywfn.maths.mol import projCM"
   ]
  },
  {
   "cell_type": "code",
   "execution_count": 34,
   "metadata": {},
   "outputs": [],
   "source": [
    "def gtf(grid,l,m,n)->np.ndarray:\n",
    "    x=grid[:,0]\n",
    "    y=grid[:,1]\n",
    "    z=grid[:,2]\n",
    "    r2=x**2+y**2+z**2\n",
    "    alp=2.0\n",
    "    facs=[1,1,3]\n",
    "    fac=facs[l]*facs[m]*facs[n]\n",
    "    ang=l+m+n\n",
    "    Nm=(2*alp/np.pi)**(3/4)*np.sqrt((4*alp)**ang/fac)\n",
    "    val=x**l * y**m * z**n * np.exp(-alp*r2)*Nm\n",
    "    return val\n",
    "\n",
    "\n",
    "def decomOrbitals(T:np.ndarray,coefs:np.ndarray,keeps:list):\n",
    "    match len(coefs):\n",
    "        case 1:\n",
    "            return decomOrbitalS(T,coefs,keeps)\n",
    "        case 3:\n",
    "            return decomOrbitalP(T,coefs,keeps)\n",
    "        case 6:\n",
    "            return decomOrbitalD(T,coefs,keeps)\n",
    "        case _:\n",
    "            return coefs\n",
    "\n",
    "def decomOrbitalS(T:np.ndarray,coefs:np.ndarray,keeps:list[int]):\n",
    "    if keeps:\n",
    "        return coefs\n",
    "    else:\n",
    "        return np.array([0.])\n",
    "\n",
    "# 分解P轨道\n",
    "def decomOrbitalP(T:np.ndarray,rcoefs:np.ndarray,keeps:list[int])->np.ndarray:\n",
    "    \"\"\"分解P轨道\n",
    "\n",
    "    Args:\n",
    "        T (np.ndarray): 基坐标，每一行代表一个方向\n",
    "        rcoefs (np.ndarray): 原始函数空间的基函数系数\n",
    "        keeps (list[int]): 保留的角动量\n",
    "\n",
    "    Returns:\n",
    "        np.ndarray: 分解之后的轨道系数\n",
    "    \"\"\"\n",
    "    npos=3\n",
    "    cords=np.random.rand(npos,3) #随机生成3个点[n,3],[3,3]\n",
    "    wfn_1=np.zeros(shape=(npos,3)) #再这些点上的波函数数值\n",
    "    wfn_1[:,0]=gtf(cords,1,0,0)\n",
    "    wfn_1[:,1]=gtf(cords,0,1,0)\n",
    "    wfn_1[:,2]=gtf(cords,0,0,1)\n",
    "\n",
    "    wfn_2=np.zeros(shape=(npos,3))\n",
    "    wfn_2[:,0]=gtf(cords@T,1,0,0)\n",
    "    wfn_2[:,1]=gtf(cords@T,0,1,0)\n",
    "    wfn_2[:,2]=gtf(cords@T,0,0,1)\n",
    "\n",
    "    Mr=np.linalg.inv(wfn_2)@wfn_1\n",
    "    Mi=np.linalg.inv(Mr)\n",
    "    tcoefs=Mr@rcoefs # 根据函数空间基组1下的系数获取函数空间基组2下的系数\n",
    "    for i in range(3):\n",
    "        if i in keeps:continue\n",
    "        tcoefs[i]=0.0\n",
    "    fcoefs=Mi@tcoefs # 根据修改后的函数空间基组2下的系数得到函数空间基组1下的系数\n",
    "    return fcoefs\n",
    "\n",
    "# 分解D轨道\n",
    "def decomOrbitalD(T:np.ndarray,rcoefs:np.ndarray,keeps:list[int]):\n",
    "    npos=6\n",
    "    cords=np.random.rand(npos,3) #随机生成6个点\n",
    "    wfn_1=np.zeros(shape=(npos,6))\n",
    "    wfn_1[:,0]=gtf(cords,2,0,0)\n",
    "    wfn_1[:,1]=gtf(cords,0,2,0)\n",
    "    wfn_1[:,2]=gtf(cords,0,0,2)\n",
    "    wfn_1[:,3]=gtf(cords,1,1,0)\n",
    "    wfn_1[:,4]=gtf(cords,1,0,1)\n",
    "    wfn_1[:,5]=gtf(cords,0,1,1)\n",
    "\n",
    "    wfn_2=np.zeros(shape=(npos,6))\n",
    "    wfn_2[:,0]=gtf(cords@T,2,0,0)\n",
    "    wfn_2[:,1]=gtf(cords@T,0,2,0)\n",
    "    wfn_2[:,2]=gtf(cords@T,0,0,2)\n",
    "    wfn_2[:,3]=gtf(cords@T,1,1,0)\n",
    "    wfn_2[:,4]=gtf(cords@T,1,0,1)\n",
    "    wfn_2[:,5]=gtf(cords@T,0,1,1)\n",
    "\n",
    "    Mr=np.linalg.inv(wfn_2)@wfn_1\n",
    "    Mi=np.linalg.inv(Mr)\n",
    "    tcoefs=Mr@rcoefs\n",
    "    for i in range(6):\n",
    "        if i in keeps:continue\n",
    "        tcoefs[i]=0.0\n",
    "    fcoefs=Mi@tcoefs\n",
    "    return fcoefs"
   ]
  },
  {
   "cell_type": "code",
   "execution_count": 18,
   "metadata": {},
   "outputs": [
    {
     "data": {
      "text/plain": [
       "[0, 1, 2, 3, 4, 5, 6]"
      ]
     },
     "execution_count": 18,
     "metadata": {},
     "output_type": "execute_result"
    }
   ],
   "source": [
    "path=rf\"D:\\gfile\\pywfn\\C2_t.out\"\n",
    "mol=Mol(LogReader(path))\n",
    "mol.atom(1)._props['normal']=np.array([1,0,0],dtype=float)\n",
    "mol.atom(3)._props['normal']=np.array([1,0,0],dtype=float)\n",
    "dirCaler=direction.Calculator(mol) # 方向计算器\n",
    "sys1=dirCaler.coordSystem(1,3)\n",
    "sys2=dirCaler.coordSystem(3,1)"
   ]
  },
  {
   "cell_type": "code",
   "execution_count": 43,
   "metadata": {},
   "outputs": [
    {
     "data": {
      "text/plain": [
       "array([-0.,  0.,  3.,  0.,  0., -0.])"
      ]
     },
     "execution_count": 43,
     "metadata": {},
     "output_type": "execute_result"
    }
   ],
   "source": [
    "path=rf\"D:\\gfile\\pywfn\\C2.out\"\n",
    "mol=Mol(LogReader(path))\n",
    "mol.atom(1)._props['normal']=np.array([1,0,0],dtype=float)\n",
    "mol.atom(3)._props['normal']=np.array([1,0,0],dtype=float)\n",
    "dirCaler=direction.Calculator(mol) # 方向计算器\n",
    "sys1=dirCaler.coordSystem(1,3)\n",
    "sys2=dirCaler.coordSystem(3,1)\n",
    "sys2=sys1\n",
    "rcoefs=np.array([1.,2.,3.,4.,5.,6.])\n",
    "decomOrbitals(sys1,rcoefs,[0])"
   ]
  },
  {
   "cell_type": "code",
   "execution_count": 48,
   "metadata": {},
   "outputs": [],
   "source": [
    "path=rf\"D:\\gfile\\pywfn\\O2.out\"\n",
    "mol=Mol(LogReader(path))\n",
    "mol.atom(1)._props['normal']=np.array([1,0,0],dtype=float)\n",
    "mol.atom(2)._props['normal']=np.array([1,0,0],dtype=float)\n",
    "dirCaler=direction.Calculator(mol) # 方向计算器\n",
    "sys1=dirCaler.coordSystem(1,2)\n",
    "sys2=dirCaler.coordSystem(2,1)\n",
    "atms=[1,2]"
   ]
  },
  {
   "cell_type": "code",
   "execution_count": 50,
   "metadata": {},
   "outputs": [
    {
     "name": "stdout",
     "output_type": "stream",
     "text": [
      "[[1.     2.     0.8623]]\n",
      "[[1.     2.     0.9286]]\n",
      "------------------------0-------------------------\n",
      "[[ 1.      2.     -0.0686]]\n",
      "[[1. 2. 0.]]\n",
      "------------------------1-------------------------\n",
      "[[1.     2.     0.9506]]\n",
      "[[1.    2.    0.975]]\n",
      "------------------------2-------------------------\n",
      "[[1. 2. 0.]]\n",
      "[[1. 2. 0.]]\n",
      "------------------------3-------------------------\n"
     ]
    }
   ],
   "source": [
    "Ts=[sys1,sys2]\n",
    "sig_keeps={\n",
    "    0:[0], #s\n",
    "    1:[0], #px,py,pz\n",
    "    2:[0]  #xx,yy,zz,xy,xz,yz\n",
    "} # 每个角动量保持的索引\n",
    "\n",
    "piz_keeps={\n",
    "    0:[], \n",
    "    1:[2], \n",
    "    2:[2,5]  #xx,yy,zz,xy,xz,yz\n",
    "} # 每个角动量保持的索引\n",
    "\n",
    "piy_keeps={\n",
    "    0:[], \n",
    "    1:[1], \n",
    "    2:[1,4]  #xx,yy,zz,xy,xz,yz\n",
    "} # 每个角动量保持的索引\n",
    "det_keeps={\n",
    "    0:[], #s\n",
    "    1:[], #px,py,pz\n",
    "    2:[5] #xx,yy,zz,xy,xz,yz\n",
    "} # 每个角动量保持的索引\n",
    "nmat=mol.CM.shape[0]\n",
    "keepList=[sig_keeps,piz_keeps,piy_keeps,det_keeps]\n",
    "orderCaler=order.Calculator(mol)\n",
    "\n",
    "for k,keeps in enumerate(keepList):\n",
    "    # if k!=1:continue\n",
    "    CMt=np.zeros_like(mol.CM)\n",
    "    for o in mol.O_obts: # 对每一个分子轨道进行修改\n",
    "        coefDict=defaultdict(list) #系数字典\n",
    "        for i in range(nmat): # 循环每一个系数\n",
    "            iatm=mol.obtAtms[i]\n",
    "            ishl=mol.obtShls[i]\n",
    "            iang=mol.obtAngs[i]\n",
    "            key=(iatm,ishl,iang)\n",
    "            if iatm in atms:\n",
    "                coefDict[key].append(mol.CM[i,o])\n",
    "            else:\n",
    "                coefDict[key].append(0)\n",
    "\n",
    "        for key,val in coefDict.items():\n",
    "            iatm,ishl,iang=key\n",
    "            rcoefs=np.array(val)\n",
    "            if iatm in atms:\n",
    "                tcoefs=decomOrbitals(Ts[atms.index(iatm)],rcoefs,keeps[iang])\n",
    "            else:\n",
    "                tcoefs=np.zeros_like(rcoefs)\n",
    "            # print(k,rcoefs,'->',tcoefs,keeps[iang])\n",
    "            assert len(rcoefs)==len(tcoefs),\"长度对不上\"\n",
    "            \n",
    "            coefDict[key]=tcoefs.tolist()\n",
    "        values=list(coefDict.values())\n",
    "        CMt[:,o]=np.concatenate(values)\n",
    "    # for i,line in enumerate(CMt):\n",
    "    #     print(f'{mol.obtSyms[i]:<4}'+','.join([f'{e:>8.4f}' for e in line]))\n",
    "    PMt=CM2PM(CMt,mol.O_obts,mol.oE) # 变换的密度矩阵\n",
    "    results=orderCaler.mayer(PMt)\n",
    "    print(results)\n",
    "    values=results[:,-1]\n",
    "    values[values<0]=0\n",
    "    results[:,-1]=values**0.5\n",
    "    \n",
    "    print(results)\n",
    "    print(f'{k:-^50}')"
   ]
  },
  {
   "cell_type": "code",
   "execution_count": null,
   "metadata": {},
   "outputs": [
    {
     "name": "stdout",
     "output_type": "stream",
     "text": [
      "sigma   键级 [[1.     2.     0.9225]]\n",
      "pi_z    键级 [[1. 2. 0.]]\n",
      "pi_x    键级 [[1. 2. 1.]]\n",
      "delta   键级 [[1. 2. 0.]]\n"
     ]
    }
   ],
   "source": [
    "paras=[\n",
    "    {\"path\":\"D:\\gfile\\pywfn\\C6H6.log\",\"atms\":[1,2]},\n",
    "    {\"path\":\"D:\\gfile\\pywfn\\CH2=CH2_wfn.out\",\"atms\":[1,4]},\n",
    "    {\"path\":\"D:\\gfile\\pywfn\\Cu=C=C=CH2.out\",\"atms\":[1,6]},\n",
    "    {\"path\":rf\"D:\\gfile\\pywfn\\N2.out\",\"atms\":[1,2]},\n",
    "    {\"path\":rf\"D:\\gfile\\pywfn\\O2.out\",\"atms\":[1,2]} \n",
    "]\n",
    "index=4\n",
    "para=paras[index]\n",
    "mol=Mol(LogReader(para[\"path\"]))\n",
    "if index==3 or index==4:\n",
    "    mol.atom(1)._props['normal']=np.array([1,0,0],dtype=float)\n",
    "    mol.atom(2)._props['normal']=np.array([1,0,0],dtype=float)\n",
    "if index==2:\n",
    "    for atm in [2,1,6]:\n",
    "        mol.atom(atm)._props['normal']=np.array([0,1,0],dtype=float)\n",
    "\n",
    "dirCaler=direction.Calculator(mol) # 方向计算器\n",
    "orderCaler=order.Calculator(mol) # 键级计算器\n",
    "# 计算出两个坐标系\n",
    "atms:list[int]=para['atms']\n",
    "atm1,atm2=atms\n",
    "T1=dirCaler.coordSystem(atm1,atm2) # 两个原子的局部坐标系\n",
    "T2=dirCaler.coordSystem(atm2,atm1)\n",
    "T2=T1\n",
    "# T2[:,1]*=-1\n",
    "Ts=(T1.T,T2.T)\n",
    "\n",
    "CMt=np.zeros_like(mol.CM) # 变换矩阵初始化\n",
    "nmat=CMt.shape[0]\n",
    "\n",
    "\n",
    "sig_keeps={\n",
    "    0:[0], #s\n",
    "    1:[1], #px,py,pz\n",
    "    2:[1]  #xx,yy,zz,xy,xz,yz\n",
    "} # 每个角动量保持的索引\n",
    "\n",
    "piz_keeps={\n",
    "    0:[], \n",
    "    1:[2], \n",
    "    2:[2,5]  #xx,yy,zz,xy,xz,yz\n",
    "    # 2:[]  #xx,yy,zz,xy,xz,yz\n",
    "} # 每个角动量保持的索引\n",
    "\n",
    "pix_keeps={\n",
    "    0:[], \n",
    "    1:[0], \n",
    "    2:[0,3]  #xx,yy,zz,xy,xz,yz\n",
    "} # 每个角动量保持的索引\n",
    "det_keeps={\n",
    "    0:[], #s\n",
    "    1:[], #px,py,pz\n",
    "    2:[4] #xx,yy,zz,xy,xz,yz\n",
    "} # 每个角动量保持的索引\n",
    "keepList=[sig_keeps,piz_keeps,pix_keeps,det_keeps]\n",
    "nameList=['sigma','pi_z','pi_x','delta']\n",
    "# keeps=pi_skeeps\n",
    "for k,keeps in enumerate(keepList):\n",
    "    # if k!=1:continue\n",
    "    for o in mol.O_obts:\n",
    "        coefDict=defaultdict(list) #系数字典\n",
    "        for i in range(nmat):\n",
    "            iatm=mol.obtAtms[i]\n",
    "            ishl=mol.obtShls[i]\n",
    "            iang=mol.obtAngs[i]\n",
    "            key=(iatm,ishl,iang)\n",
    "            if iatm in atms:\n",
    "                coefDict[key].append(mol.CM[i,o])\n",
    "            else:\n",
    "                coefDict[key].append(mol.CM[i,o])\n",
    "                # coefDict[key].append(0)\n",
    "\n",
    "        for key,val in coefDict.items():\n",
    "            iatm,ishl,iang=key\n",
    "            rcoefs=np.array(val)\n",
    "            if iatm in atms:\n",
    "                tcoefs=decomOrbitals(Ts[atms.index(iatm)],rcoefs,keeps[iang])\n",
    "            else:\n",
    "                tcoefs=rcoefs\n",
    "            assert len(rcoefs)==len(tcoefs),\"长度对不上\"\n",
    "            \n",
    "            coefDict[key]=tcoefs.tolist()\n",
    "        values=list(coefDict.values())\n",
    "        CMt[:,o]=np.concatenate(values)\n",
    "    PMt=CM2PM(CMt,mol.O_obts,mol.oE) # 变换的密度矩阵\n",
    "    results=orderCaler.mayer(PMt,[atms])\n",
    "    values=results[:,-1]\n",
    "    values[values<0]=0\n",
    "    results[:,-1]=values**0.5\n",
    "    print(f'{nameList[k]:<8}键级',results)"
   ]
  },
  {
   "cell_type": "code",
   "execution_count": 24,
   "metadata": {},
   "outputs": [
    {
     "name": "stdout",
     "output_type": "stream",
     "text": [
      "old_pi  键级 [[1. 2. 0.]]\n",
      "mayer   键级 [[1.     2.     1.8236]]\n"
     ]
    }
   ],
   "source": [
    "dirs=[dirCaler.normal(atm) for atm in atms]\n",
    "# dirs=[np.array([0.,0.,1.]) for atm in atms]\n",
    "# dirs=[np.array([0.,0.,-1.]),np.array([0.,0.,1.])]\n",
    "CMp=projCM(mol,mol.O_obts,atms,dirs,False,False) # 投影后的系数矩阵\n",
    "PMp=CM2PM(CMp,mol.O_obts,mol.oE) # 投影的密度矩阵\n",
    "piOrder=orderCaler.mayer(PMp,[atms])\n",
    "vals=piOrder[:,-1]\n",
    "vals[vals<0]=0\n",
    "piOrder[:,-1]=vals**0.5\n",
    "print(f'{\"old_pi\":<8}键级',piOrder)\n",
    "print(f'{\"mayer\":<8}键级',orderCaler.mayer(bonds=[atms]))"
   ]
  },
  {
   "cell_type": "code",
   "execution_count": 67,
   "metadata": {},
   "outputs": [
    {
     "name": "stdout",
     "output_type": "stream",
     "text": [
      "[[ 0.  0.  1.]\n",
      " [-1.  0.  0.]\n",
      " [ 0. -1.  0.]]\n",
      "[1. 0. 0.]\n",
      "[-0.  0.  1.]\n",
      "[0. 0. 1.]\n",
      "[ 1. -0.  0.]\n"
     ]
    },
    {
     "data": {
      "text/plain": [
       "array([ 1., -0.,  0.])"
      ]
     },
     "execution_count": 67,
     "metadata": {},
     "output_type": "execute_result"
    }
   ],
   "source": [
    "print(T1)\n",
    "coefs=np.array([1,0,0],dtype=float)\n",
    "decomOrbitalP(T1.T,coefs,[2])"
   ]
  },
  {
   "cell_type": "code",
   "execution_count": 59,
   "metadata": {},
   "outputs": [
    {
     "data": {
      "text/plain": [
       "array([ 0., -1.,  0.])"
      ]
     },
     "execution_count": 59,
     "metadata": {},
     "output_type": "execute_result"
    }
   ],
   "source": [
    "coefs@(T1.T)"
   ]
  },
  {
   "cell_type": "code",
   "execution_count": 48,
   "metadata": {},
   "outputs": [
    {
     "data": {
      "text/plain": [
       "array([[0., 0., 1.]])"
      ]
     },
     "execution_count": 48,
     "metadata": {},
     "output_type": "execute_result"
    }
   ],
   "source": [
    "x=np.array([1,0,0]).reshape(1,3)\n",
    "x@T1"
   ]
  },
  {
   "cell_type": "code",
   "execution_count": 7,
   "metadata": {},
   "outputs": [
    {
     "name": "stdout",
     "output_type": "stream",
     "text": [
      "[ 3.      2.2361  2.2361  1.      1.     -0.      0.     -2.2361 -2.2361\n",
      " -2.     -2.      2.2361 -2.2361 -2.     -2.      0.      0.      1.\n",
      "  1.      1.    ]\n"
     ]
    },
    {
     "data": {
      "text/plain": [
       "<matplotlib.image.AxesImage at 0x2c4e1d07910>"
      ]
     },
     "execution_count": 7,
     "metadata": {},
     "output_type": "execute_result"
    },
    {
     "data": {
      "image/png": "[encoded data removed]",
      "text/plain": [
       "<Figure size 640x480 with 1 Axes>"
      ]
     },
     "metadata": {},
     "output_type": "display_data"
    }
   ],
   "source": [
    "import sys\n",
    "sys.path.append('d:/code/pywfn')\n",
    "import numpy as np\n",
    "import matplotlib.pyplot as plt\n",
    "from itertools import product\n",
    "from pywfn.base import Mol\n",
    "from pywfn.reader import LogReader,GjfReader\n",
    "from pywfn.bondprop import order\n",
    "path=\"D:\\gfile\\pywfn\\C20.log\"\n",
    "mol=Mol(LogReader(path))\n",
    "\n",
    "# path=\"D:\\gfile\\pywfn\\dingerxi.gjf\"\n",
    "# mol=Mol(GjfReader(path))\n",
    "\n",
    "\n",
    "atms=mol.heavyAtoms\n",
    "natm=len(atms)\n",
    "BM=np.zeros(shape=(natm,natm)) # 键连矩阵\n",
    "DM=np.zeros_like(BM) # 键长矩阵\n",
    "for i,j in product(range(natm),range(natm)):\n",
    "    a1,a2=atms[i],atms[j]\n",
    "    if a1>=a2:continue\n",
    "    bond=mol.atom(a1).coord-mol.atom(a2).coord\n",
    "    dist=np.linalg.norm(bond)\n",
    "    DM[i,j]=dist\n",
    "    DM[j,i]=dist\n",
    "    if dist>1.7*1.889:continue\n",
    "    BM[i,j]=1.0\n",
    "    BM[j,i]=1.0\n",
    "# 2.求解\n",
    "E,C=np.linalg.eig(BM) # 矩阵对角化\n",
    "print(E)\n",
    "# e,C=np.linalg.eigh(BM) # 矩阵对角化\n",
    "nele=int(len(atms)-mol.charge) #电子数量\n",
    "idxs=np.argsort(E)[::-1] # 占据轨道\n",
    "# idxs=np.arange(20)\n",
    "Ct=C[:,idxs] # 每一列对应一个特征向量\n",
    "Et=E[idxs] # 每一列对应一个特征值\n",
    "# np.savetxt('C20.txt',C.round(4))\n",
    "with open('C20.txt','w') as f:\n",
    "    f.write(''.join([f'{v:>10.4f}' for v in Et])+'\\n')\n",
    "    f.write('-'*(Ct.shape[0]*10)+'\\n')\n",
    "    for i in range(Ct.shape[0]):\n",
    "        f.write(''.join([f'{v:>10.4f}' for v in Ct[i,:]])+'\\n')\n",
    "plt.imshow(BM)"
   ]
  },
  {
   "cell_type": "code",
   "execution_count": 103,
   "metadata": {},
   "outputs": [
    {
     "name": "stdout",
     "output_type": "stream",
     "text": [
      "True\n"
     ]
    },
    {
     "data": {
      "text/plain": [
       "(np.float64(-1.3322676295501878e-15), np.float64(2.06635732779005e-15))"
      ]
     },
     "execution_count": 103,
     "metadata": {},
     "output_type": "execute_result"
    }
   ],
   "source": [
    "D=np.diag(Et)\n",
    "print(np.allclose(BM,Ct@D@np.linalg.inv(Ct)))\n",
    "delta=BM-Ct@D@np.linalg.inv(Ct)\n",
    "delta.min(),delta.max()"
   ]
  },
  {
   "cell_type": "code",
   "execution_count": 56,
   "metadata": {},
   "outputs": [
    {
     "data": {
      "text/plain": [
       "<matplotlib.image.AxesImage at 0x23440c087c0>"
      ]
     },
     "execution_count": 56,
     "metadata": {},
     "output_type": "execute_result"
    },
    {
     "data": {
      "image/png": "[encoded data removed]",
      "text/plain": [
       "<Figure size 480x480 with 1 Axes>"
      ]
     },
     "metadata": {},
     "output_type": "display_data"
    }
   ],
   "source": [
    "e,C=np.linalg.eig(BM)\n",
    "idxs=np.argsort(e)\n",
    "C=C[:,idxs].copy()\n",
    "plt.matshow(C)"
   ]
  },
  {
   "cell_type": "code",
   "execution_count": 45,
   "metadata": {},
   "outputs": [
    {
     "data": {
      "text/plain": [
       "array([[ 0.866 ,  0.0002,  0.0034,  0.0004, -0.8944, -0.0088,  0.    ,\n",
       "         0.    ,  0.    ,  0.    ,  0.    , -0.495 ,  0.0005,  0.0669,\n",
       "         0.    , -0.0216,  0.8655, -0.    , -0.0288, -0.6708],\n",
       "       [-0.6434, -0.2338, -0.5305, -0.2366,  0.5916,  0.4723,  0.4135,\n",
       "         0.    ,  0.    , -0.    ,  0.    , -0.1402, -0.167 ,  0.2006,\n",
       "         0.4018, -0.0276,  0.6456, -0.5772, -0.0084, -0.6708],\n",
       "       [ 0.287 ,  0.7185,  0.389 ,  0.5152, -0.1418, -0.7168,  0.0266,\n",
       "         0.    ,  0.    ,  0.    ,  0.    ,  0.2016, -0.2954,  0.1485,\n",
       "         0.0595, -0.3107,  0.3056, -0.634 ,  0.5046, -0.6708],\n",
       "       [ 0.291 , -0.5884, -0.5649,  0.0654, -0.157 ,  0.8096, -0.3401,\n",
       "         0.    ,  0.    ,  0.    , -0.    ,  0.2099, -0.0685,  0.3151,\n",
       "        -0.3185,  0.0228,  0.3155, -0.092 ,  0.8013, -0.6708],\n",
       "       [-0.6459,  0.5739,  0.0591, -0.3444,  0.6016, -0.5563, -0.1   ,\n",
       "        -0.    ,  0.    , -0.    , -0.    , -0.1345,  0.3567,  0.2158,\n",
       "        -0.2205, -0.0972,  0.6615,  0.2999,  0.4716, -0.6708],\n",
       "       [-0.6472, -0.3405,  0.4638,  0.5802,  0.5956,  0.1016, -0.3136,\n",
       "        -0.    ,  0.    ,  0.    , -0.    , -0.2203, -0.1891, -0.3495,\n",
       "        -0.1813,  0.1033,  0.6283,  0.2773, -0.5276, -0.6708],\n",
       "       [ 0.2856, -0.1959,  0.7938, -0.0423, -0.147 , -0.219 , -0.8536,\n",
       "        -0.    ,  0.    ,  0.    , -0.    ,  0.1532,  0.1278, -0.0148,\n",
       "         0.3423,  0.3046,  0.2724, -0.6566, -0.4946, -0.6708],\n",
       "       [-0.2894, -0.7845,  0.2255, -0.8592, -0.151 ,  0.1517, -0.1266,\n",
       "         0.    ,  0.    , -0.    ,  0.    ,  0.1319, -0.0598, -0.3672,\n",
       "        -0.0238, -0.3059, -0.2777, -0.7486,  0.3354, -0.6708],\n",
       "       [-0.2919,  0.0233,  0.815 , -0.3017, -0.1458, -0.3461,  0.7536,\n",
       "        -0.    ,  0.    , -0.    ,  0.    ,  0.1428, -0.1299, -0.0492,\n",
       "        -0.1574,  0.4307, -0.2617,  0.1285,  0.8155, -0.6708],\n",
       "       [ 0.2872, -0.6951,  0.4294,  0.6229, -0.1518,  0.3118,  0.5401,\n",
       "         0.    ,  0.    ,  0.    ,  0.    ,  0.1506,  0.4247, -0.1662,\n",
       "         0.098 , -0.0985,  0.2982,  0.7625,  0.2821, -0.6708],\n",
       "       [ 0.2919, -0.0233, -0.815 , -0.3017, -0.1458, -0.3461,  0.7536,\n",
       "        -0.    ,  0.    , -0.    ,  0.    ,  0.1428, -0.1299, -0.0492,\n",
       "        -0.1574,  0.4307,  0.2617, -0.1285, -0.8155, -0.6708],\n",
       "       [-0.2872,  0.6951, -0.4294,  0.6229, -0.1518,  0.3118,  0.5401,\n",
       "         0.    ,  0.    , -0.    ,  0.    ,  0.1506,  0.4247, -0.1662,\n",
       "         0.098 , -0.0985, -0.2982, -0.7625, -0.2821, -0.6708],\n",
       "       [ 0.6472,  0.3405, -0.4638,  0.5802,  0.5956,  0.1016, -0.3136,\n",
       "        -0.    ,  0.    ,  0.    , -0.    , -0.2203, -0.1891, -0.3495,\n",
       "        -0.1813,  0.1033, -0.6283, -0.2773,  0.5276, -0.6708],\n",
       "       [-0.2856,  0.1959, -0.7938, -0.0423, -0.147 , -0.219 , -0.8536,\n",
       "        -0.    ,  0.    ,  0.    , -0.    ,  0.1532,  0.1278, -0.0148,\n",
       "         0.3423,  0.3046, -0.2724,  0.6566,  0.4946, -0.6708],\n",
       "       [ 0.2894,  0.7845, -0.2255, -0.8592, -0.151 ,  0.1517, -0.1266,\n",
       "         0.    ,  0.    , -0.    , -0.    ,  0.1319, -0.0598, -0.3672,\n",
       "        -0.0238, -0.3059,  0.2777,  0.7486, -0.3354, -0.6708],\n",
       "       [-0.291 ,  0.5884,  0.5649,  0.0654, -0.157 ,  0.8096, -0.3401,\n",
       "        -0.    ,  0.    ,  0.    , -0.    ,  0.2099, -0.0685,  0.3151,\n",
       "        -0.3185,  0.0228, -0.3155,  0.092 , -0.8013, -0.6708],\n",
       "       [ 0.6459, -0.5739, -0.0591, -0.3444,  0.6016, -0.5563, -0.1   ,\n",
       "         0.    ,  0.    ,  0.    , -0.    , -0.1345,  0.3567,  0.2158,\n",
       "        -0.2205, -0.0972, -0.6615, -0.2999, -0.4716, -0.6708],\n",
       "       [-0.866 , -0.0002, -0.0034,  0.0004, -0.8944, -0.0088,  0.    ,\n",
       "        -0.    , -0.    ,  0.    , -0.    , -0.495 ,  0.0005,  0.0669,\n",
       "         0.    , -0.0216, -0.8655, -0.    ,  0.0288, -0.6708],\n",
       "       [ 0.6434,  0.2338,  0.5305, -0.2366,  0.5916,  0.4723,  0.4135,\n",
       "         0.    ,  0.    ,  0.    ,  0.    , -0.1402, -0.167 ,  0.2006,\n",
       "         0.4018, -0.0276, -0.6456,  0.5772,  0.0084, -0.6708],\n",
       "       [-0.287 , -0.7185, -0.389 ,  0.5152, -0.1418, -0.7168,  0.0266,\n",
       "         0.    ,  0.    ,  0.    ,  0.    ,  0.2016, -0.2954,  0.1485,\n",
       "         0.0595, -0.3107, -0.3056,  0.634 , -0.5046, -0.6708]])"
      ]
     },
     "execution_count": 45,
     "metadata": {},
     "output_type": "execute_result"
    }
   ],
   "source": [
    "BM@C"
   ]
  },
  {
   "cell_type": "code",
   "execution_count": 46,
   "metadata": {},
   "outputs": [
    {
     "data": {
      "text/plain": [
       "array([1., 1., 1., 1., 1., 1., 1., 1., 1., 1., 1., 1., 1., 1., 1., 1., 1.,\n",
       "       1., 1., 1.])"
      ]
     },
     "execution_count": 46,
     "metadata": {},
     "output_type": "execute_result"
    }
   ],
   "source": [
    "np.sum(C**2,axis=0)"
   ]
  },
  {
   "cell_type": "code",
   "execution_count": 47,
   "metadata": {},
   "outputs": [
    {
     "data": {
      "text/plain": [
       "array([[ 1.    ,  2.    ,  0.4843],\n",
       "       [ 1.    ,  5.    ,  0.4783],\n",
       "       [ 1.    ,  6.    ,  0.5407],\n",
       "       [ 2.    ,  3.    ,  0.4581],\n",
       "       [ 2.    ,  7.    ,  0.3689],\n",
       "       [ 3.    ,  4.    ,  0.6018],\n",
       "       [ 3.    ,  8.    ,  0.4584],\n",
       "       [ 4.    ,  5.    ,  0.4361],\n",
       "       [ 4.    ,  9.    ,  0.4936],\n",
       "       [ 5.    , 10.    ,  0.5363],\n",
       "       [ 6.    , 11.    ,  0.4456],\n",
       "       [ 6.    , 15.    ,  0.6607],\n",
       "       [ 7.    , 11.    ,  0.5758],\n",
       "       [ 7.    , 12.    ,  0.2717],\n",
       "       [ 8.    , 12.    ,  0.5438],\n",
       "       [ 8.    , 13.    ,  0.6607],\n",
       "       [ 9.    , 13.    ,  0.4456],\n",
       "       [ 9.    , 14.    ,  0.5758],\n",
       "       [10.    , 14.    ,  0.2717],\n",
       "       [10.    , 15.    ,  0.5438],\n",
       "       [11.    , 16.    ,  0.4936],\n",
       "       [12.    , 17.    ,  0.5363],\n",
       "       [13.    , 18.    ,  0.5407],\n",
       "       [14.    , 19.    ,  0.3689],\n",
       "       [15.    , 20.    ,  0.4584],\n",
       "       [16.    , 17.    ,  0.4361],\n",
       "       [16.    , 20.    ,  0.6018],\n",
       "       [17.    , 18.    ,  0.4783],\n",
       "       [18.    , 19.    ,  0.4843],\n",
       "       [19.    , 20.    ,  0.4581]])"
      ]
     },
     "execution_count": 47,
     "metadata": {},
     "output_type": "execute_result"
    }
   ],
   "source": [
    "from pywfn.bondprop import order\n",
    "order.Calculator(mol).hmo()[0]"
   ]
  },
  {
   "cell_type": "code",
   "execution_count": 48,
   "metadata": {},
   "outputs": [
    {
     "data": {
      "text/plain": [
       "array([3.722 , 3.6491, 3.7212, 3.9141, 3.914 , 3.9138, 3.7208, 3.9137,\n",
       "       3.9137, 3.9137, 3.9137, 3.9137, 3.9138, 3.7208, 3.9137, 3.9141,\n",
       "       3.914 , 3.722 , 3.6491, 3.7212])"
      ]
     },
     "execution_count": 48,
     "metadata": {},
     "output_type": "execute_result"
    }
   ],
   "source": [
    "np.linalg.norm(mol.coords,axis=1)"
   ]
  },
  {
   "cell_type": "code",
   "execution_count": 49,
   "metadata": {},
   "outputs": [],
   "source": [
    "M=[\n",
    "    [0, 1, 0, 0, 1, 1, 0, 0, 0, 0, 0, 0, 0, 0, 0, 0, 0, 0, 0, 0],\n",
    "    [1, 0, 1, 0, 0, 0, 1, 0, 0, 0, 0, 0, 0, 0, 0, 0, 0, 0, 0, 0],\n",
    "    [0, 1, 0, 1, 0, 0, 0, 1, 0, 0, 0, 0, 0, 0, 0, 0, 0, 0, 0, 0],\n",
    "    [0, 0, 1, 0, 1, 0, 0, 0, 1, 0, 0, 0, 0, 0, 0, 0, 0, 0, 0, 0],\n",
    "    [1, 0, 0, 1, 0, 0, 0, 0, 0, 1, 0, 0, 0, 0, 0, 0, 0, 0, 0, 0],\n",
    "    [1, 0, 0, 0, 0, 0, 0, 0, 0, 0, 1, 0, 0, 0, 1, 0, 0, 0, 0, 0],\n",
    "    [0, 1, 0, 0, 0, 0, 0, 0, 0, 0, 1, 1, 0, 0, 0, 0, 0, 0, 0, 0],\n",
    "    [0, 0, 1, 0, 0, 0, 0, 0, 0, 0, 0, 1, 1, 0, 0, 0, 0, 0, 0, 0],\n",
    "    [0, 0, 0, 1, 0, 0, 0, 0, 0, 0, 0, 0, 1, 1, 0, 0, 0, 0, 0, 0],\n",
    "    [0, 0, 0, 0, 1, 0, 0, 0, 0, 0, 0, 0, 0, 1, 1, 0, 0, 0, 0, 0],\n",
    "    [0, 0, 0, 0, 0, 1, 1, 0, 0, 0, 0, 0, 0, 0, 0, 1, 0, 0, 0, 0],\n",
    "    [0, 0, 0, 0, 0, 0, 1, 1, 0, 0, 0, 0, 0, 0, 0, 0, 1, 0, 0, 0],\n",
    "    [0, 0, 0, 0, 0, 0, 0, 1, 1, 0, 0, 0, 0, 0, 0, 0, 0, 1, 0, 0],\n",
    "    [0, 0, 0, 0, 0, 0, 0, 0, 1, 1, 0, 0, 0, 0, 0, 0, 0, 0, 1, 0],\n",
    "    [0, 0, 0, 0, 0, 1, 0, 0, 0, 1, 0, 0, 0, 0, 0, 0, 0, 0, 0, 1],\n",
    "    [0, 0, 0, 0, 0, 0, 0, 0, 0, 0, 1, 0, 0, 0, 0, 0, 1, 0, 0, 1],\n",
    "    [0, 0, 0, 0, 0, 0, 0, 0, 0, 0, 0, 1, 0, 0, 0, 1, 0, 1, 0, 0],\n",
    "    [0, 0, 0, 0, 0, 0, 0, 0, 0, 0, 0, 0, 1, 0, 0, 0, 1, 0, 1, 0],\n",
    "    [0, 0, 0, 0, 0, 0, 0, 0, 0, 0, 0, 0, 0, 1, 0, 0, 0, 1, 0, 1],\n",
    "    [0, 0, 0, 0, 0, 0, 0, 0, 0, 0, 0, 0, 0, 0, 1, 1, 0, 0, 1, 0],\n",
    "]\n",
    "M=np.array(M)"
   ]
  },
  {
   "cell_type": "code",
   "execution_count": 27,
   "metadata": {},
   "outputs": [
    {
     "data": {
      "text/latex": [
       "$\\displaystyle \\left[\\begin{matrix}a & b & c\\\\d & e & f\\\\g & h & i\\end{matrix}\\right]$"
      ],
      "text/plain": [
       "Matrix([\n",
       "[a, b, c],\n",
       "[d, e, f],\n",
       "[g, h, i]])"
      ]
     },
     "execution_count": 27,
     "metadata": {},
     "output_type": "execute_result"
    }
   ],
   "source": [
    "import sympy as sp\n",
    "a,b,c,d,e,f,g,h,i=sp.symbols('a b c d e f g h i')\n",
    "M=sp.Matrix([\n",
    "    [a,b,c],\n",
    "    [d,e,f],\n",
    "    [g,h,i]\n",
    "])\n",
    "M"
   ]
  },
  {
   "cell_type": "code",
   "execution_count": 30,
   "metadata": {},
   "outputs": [
    {
     "data": {
      "text/latex": [
       "$\\displaystyle \\left[\\begin{matrix}a & b & c\\\\d & e & f\\\\g & h & i\\end{matrix}\\right]^{-1}$"
      ],
      "text/plain": [
       "Matrix([\n",
       "[a, b, c],\n",
       "[d, e, f],\n",
       "[g, h, i]])**(-1)"
      ]
     },
     "execution_count": 30,
     "metadata": {},
     "output_type": "execute_result"
    }
   ],
   "source": [
    "sp.Inverse(M)"
   ]
  }
 ],
 "metadata": {
  "kernelspec": {
   "display_name": "pywfn",
   "language": "python",
   "name": "python3"
  },
  "language_info": {
   "codemirror_mode": {
    "name": "ipython",
    "version": 3
   },
   "file_extension": ".py",
   "mimetype": "text/x-python",
   "name": "python",
   "nbconvert_exporter": "python",
   "pygments_lexer": "ipython3",
   "version": "3.10.14"
  }
 },
 "nbformat": 4,
 "nbformat_minor": 2
}
