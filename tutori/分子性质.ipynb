{
 "cells": [
  {
   "cell_type": "code",
   "execution_count": 1,
   "metadata": {},
   "outputs": [],
   "source": [
    "import sys;sys.path.append('d:/code/pywfn')"
   ]
  },
  {
   "cell_type": "markdown",
   "metadata": {},
   "source": [
    "# 分子性质\n",
    "计算分子整体的性质\n",
    "\n",
    "所有的分子性质的计算器都包含在`pywfn.moleprop`子包下，其中每一个模块封装了一种类型的分子性质计算器\n",
    "\n",
    "其包含的模块有\n",
    "\n",
    "- `aromacity` 分子芳香性\n",
    "\n",
    "emm，目前也就只包含计算芳香性 (lll￢ω￢)\n",
    "\n",
    "每个模块下都有一个`Calculator`类，实例化时传入要计算的分子即可"
   ]
  },
  {
   "cell_type": "markdown",
   "metadata": {},
   "source": [
    "## 芳香性"
   ]
  },
  {
   "cell_type": "markdown",
   "metadata": {},
   "source": [
    "### π 键级标准差\n",
    "\n",
    "使用π键级的标准差来简单衡量分子的芳香性、标准差越小，表明键级分布越均匀，表明芳香性越好\n",
    "\n",
    "**示例代码**\n",
    "\n",
    "下面代码以苯环为例，可以看到6根键的键级都一样，因此标准差很小，芳香性也很好\n"
   ]
  },
  {
   "cell_type": "code",
   "execution_count": 3,
   "metadata": {},
   "outputs": [
    {
     "name": "stdout",
     "output_type": "stream",
     "text": [
      " 1- 2:    0.6606\n",
      " 1- 6:    0.6606\n",
      " 2- 3:    0.6606\n",
      " 3- 4:    0.6606\n",
      " 4- 5:    0.6606\n",
      " 5- 6:    0.6606\n"
     ]
    },
    {
     "data": {
      "text/plain": [
       "3.534736618082012e-06"
      ]
     },
     "execution_count": 3,
     "metadata": {},
     "output_type": "execute_result"
    }
   ],
   "source": [
    "from pywfn.base import Mole\n",
    "from pywfn.reader import LogReader\n",
    "from pywfn.moleprop import aromacity\n",
    "\n",
    "mol=Mole(LogReader(rf\"./mols/C6H6.out\"))\n",
    "caler=aromacity.Calculator(mol)\n",
    "caler.pisd()"
   ]
  },
  {
   "cell_type": "code",
   "execution_count": 5,
   "metadata": {},
   "outputs": [
    {
     "name": "stdout",
     "output_type": "stream",
     "text": [
      " 1- 2:    0.6606\n",
      " 1- 6:    0.6606\n",
      " 2- 3:    0.6606\n",
      " 3- 4:    0.6606\n",
      " 4- 5:    0.6606\n",
      " 5- 6:    0.6606\n"
     ]
    },
    {
     "data": {
      "text/plain": [
       "3.534736618082012e-06"
      ]
     },
     "execution_count": 5,
     "metadata": {},
     "output_type": "execute_result"
    }
   ],
   "source": [
    "# 也可以手动指定需要计算的环，方便与NICS对比\n",
    "caler.pisd(ring=[1,2,3,4,5,6])"
   ]
  },
  {
   "cell_type": "markdown",
   "metadata": {},
   "source": [
    "### π键级的平均值与标准差\n",
    "使用pi键级的平均值与标准差共同衡量芳香性\n",
    "\n",
    "$$\n",
    "\\alpha \\times Mean(orders) + (1- \\alpha) \\times SD(orders)\n",
    "$$\n",
    "\n",
    "其中α为混合系数，默认值为0.5，可以自己调节\n",
    "\n",
    "该方法通过引入π键级的平均值与可调节参数提升了方法的复杂性，当α=0时与只使用标准差一样\n",
    "\n",
    "**示例代码**"
   ]
  },
  {
   "cell_type": "code",
   "execution_count": 2,
   "metadata": {},
   "outputs": [
    {
     "name": "stdout",
     "output_type": "stream",
     "text": [
      " 1- 2:    0.6606\n",
      " 1- 6:    0.6606\n",
      " 2- 3:    0.6606\n",
      " 3- 4:    0.6606\n",
      " 4- 5:    0.6606\n",
      " 5- 6:    0.6606\n"
     ]
    },
    {
     "data": {
      "text/plain": [
       "0.3302794169361899"
      ]
     },
     "execution_count": 2,
     "metadata": {},
     "output_type": "execute_result"
    }
   ],
   "source": [
    "from pywfn.base import Mole\n",
    "from pywfn.reader import LogReader\n",
    "from pywfn.moleprop import aromacity\n",
    "\n",
    "mol=Mole(LogReader(rf\"./mols/C6H6.out\"))\n",
    "caler=aromacity.Calculator(mol)\n",
    "caler.pimsd()"
   ]
  }
 ],
 "metadata": {
  "kernelspec": {
   "display_name": "pywfn",
   "language": "python",
   "name": "python3"
  },
  "language_info": {
   "codemirror_mode": {
    "name": "ipython",
    "version": 3
   },
   "file_extension": ".py",
   "mimetype": "text/x-python",
   "name": "python",
   "nbconvert_exporter": "python",
   "pygments_lexer": "ipython3",
   "version": "3.10.16"
  }
 },
 "nbformat": 4,
 "nbformat_minor": 2
}
