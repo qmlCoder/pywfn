{
 "cells": [
  {
   "cell_type": "markdown",
   "metadata": {},
   "source": [
    "# 原子性质\n",
    "所有的原子性质的计算器都在`pywfn.atomprop`子包下，其中的每一个模块封装了一种类型的原子性质的计算器\n",
    "\n",
    "其包含的模块有\n",
    "- `charge` 计算原子的各种电荷及自旋\n",
    "- `activity` 计算原子的活性指标\n",
    "- `direction` 计算以原子为中心的不同类型的方向向量。如：原子轨道方向、法向量方向、可能的反应方向等。\n",
    "- `energy` 将分子轨道的能量分布到每个原子上。\n",
    "\n",
    "每个模块下都有一个`Calculator`类，实例化时传入要计算的分子即可"
   ]
  },
  {
   "cell_type": "markdown",
   "metadata": {},
   "source": [
    "## 原子电荷\n",
    "\n",
    "说是电荷，其实直接计算得到的是每个原子上的电子数，用原子的核电荷数减去电子数即可得到原子电荷。\n",
    "\n",
    "该计算器实例有个`form`属性，用以控制打印的结果时电子数量的形式还是电荷的形式，可以为`number`或`charge`"
   ]
  },
  {
   "cell_type": "markdown",
   "metadata": {},
   "source": [
    "### Mulliken电荷\n",
    "\n",
    "#### 计算公式\n",
    "$$\n",
    "q_A=Z_A-\\sum_{\\mu \\in A}\\sum_{\\nu}P_{\\mu\\nu}S_{\\mu\\nu}\n",
    "$$\n",
    "\n",
    "#### 实例代码"
   ]
  },
  {
   "cell_type": "code",
   "execution_count": 2,
   "metadata": {},
   "outputs": [
    {
     "data": {
      "text/plain": [
       "array([-0.1284, -0.1284, -0.1284, -0.1284, -0.1284, -0.1284,  0.1285,\n",
       "        0.1285,  0.1285,  0.1285,  0.1285,  0.1285])"
      ]
     },
     "execution_count": 2,
     "metadata": {},
     "output_type": "execute_result"
    }
   ],
   "source": [
    "import sys;sys.path.append('d:/code/pywfn')\n",
    "from pywfn.base import Mole\n",
    "from pywfn.reader import LogReader\n",
    "from pywfn.atomprop import charge\n",
    "\n",
    "path='mols/C6H6.out'\n",
    "reader=LogReader(path)\n",
    "mol=Mole(reader)\n",
    "caler=charge.Calculator(mol)\n",
    "caler.mulliken()"
   ]
  }
 ],
 "metadata": {
  "kernelspec": {
   "display_name": "pywfn",
   "language": "python",
   "name": "python3"
  },
  "language_info": {
   "codemirror_mode": {
    "name": "ipython",
    "version": 3
   },
   "file_extension": ".py",
   "mimetype": "text/x-python",
   "name": "python",
   "nbconvert_exporter": "python",
   "pygments_lexer": "ipython3",
   "version": "3.10.16"
  }
 },
 "nbformat": 4,
 "nbformat_minor": 2
}
