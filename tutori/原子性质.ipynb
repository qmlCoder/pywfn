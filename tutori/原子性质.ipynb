{
 "cells": [
  {
   "cell_type": "code",
   "execution_count": 1,
   "metadata": {},
   "outputs": [],
   "source": [
    "# 导入pywfn所在文件路径\n",
    "import sys;sys.path.append('d:/code/pywfn')"
   ]
  },
  {
   "cell_type": "markdown",
   "metadata": {},
   "source": [
    "# 原子性质\n",
    "所有的原子性质的计算器都在`pywfn.atomprop`子包下，其中的每一个模块封装了一种类型的原子性质的计算器\n",
    "\n",
    "其包含的模块有\n",
    "\n",
    "- `charge` 计算原子的各种电荷及自旋\n",
    "- `activity` 计算原子的活性指标\n",
    "- `direction` 计算以原子为中心的不同类型的方向向量。如：原子轨道方向、法向量方向、可能的反应方向等。\n",
    "- `energy` 将分子轨道的能量分布到每个原子上。\n",
    "\n",
    "每个模块下都有一个`Calculator`类，实例化时传入要计算的分子即可"
   ]
  },
  {
   "cell_type": "markdown",
   "metadata": {},
   "source": [
    "## 原子电荷\n",
    "\n",
    "说是电荷，其实直接计算得到的是每个原子上的电子数，用原子的核电荷数减去电子数即可得到原子电荷。\n",
    "\n",
    "该计算器实例有个`form`属性，用以控制打印的结果时电子数量的形式还是电荷的形式，可以为`number`或`charge`"
   ]
  },
  {
   "cell_type": "markdown",
   "metadata": {},
   "source": [
    "### Mulliken电荷\n",
    "\n",
    "**计算公式**\n",
    "\n",
    "$$\n",
    "q_A=Z_A-\\sum_{\\mu \\in A}\\sum_{\\nu}P_{\\mu\\nu}S_{\\mu\\nu}\n",
    "$$\n",
    "\n",
    "**示例代码**"
   ]
  },
  {
   "cell_type": "code",
   "execution_count": 2,
   "metadata": {},
   "outputs": [
    {
     "data": {
      "text/plain": [
       "array([-0.1284, -0.1284, -0.1284, -0.1284, -0.1284, -0.1284,  0.1285,\n",
       "        0.1285,  0.1285,  0.1285,  0.1285,  0.1285])"
      ]
     },
     "execution_count": 2,
     "metadata": {},
     "output_type": "execute_result"
    }
   ],
   "source": [
    "from pywfn.base import Mole\n",
    "from pywfn.reader import LogReader\n",
    "from pywfn.atomprop import charge\n",
    "\n",
    "path='mols/C6H6.out'\n",
    "reader=LogReader(path)\n",
    "mol=Mole(reader)\n",
    "caler=charge.Calculator(mol)\n",
    "caler.mulliken()"
   ]
  },
  {
   "cell_type": "markdown",
   "metadata": {},
   "source": [
    "### lowdin电荷\n",
    "**计算公式**\n",
    "\n",
    "$$\n",
    "q_I = Z_I - \\sum _{\\mu \\in I}(S^{1/2}·P·S^{1/2})\n",
    "$$\n",
    "\n",
    "**示例代码**"
   ]
  },
  {
   "cell_type": "code",
   "execution_count": 3,
   "metadata": {},
   "outputs": [
    {
     "data": {
      "text/plain": [
       "array([-0.1564, -0.1598, -0.1598, -0.1564, -0.1598, -0.1598,  0.1571,\n",
       "        0.1595,  0.1595,  0.1571,  0.1595,  0.1595])"
      ]
     },
     "execution_count": 3,
     "metadata": {},
     "output_type": "execute_result"
    }
   ],
   "source": [
    "from pywfn.base import Mole\n",
    "from pywfn.reader import LogReader\n",
    "from pywfn.atomprop import charge\n",
    "\n",
    "path='mols/C6H6.out'\n",
    "reader=LogReader(path)\n",
    "mol=Mole(reader)\n",
    "caler=charge.Calculator(mol)\n",
    "caler.lowdin()"
   ]
  },
  {
   "cell_type": "markdown",
   "metadata": {},
   "source": [
    "### hirshfeld电荷\n",
    "**计算公式**\n",
    "\n",
    "**示例代码**"
   ]
  },
  {
   "cell_type": "code",
   "execution_count": 4,
   "metadata": {},
   "outputs": [
    {
     "data": {
      "text/plain": [
       "array([-0.0426, -0.0426, -0.0426, -0.0426, -0.0426, -0.0426,  0.0426,\n",
       "        0.0427,  0.0427,  0.0426,  0.0427,  0.0427])"
      ]
     },
     "execution_count": 4,
     "metadata": {},
     "output_type": "execute_result"
    }
   ],
   "source": [
    "from pywfn.base import Mole\n",
    "from pywfn.reader import LogReader\n",
    "from pywfn.atomprop import charge\n",
    "\n",
    "path='mols/C6H6.out'\n",
    "reader=LogReader(path)\n",
    "mol=Mole(reader)\n",
    "caler=charge.Calculator(mol)\n",
    "caler.hirshfeld()"
   ]
  },
  {
   "cell_type": "markdown",
   "metadata": {},
   "source": [
    "### 方向电子数\n",
    "\n",
    "> 根据pocv方法，将原子的p轨道投影到不同方向得到投影系数矩阵，再以此带入原子电荷计算公式（Mulliken和Lowdin）得到的结果即为方向电子数，这里的方向需要自己指定。\n",
    "\n",
    "**示例代码**\n",
    "`pywfn.atomprop.Calculator.dirElects`包含三个参数\n",
    "```py\n",
    "atms:list[int] # 需要进行投影操作的原子索引列表（从1开始）\n",
    "dirs:np.ndarray # 对应原子需要投影到的方向，形状为[n,3]，n==len(atms)\n",
    "ctype:str='mulliken' # 可以为 mulliken 或 lowdin\n",
    "```"
   ]
  },
  {
   "cell_type": "code",
   "execution_count": 5,
   "metadata": {},
   "outputs": [
    {
     "data": {
      "text/plain": [
       "array([0.654 , 0.6438, 0.6531, 0.7069, 0.    , 0.    , 0.    , 0.    ,\n",
       "       0.    , 0.    , 0.    , 0.    ])"
      ]
     },
     "execution_count": 5,
     "metadata": {},
     "output_type": "execute_result"
    }
   ],
   "source": [
    "from pywfn.base import Mole\n",
    "from pywfn.reader import LogReader\n",
    "from pywfn.atomprop import charge\n",
    "import numpy as np\n",
    "\n",
    "path='mols/C6H6.out'\n",
    "reader=LogReader(path)\n",
    "mol=Mole(reader)\n",
    "caler=charge.Calculator(mol)\n",
    "dirs=np.random.rand(4,3)\n",
    "dirs=dirs/np.linalg.norm(dirs,axis=1)[:,None] # 将方向向量归一化\n",
    "atms=[1,2,3,4] # \n",
    "caler.dirElects(atms,dirs,'mulliken') # 我们对四个原子的轨道投影到随机的方向"
   ]
  },
  {
   "cell_type": "markdown",
   "metadata": {},
   "source": [
    "### π 电子数 (轨道投影法)\n",
    "\n",
    "指定每个原子的方向为其所在局部平面的法向量方向，没有法向量的则忽略（通常为饱和C原子），然后计算方向电子数，得到的结果即为 π 电子数\n",
    "\n",
    "**示例代码**"
   ]
  },
  {
   "cell_type": "code",
   "execution_count": 3,
   "metadata": {},
   "outputs": [
    {
     "data": {
      "text/plain": [
       "array([1.0202, 1.2101, 1.2101, 1.0202, 1.2101, 1.2101, 0.    , 0.    ,\n",
       "       0.    , 0.    , 0.    , 0.    ])"
      ]
     },
     "execution_count": 3,
     "metadata": {},
     "output_type": "execute_result"
    }
   ],
   "source": [
    "from pywfn.base import Mole\n",
    "from pywfn.reader import LogReader\n",
    "from pywfn.atomprop import charge\n",
    "\n",
    "path='mols/C6H6_N.out'\n",
    "reader=LogReader(path)\n",
    "mol=Mole(reader)\n",
    "caler=charge.Calculator(mol)\n",
    "caler.piElects('mulliken') # 我们对四个原子的轨道投影到随机的方向"
   ]
  },
  {
   "cell_type": "markdown",
   "metadata": {},
   "source": [
    "### π 电子数 (轨道分解法)\n",
    "\n",
    "使用轨道分解法得到的 π 电子数，包含d轨道\n",
    "\n",
    "**示例代码**"
   ]
  },
  {
   "cell_type": "code",
   "execution_count": null,
   "metadata": {},
   "outputs": [
    {
     "data": {
      "text/plain": [
       "array([1.0011, 1.0013, 1.0013, 1.0011, 1.0013, 1.0013, 0.    , 0.    ,\n",
       "       0.    , 0.    , 0.    , 0.    ])"
      ]
     },
     "execution_count": 7,
     "metadata": {},
     "output_type": "execute_result"
    }
   ],
   "source": [
    "from pywfn.base import Mole\n",
    "from pywfn.reader import LogReader\n",
    "from pywfn.atomprop import charge\n",
    "\n",
    "path='mols/C6H6.out'\n",
    "reader=LogReader(path)\n",
    "mol=Mole(reader)\n",
    "caler=charge.Calculator(mol)\n",
    "caler.piDecomElects()"
   ]
  },
  {
   "cell_type": "markdown",
   "metadata": {},
   "source": [
    "## 原子活性\n",
    "\n",
    "原子活性就是分子中每个原子发生化学反应能力。"
   ]
  },
  {
   "cell_type": "markdown",
   "metadata": {},
   "source": [
    "### 福井函数&双描述符\n",
    "**计算公式**\n",
    "\n",
    "福井函数\n",
    "$$f_A^+ = q_A^{N} - q_A^{N+1}$$\n",
    "$$f_A^- = q_A^{N-1} - q_A^{N}$$\n",
    "$$f_A^0 = (q_A^{N-1} - q_A^{N+1})/2$$\n",
    "\n",
    "双描述符\n",
    "$$\\Delta f_A=f_A^+ - f_A^-$$\n",
    "\n",
    "其中 $Q_A^{N+1}$ 是具有N+1个电子的分子的原子电荷，$Q_A^N$ 是具有N个电子的分子的原子电荷，$Q_A^{N-1}$ 是具有N-1个电子的分子的原子电荷。\n",
    "\n",
    "- $f^+$ 被亲核试剂进攻的能力\n",
    "- $f^-$ 被亲电试剂进攻的能力\n",
    "- $f^0$ 发生自由基反应的能力\n",
    "- $\\Delta f$ 越正表示该位点越容易受到亲核试剂进攻\n",
    "\n",
    "其实就是计算三个分子的原子电荷之差，因此可以使用不同的电荷计算方式，可以使用的有：Mullien、Lowdin和Hirshfeld电荷\n",
    "\n",
    "**示例代码**"
   ]
  },
  {
   "cell_type": "code",
   "execution_count": 8,
   "metadata": {},
   "outputs": [
    {
     "data": {
      "text/plain": [
       "array([[-0.0426, -0.106 ,  0.1237,  0.1663,  0.0634,  0.1148, -0.1029],\n",
       "       [-0.0426, -0.1734,  0.0436,  0.0862,  0.1309,  0.1085,  0.0447],\n",
       "       [-0.0426, -0.1734,  0.0436,  0.0862,  0.1309,  0.1085,  0.0447],\n",
       "       [-0.0426, -0.106 ,  0.1237,  0.1663,  0.0634,  0.1148, -0.1029],\n",
       "       [-0.0426, -0.1734,  0.0436,  0.0862,  0.1309,  0.1085,  0.0447],\n",
       "       [-0.0426, -0.1734,  0.0436,  0.0862,  0.1309,  0.1085,  0.0447],\n",
       "       [ 0.0426, -0.0039,  0.104 ,  0.0614,  0.0465,  0.0539, -0.0149],\n",
       "       [ 0.0427, -0.0217,  0.0925,  0.0498,  0.0643,  0.0571,  0.0145],\n",
       "       [ 0.0427, -0.0217,  0.0925,  0.0498,  0.0643,  0.0571,  0.0145],\n",
       "       [ 0.0426, -0.0039,  0.104 ,  0.0614,  0.0465,  0.0539, -0.0149],\n",
       "       [ 0.0427, -0.0217,  0.0925,  0.0498,  0.0643,  0.0571,  0.0145],\n",
       "       [ 0.0427, -0.0217,  0.0925,  0.0498,  0.0643,  0.0571,  0.0145]])"
      ]
     },
     "execution_count": 8,
     "metadata": {},
     "output_type": "execute_result"
    }
   ],
   "source": [
    "from pywfn.base import Mole\n",
    "from pywfn.reader import LogReader\n",
    "from pywfn.atomprop import activity\n",
    "\n",
    "mol0=Mole(LogReader('./mols/C6H6.out'))\n",
    "molN=Mole(LogReader('./mols/C6H6_N.out'))\n",
    "molP=Mole(LogReader('./mols/C6H6_P.out'))\n",
    "\n",
    "caler=activity.Calculator(mol0)\n",
    "caler.fukui(molN,molP,'hirshfeld')"
   ]
  },
  {
   "cell_type": "markdown",
   "metadata": {},
   "source": [
    "该段代码实例化计算器时也是传入一个N个电子的分子，调用函数的时候传入N+1个电子的分子、N个电子的分子及计算电荷的类型（这里使用Mulliken电荷）。\n",
    "\n",
    "输出了7列数据，分别对应着 $q_{(N)}$，$q_{(N+1)}$，$q_{(N-1)}$，$f^-$，$f^+$，$f^0$，$\\Delta f$"
   ]
  },
  {
   "cell_type": "markdown",
   "metadata": {},
   "source": [
    "### π电子福井函数与双描述符\n",
    "\n",
    "使用 π 电子分布计算得到的福井函数与双描述符\n",
    "\n",
    "**示例代码**"
   ]
  },
  {
   "cell_type": "code",
   "execution_count": 2,
   "metadata": {},
   "outputs": [
    {
     "data": {
      "text/plain": [
       "array([[ 0.9851,  1.0202,  0.706 ,  0.2792,  0.0351,  0.1571,  0.244 ],\n",
       "       [ 0.9851,  1.2101,  0.8769,  0.1082,  0.2249,  0.1666, -0.1167],\n",
       "       [ 0.9851,  1.2101,  0.8769,  0.1082,  0.2249,  0.1666, -0.1167],\n",
       "       [ 0.9851,  1.0202,  0.706 ,  0.2792,  0.0351,  0.1571,  0.244 ],\n",
       "       [ 0.9851,  1.2101,  0.8769,  0.1082,  0.2249,  0.1666, -0.1167],\n",
       "       [ 0.9851,  1.2101,  0.8769,  0.1082,  0.2249,  0.1666, -0.1167],\n",
       "       [ 0.    ,  0.    ,  0.    ,  0.    ,  0.    ,  0.    ,  0.    ],\n",
       "       [ 0.    ,  0.    ,  0.    ,  0.    ,  0.    ,  0.    ,  0.    ],\n",
       "       [ 0.    ,  0.    ,  0.    ,  0.    ,  0.    ,  0.    ,  0.    ],\n",
       "       [ 0.    ,  0.    ,  0.    ,  0.    ,  0.    ,  0.    ,  0.    ],\n",
       "       [ 0.    ,  0.    ,  0.    ,  0.    ,  0.    ,  0.    ,  0.    ],\n",
       "       [ 0.    ,  0.    ,  0.    ,  0.    ,  0.    ,  0.    ,  0.    ]])"
      ]
     },
     "execution_count": 2,
     "metadata": {},
     "output_type": "execute_result"
    }
   ],
   "source": [
    "from pywfn.base import Mole\n",
    "from pywfn.reader import LogReader\n",
    "from pywfn.atomprop import activity\n",
    "\n",
    "mol0=Mole(LogReader('./mols/C6H6.out'))\n",
    "molN=Mole(LogReader('./mols/C6H6_N.out'))\n",
    "molP=Mole(LogReader('./mols/C6H6_P.out'))\n",
    "\n",
    "caler=activity.Calculator(mol0)\n",
    "caler.piFukui(molN,molP,'mulliken')"
   ]
  },
  {
   "cell_type": "markdown",
   "metadata": {},
   "source": [
    "输出的结果有7列，分别为：\n",
    "- `N`电子分子pi电子数\n",
    "- `N+1`电子pi电子数\n",
    "- `N-1`电子pi电子数\n",
    "- `f-`\n",
    "- `f+`\n",
    "- `f0`\n",
    "- `df` 双描述符"
   ]
  },
  {
   "cell_type": "markdown",
   "metadata": {},
   "source": [
    "### 化合价\n",
    "\n",
    "原子的键级之和，使用mayer键级。化合价越大，原子的剩余成键能力越小，原子的反应能力就越小。\n",
    "\n",
    "**示例代码**"
   ]
  },
  {
   "cell_type": "code",
   "execution_count": 3,
   "metadata": {},
   "outputs": [
    {
     "data": {
      "text/plain": [
       "array([3.9412, 3.9412, 3.9412, 3.9412, 3.9412, 3.9412, 0.9334, 0.9334,\n",
       "       0.9334, 0.9334, 0.9334, 0.9334])"
      ]
     },
     "execution_count": 3,
     "metadata": {},
     "output_type": "execute_result"
    }
   ],
   "source": [
    "from pywfn.base import Mole\n",
    "from pywfn.reader import LogReader\n",
    "from pywfn.atomprop import activity\n",
    "\n",
    "mol=Mole(LogReader('./mols/C6H6.out'))\n",
    "caler=activity.Calculator(mol)\n",
    "caler.valence()"
   ]
  },
  {
   "cell_type": "markdown",
   "metadata": {},
   "source": [
    "### 自由价（反应矢量）\n",
    "基于pocv方法及原子指定的方向，对原子的p轨道进行投影，然后根据得到的分子轨道计算相关键级之和，随后用每种原子的标准值减去键级之和即可得到自由价（反应矢量）。\n",
    "\n",
    "**示例代码**"
   ]
  },
  {
   "cell_type": "code",
   "execution_count": 1,
   "metadata": {},
   "outputs": [
    {
     "data": {
      "text/plain": [
       "1.147283692768253"
      ]
     },
     "execution_count": 1,
     "metadata": {},
     "output_type": "execute_result"
    }
   ],
   "source": [
    "import sys;sys.path.append('d:/code/pywfn')\n",
    "\n",
    "from pywfn.base import Mole\n",
    "from pywfn.reader import LogReader\n",
    "from pywfn.atomprop import activity\n",
    "import numpy as np\n",
    "\n",
    "mol=Mole(LogReader('./mols/C6H6.out'))\n",
    "caler=activity.Calculator(mol)\n",
    "atm=1\n",
    "dir_=np.array([0.0,0.0,1.0])\n",
    "caler.freeValence(atm,dir_)"
   ]
  },
  {
   "cell_type": "markdown",
   "metadata": {},
   "source": [
    "## 原子方向\n",
    "计算得到与原子相关的各种方向"
   ]
  },
  {
   "cell_type": "markdown",
   "metadata": {},
   "source": [
    "### 法向量\n",
    "计算指定原子所在局部平面的法向量\n",
    "\n",
    "**示例代码**"
   ]
  },
  {
   "cell_type": "code",
   "execution_count": 2,
   "metadata": {},
   "outputs": [
    {
     "data": {
      "text/plain": [
       "array([-0., -0.,  1.])"
      ]
     },
     "execution_count": 2,
     "metadata": {},
     "output_type": "execute_result"
    }
   ],
   "source": [
    "from pywfn.base import Mole\n",
    "from pywfn.reader import LogReader\n",
    "from pywfn.atomprop import direction\n",
    "\n",
    "mol=Mole(LogReader('./mols/C6H6.out'))\n",
    "caler=direction.Calculator(mol)\n",
    "caler.normal(1)"
   ]
  },
  {
   "cell_type": "markdown",
   "metadata": {},
   "source": [
    "### 最大波函数方向\n",
    "通过迭代搜索的方法获取原子波函数最大值的方向，需要指定分子轨道索引及原子轨道符号（可以使用正则表达式）\n",
    "\n",
    "**示例代码**\n",
    "\n",
    "获取苯环第一个原子10号分子轨道中p原子轨道最大值的方向"
   ]
  },
  {
   "cell_type": "code",
   "execution_count": 3,
   "metadata": {},
   "outputs": [
    {
     "data": {
      "text/plain": [
       "array([ 0.9964, -0.0842,  0.    ])"
      ]
     },
     "execution_count": 3,
     "metadata": {},
     "output_type": "execute_result"
    }
   ],
   "source": [
    "from pywfn.base import Mole\n",
    "from pywfn.reader import LogReader\n",
    "from pywfn.atomprop import direction\n",
    "\n",
    "mol=Mole(LogReader('./mols/C6H6.out'))\n",
    "caler=direction.Calculator(mol)\n",
    "caler.maxWeave(1,10,'P[XYZ]')"
   ]
  },
  {
   "cell_type": "markdown",
   "metadata": {},
   "source": [
    "### 化学反应方向\n",
    "pocv算法文章中定义的原子的可能的一些反应方向 [n,3]\n",
    "\n",
    "**示例代码**"
   ]
  },
  {
   "cell_type": "code",
   "execution_count": 4,
   "metadata": {},
   "outputs": [
    {
     "data": {
      "text/plain": [
       "array([[ 0.,  0.,  1.],\n",
       "       [-0., -0., -1.]])"
      ]
     },
     "execution_count": 4,
     "metadata": {},
     "output_type": "execute_result"
    }
   ],
   "source": [
    "from pywfn.base import Mole\n",
    "from pywfn.reader import LogReader\n",
    "from pywfn.atomprop import direction\n",
    "\n",
    "mol=Mole(LogReader('./mols/C6H6.out'))\n",
    "caler=direction.Calculator(mol)\n",
    "caler.reactions(1)"
   ]
  },
  {
   "cell_type": "markdown",
   "metadata": {},
   "source": [
    "### 基座标\n",
    "\n",
    "分子中每个原子的局部基座标。以字典的形式返回，并不是每个原子都有局部坐标系，主要用于轨道分解法\n",
    "\n",
    "z轴是法向量，x、y轴是随机的。\n",
    "\n",
    "**示例代码**"
   ]
  },
  {
   "cell_type": "code",
   "execution_count": 5,
   "metadata": {},
   "outputs": [
    {
     "data": {
      "text/plain": [
       "{1: array([[-0.6763, -0.7367, -0.    ],\n",
       "        [ 0.7367, -0.6763, -0.    ],\n",
       "        [ 0.    , -0.    ,  1.    ]]),\n",
       " 2: array([[-0.3156, -0.9489,  0.    ],\n",
       "        [ 0.9489, -0.3156,  0.    ],\n",
       "        [ 0.    ,  0.    ,  1.    ]]),\n",
       " 3: array([[-0.9735, -0.2286,  0.    ],\n",
       "        [ 0.2286, -0.9735,  0.    ],\n",
       "        [ 0.    ,  0.    ,  1.    ]]),\n",
       " 4: array([[-0.7928, -0.6095,  0.    ],\n",
       "        [ 0.6095, -0.7928, -0.    ],\n",
       "        [ 0.    ,  0.    ,  1.    ]]),\n",
       " 5: array([[-0.4287, -0.9035, -0.    ],\n",
       "        [ 0.9035, -0.4287,  0.    ],\n",
       "        [-0.    ,  0.    ,  1.    ]]),\n",
       " 6: array([[-0.7199, -0.6941,  0.    ],\n",
       "        [ 0.6941, -0.7199,  0.    ],\n",
       "        [ 0.    ,  0.    ,  1.    ]])}"
      ]
     },
     "execution_count": 5,
     "metadata": {},
     "output_type": "execute_result"
    }
   ],
   "source": [
    "from pywfn.base import Mole\n",
    "from pywfn.reader import LogReader\n",
    "from pywfn.atomprop import direction\n",
    "\n",
    "mol=Mole(LogReader('./mols/C6H6.out'))\n",
    "caler=direction.Calculator(mol)\n",
    "caler.bases()"
   ]
  },
  {
   "cell_type": "markdown",
   "metadata": {},
   "source": [
    "## 原子能量\n",
    "计算分子轨道能量在原子上的分布"
   ]
  },
  {
   "cell_type": "markdown",
   "metadata": {},
   "source": [
    "### 原子电子能量\n",
    "其实就是将每个分子轨道的能量分配到所有的原子的基函数\n",
    "\n",
    "**示例代码**"
   ]
  },
  {
   "cell_type": "code",
   "execution_count": 6,
   "metadata": {},
   "outputs": [
    {
     "data": {
      "text/plain": [
       "array([-22.3995, -22.3993, -22.3993, -22.3995, -22.3993, -22.3993,\n",
       "        -0.4095,  -0.4095,  -0.4095,  -0.4095,  -0.4095,  -0.4095])"
      ]
     },
     "execution_count": 6,
     "metadata": {},
     "output_type": "execute_result"
    }
   ],
   "source": [
    "from pywfn.base import Mole\n",
    "from pywfn.reader import LogReader\n",
    "from pywfn.atomprop import energy\n",
    "\n",
    "mol=Mole(LogReader('./mols/C6H6.out'))\n",
    "caler=energy.Calculator(mol)\n",
    "caler.atmEngs()"
   ]
  },
  {
   "cell_type": "markdown",
   "metadata": {},
   "source": [
    "### 原子π电子能量能量\n",
    "根据分子轨道每个原子的π电子的分布，计算π电子的能量\n",
    "\n",
    "**示例代码**"
   ]
  },
  {
   "cell_type": "code",
   "execution_count": 7,
   "metadata": {},
   "outputs": [
    {
     "data": {
      "text/plain": [
       "array([-0.2785, -0.2785, -0.2785, -0.2785, -0.2785, -0.2785,  0.    ,\n",
       "        0.    ,  0.    ,  0.    ,  0.    ,  0.    ])"
      ]
     },
     "execution_count": 7,
     "metadata": {},
     "output_type": "execute_result"
    }
   ],
   "source": [
    "from pywfn.base import Mole\n",
    "from pywfn.reader import LogReader\n",
    "from pywfn.atomprop import energy\n",
    "\n",
    "mol=Mole(LogReader('./mols/C6H6.out'))\n",
    "caler=energy.Calculator(mol)\n",
    "caler.atmPiEngs()"
   ]
  }
 ],
 "metadata": {
  "kernelspec": {
   "display_name": "pywfn",
   "language": "python",
   "name": "python3"
  },
  "language_info": {
   "codemirror_mode": {
    "name": "ipython",
    "version": 3
   },
   "file_extension": ".py",
   "mimetype": "text/x-python",
   "name": "python",
   "nbconvert_exporter": "python",
   "pygments_lexer": "ipython3",
   "version": "3.10.16"
  }
 },
 "nbformat": 4,
 "nbformat_minor": 2
}
