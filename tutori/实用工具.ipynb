{
 "cells": [
  {
   "cell_type": "markdown",
   "metadata": {},
   "source": [
    "# 实用工具\n",
    "定义了一些基于文件读取和分子基类的功能类，功能比较杂，可能会经常改变\n",
    "\n",
    "所有的相关模块都定义在`pywfn.tools`子包下"
   ]
  }
 ],
 "metadata": {
  "language_info": {
   "name": "python"
  }
 },
 "nbformat": 4,
 "nbformat_minor": 2
}
