{
 "cells": [
  {
   "cell_type": "code",
   "execution_count": 1,
   "metadata": {},
   "outputs": [],
   "source": [
    "import sys;sys.path.append('d:/code/pywfn')"
   ]
  },
  {
   "cell_type": "markdown",
   "metadata": {},
   "source": [
    "# 空间性质\n",
    "\n",
    "计算分子空间中某些点的性质，全都是空间函数`f(x,y,z)`\n",
    "\n",
    "所有的空间性质的计算器都包含在pywfn.gridprop子包下，其中每一个模块封装了一种类型的空间性质计算器\n",
    "\n",
    "其包含的模块有\n",
    "\n",
    "- `wfnfunc` 分子轨道波函数\n",
    "- `density` 与电子密度相关的函数\n",
    "- `potential` 静电势相关函数\n",
    "- `hmowfn` 休克尔分子轨道波函数\n",
    "- `dftgrid` dft计算的空间格点\n",
    "\n",
    "每个模块下都有一个Calculator类，实例化时传入要计算的分子即可"
   ]
  },
  {
   "cell_type": "markdown",
   "metadata": {},
   "source": [
    "## 波函数"
   ]
  },
  {
   "cell_type": "markdown",
   "metadata": {},
   "source": [
    "### 分子轨道波函数\n",
    "\n",
    "计算指定`空间格点`指定`分子轨道`的分子轨道波函数，返回二维矩阵，形状为[nobt,npos]（分子轨道数量，格点数量）\n",
    "\n",
    "**示例代码**\n",
    "\n",
    "下面代码是计算苯分子第20和第21个分子轨道的20个随机点的波函数"
   ]
  },
  {
   "cell_type": "code",
   "execution_count": 2,
   "metadata": {},
   "outputs": [
    {
     "name": "stdout",
     "output_type": "stream",
     "text": [
      "[[0.0026 0.0049 0.0322 0.004  0.002  0.0104 0.0242 0.0004 0.0038 0.006\n",
      "  0.0396 0.0167 0.0037 0.0066 0.006  0.0039 0.029  0.0011 0.0283 0.0029]\n",
      " [0.0027 0.0156 0.0063 0.0204 0.0012 0.0013 0.0307 0.0212 0.026  0.0007\n",
      "  0.0193 0.0036 0.02   0.0217 0.0036 0.0004 0.0033 0.0018 0.0373 0.0042]]\n",
      "(2, 20)\n"
     ]
    }
   ],
   "source": [
    "from pywfn.base import Mole\n",
    "from pywfn.reader import LogReader\n",
    "from pywfn.gridprop import wfnfunc\n",
    "import numpy as np\n",
    "\n",
    "mol=Mole(LogReader(rf\"./mols/C6H6.out\"))\n",
    "caler=wfnfunc.Calculator(mol)\n",
    "\n",
    "grids=np.random.rand(20,3)\n",
    "vals=caler.obtWfns(grids,obts=[19,20])\n",
    "print(vals)\n",
    "print(vals.shape)"
   ]
  },
  {
   "cell_type": "markdown",
   "metadata": {},
   "source": [
    "### 原子轨道波函数\n",
    "计算指定空间格点的所有原子轨道的波函数\n",
    "\n",
    "**示例代码**\n",
    "\n",
    "下列代码计算苯分子空间中随机的10个点处102个原子轨道的波函数、波函数一阶导数和二阶导数"
   ]
  },
  {
   "cell_type": "code",
   "execution_count": 3,
   "metadata": {},
   "outputs": [
    {
     "name": "stdout",
     "output_type": "stream",
     "text": [
      "(102, 10)\n",
      "(102, 10, 3)\n",
      "(102, 10, 3, 3)\n"
     ]
    }
   ],
   "source": [
    "from pywfn.base import Mole\n",
    "from pywfn.reader import LogReader\n",
    "from pywfn.gridprop import wfnfunc\n",
    "import numpy as np\n",
    "\n",
    "mol=Mole(LogReader(rf\"./mols/C6H6.out\"))\n",
    "caler=wfnfunc.Calculator(mol)\n",
    "grids=np.random.rand(10,3)\n",
    "wfns0,wfns1,wfns2=caler.atoWfns(grids,level=2)\n",
    "print(wfns0.shape)\n",
    "print(wfns1.shape)\n",
    "print(wfns2.shape)"
   ]
  },
  {
   "cell_type": "markdown",
   "metadata": {},
   "source": [
    "## 电子密度\n",
    "\n",
    "### 分子总电子密度\n",
    "\n",
    "计算空间中某些点处分子的总电子密度及电子密度的一阶导数和二阶导数\n",
    "\n",
    "**示例代码**"
   ]
  },
  {
   "cell_type": "code",
   "execution_count": 4,
   "metadata": {},
   "outputs": [
    {
     "name": "stdout",
     "output_type": "stream",
     "text": [
      "[0.0526 0.0416]\n",
      "[[ 0.0295  0.0763 -0.0515]\n",
      " [ 0.0616  0.0335 -0.0274]]\n",
      "[[[ 0.0783  0.0108 -0.0376]\n",
      "  [ 0.0108  0.0948 -0.0918]\n",
      "  [-0.0376 -0.0918  0.0041]]\n",
      "\n",
      " [[ 0.1147  0.0109 -0.0505]\n",
      "  [ 0.0109  0.0994 -0.0273]\n",
      "  [-0.0505 -0.0273 -0.0196]]]\n",
      "(2,)\n",
      "(2, 3)\n",
      "(2, 3, 3)\n"
     ]
    }
   ],
   "source": [
    "from pywfn.base import Mole\n",
    "from pywfn.reader import LogReader\n",
    "from pywfn.gridprop import density\n",
    "import numpy as np\n",
    "\n",
    "mol=Mole(LogReader(rf\"./mols/C6H6.out\"))\n",
    "caler=density.Calculator(mol)\n",
    "\n",
    "grids=np.random.rand(2,3)\n",
    "dens0,dens1,dens2=vals=caler.molDens(grids,level=2)\n",
    "print(dens0)\n",
    "print(dens1)\n",
    "print(dens2)\n",
    "print(dens0.shape)\n",
    "print(dens1.shape)\n",
    "print(dens2.shape)"
   ]
  },
  {
   "cell_type": "markdown",
   "metadata": {},
   "source": [
    "### 预分子电子密度\n",
    "将分子中原子的自由电子密度加和即为预分子电子密度，无需量化计算，只需要知道几何结构即可\n",
    "\n",
    "**示例代码**"
   ]
  },
  {
   "cell_type": "code",
   "execution_count": 5,
   "metadata": {},
   "outputs": [
    {
     "data": {
      "text/plain": [
       "array([0.0485, 0.0777])"
      ]
     },
     "execution_count": 5,
     "metadata": {},
     "output_type": "execute_result"
    }
   ],
   "source": [
    "from pywfn.base import Mole\n",
    "from pywfn.reader import LogReader\n",
    "from pywfn.gridprop import density\n",
    "import numpy as np\n",
    "\n",
    "mol=Mole(LogReader(rf\"./mols/C6H6.out\"))\n",
    "caler=density.Calculator(mol)\n",
    "grids=np.random.rand(2,3)\n",
    "caler.proMolDens(grids)"
   ]
  },
  {
   "cell_type": "markdown",
   "metadata": {},
   "source": [
    "### RDG函数\n",
    "约化密度梯度：Reduced Density Gradient\n",
    "\n",
    "用来识别弱相互作用\n",
    "\n",
    "**计算公式**\n",
    "\n",
    "$$\n",
    "s=\\frac{1}{2(3\\pi ^2)^{1/3}}\\frac{|\\Delta \\rho|}{\\rho ^{4/3}}\n",
    "$$\n",
    "\n",
    "**示例代码**"
   ]
  },
  {
   "cell_type": "code",
   "execution_count": 6,
   "metadata": {},
   "outputs": [
    {
     "data": {
      "text/plain": [
       "array([0.9412, 0.7442])"
      ]
     },
     "execution_count": 6,
     "metadata": {},
     "output_type": "execute_result"
    }
   ],
   "source": [
    "from pywfn.base import Mole\n",
    "from pywfn.reader import LogReader\n",
    "from pywfn.gridprop import density\n",
    "import numpy as np\n",
    "\n",
    "mol=Mole(LogReader(rf\"./mols/C6H6.out\"))\n",
    "caler=density.Calculator(mol)\n",
    "grids=np.random.rand(2,3)\n",
    "caler.RDG(grids)"
   ]
  },
  {
   "cell_type": "markdown",
   "metadata": {},
   "source": [
    "### IRI函数\n",
    "\n",
    "在RDG上改良得到，能够同时展示化学键（如共价键、离子键）和弱相互作用（如氢键、π-π堆积）的区域\n",
    "\n",
    "**计算公式**\n",
    "\n",
    "$$\n",
    "s=\\frac{|\\Delta \\rho|}{\\rho ^\\alpha}\n",
    "$$\n",
    "\n",
    "其中α是可调节参数，默认值为1.1\n",
    "\n",
    "**示例代码**"
   ]
  },
  {
   "cell_type": "code",
   "execution_count": 7,
   "metadata": {},
   "outputs": [
    {
     "data": {
      "text/plain": [
       "array([1.9841, 2.4101])"
      ]
     },
     "execution_count": 7,
     "metadata": {},
     "output_type": "execute_result"
    }
   ],
   "source": [
    "from pywfn.base import Mole\n",
    "from pywfn.reader import LogReader\n",
    "from pywfn.gridprop import density\n",
    "import numpy as np\n",
    "\n",
    "mol=Mole(LogReader(rf\"./mols/C6H6.out\"))\n",
    "caler=density.Calculator(mol)\n",
    "grids=np.random.rand(2,3)\n",
    "caler.IRI(grids)"
   ]
  }
 ],
 "metadata": {
  "kernelspec": {
   "display_name": "pywfn",
   "language": "python",
   "name": "python3"
  },
  "language_info": {
   "codemirror_mode": {
    "name": "ipython",
    "version": 3
   },
   "file_extension": ".py",
   "mimetype": "text/x-python",
   "name": "python",
   "nbconvert_exporter": "python",
   "pygments_lexer": "ipython3",
   "version": "3.10.16"
  }
 },
 "nbformat": 4,
 "nbformat_minor": 2
}
