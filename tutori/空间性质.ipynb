{
 "cells": [
  {
   "cell_type": "code",
   "execution_count": 1,
   "metadata": {},
   "outputs": [],
   "source": [
    "import sys;sys.path.append('d:/code/pywfn')"
   ]
  },
  {
   "cell_type": "markdown",
   "metadata": {},
   "source": [
    "# 空间性质\n",
    "\n",
    "计算分子空间中某些点的性质，全都是空间函数`f(x,y,z)`\n",
    "\n",
    "所有的空间性质的计算器都包含在pywfn.gridprop子包下，其中每一个模块封装了一种类型的空间性质计算器\n",
    "\n",
    "其包含的模块有\n",
    "\n",
    "- `wfnfunc` 分子轨道波函数\n",
    "- `density` 与电子密度相关的函数\n",
    "- `potential` 静电势相关函数\n",
    "- `hmowfn` 休克尔分子轨道波函数\n",
    "- `dftgrid` dft计算的空间格点\n",
    "\n",
    "每个模块下都有一个Calculator类，实例化时传入要计算的分子即可"
   ]
  },
  {
   "cell_type": "markdown",
   "metadata": {},
   "source": [
    "## 波函数"
   ]
  },
  {
   "cell_type": "markdown",
   "metadata": {},
   "source": [
    "### 分子轨道波函数\n",
    "\n",
    "计算指定`空间格点`指定`分子轨道`的分子轨道波函数，返回二维矩阵，形状为[nobt,npos]（分子轨道数量，格点数量）\n",
    "\n",
    "**示例代码**\n",
    "\n",
    "下面代码是计算苯分子第20和第21个分子轨道的20个随机点的波函数"
   ]
  },
  {
   "cell_type": "code",
   "execution_count": 2,
   "metadata": {},
   "outputs": [
    {
     "name": "stdout",
     "output_type": "stream",
     "text": [
      "[[0.0021 0.0089 0.0267 0.0294 0.0002 0.0136 0.0437 0.0172 0.006  0.0028\n",
      "  0.0009 0.0479 0.0054 0.0032 0.0281 0.0345 0.0185 0.0477 0.0161 0.0338]\n",
      " [0.0244 0.0073 0.006  0.0237 0.0055 0.015  0.034  0.0029 0.0019 0.0049\n",
      "  0.0013 0.0497 0.0017 0.0161 0.0205 0.0048 0.0014 0.0146 0.0209 0.0331]]\n",
      "(2, 20)\n"
     ]
    }
   ],
   "source": [
    "from pywfn.base import Mole\n",
    "from pywfn.reader import LogReader\n",
    "from pywfn.gridprop import wfnfunc\n",
    "import numpy as np\n",
    "\n",
    "mol=Mole(LogReader(rf\"./mols/C6H6.out\"))\n",
    "caler=wfnfunc.Calculator(mol)\n",
    "\n",
    "grids=np.random.rand(20,3)\n",
    "vals=caler.obtWfns(grids,obts=[19,20])\n",
    "print(vals)\n",
    "print(vals.shape)"
   ]
  },
  {
   "cell_type": "markdown",
   "metadata": {},
   "source": [
    "### 原子轨道波函数\n",
    "计算指定空间格点的所有原子轨道的波函数\n",
    "\n",
    "**示例代码**\n",
    "\n",
    "下列代码计算苯分子空间中随机的10个点处102个原子轨道的波函数、波函数一阶导数和二阶导数"
   ]
  },
  {
   "cell_type": "code",
   "execution_count": 3,
   "metadata": {},
   "outputs": [
    {
     "name": "stdout",
     "output_type": "stream",
     "text": [
      "(102, 10)\n",
      "(102, 10, 3)\n",
      "(102, 10, 3, 3)\n"
     ]
    }
   ],
   "source": [
    "from pywfn.base import Mole\n",
    "from pywfn.reader import LogReader\n",
    "from pywfn.gridprop import wfnfunc\n",
    "import numpy as np\n",
    "\n",
    "mol=Mole(LogReader(rf\"./mols/C6H6.out\"))\n",
    "caler=wfnfunc.Calculator(mol)\n",
    "grids=np.random.rand(10,3)\n",
    "wfns0,wfns1,wfns2=caler.atoWfns(grids,level=2)\n",
    "print(wfns0.shape)\n",
    "print(wfns1.shape)\n",
    "print(wfns2.shape)"
   ]
  },
  {
   "cell_type": "markdown",
   "metadata": {},
   "source": [
    "## 电子密度\n",
    "\n",
    "### 分子总电子密度\n",
    "\n",
    "计算空间中某些点处分子的总电子密度及电子密度的一阶导数和二阶导数\n",
    "\n",
    "**示例代码**"
   ]
  },
  {
   "cell_type": "code",
   "execution_count": 4,
   "metadata": {},
   "outputs": [
    {
     "name": "stdout",
     "output_type": "stream",
     "text": [
      "[0.0324 0.0814]\n",
      "[[ 0.034   0.0409 -0.0118]\n",
      " [ 0.1288  0.0544 -0.017 ]]\n",
      "[[[ 0.1033  0.0141 -0.0161]\n",
      "  [ 0.0141  0.1118 -0.0195]\n",
      "  [-0.0161 -0.0195 -0.0242]]\n",
      "\n",
      " [[ 0.2033  0.0184 -0.0339]\n",
      "  [ 0.0184  0.1539 -0.0139]\n",
      "  [-0.0339 -0.0139 -0.0879]]]\n",
      "(2,)\n",
      "(2, 3)\n",
      "(2, 3, 3)\n"
     ]
    }
   ],
   "source": [
    "from pywfn.base import Mole\n",
    "from pywfn.reader import LogReader\n",
    "from pywfn.gridprop import density\n",
    "import numpy as np\n",
    "\n",
    "mol=Mole(LogReader(rf\"./mols/C6H6.out\"))\n",
    "caler=density.Calculator(mol)\n",
    "\n",
    "grids=np.random.rand(2,3)\n",
    "dens0,dens1,dens2=vals=caler.molDens(grids,level=2)\n",
    "print(dens0)\n",
    "print(dens1)\n",
    "print(dens2)\n",
    "print(dens0.shape)\n",
    "print(dens1.shape)\n",
    "print(dens2.shape)"
   ]
  },
  {
   "cell_type": "markdown",
   "metadata": {},
   "source": [
    "### 预分子电子密度\n",
    "将分子中原子的自由电子密度加和即为预分子电子密度，无需量化计算，只需要知道几何结构即可\n",
    "\n",
    "**示例代码**"
   ]
  },
  {
   "cell_type": "code",
   "execution_count": 5,
   "metadata": {},
   "outputs": [
    {
     "data": {
      "text/plain": [
       "array([0.0425, 0.0434])"
      ]
     },
     "execution_count": 5,
     "metadata": {},
     "output_type": "execute_result"
    }
   ],
   "source": [
    "from pywfn.base import Mole\n",
    "from pywfn.reader import LogReader\n",
    "from pywfn.gridprop import density\n",
    "import numpy as np\n",
    "\n",
    "mol=Mole(LogReader(rf\"./mols/C6H6.out\"))\n",
    "caler=density.Calculator(mol)\n",
    "grids=np.random.rand(2,3)\n",
    "caler.proMolDens(grids)"
   ]
  },
  {
   "cell_type": "markdown",
   "metadata": {},
   "source": [
    "### RDG函数\n",
    "约化密度梯度：Reduced Density Gradient\n",
    "\n",
    "用来识别弱相互作用\n",
    "\n",
    "**计算公式**\n",
    "\n",
    "$$\n",
    "s=\\frac{1}{2(3\\pi ^2)^{1/3}}\\frac{|\\Delta \\rho|}{\\rho ^{4/3}}\n",
    "$$\n",
    "\n",
    "**示例代码**"
   ]
  },
  {
   "cell_type": "code",
   "execution_count": 6,
   "metadata": {},
   "outputs": [
    {
     "data": {
      "text/plain": [
       "array([0.6766, 0.9173])"
      ]
     },
     "execution_count": 6,
     "metadata": {},
     "output_type": "execute_result"
    }
   ],
   "source": [
    "from pywfn.base import Mole\n",
    "from pywfn.reader import LogReader\n",
    "from pywfn.gridprop import density\n",
    "import numpy as np\n",
    "\n",
    "mol=Mole(LogReader(rf\"./mols/C6H6.out\"))\n",
    "caler=density.Calculator(mol)\n",
    "grids=np.random.rand(2,3)\n",
    "caler.RDG(grids)"
   ]
  },
  {
   "cell_type": "markdown",
   "metadata": {},
   "source": [
    "### IRI函数\n",
    "\n",
    "在RDG上改良得到，能够同时展示化学键（如共价键、离子键）和弱相互作用（如氢键、π-π堆积）的区域\n",
    "\n",
    "**计算公式**\n",
    "\n",
    "$$\n",
    "s=\\frac{|\\Delta \\rho|}{\\rho ^\\alpha}\n",
    "$$\n",
    "\n",
    "其中α是可调节参数，默认值为1.1\n",
    "\n",
    "**示例代码**"
   ]
  },
  {
   "cell_type": "code",
   "execution_count": 7,
   "metadata": {},
   "outputs": [
    {
     "data": {
      "text/plain": [
       "array([2.3928, 2.3151])"
      ]
     },
     "execution_count": 7,
     "metadata": {},
     "output_type": "execute_result"
    }
   ],
   "source": [
    "from pywfn.base import Mole\n",
    "from pywfn.reader import LogReader\n",
    "from pywfn.gridprop import density\n",
    "import numpy as np\n",
    "\n",
    "mol=Mole(LogReader(rf\"./mols/C6H6.out\"))\n",
    "caler=density.Calculator(mol)\n",
    "grids=np.random.rand(2,3)\n",
    "caler.IRI(grids)"
   ]
  }
 ],
 "metadata": {
  "kernelspec": {
   "display_name": "pywfn",
   "language": "python",
   "name": "python3"
  },
  "language_info": {
   "codemirror_mode": {
    "name": "ipython",
    "version": 3
   },
   "file_extension": ".py",
   "mimetype": "text/x-python",
   "name": "python",
   "nbconvert_exporter": "python",
   "pygments_lexer": "ipython3",
   "version": "3.10.16"
  }
 },
 "nbformat": 4,
 "nbformat_minor": 2
}
