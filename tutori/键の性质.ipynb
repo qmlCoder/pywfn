{
 "cells": [
  {
   "cell_type": "code",
   "execution_count": 1,
   "metadata": {},
   "outputs": [],
   "source": [
    "# 调试代码之用，不用管\n",
    "import sys;sys.path.append('d:/code/pywfn')"
   ]
  },
  {
   "cell_type": "markdown",
   "metadata": {},
   "source": [
    "# 键の性质\n",
    "\n",
    "所有的键性质计算器都包含在`pywfn.bondprop`子包下，其中的每一个模块封装了一种类型键性质计算器\n",
    "\n",
    "其包含的模块有\n",
    "\n",
    "- `order` 计算各种键级\n",
    "\n",
    "emm，目前也就只包含计算键级 (lll￢ω￢)\n",
    "\n",
    "每个模块下都有一个`Calculator`类，实例化时传入要计算的分子即可"
   ]
  },
  {
   "cell_type": "markdown",
   "metadata": {},
   "source": [
    "## 键级"
   ]
  },
  {
   "cell_type": "markdown",
   "metadata": {},
   "source": [
    "### Mayer键级\n",
    "计算所有原子的mayer键级，最经典的键级之一\n",
    "\n",
    "**计算公式**\n",
    "$$\n",
    "BO_{I,J}=\\sum _{\\mu \\in I,\\nu \\in J}(PS)_{\\mu \\nu}(PS)_{\\nu \\mu}\n",
    "$$\n",
    "\n",
    "**示例代码**"
   ]
  },
  {
   "cell_type": "code",
   "execution_count": 3,
   "metadata": {},
   "outputs": [
    {
     "name": "stdout",
     "output_type": "stream",
     "text": [
      "  1-  2    1.4533\n",
      "  1-  6    1.4533\n",
      "  1-  7    0.9305\n",
      "  2-  3    1.4533\n",
      "  2-  8    0.9305\n",
      "  3-  4    1.4533\n",
      "  3-  9    0.9305\n",
      "  4-  5    1.4533\n",
      "  4- 10    0.9305\n",
      "  5-  6    1.4533\n",
      "  5- 11    0.9305\n",
      "  6- 12    0.9305\n"
     ]
    }
   ],
   "source": [
    "from pywfn.base import Mole\n",
    "from pywfn.reader import LogReader\n",
    "from pywfn.bondprop import order\n",
    "\n",
    "mol=Mole(LogReader('./mols/C6H6.out'))\n",
    "caler=order.Calculator(mol)\n",
    "bonds,orders=caler.mayer()\n",
    "for (a1,a2),val in zip(bonds,orders):\n",
    "    print(f'{a1:>3}-{a2:>3}{val:10.4f}')"
   ]
  },
  {
   "cell_type": "markdown",
   "metadata": {},
   "source": [
    "### 方向键级\n",
    "\n",
    "根据pocv算法，将指定的键的两个原子的原子轨道投影到指定的方向上，得到的投影系数矩阵带入Mayer键级计算公式得到方向键级\n",
    "\n",
    "**示例代码**"
   ]
  },
  {
   "cell_type": "code",
   "execution_count": 4,
   "metadata": {},
   "outputs": [
    {
     "data": {
      "text/plain": [
       "0.46735726935417327"
      ]
     },
     "execution_count": 4,
     "metadata": {},
     "output_type": "execute_result"
    }
   ],
   "source": [
    "from pywfn.base import Mole\n",
    "from pywfn.reader import LogReader\n",
    "from pywfn.bondprop import order\n",
    "import numpy as np\n",
    "\n",
    "mol=Mole(LogReader('./mols/C6H6.out'))\n",
    "caler=order.Calculator(mol)\n",
    "bond=(1,2)\n",
    "dir_=np.array([0.,0.,1.])\n",
    "caler.dirOrder(bond,dir_)"
   ]
  },
  {
   "cell_type": "markdown",
   "metadata": {},
   "source": [
    "### 多中心键级\n",
    "\n",
    "**计算公式**\n",
    "\n",
    "对于三中心的键级：\n",
    "$$\n",
    "I_{ABC}=\\sum _{a \\in A}\\sum _{b \\in B}\\sum _{c \\in C}(PS)_{ab}(PS)_{bc}(PS)_{ca}\n",
    "$$\n",
    "更多中心的计算方式类似，但是计算量会中心数指数及提升\n",
    "\n",
    "**示例代码**"
   ]
  },
  {
   "cell_type": "code",
   "execution_count": 5,
   "metadata": {},
   "outputs": [
    {
     "data": {
      "text/plain": [
       "0.24509171545503444"
      ]
     },
     "execution_count": 5,
     "metadata": {},
     "output_type": "execute_result"
    }
   ],
   "source": [
    "from pywfn.base import Mole\n",
    "from pywfn.reader import LogReader\n",
    "from pywfn.bondprop import order\n",
    "\n",
    "mol=Mole(LogReader('./mols/C6H6.out'))\n",
    "caler=order.Calculator(mol)\n",
    "caler.MCBO([1,2,3])"
   ]
  },
  {
   "cell_type": "markdown",
   "metadata": {},
   "source": [
    "### π键级(pocv)\n",
    "使用pocv方法计算得到的π键级：将每个原子的p分子轨道投影到其法向量方向上，根据得到的投影系数矩阵带入Mayer键级计算得到π键级\n",
    "\n",
    "**示例代码**"
   ]
  },
  {
   "cell_type": "code",
   "execution_count": 6,
   "metadata": {},
   "outputs": [
    {
     "name": "stdout",
     "output_type": "stream",
     "text": [
      "  1-  2    0.6606\n",
      "  1-  6    0.6606\n",
      "  1-  7    0.0000\n",
      "  2-  3    0.6606\n",
      "  2-  8    0.0000\n",
      "  3-  4    0.6606\n",
      "  3-  9    0.0000\n",
      "  4-  5    0.6606\n",
      "  4- 10    0.0000\n",
      "  5-  6    0.6606\n",
      "  5- 11    0.0000\n",
      "  6- 12    0.0000\n"
     ]
    }
   ],
   "source": [
    "from pywfn.base import Mole\n",
    "from pywfn.reader import LogReader\n",
    "from pywfn.bondprop import order\n",
    "\n",
    "mol=Mole(LogReader('./mols/C6H6.out'))\n",
    "caler=order.Calculator(mol)\n",
    "bonds,orders=caler.piOrder_pocv()\n",
    "for (a1,a2),val in zip(bonds,orders):\n",
    "    print(f'{a1:>3}-{a2:>3}{val:10.4f}')"
   ]
  },
  {
   "cell_type": "markdown",
   "metadata": {},
   "source": [
    "### π键级(smo)\n",
    "根据smo方法得到的分子轨道系数矩阵带入Mayer键级得到的两个原子之间的π键级\n",
    "\n",
    "**示例代码**"
   ]
  },
  {
   "cell_type": "code",
   "execution_count": 2,
   "metadata": {},
   "outputs": [
    {
     "name": "stdout",
     "output_type": "stream",
     "text": [
      "挑选的pi轨道有：{16, 19, 20}\n"
     ]
    },
    {
     "data": {
      "text/plain": [
       "0.4746881057106421"
      ]
     },
     "execution_count": 2,
     "metadata": {},
     "output_type": "execute_result"
    }
   ],
   "source": [
    "from pywfn.base import Mole\n",
    "from pywfn.reader import LogReader\n",
    "from pywfn.bondprop import order\n",
    "\n",
    "mol=Mole(LogReader('./mols/C6H6.out'))\n",
    "caler=order.Calculator(mol)\n",
    "caler.piOrder_smo((1,2))"
   ]
  },
  {
   "cell_type": "markdown",
   "metadata": {},
   "source": [
    "### HMO键级\n",
    "使用HMO方法得到的键级\n",
    "\n",
    "**示例代码**"
   ]
  },
  {
   "cell_type": "code",
   "execution_count": 7,
   "metadata": {},
   "outputs": [
    {
     "name": "stdout",
     "output_type": "stream",
     "text": [
      "  1-  2    0.6667\n",
      "  1-  6    0.6667\n",
      "  2-  3    0.6667\n",
      "  3-  4    0.6667\n",
      "  4-  5    0.6667\n",
      "  5-  6    0.6667\n"
     ]
    }
   ],
   "source": [
    "from pywfn.base import Mole\n",
    "from pywfn.reader import LogReader\n",
    "from pywfn.bondprop import order\n",
    "\n",
    "mol=Mole(LogReader('./mols/C6H6.out'))\n",
    "caler=order.Calculator(mol)\n",
    "bonds,orders=caler.HMO()\n",
    "for (a1,a2),val in zip(bonds,orders):\n",
    "    print(f'{a1:>3}-{a2:>3}{val:10.4f}')"
   ]
  },
  {
   "cell_type": "markdown",
   "metadata": {},
   "source": [
    "### 分解键级\n",
    "使用`轨道分解法`将分子轨道拆分，再分别带入mayer键级计算公式\n",
    "\n",
    "得到四个键级，分别为：σ键级、πz键级、πx键级、δ键级\n",
    "\n",
    "**示例代码**"
   ]
  },
  {
   "cell_type": "code",
   "execution_count": 2,
   "metadata": {},
   "outputs": [
    {
     "data": {
      "text/plain": [
       "array([1.0037, 0.6637, 0.2213, 0.0004])"
      ]
     },
     "execution_count": 2,
     "metadata": {},
     "output_type": "execute_result"
    }
   ],
   "source": [
    "from pywfn.base import Mole\n",
    "from pywfn.reader import LogReader\n",
    "from pywfn.bondprop import order\n",
    "\n",
    "mol=Mole(LogReader('./mols/C6H6.out'))\n",
    "caler=order.Calculator(mol)\n",
    "caler.decompose(bond=(1,2))"
   ]
  }
 ],
 "metadata": {
  "kernelspec": {
   "display_name": "pywfn",
   "language": "python",
   "name": "python3"
  },
  "language_info": {
   "codemirror_mode": {
    "name": "ipython",
    "version": 3
   },
   "file_extension": ".py",
   "mimetype": "text/x-python",
   "name": "python",
   "nbconvert_exporter": "python",
   "pygments_lexer": "ipython3",
   "version": "3.10.16"
  }
 },
 "nbformat": 4,
 "nbformat_minor": 2
}
